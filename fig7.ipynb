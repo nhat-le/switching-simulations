{
 "cells": [
  {
   "cell_type": "code",
   "execution_count": 1,
   "metadata": {},
   "outputs": [],
   "source": [
    "import numpy as np\n",
    "import matplotlib.pyplot as plt\n",
    "import scipy.io\n",
    "import os.path\n",
    "import os\n",
    "import pickle\n",
    "from tqdm import tqdm\n",
    "import ipywidgets as widgets\n",
    "from ipywidgets import interact\n",
    "from sklearn.linear_model import LinearRegression\n",
    "from src.expfitting import fit_animal, plot_fitvals\n",
    "from src.utils import pathsetup\n",
    "\n",
    "%matplotlib notebook\n",
    "%reload_ext autoreload\n",
    "%autoreload 2"
   ]
  },
  {
   "cell_type": "markdown",
   "metadata": {},
   "source": [
    "## Fitting session-averaged behavioral parameters"
   ]
  },
  {
   "cell_type": "code",
   "execution_count": 2,
   "metadata": {},
   "outputs": [],
   "source": [
    "paths = pathsetup('matchingsim')"
   ]
  },
  {
   "cell_type": "code",
   "execution_count": 3,
   "metadata": {
    "scrolled": true
   },
   "outputs": [
    {
     "name": "stdout",
     "output_type": "stream",
     "text": [
      "Fitting animal: e35\n",
      "Number of sessions before delay: 48\n"
     ]
    },
    {
     "data": {
      "application/vnd.jupyter.widget-view+json": {
       "model_id": "02c01c2882b345d0bb52a2ebc83bb523",
       "version_major": 2,
       "version_minor": 0
      },
      "text/plain": [
       "  0%|          | 0/56 [00:00<?, ?it/s]"
      ]
     },
     "metadata": {},
     "output_type": "display_data"
    },
    {
     "name": "stderr",
     "output_type": "stream",
     "text": [
      "/Users/minhnhatle/Dropbox (MIT)/Sur/MatchingSimulations/src/utils.py:149: RuntimeWarning: Mean of empty slice\n",
      "  leftAverage = np.nanmean(choicelst[::2, :], axis=0)\n",
      "/Users/minhnhatle/Dropbox (MIT)/Sur/MatchingSimulations/src/utils.py:334: RuntimeWarning: overflow encountered in exp\n",
      "  return gamma + (1 - gamma - lamb) * 1 / (1 + np.exp(-p[0] * (x + p[1])))\n",
      "/Users/minhnhatle/Dropbox (MIT)/Sur/MatchingSimulations/src/utils.py:144: RuntimeWarning: Mean of empty slice\n",
      "  leftAverage = np.nanmean(choicelst[1::2, :], axis=0)\n",
      "/Users/minhnhatle/Dropbox (MIT)/Sur/MatchingSimulations/src/utils.py:148: RuntimeWarning: Mean of empty slice\n",
      "  rightAverage = np.nanmean(choicelst[1::2, :], axis=0)\n"
     ]
    },
    {
     "name": "stdout",
     "output_type": "stream",
     "text": [
      "Fitting animal: e46\n",
      "Number of sessions before delay: 11\n"
     ]
    },
    {
     "name": "stderr",
     "output_type": "stream",
     "text": [
      "/Users/minhnhatle/Dropbox (MIT)/Sur/MatchingSimulations/src/utils.py:145: RuntimeWarning: Mean of empty slice\n",
      "  rightAverage = np.nanmean(choicelst[::2, :], axis=0)\n",
      "/Users/minhnhatle/Dropbox (MIT)/Sur/MatchingSimulations/src/expfitting.py:69: RuntimeWarning: Mean of empty slice\n",
      "  meanoffsets = np.nanmean(-offsets, axis=0)\n",
      "/Users/minhnhatle/Dropbox (MIT)/Sur/MatchingSimulations/src/expfitting.py:70: RuntimeWarning: All-NaN slice encountered\n",
      "  maxlapses = np.nanmax(lapses, axis=0)\n"
     ]
    },
    {
     "data": {
      "application/vnd.jupyter.widget-view+json": {
       "model_id": "dc355472c12f44b5851ef13823709f8d",
       "version_major": 2,
       "version_minor": 0
      },
      "text/plain": [
       "  0%|          | 0/42 [00:00<?, ?it/s]"
      ]
     },
     "metadata": {},
     "output_type": "display_data"
    },
    {
     "name": "stdout",
     "output_type": "stream",
     "text": [
      "Fitting animal: e53\n",
      "Number of sessions before delay: 58\n"
     ]
    },
    {
     "data": {
      "application/vnd.jupyter.widget-view+json": {
       "model_id": "b37bdbfd3e8f420caef9796c98cc331d",
       "version_major": 2,
       "version_minor": 0
      },
      "text/plain": [
       "  0%|          | 0/81 [00:00<?, ?it/s]"
      ]
     },
     "metadata": {},
     "output_type": "display_data"
    },
    {
     "name": "stdout",
     "output_type": "stream",
     "text": [
      "Fitting animal: e54\n",
      "Number of sessions before delay: 26\n"
     ]
    },
    {
     "data": {
      "application/vnd.jupyter.widget-view+json": {
       "model_id": "5d0ae20ade2b4aae8329f4e5d00a0356",
       "version_major": 2,
       "version_minor": 0
      },
      "text/plain": [
       "  0%|          | 0/150 [00:00<?, ?it/s]"
      ]
     },
     "metadata": {},
     "output_type": "display_data"
    },
    {
     "name": "stdout",
     "output_type": "stream",
     "text": [
      "Fitting animal: e56\n",
      "Number of sessions before delay: 23\n"
     ]
    },
    {
     "data": {
      "application/vnd.jupyter.widget-view+json": {
       "model_id": "3c9092a4496a4fd89c2d562beff16e90",
       "version_major": 2,
       "version_minor": 0
      },
      "text/plain": [
       "  0%|          | 0/53 [00:00<?, ?it/s]"
      ]
     },
     "metadata": {},
     "output_type": "display_data"
    },
    {
     "name": "stdout",
     "output_type": "stream",
     "text": [
      "Fitting animal: e57\n",
      "Number of sessions before delay: 16\n"
     ]
    },
    {
     "data": {
      "application/vnd.jupyter.widget-view+json": {
       "model_id": "9bd82cbe6b7d47ce89dbc129bc359d7e",
       "version_major": 2,
       "version_minor": 0
      },
      "text/plain": [
       "  0%|          | 0/77 [00:00<?, ?it/s]"
      ]
     },
     "metadata": {},
     "output_type": "display_data"
    },
    {
     "name": "stdout",
     "output_type": "stream",
     "text": [
      "Fitting animal: f01\n",
      "Number of sessions before delay: 29\n"
     ]
    },
    {
     "data": {
      "application/vnd.jupyter.widget-view+json": {
       "model_id": "426be9b38ade430c94a9d3302db0f408",
       "version_major": 2,
       "version_minor": 0
      },
      "text/plain": [
       "  0%|          | 0/124 [00:00<?, ?it/s]"
      ]
     },
     "metadata": {},
     "output_type": "display_data"
    },
    {
     "name": "stdout",
     "output_type": "stream",
     "text": [
      "Fitting animal: f02\n",
      "Number of sessions before delay: 29\n"
     ]
    },
    {
     "data": {
      "application/vnd.jupyter.widget-view+json": {
       "model_id": "ebed8bffa4fa45cbaa685c11bb570278",
       "version_major": 2,
       "version_minor": 0
      },
      "text/plain": [
       "  0%|          | 0/111 [00:00<?, ?it/s]"
      ]
     },
     "metadata": {},
     "output_type": "display_data"
    },
    {
     "name": "stdout",
     "output_type": "stream",
     "text": [
      "Fitting animal: f03\n",
      "Number of sessions before delay: 15\n"
     ]
    },
    {
     "data": {
      "application/vnd.jupyter.widget-view+json": {
       "model_id": "902c50645a244d118b5463463af60ce9",
       "version_major": 2,
       "version_minor": 0
      },
      "text/plain": [
       "  0%|          | 0/77 [00:00<?, ?it/s]"
      ]
     },
     "metadata": {},
     "output_type": "display_data"
    },
    {
     "name": "stdout",
     "output_type": "stream",
     "text": [
      "Fitting animal: f04\n",
      "Number of sessions before delay: 16\n"
     ]
    },
    {
     "data": {
      "application/vnd.jupyter.widget-view+json": {
       "model_id": "c0f7f558dd2344b6a7c07d0a517d2d05",
       "version_major": 2,
       "version_minor": 0
      },
      "text/plain": [
       "  0%|          | 0/75 [00:00<?, ?it/s]"
      ]
     },
     "metadata": {},
     "output_type": "display_data"
    },
    {
     "name": "stdout",
     "output_type": "stream",
     "text": [
      "Fitting animal: f11\n",
      "Number of sessions before delay: 81\n"
     ]
    },
    {
     "data": {
      "application/vnd.jupyter.widget-view+json": {
       "model_id": "45ea91e4b41e4139a0f705a6cb863a9a",
       "version_major": 2,
       "version_minor": 0
      },
      "text/plain": [
       "  0%|          | 0/81 [00:00<?, ?it/s]"
      ]
     },
     "metadata": {},
     "output_type": "display_data"
    },
    {
     "name": "stdout",
     "output_type": "stream",
     "text": [
      "Fitting animal: f12\n",
      "Number of sessions before delay: 79\n"
     ]
    },
    {
     "data": {
      "application/vnd.jupyter.widget-view+json": {
       "model_id": "189790adc609405e889932cc9731248c",
       "version_major": 2,
       "version_minor": 0
      },
      "text/plain": [
       "  0%|          | 0/79 [00:00<?, ?it/s]"
      ]
     },
     "metadata": {},
     "output_type": "display_data"
    },
    {
     "name": "stdout",
     "output_type": "stream",
     "text": [
      "Fitting animal: f16\n",
      "Number of sessions before delay: 41\n"
     ]
    },
    {
     "data": {
      "application/vnd.jupyter.widget-view+json": {
       "model_id": "2836643ceabc4b80b675751d71970feb",
       "version_major": 2,
       "version_minor": 0
      },
      "text/plain": [
       "  0%|          | 0/41 [00:00<?, ?it/s]"
      ]
     },
     "metadata": {},
     "output_type": "display_data"
    },
    {
     "name": "stdout",
     "output_type": "stream",
     "text": [
      "Fitting animal: f17\n",
      "Number of sessions before delay: 41\n"
     ]
    },
    {
     "data": {
      "application/vnd.jupyter.widget-view+json": {
       "model_id": "1ef0ca0cefce4b67a26732dff3b70e49",
       "version_major": 2,
       "version_minor": 0
      },
      "text/plain": [
       "  0%|          | 0/41 [00:00<?, ?it/s]"
      ]
     },
     "metadata": {},
     "output_type": "display_data"
    },
    {
     "name": "stdout",
     "output_type": "stream",
     "text": [
      "Fitting animal: f20\n",
      "Number of sessions before delay: 37\n"
     ]
    },
    {
     "data": {
      "application/vnd.jupyter.widget-view+json": {
       "model_id": "bb64c98394ef4a51a33b9c34e8883271",
       "version_major": 2,
       "version_minor": 0
      },
      "text/plain": [
       "  0%|          | 0/37 [00:00<?, ?it/s]"
      ]
     },
     "metadata": {},
     "output_type": "display_data"
    },
    {
     "name": "stdout",
     "output_type": "stream",
     "text": [
      "Fitting animal: f21\n",
      "Number of sessions before delay: 35\n"
     ]
    },
    {
     "data": {
      "application/vnd.jupyter.widget-view+json": {
       "model_id": "34b6bb14f6754845b8d68f64f52b3889",
       "version_major": 2,
       "version_minor": 0
      },
      "text/plain": [
       "  0%|          | 0/35 [00:00<?, ?it/s]"
      ]
     },
     "metadata": {},
     "output_type": "display_data"
    },
    {
     "name": "stdout",
     "output_type": "stream",
     "text": [
      "Fitting animal: f22\n",
      "Number of sessions before delay: 18\n"
     ]
    },
    {
     "data": {
      "application/vnd.jupyter.widget-view+json": {
       "model_id": "f3312b7fd2834bcd97634d9d3fa07a68",
       "version_major": 2,
       "version_minor": 0
      },
      "text/plain": [
       "  0%|          | 0/18 [00:00<?, ?it/s]"
      ]
     },
     "metadata": {},
     "output_type": "display_data"
    },
    {
     "name": "stdout",
     "output_type": "stream",
     "text": [
      "Fitting animal: f23\n",
      "Number of sessions before delay: 17\n"
     ]
    },
    {
     "data": {
      "application/vnd.jupyter.widget-view+json": {
       "model_id": "2c9cf000243d444e9fc75e1461c961f9",
       "version_major": 2,
       "version_minor": 0
      },
      "text/plain": [
       "  0%|          | 0/17 [00:00<?, ?it/s]"
      ]
     },
     "metadata": {},
     "output_type": "display_data"
    },
    {
     "name": "stdout",
     "output_type": "stream",
     "text": [
      "Fitting animal: fh01\n",
      "Number of sessions before delay: 16\n"
     ]
    },
    {
     "data": {
      "application/vnd.jupyter.widget-view+json": {
       "model_id": "adb60be400c24babb1f374246e3ee932",
       "version_major": 2,
       "version_minor": 0
      },
      "text/plain": [
       "  0%|          | 0/16 [00:00<?, ?it/s]"
      ]
     },
     "metadata": {},
     "output_type": "display_data"
    },
    {
     "name": "stdout",
     "output_type": "stream",
     "text": [
      "Fitting animal: fh02\n",
      "Number of sessions before delay: 16\n"
     ]
    },
    {
     "data": {
      "application/vnd.jupyter.widget-view+json": {
       "model_id": "49bff617aac64d5f8411eae4dde2eab2",
       "version_major": 2,
       "version_minor": 0
      },
      "text/plain": [
       "  0%|          | 0/20 [00:00<?, ?it/s]"
      ]
     },
     "metadata": {},
     "output_type": "display_data"
    },
    {
     "name": "stdout",
     "output_type": "stream",
     "text": [
      "Fitting animal: fh03\n",
      "Number of sessions before delay: 27\n"
     ]
    },
    {
     "data": {
      "application/vnd.jupyter.widget-view+json": {
       "model_id": "2d6cb29584c342d4bb6620febcfb591c",
       "version_major": 2,
       "version_minor": 0
      },
      "text/plain": [
       "  0%|          | 0/37 [00:00<?, ?it/s]"
      ]
     },
     "metadata": {},
     "output_type": "display_data"
    }
   ],
   "source": [
    "all_animals = ['e35', 'e46', 'e53', 'e54', 'e56', 'e57', 'f01', 'f02', \n",
    "               'f03', 'f04', 'f11', 'f12', 'f16', 'f17', 'f20', 'f21', \n",
    "               'f22', 'f23', 'fh01', 'fh02', 'fh03']\n",
    "params = dict(filepath=paths['expdatapath'],\n",
    "              version='122221b' \n",
    "             )\n",
    "fitparams_all = {}\n",
    "pL_all = []\n",
    "pR_all = []\n",
    "eff_all = []\n",
    "\n",
    "for animal in all_animals:\n",
    "    if animal in fitparams_all.keys():\n",
    "        continue\n",
    "    print('Fitting animal:', animal)\n",
    "    _,_,_, pL, pR, eff = fit_animal(animal, params)\n",
    "    animaldict = dict(pL=pL, pR=pR, eff=eff)\n",
    "    fitparams_all[animal] = animaldict\n",
    "#     pL_all.append(pL)\n",
    "#     pR_all.append(pR)\n",
    "#     eff_all.append(eff)\n",
    "#     fitparams_all[animal] = fitparams\n"
   ]
  },
  {
   "cell_type": "code",
   "execution_count": 4,
   "metadata": {},
   "outputs": [
    {
     "name": "stdout",
     "output_type": "stream",
     "text": [
      "File saved!\n"
     ]
    }
   ],
   "source": [
    "# Save the fitted params\n",
    "filename = f\"{params['filepath']}/{params['version']}/fitparams_session_averaged_{params['version']}.mat\"\n",
    "if not os.path.exists(filename):\n",
    "    scipy.io.savemat(filename, dict(all_animals=all_animals, fitparams_all=fitparams_all))\n",
    "    print('File saved!')\n",
    "else:\n",
    "    print('File exists, skipping save...')"
   ]
  }
 ],
 "metadata": {
  "kernelspec": {
   "display_name": "Default",
   "language": "python",
   "name": "default"
  },
  "language_info": {
   "codemirror_mode": {
    "name": "ipython",
    "version": 3
   },
   "file_extension": ".py",
   "mimetype": "text/x-python",
   "name": "python",
   "nbconvert_exporter": "python",
   "pygments_lexer": "ipython3",
   "version": "3.9.5"
  }
 },
 "nbformat": 4,
 "nbformat_minor": 4
}
