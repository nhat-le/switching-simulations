{
 "cells": [
  {
   "cell_type": "code",
   "execution_count": null,
   "metadata": {},
   "outputs": [],
   "source": [
    "import numpy as np\n",
    "import matplotlib.pyplot as plt\n",
    "from worldModels import *\n",
    "import scipy.io\n",
    "\n",
    "%matplotlib inline\n",
    "%reload_ext autoreload\n",
    "%autoreload 2"
   ]
  },
  {
   "cell_type": "code",
   "execution_count": null,
   "metadata": {},
   "outputs": [],
   "source": [
    "nblocks = 100\n",
    "\n",
    "prewlist = np.linspace(0.5, 0.95, 25)\n",
    "pswitchlistLog = np.linspace(np.log(0.01), np.log(0.2), 20)\n",
    "pswitchlist = np.exp(pswitchlistLog)\n",
    "efflist = np.zeros((len(prewlist), len(pswitchlist)))\n",
    "\n",
    "for i, prew in enumerate(prewlist):\n",
    "    print(i)\n",
    "    for j, pswitch in enumerate(pswitchlist):\n",
    "        #print(i, j)\n",
    "        raw_rates = np.random.rand(nblocks)\n",
    "        rates = np.vstack((1-raw_rates, raw_rates)).T\n",
    "        ntrials = np.random.uniform(low=200, high=300, size=nblocks).astype('int')\n",
    "\n",
    "        world = PersistentWorld(rates=rates, ntrials=ntrials)\n",
    "\n",
    "        agent = EGreedyInferenceBasedAgent(prew=prew, pswitch=pswitch, eps=0)\n",
    "#         agent = EGreedyQLearningAgent(gamma=0.5, eps=0.1)\n",
    "\n",
    "        exp = Experiment(agent, world)\n",
    "        a,b = exp.run()  \n",
    "        efflist[i,j] = agent.find_efficiency()\n"
   ]
  },
  {
   "cell_type": "code",
   "execution_count": null,
   "metadata": {},
   "outputs": [],
   "source": [
    "fig, ax = plt.subplots()\n",
    "im = ax.imshow(efflist, extent=[min(pswitchlistLog), max(pswitchlistLog), min(prewlist), max(prewlist)],\n",
    "          origin='lower', cmap='hot', vmin=0.55, vmax=0.85, aspect='auto')\n",
    "fig.colorbar(im)\n",
    "\n",
    "fontdict = {'fontsize': 16,\n",
    " 'fontweight': 2}\n",
    "ax.set_xticks(pswitchlistLog[::3])\n",
    "ax.set_xticklabels(np.round(pswitchlist[::3], 2), fontdict)\n",
    "ax.set_yticks(np.linspace(min(prewlist), max(prewlist), 4))\n",
    "ax.set_yticklabels(np.linspace(min(prewlist), max(prewlist), 4), fontdict)\n",
    "\n",
    "plt.xlabel(r'$P_{switch}$', fontdict)\n",
    "plt.ylabel(r'$P_{reward}$', fontdict)\n",
    "\n",
    "\n"
   ]
  },
  {
   "cell_type": "code",
   "execution_count": null,
   "metadata": {},
   "outputs": [],
   "source": [
    "nblocks = 100\n",
    "prew = 1\n",
    "pswitch = 0.05\n",
    "np.random.seed(100)\n",
    "raw_rates = np.random.rand(nblocks)\n",
    "rates = np.vstack((1-raw_rates, raw_rates)).T\n",
    "ntrials = np.random.uniform(low=200, high=300, size=nblocks).astype('int')\n",
    "\n",
    "world = PersistentWorld(rates=rates, ntrials=ntrials)\n",
    "\n",
    "# agent = EGreedyInferenceBasedAgent(prew=prew, pswitch=pswitch, eps=0)\n",
    "agent = EGreedyQLearningAgent(gamma=0.5, eps=0.3)\n",
    "\n",
    "exp = Experiment(agent, world)\n",
    "res = exp.run()"
   ]
  },
  {
   "cell_type": "code",
   "execution_count": null,
   "metadata": {},
   "outputs": [],
   "source": [
    "agent.find_efficiency()"
   ]
  },
  {
   "cell_type": "code",
   "execution_count": null,
   "metadata": {},
   "outputs": [],
   "source": [
    "rate_history = world.get_rate_history()\n",
    "nsteps = 10000\n",
    "plt.plot(rate_history[:nsteps, 0])\n",
    "plt.plot(agent.p0_history[:nsteps])"
   ]
  },
  {
   "cell_type": "code",
   "execution_count": null,
   "metadata": {},
   "outputs": [],
   "source": [
    "plt.plot(rate_history[:,0], agent.p0_history, '.')"
   ]
  },
  {
   "cell_type": "code",
   "execution_count": null,
   "metadata": {},
   "outputs": [],
   "source": [
    "a = agent.get_running_choice_fraction(10)\n",
    "b = agent.get_running_reward_fraction(10)\n",
    "rates_hist = world.get_rate_history()"
   ]
  },
  {
   "cell_type": "code",
   "execution_count": null,
   "metadata": {},
   "outputs": [],
   "source": [
    "ntrialcum = np.cumsum(ntrials)\n",
    "ntrialcum = np.hstack([0, ntrialcum])"
   ]
  },
  {
   "cell_type": "code",
   "execution_count": null,
   "metadata": {},
   "outputs": [],
   "source": [
    "choice_fracs = []\n",
    "income_fracs = []\n",
    "for i in range(len(ntrials)):\n",
    "    choice_subset = agent.choice_history[ntrialcum[i]:ntrialcum[i+1]]\n",
    "    reward_subset = agent.outcome_history[ntrialcum[i]:ntrialcum[i+1]]\n",
    "    choice_subset = np.array(choice_subset, dtype='int')\n",
    "    reward_subset = np.array(reward_subset, dtype='int')\n",
    "    \n",
    "    income1 = np.sum((reward_subset == 1) & (choice_subset == 1))\n",
    "    income0 = np.sum((reward_subset == 1) & (choice_subset == 0))\n",
    "    income_fracs.append(income1 / (income1 + income0))\n",
    "    choice_fracs.append(np.sum(choice_subset) / len(choice_subset))"
   ]
  },
  {
   "cell_type": "code",
   "execution_count": null,
   "metadata": {},
   "outputs": [],
   "source": [
    "plt.plot(income_fracs, choice_fracs, '.')\n",
    "plt.plot([0, 1], [0, 1])\n",
    "plt.xlabel('Income fraction')\n",
    "plt.ylabel('Choice fraction')"
   ]
  },
  {
   "cell_type": "markdown",
   "metadata": {},
   "source": [
    "## Simulate a world which switches between two states"
   ]
  },
  {
   "cell_type": "code",
   "execution_count": null,
   "metadata": {},
   "outputs": [],
   "source": [
    "# Build the rates object\n",
    "prew = 0.8\n",
    "pswitch = 0.05\n",
    "nblocks = 20\n",
    "ntrialsperblock = 50\n",
    "rates = []\n",
    "for i in range(nblocks):\n",
    "    if i % 2:\n",
    "        rates.append([0.1, 0.9])\n",
    "    else:\n",
    "        rates.append([0.9, 0.1])\n",
    "\n",
    "rates = np.array(rates)\n",
    "ntrials = np.random.uniform(low=200, high=300, size=nblocks).astype('int')\n",
    "world = PersistentWorld(rates=rates, ntrials=ntrials)\n",
    "\n",
    "agent = InferenceBasedAgent(prew=prew, pswitch=pswitch, type='random')\n",
    "\n",
    "exp = Experiment(agent, world)\n",
    "res = exp.run()"
   ]
  },
  {
   "cell_type": "code",
   "execution_count": null,
   "metadata": {},
   "outputs": [],
   "source": [
    "plt.plot(agent.p0_history[:500])"
   ]
  },
  {
   "cell_type": "code",
   "execution_count": null,
   "metadata": {},
   "outputs": [],
   "source": [
    "side_history = np.array(world.side_history)\n",
    "plt.plot(world.side_history[:500])"
   ]
  },
  {
   "cell_type": "code",
   "execution_count": null,
   "metadata": {},
   "outputs": [],
   "source": []
  }
 ],
 "metadata": {
  "kernelspec": {
   "display_name": "Python 3",
   "language": "python",
   "name": "python3"
  },
  "language_info": {
   "codemirror_mode": {
    "name": "ipython",
    "version": 3
   },
   "file_extension": ".py",
   "mimetype": "text/x-python",
   "name": "python",
   "nbconvert_exporter": "python",
   "pygments_lexer": "ipython3",
   "version": "3.9.5"
  }
 },
 "nbformat": 4,
 "nbformat_minor": 4
}
