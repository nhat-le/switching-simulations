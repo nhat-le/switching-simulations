{
 "cells": [
  {
   "cell_type": "code",
   "execution_count": 61,
   "metadata": {},
   "outputs": [],
   "source": [
    "import glob\n",
    "import numpy as np\n",
    "import matplotlib.pyplot as plt\n",
    "import smartload.smartload as smart\n",
    "from src import utils\n",
    "import scipy.io\n",
    "import os\n",
    "from src.utils import predict_sigmoid\n",
    "\n",
    "%matplotlib inline\n",
    "\n",
    "%reload_ext autoreload\n",
    "%autoreload 2\n"
   ]
  },
  {
   "cell_type": "code",
   "execution_count": 80,
   "metadata": {},
   "outputs": [
    {
     "name": "stdout",
     "output_type": "stream",
     "text": [
      "Number of files = 17\n",
      "Number of states = 6\n"
     ]
    }
   ],
   "source": [
    "paths = utils.pathsetup('matchingsim')\n",
    "version = '121821'\n",
    "nstates = 6\n",
    "files = glob.glob(f\"/{paths['blockhmmfitpath']}/{version}/*hmmblockfit_*{version}.mat\")\n",
    "print(f\"Number of files = {len(files)}\\nNumber of states = {nstates}\")"
   ]
  },
  {
   "cell_type": "code",
   "execution_count": 81,
   "metadata": {},
   "outputs": [
    {
     "name": "stdout",
     "output_type": "stream",
     "text": [
      "0.0 1.7054121123227295 0.00038648015801028186\n",
      "-1.370945448578965 1.7044295849132518 0.3334691989337604\n",
      "-12.772790865386488 0.08187572775614572 0.0\n",
      "-634.9158077151749 0.009614774206989475 0.10252436674199429\n",
      "-6.976037049927331 0.15564895997702524 0.18785459987034406\n",
      "-3.9911829775028385 0.4907736022714426 0.00932878202041125\n",
      "Params:\n",
      "[[ 0.00000000e+00  1.70541211e+00  3.86480158e-04]\n",
      " [-1.37094545e+00  1.70442958e+00  3.33469199e-01]\n",
      " [-1.27727909e+01  8.18757278e-02  0.00000000e+00]\n",
      " [-6.34915808e+02  9.61477421e-03  1.02524367e-01]\n",
      " [-6.97603705e+00  1.55648960e-01  1.87854600e-01]\n",
      " [-3.99118298e+00  4.90773602e-01  9.32878202e-03]]\n",
      "-3.1855870332894356 0.6964346913057196 0.42485827907037205\n",
      "0.0 1.3521460669554577 0.03875487798546505\n",
      "-5.232638225635596 0.51019969778493 0.00397299118970812\n",
      "-2.1990198718812124 5.357920584425635e-07 0.5\n",
      "-19.589527224854283 0.1275811273484795 0.10098702266991696\n",
      "-0.6193707109538066 0.8835107017364365 0.4107127981992055\n",
      "Params:\n",
      "[[-3.18558703e+00  6.96434691e-01  4.24858279e-01]\n",
      " [ 0.00000000e+00  1.35214607e+00  3.87548780e-02]\n",
      " [-5.23263823e+00  5.10199698e-01  3.97299119e-03]\n",
      " [-2.19901987e+00  5.35792058e-07  5.00000000e-01]\n",
      " [-1.95895272e+01  1.27581127e-01  1.00987023e-01]\n",
      " [-6.19370711e-01  8.83510702e-01  4.10712798e-01]]\n",
      "-0.8769269986569821 1.4937989919638106 0.01832691211227331\n",
      "-13.34106474619018 1.0935630504708795 0.150769882272283\n",
      "-4.674905849975775 1.3309424336363105 0.07368560912488516\n",
      "-3.992247820326728 0.45164576912030585 0.0\n",
      "-0.4810802726680752 3.2188540688427025e-07 0.5\n",
      "-1.427843781254367 1.5362298007378803 0.3402884251942154\n",
      "Params:\n",
      "[[-8.76926999e-01  1.49379899e+00  1.83269121e-02]\n",
      " [-1.33410647e+01  1.09356305e+00  1.50769882e-01]\n",
      " [-4.67490585e+00  1.33094243e+00  7.36856091e-02]\n",
      " [-3.99224782e+00  4.51645769e-01  0.00000000e+00]\n",
      " [-4.81080273e-01  3.21885407e-07  5.00000000e-01]\n",
      " [-1.42784378e+00  1.53622980e+00  3.40288425e-01]]\n",
      "-4.2065296343877 0.8979349759595968 0.07710928068055282\n",
      "-1.3586889373975766 0.0 0.5\n",
      "-9.931774588448873 0.3350792712177363 0.14989600072935838\n",
      "0.0 1.5202712090468582 0.019539236787219617\n",
      "-1.9027243817950228 1.1457623311238645 0.36970770584922547\n",
      "-0.9705840664390029 1.7443455250762228 0.0404260027495987\n",
      "Params:\n",
      "[[-4.20652963  0.89793498  0.07710928]\n",
      " [-1.35868894  0.          0.5       ]\n",
      " [-9.93177459  0.33507927  0.149896  ]\n",
      " [ 0.          1.52027121  0.01953924]\n",
      " [-1.90272438  1.14576233  0.36970771]\n",
      " [-0.97058407  1.74434553  0.040426  ]]\n",
      "-1.9523049870406735 0.0 0.5\n",
      "-1.9543934314791545 1.531231527610964 0.23172952947740155\n",
      "-10.331311519765924 0.3766955303334659 0.1216099598394351\n",
      "-22.137768223407377 0.20691480214545777 0.12639638014075572\n",
      "-3.4936825141221934 0.7048324497528197 0.0\n",
      "-0.8066434685709821 1.4521935136365072 0.0\n",
      "Params:\n",
      "[[ -1.95230499   0.           0.5       ]\n",
      " [ -1.95439343   1.53123153   0.23172953]\n",
      " [-10.33131152   0.37669553   0.12160996]\n",
      " [-22.13776822   0.2069148    0.12639638]\n",
      " [ -3.49368251   0.70483245   0.        ]\n",
      " [ -0.80664347   1.45219351   0.        ]]\n",
      "0.0 0.18431138266413777 0.0\n",
      "-8.582530410015554 0.9511020915353119 0.20974390692452188\n",
      "-15.537560680994794 1.0266072472731052 0.03236559418262167\n",
      "0.0 0.8940820905207417 0.00840828913320651\n",
      "-3.195128151649315 0.0 0.5\n",
      "-13.15059929955615 0.07203447682179707 0.0\n",
      "Params:\n",
      "[[ 0.00000000e+00  1.84311383e-01  0.00000000e+00]\n",
      " [-8.58253041e+00  9.51102092e-01  2.09743907e-01]\n",
      " [-1.55375607e+01  1.02660725e+00  3.23655942e-02]\n",
      " [ 0.00000000e+00  8.94082091e-01  8.40828913e-03]\n",
      " [-3.19512815e+00  0.00000000e+00  5.00000000e-01]\n",
      " [-1.31505993e+01  7.20344768e-02  0.00000000e+00]]\n",
      "-0.7230220481633339 1.3094365998628914 0.06833508743027017\n"
     ]
    },
    {
     "name": "stderr",
     "output_type": "stream",
     "text": [
      "/Users/minhnhatle/Dropbox (MIT)/Sur/MatchingSimulations/src/utils.py:333: RuntimeWarning: overflow encountered in exp\n",
      "  Error function used for exponential fitting\n"
     ]
    },
    {
     "name": "stdout",
     "output_type": "stream",
     "text": [
      "-14.617229809796337 0.9962191072295971 0.27281075111255576\n",
      "-8.42510363207365 2.122749000878926 0.19545967603402145\n",
      "-4.626469371851525 0.5288875520385435 0.0\n",
      "-0.378375368066309 0.0 0.5\n",
      "-1.3645379997849485 1.215330419223651 0.36139235549685594\n",
      "Params:\n",
      "[[ -0.72302205   1.3094366    0.06833509]\n",
      " [-14.61722981   0.99621911   0.27281075]\n",
      " [ -8.42510363   2.122749     0.19545968]\n",
      " [ -4.62646937   0.52888755   0.        ]\n",
      " [ -0.37837537   0.           0.5       ]\n",
      " [ -1.364538     1.21533042   0.36139236]]\n",
      "-0.6890298198000959 1.8706325392951784 0.23195029337838166\n",
      "-17.289755279009857 0.23365158202444358 0.276168029970982\n",
      "-0.38280625168267396 2.466214167171398 0.006160025215181893\n",
      "-2.6447084808493693 0.6804782920768612 0.0\n",
      "-1.5583837653937194 2.721327307807722 0.0\n",
      "-2.015773601909575 1.256186088538777 0.36039758261707244\n",
      "Params:\n",
      "[[-6.89029820e-01  1.87063254e+00  2.31950293e-01]\n",
      " [-1.72897553e+01  2.33651582e-01  2.76168030e-01]\n",
      " [-3.82806252e-01  2.46621417e+00  6.16002522e-03]\n",
      " [-2.64470848e+00  6.80478292e-01  0.00000000e+00]\n",
      " [-1.55838377e+00  2.72132731e+00  0.00000000e+00]\n",
      " [-2.01577360e+00  1.25618609e+00  3.60397583e-01]]\n",
      "-6.37873118294328 1.1703655382506408 0.0\n",
      "-16.940706849606784 0.4744189536974828 0.17654183237124857\n",
      "-6.594374016352775 0.09873551635311892 0.010585849047656326\n",
      "-0.6998425920013593 1.9869033716321658 0.0\n",
      "-0.7649030579661463 1.7427114336877563 0.13517078105604988\n",
      "-2.8526831873432497 0.6860329917730552 0.0\n",
      "Params:\n",
      "[[-6.37873118e+00  1.17036554e+00  0.00000000e+00]\n",
      " [-1.69407068e+01  4.74418954e-01  1.76541832e-01]\n",
      " [-6.59437402e+00  9.87355164e-02  1.05858490e-02]\n",
      " [-6.99842592e-01  1.98690337e+00  0.00000000e+00]\n",
      " [-7.64903058e-01  1.74271143e+00  1.35170781e-01]\n",
      " [-2.85268319e+00  6.86032992e-01  0.00000000e+00]]\n",
      "0.0 1.7685321793716653 0.004019158792640817\n",
      "-0.9471277888632956 1.484090184152752 0.2442571515149664\n",
      "-0.5580638401447365 2.4844030855797508 0.05021027325205129\n",
      "-4.636797982829906 0.5057465595418501 0.0\n",
      "-14.801685291999762 0.045520827149232015 0.00032702779271857256\n",
      "-1.3314561974698436 1.1847191103164034 0.0\n",
      "Params:\n",
      "[[ 0.00000000e+00  1.76853218e+00  4.01915879e-03]\n",
      " [-9.47127789e-01  1.48409018e+00  2.44257152e-01]\n",
      " [-5.58063840e-01  2.48440309e+00  5.02102733e-02]\n",
      " [-4.63679798e+00  5.05746560e-01  0.00000000e+00]\n",
      " [-1.48016853e+01  4.55208271e-02  3.27027793e-04]\n",
      " [-1.33145620e+00  1.18471911e+00  0.00000000e+00]]\n",
      "-0.32022677764607005 2.291708449786457 0.0\n",
      "-1.829449773398272 2.003219956433066 0.02058106575988181\n",
      "-2701.687843935094 0.004331305363109837 0.22332699857765925\n",
      "-5.075390288969133 0.4611542790475431 0.0\n",
      "-0.5431367969806778 2.4344731161351243 0.13015374341541544\n",
      "-0.2881345857839713 1.3253281437059496 0.36107627103747447\n",
      "Params:\n",
      "[[-3.20226778e-01  2.29170845e+00  0.00000000e+00]\n",
      " [-1.82944977e+00  2.00321996e+00  2.05810658e-02]\n",
      " [-2.70168784e+03  4.33130536e-03  2.23326999e-01]\n",
      " [-5.07539029e+00  4.61154279e-01  0.00000000e+00]\n",
      " [-5.43136797e-01  2.43447312e+00  1.30153743e-01]\n",
      " [-2.88134586e-01  1.32532814e+00  3.61076271e-01]]\n",
      "-16.26564066847897 0.5669049035139371 0.22169179966209915\n",
      "-0.7212863776106371 2.1818031246004597 0.028193636625668213\n",
      "-0.8230182822403215 1.795811146617006 0.27685147361169665\n",
      "-0.33035104704877793 2.3960897387473112 0.0\n",
      "-8.52017486405928 1.4309064761172932 0.2023489275484042\n",
      "-2.189206828885948 0.766387961974219 0.002528919828924317\n",
      "Params:\n",
      "[[-1.62656407e+01  5.66904904e-01  2.21691800e-01]\n",
      " [-7.21286378e-01  2.18180312e+00  2.81936366e-02]\n",
      " [-8.23018282e-01  1.79581115e+00  2.76851474e-01]\n",
      " [-3.30351047e-01  2.39608974e+00  0.00000000e+00]\n",
      " [-8.52017486e+00  1.43090648e+00  2.02348928e-01]\n",
      " [-2.18920683e+00  7.66387962e-01  2.52891983e-03]]\n",
      "-6.256981774612689 0.06077380670810408 0.0\n",
      "-42.091541868306926 0.031207948765054106 0.04906301677379782\n",
      "-1.1656392468799135 2.1719813364518004e-08 0.5\n",
      "0.0 1.4175957900937395 0.05657956368078444\n",
      "-1.2974914479970354 9.392247041217772e-08 0.5\n",
      "-4.308136134004464 0.3311417952858018 0.07569860874570439\n",
      "Params:\n",
      "[[-6.25698177e+00  6.07738067e-02  0.00000000e+00]\n",
      " [-4.20915419e+01  3.12079488e-02  4.90630168e-02]\n",
      " [-1.16563925e+00  2.17198134e-08  5.00000000e-01]\n",
      " [ 0.00000000e+00  1.41759579e+00  5.65795637e-02]\n",
      " [-1.29749145e+00  9.39224704e-08  5.00000000e-01]\n",
      " [-4.30813613e+00  3.31141795e-01  7.56986087e-02]]\n",
      "-0.6580614428283984 1.5253197466242425 0.015838814500535536\n",
      "-1.3963403206967169 0.0 0.5\n",
      "-2.562731527184691 0.879378335677737 0.0\n",
      "-11.15631221991062 0.24330411583920047 0.07067252799512387\n",
      "-6.56875300264027 0.5253623538150859 0.21014464321879822\n",
      "-2.6414013861363244 1.1825248311146506 0.33291343511744376\n",
      "Params:\n",
      "[[ -0.65806144   1.52531975   0.01583881]\n",
      " [ -1.39634032   0.           0.5       ]\n",
      " [ -2.56273153   0.87937834   0.        ]\n",
      " [-11.15631222   0.24330412   0.07067253]\n",
      " [ -6.568753     0.52536235   0.21014464]\n",
      " [ -2.64140139   1.18252483   0.33291344]]\n",
      "0.0 0.44401726851663553 0.4289076780203211\n",
      "-1.7404294607703823 1.8407909017688233 0.16351706166441543\n",
      "-4.373011091994561 0.3515597043811161 0.0\n",
      "-20.72028825573561 0.3334172025503367 0.23365789734703646\n",
      "-10.545440519851631 0.0803411358277548 0.0\n",
      "0.0 0.5852567314382395 0.0\n",
      "Params:\n",
      "[[  0.           0.44401727   0.42890768]\n",
      " [ -1.74042946   1.8407909    0.16351706]\n",
      " [ -4.37301109   0.3515597    0.        ]\n",
      " [-20.72028826   0.3334172    0.2336579 ]\n",
      " [-10.54544052   0.08034114   0.        ]\n",
      " [  0.           0.58525673   0.        ]]\n",
      "-2646.612850238181 0.004558287702482789 0.19981660171653398\n",
      "-0.801645188790396 1.4633606206781822 0.029050939983186284\n",
      "0.0 0.553765105485757 0.33714799112524224\n",
      "-1.5625723670829441 0.5581281348844608 0.44948494828393704\n",
      "-0.3585845143551513 2.7182331718833552e-08 0.5\n",
      "-0.3946493191193281 0.33531327267177086 0.0\n",
      "Params:\n",
      "[[-2.64661285e+03  4.55828770e-03  1.99816602e-01]\n",
      " [-8.01645189e-01  1.46336062e+00  2.90509400e-02]\n",
      " [ 0.00000000e+00  5.53765105e-01  3.37147991e-01]\n",
      " [-1.56257237e+00  5.58128135e-01  4.49484948e-01]\n",
      " [-3.58584514e-01  2.71823317e-08  5.00000000e-01]\n",
      " [-3.94649319e-01  3.35313273e-01  0.00000000e+00]]\n",
      "-5.298879316927664 1.1527656760540015 0.4160607805039468\n",
      "-0.2783779655930996 1.3198000399324004 0.3617166875423385\n",
      "-8.523405474310948 0.8598743249061815 0.23992448563573956\n",
      "-15.376242132746746 0.8815384753319334 0.21921913152040065\n",
      "-13.709366157268263 0.07579272364263333 0.0\n",
      "-0.9964173611790024 2.297544082499157 0.08195140029896515\n",
      "Params:\n",
      "[[ -5.29887932   1.15276568   0.41606078]\n",
      " [ -0.27837797   1.31980004   0.36171669]\n",
      " [ -8.52340547   0.85987432   0.23992449]\n",
      " [-15.37624213   0.88153848   0.21921913]\n",
      " [-13.70936616   0.07579272   0.        ]\n",
      " [ -0.99641736   2.29754408   0.0819514 ]]\n"
     ]
    }
   ],
   "source": [
    "params_all = []\n",
    "\n",
    "for file in files:\n",
    "    params = np.zeros((nstates, 3)) * np.nan\n",
    "\n",
    "    data = smart.loadmat(file)\n",
    "\n",
    "    zstates = data['zstates']\n",
    "    assert(len(np.unique(zstates)) == nstates)\n",
    "    assert(max(np.unique(zstates)) == nstates - 1)\n",
    "    \n",
    "    \n",
    "    obs = data['obs']\n",
    "    \n",
    "    offsets = []\n",
    "    slopes = []\n",
    "    lapses = []\n",
    "\n",
    "    # Subsample\n",
    "    for i in range(nstates):\n",
    "        obs_singlez = obs[zstates == i]\n",
    "        mean_singlez = np.mean(obs_singlez, axis=0)\n",
    "        offset, slope, _, _, lapse, _ = utils.fit_doublesigmoid_helper(mean_singlez, 1 - mean_singlez)\n",
    "        print(offset, slope, lapse)\n",
    "        offsets.append(offset)\n",
    "        slopes.append(slope)\n",
    "        lapses.append(lapse)\n",
    "\n",
    "    params[:,0] = offsets\n",
    "    params[:,1] = slopes\n",
    "    params[:,2] = lapses\n",
    "    print('Params:')\n",
    "    print(params)\n",
    "    \n",
    "    params_all.append(params)\n",
    "        \n"
   ]
  },
  {
   "cell_type": "code",
   "execution_count": 82,
   "metadata": {},
   "outputs": [],
   "source": [
    "# Save the sigmoidal fits\n",
    "savefilename = f\"{paths['blockhmmfitpath']}/{version}/sigmoid_fit_all_{version}.mat\"\n",
    "if not os.path.exists(savefilename):\n",
    "    scipy.io.savemat(f\"{paths['blockhmmfitpath']}/{version}/sigmoid_fit_all_{version}.mat\", dict(files=files, params_all=params_all))\n",
    "else:\n",
    "    raise IOError('File exists, skipping save..')"
   ]
  },
  {
   "cell_type": "code",
   "execution_count": null,
   "metadata": {},
   "outputs": [],
   "source": []
  },
  {
   "cell_type": "code",
   "execution_count": 10,
   "metadata": {},
   "outputs": [
    {
     "ename": "NameError",
     "evalue": "name 'N' is not defined",
     "output_type": "error",
     "traceback": [
      "\u001b[0;31m---------------------------------------------------------------------------\u001b[0m",
      "\u001b[0;31mNameError\u001b[0m                                 Traceback (most recent call last)",
      "\u001b[0;32m<ipython-input-10-bd0254d83a5c>\u001b[0m in \u001b[0;36m<module>\u001b[0;34m\u001b[0m\n\u001b[1;32m     19\u001b[0m         \u001b[0mmean_singlez\u001b[0m \u001b[0;34m=\u001b[0m \u001b[0mnp\u001b[0m\u001b[0;34m.\u001b[0m\u001b[0mmean\u001b[0m\u001b[0;34m(\u001b[0m\u001b[0mobs_singlez\u001b[0m\u001b[0;34m,\u001b[0m \u001b[0maxis\u001b[0m\u001b[0;34m=\u001b[0m\u001b[0;36m0\u001b[0m\u001b[0;34m)\u001b[0m\u001b[0;34m\u001b[0m\u001b[0;34m\u001b[0m\u001b[0m\n\u001b[1;32m     20\u001b[0m \u001b[0;34m\u001b[0m\u001b[0m\n\u001b[0;32m---> 21\u001b[0;31m         \u001b[0mmean_singlez1\u001b[0m \u001b[0;34m=\u001b[0m \u001b[0mnp\u001b[0m\u001b[0;34m.\u001b[0m\u001b[0mmean\u001b[0m\u001b[0;34m(\u001b[0m\u001b[0mobs_singlez\u001b[0m\u001b[0;34m[\u001b[0m\u001b[0;34m:\u001b[0m\u001b[0mint\u001b[0m\u001b[0;34m(\u001b[0m\u001b[0mN\u001b[0m\u001b[0;34m/\u001b[0m\u001b[0;36m2\u001b[0m\u001b[0;34m)\u001b[0m\u001b[0;34m,\u001b[0m\u001b[0;34m:\u001b[0m\u001b[0;34m]\u001b[0m\u001b[0;34m,\u001b[0m \u001b[0maxis\u001b[0m\u001b[0;34m=\u001b[0m\u001b[0;36m0\u001b[0m\u001b[0;34m)\u001b[0m\u001b[0;34m\u001b[0m\u001b[0;34m\u001b[0m\u001b[0m\n\u001b[0m\u001b[1;32m     22\u001b[0m         \u001b[0mmean_singlez2\u001b[0m \u001b[0;34m=\u001b[0m \u001b[0mnp\u001b[0m\u001b[0;34m.\u001b[0m\u001b[0mmean\u001b[0m\u001b[0;34m(\u001b[0m\u001b[0mobs_singlez\u001b[0m\u001b[0;34m[\u001b[0m\u001b[0mint\u001b[0m\u001b[0;34m(\u001b[0m\u001b[0mN\u001b[0m\u001b[0;34m/\u001b[0m\u001b[0;36m2\u001b[0m\u001b[0;34m)\u001b[0m\u001b[0;34m:\u001b[0m\u001b[0;34m,\u001b[0m\u001b[0;34m:\u001b[0m\u001b[0;34m]\u001b[0m\u001b[0;34m,\u001b[0m \u001b[0maxis\u001b[0m\u001b[0;34m=\u001b[0m\u001b[0;36m0\u001b[0m\u001b[0;34m)\u001b[0m\u001b[0;34m\u001b[0m\u001b[0;34m\u001b[0m\u001b[0m\n\u001b[1;32m     23\u001b[0m \u001b[0;34m\u001b[0m\u001b[0m\n",
      "\u001b[0;31mNameError\u001b[0m: name 'N' is not defined"
     ]
    }
   ],
   "source": [
    "params_all = []\n",
    "for file in files:\n",
    "    data = smart.loadmat(file)\n",
    "\n",
    "    zstates = data['zstates']\n",
    "    obs = data['obs']\n",
    "\n",
    "    # Subsample\n",
    "#     offsets1 = []\n",
    "#     slopes1 = []\n",
    "#     lapses1 = []\n",
    "\n",
    "#     offsets2 = []\n",
    "#     slopes2 = []\n",
    "#     lapses2 = []\n",
    "\n",
    "    for i in range(4):\n",
    "        obs_singlez = obs[zstates == i]\n",
    "        mean_singlez = np.mean(obs_singlez, axis=0)\n",
    "\n",
    "#         mean_singlez1 = np.mean(obs_singlez[:int(N/2),:], axis=0)\n",
    "#         mean_singlez2 = np.mean(obs_singlez[int(N/2):,:], axis=0)\n",
    "\n",
    "        print(mean_singlez)\n",
    "#         offset1, slope1, _, _, lapse1, _ = utils.fit_doublesigmoid_helper(mean_singlez1, 1 - mean_singlez1)\n",
    "#         offset2, slope2, _, _, lapse2, _ = utils.fit_doublesigmoid_helper(mean_singlez2, 1 - mean_singlez2)\n",
    "\n",
    "        offset, slope, _, _, lapse, _ = utils.fit_doublesigmoid_helper(mean_singlez, 1 - mean_singlez)\n",
    "#         offsets1.append(offset1)\n",
    "#         offsets2.append(offset2)\n",
    "#         slopes1.append(slope1)\n",
    "#         slopes2.append(slope2)\n",
    "\n",
    "#         lapses1.append(lapse1)\n",
    "#         lapses2.append(lapse2)\n",
    "\n",
    "    params[:,0] = offsets1\n",
    "    params[:,1] = slopes1\n",
    "    params[:,2] = lapses1\n",
    "    params[:,3] = offsets2\n",
    "    params[:,4] = slopes2\n",
    "    params[:,5] = lapses2\n",
    "    \n",
    "    print(params)\n",
    "    \n",
    "    params_all.append(params)\n",
    "        \n",
    "    \n",
    "    \n",
    "\n"
   ]
  },
  {
   "cell_type": "code",
   "execution_count": 53,
   "metadata": {},
   "outputs": [],
   "source": [
    "scipy.io.savemat(paths['expdatapath'] + '/113021/sigmoid_fit_all_113021b.mat', dict(files=files, params_all=params_all))"
   ]
  },
  {
   "cell_type": "code",
   "execution_count": 33,
   "metadata": {},
   "outputs": [
    {
     "data": {
      "text/plain": [
       "[<matplotlib.lines.Line2D at 0x7fdd8e4c2430>]"
      ]
     },
     "execution_count": 33,
     "metadata": {},
     "output_type": "execute_result"
    },
    {
     "data": {
      "image/png": "[encoded data removed]",
      "text/plain": [
       "<Figure size 432x288 with 1 Axes>"
      ]
     },
     "metadata": {
      "needs_background": "light"
     },
     "output_type": "display_data"
    }
   ],
   "source": [
    "plt.plot(mean_singlez1)\n",
    "\n",
    "\n"
   ]
  },
  {
   "cell_type": "code",
   "execution_count": 36,
   "metadata": {},
   "outputs": [
    {
     "data": {
      "text/plain": [
       "[<matplotlib.lines.Line2D at 0x7fdd8e9e8490>]"
      ]
     },
     "execution_count": 36,
     "metadata": {},
     "output_type": "execute_result"
    },
    {
     "data": {
      "image/png": "[encoded data removed]",
      "text/plain": [
       "<Figure size 432x288 with 1 Axes>"
      ]
     },
     "metadata": {
      "needs_background": "light"
     },
     "output_type": "display_data"
    }
   ],
   "source": [
    "plt.plot(np.mean(obs_singlez, axis=0))\n"
   ]
  },
  {
   "cell_type": "code",
   "execution_count": 50,
   "metadata": {},
   "outputs": [
    {
     "data": {
      "text/plain": [
       "array([-0.32023688,  0.        ,  0.05278729])"
      ]
     },
     "execution_count": 50,
     "metadata": {},
     "output_type": "execute_result"
    }
   ],
   "source": [
    "pR"
   ]
  },
  {
   "cell_type": "code",
   "execution_count": 29,
   "metadata": {},
   "outputs": [
    {
     "data": {
      "text/plain": [
       "(44, 15)"
      ]
     },
     "execution_count": 29,
     "metadata": {},
     "output_type": "execute_result"
    }
   ],
   "source": [
    "obs_singlez.shape\n",
    "\n"
   ]
  },
  {
   "cell_type": "code",
   "execution_count": null,
   "metadata": {},
   "outputs": [],
   "source": [
    "utils."
   ]
  },
  {
   "cell_type": "code",
   "execution_count": 42,
   "metadata": {},
   "outputs": [
    {
     "data": {
      "text/plain": [
       "<matplotlib.image.AxesImage at 0x7f8938cd9940>"
      ]
     },
     "execution_count": 42,
     "metadata": {},
     "output_type": "execute_result"
    },
    {
     "data": {
      "image/png": "[encoded data removed]",
      "text/plain": [
       "<Figure size 432x288 with 1 Axes>"
      ]
     },
     "metadata": {
      "needs_background": "light"
     },
     "output_type": "display_data"
    }
   ],
   "source": [
    "plt.imshow(obs_double[:10,:], aspect='auto')"
   ]
  },
  {
   "cell_type": "code",
   "execution_count": 46,
   "metadata": {},
   "outputs": [
    {
     "name": "stdout",
     "output_type": "stream",
     "text": [
      "[0.27272727 0.22727273 0.34090909 0.09090909 0.13636364 0.5\n",
      " 0.61363636 0.68181818 0.63636364 0.86363636 0.90909091 0.86363636\n",
      " 0.90909091 0.90909091 0.81818182]\n",
      "[0.13636364 0.22727273 0.18181818 0.40909091 0.09090909 0.36363636\n",
      " 0.13636364 0.27272727 0.22727273 0.22727273 0.22727273 0.22727273\n",
      " 0.45454545 0.29545455 0.27272727]\n",
      "[0.68181818 0.68181818 0.86363636 0.86363636 0.90909091 1.\n",
      " 1.         1.         1.         1.         1.         1.\n",
      " 1.         1.         1.        ]\n",
      "[0.27272727 0.63636364 0.36363636 0.54545455 0.54545455 0.45454545\n",
      " 0.70454545 0.61363636 0.5        0.47727273 0.63636364 0.54545455\n",
      " 0.45454545 0.61363636 0.59090909]\n",
      "[[-5.62707674e+00  8.72454128e-01  1.53371558e-01 -5.75163391e+00\n",
      "   3.05406958e-01  0.00000000e+00]\n",
      " [-3.03443739e+01  5.95309597e-02  8.55267580e-02 -3.44945819e+01\n",
      "   4.11063552e-02  9.42096466e-03]\n",
      " [ 0.00000000e+00  7.20020110e-01  0.00000000e+00  0.00000000e+00\n",
      "   9.79077732e-01  5.35590578e-02]\n",
      " [-2.90574854e+00  6.20840189e-01  4.26195224e-01 -1.55753561e+00\n",
      "   4.08745409e-01  4.49018237e-01]]\n"
     ]
    }
   ],
   "source": [
    "params = np.zeros((4, 6)) * np.nan\n",
    "    \n",
    "# print(file)\n",
    "data = smart.loadmat(files[2])\n",
    "\n",
    "zstates = data['zstates']\n",
    "obs = data['obs']\n",
    "\n",
    "# Subsample\n",
    "offsets1 = []\n",
    "slopes1 = []\n",
    "lapses1 = []\n",
    "\n",
    "offsets2 = []\n",
    "slopes2 = []\n",
    "lapses2 = []\n",
    "\n",
    "for i in range(4):\n",
    "    obs_singlez = obs[zstates == i]\n",
    "    mean_singlez = np.mean(obs_singlez, axis=0)\n",
    "    \n",
    "    mean_singlez1 = np.mean(obs_singlez[:int(N/2),:], axis=0)\n",
    "    mean_singlez2 = np.mean(obs_singlez[int(N/2):,:], axis=0)\n",
    "\n",
    "    print(mean_singlez1)\n",
    "    offset1, slope1, _, _, lapse1, _ = utils.fit_doublesigmoid_helper(mean_singlez1, 1 - mean_singlez1)\n",
    "    offset2, slope2, _, _, lapse2, _ = utils.fit_doublesigmoid_helper(mean_singlez2, 1 - mean_singlez2)\n",
    "    \n",
    "#     offset, slope, _, _, lapse, _ = utils.fit_doublesigmoid_helper(mean_singlez, 1 - mean_singlez)\n",
    "    offsets1.append(offset1)\n",
    "    offsets2.append(offset2)\n",
    "    slopes1.append(slope1)\n",
    "    slopes2.append(slope2)\n",
    "    \n",
    "    lapses1.append(lapse1)\n",
    "    lapses2.append(lapse2)\n",
    "\n",
    "params[:,0] = offsets1\n",
    "params[:,1] = slopes1\n",
    "params[:,2] = lapses1\n",
    "params[:,3] = offsets2\n",
    "params[:,4] = slopes2\n",
    "params[:,5] = lapses2\n",
    "\n",
    "print(params)\n",
    "\n",
    "params_all.append(params)"
   ]
  },
  {
   "cell_type": "code",
   "execution_count": 51,
   "metadata": {},
   "outputs": [
    {
     "data": {
      "text/plain": [
       "array([[-5.62707674e+00,  8.72454128e-01,  1.53371558e-01,\n",
       "        -5.75163391e+00,  3.05406958e-01,  0.00000000e+00],\n",
       "       [-3.03443739e+01,  5.95309597e-02,  8.55267580e-02,\n",
       "        -3.44945819e+01,  4.11063552e-02,  9.42096466e-03],\n",
       "       [ 0.00000000e+00,  7.20020110e-01,  0.00000000e+00,\n",
       "         0.00000000e+00,  9.79077732e-01,  5.35590578e-02],\n",
       "       [-2.90574854e+00,  6.20840189e-01,  4.26195224e-01,\n",
       "        -1.55753561e+00,  4.08745409e-01,  4.49018237e-01]])"
      ]
     },
     "execution_count": 51,
     "metadata": {},
     "output_type": "execute_result"
    }
   ],
   "source": [
    "params"
   ]
  },
  {
   "cell_type": "code",
   "execution_count": 16,
   "metadata": {},
   "outputs": [],
   "source": [
    "obs_singlez = obs[zstates == 2]\n",
    "mean_singlez = np.mean(obs_singlez, axis=0)\n",
    "offset, slope, _, _, lapse, _ = utils.fit_doublesigmoid_helper(mean_singlez, 1 - mean_singlez)\n",
    "# offsets.append(offset)\n",
    "# slopes.append(slope)\n",
    "# lapses.append(lapse)"
   ]
  },
  {
   "cell_type": "code",
   "execution_count": 21,
   "metadata": {},
   "outputs": [
    {
     "data": {
      "text/plain": [
       "array([-13.85839917,   0.        , -13.85839917,   0.        ,\n",
       "         0.5       ,   0.5       ])"
      ]
     },
     "execution_count": 21,
     "metadata": {},
     "output_type": "execute_result"
    }
   ],
   "source": [
    "utils.fit_doublesigmoid_helper(mean_singlez, 1-mean_singlez)"
   ]
  },
  {
   "cell_type": "code",
   "execution_count": 18,
   "metadata": {},
   "outputs": [
    {
     "data": {
      "text/plain": [
       "[<matplotlib.lines.Line2D at 0x7fdd8e01ffd0>]"
      ]
     },
     "execution_count": 18,
     "metadata": {},
     "output_type": "execute_result"
    },
    {
     "data": {
      "image/png": "[encoded data removed]",
      "text/plain": [
       "<Figure size 432x288 with 1 Axes>"
      ]
     },
     "metadata": {
      "needs_background": "light"
     },
     "output_type": "display_data"
    }
   ],
   "source": [
    "plt.plot(mean_singlez)"
   ]
  },
  {
   "cell_type": "code",
   "execution_count": 22,
   "metadata": {},
   "outputs": [
    {
     "name": "stderr",
     "output_type": "stream",
     "text": [
      "[autoreload of src.utils failed: Traceback (most recent call last):\n",
      "  File \"/Users/minhnhatle/opt/anaconda3/envs/default/lib/python3.9/site-packages/IPython/extensions/autoreload.py\", line 245, in check\n",
      "    superreload(m, reload, self.old_objects)\n",
      "  File \"/Users/minhnhatle/opt/anaconda3/envs/default/lib/python3.9/site-packages/IPython/extensions/autoreload.py\", line 394, in superreload\n",
      "    module = reload(module)\n",
      "  File \"/Users/minhnhatle/opt/anaconda3/envs/default/lib/python3.9/imp.py\", line 314, in reload\n",
      "    return importlib.reload(module)\n",
      "  File \"/Users/minhnhatle/opt/anaconda3/envs/default/lib/python3.9/importlib/__init__.py\", line 169, in reload\n",
      "    _bootstrap._exec(spec, module)\n",
      "  File \"<frozen importlib._bootstrap>\", line 613, in _exec\n",
      "  File \"<frozen importlib._bootstrap_external>\", line 851, in exec_module\n",
      "  File \"<frozen importlib._bootstrap_external>\", line 988, in get_code\n",
      "  File \"<frozen importlib._bootstrap_external>\", line 918, in source_to_code\n",
      "  File \"<frozen importlib._bootstrap>\", line 228, in _call_with_frames_removed\n",
      "  File \"/Users/minhnhatle/Dropbox (MIT)/Sur/MatchingSimulations/src/utils.py\", line 558\n",
      "    \n",
      "    ^\n",
      "IndentationError: expected an indented block\n",
      "]\n",
      "[autoreload of src.utils failed: Traceback (most recent call last):\n",
      "  File \"/Users/minhnhatle/opt/anaconda3/envs/default/lib/python3.9/site-packages/IPython/extensions/autoreload.py\", line 245, in check\n",
      "    superreload(m, reload, self.old_objects)\n",
      "  File \"/Users/minhnhatle/opt/anaconda3/envs/default/lib/python3.9/site-packages/IPython/extensions/autoreload.py\", line 394, in superreload\n",
      "    module = reload(module)\n",
      "  File \"/Users/minhnhatle/opt/anaconda3/envs/default/lib/python3.9/imp.py\", line 314, in reload\n",
      "    return importlib.reload(module)\n",
      "  File \"/Users/minhnhatle/opt/anaconda3/envs/default/lib/python3.9/importlib/__init__.py\", line 169, in reload\n",
      "    _bootstrap._exec(spec, module)\n",
      "  File \"<frozen importlib._bootstrap>\", line 613, in _exec\n",
      "  File \"<frozen importlib._bootstrap_external>\", line 851, in exec_module\n",
      "  File \"<frozen importlib._bootstrap_external>\", line 988, in get_code\n",
      "  File \"<frozen importlib._bootstrap_external>\", line 918, in source_to_code\n",
      "  File \"<frozen importlib._bootstrap>\", line 228, in _call_with_frames_removed\n",
      "  File \"/Users/minhnhatle/Dropbox (MIT)/Sur/MatchingSimulations/src/utils.py\", line 558\n",
      "    \n",
      "    ^\n",
      "IndentationError: expected an indented block\n",
      "]\n"
     ]
    },
    {
     "data": {
      "text/plain": [
       "array([0.55555556, 0.73015873, 0.85714286, 0.86507937, 0.92857143,\n",
       "       0.98412698, 0.95238095, 0.93650794, 1.        , 0.95238095,\n",
       "       0.98412698, 0.95238095, 0.96825397, 0.93650794, 0.96825397])"
      ]
     },
     "execution_count": 22,
     "metadata": {},
     "output_type": "execute_result"
    }
   ],
   "source": [
    "mean_singlez"
   ]
  },
  {
   "cell_type": "code",
   "execution_count": 65,
   "metadata": {},
   "outputs": [
    {
     "data": {
      "text/plain": [
       "['//Users/minhnhatle/Dropbox (MIT)/Sur/MatchingSimulations/processed_data/blockhmmfit/121921/f16_hmmblockfit_113021_saved_121921.mat',\n",
       " '//Users/minhnhatle/Dropbox (MIT)/Sur/MatchingSimulations/processed_data/blockhmmfit/121921/f21_hmmblockfit_113021_saved_121921.mat',\n",
       " '//Users/minhnhatle/Dropbox (MIT)/Sur/MatchingSimulations/processed_data/blockhmmfit/121921/f22_hmmblockfit_113021_saved_121921.mat',\n",
       " '//Users/minhnhatle/Dropbox (MIT)/Sur/MatchingSimulations/processed_data/blockhmmfit/121921/f03_hmmblockfit_113021_saved_121921.mat',\n",
       " '//Users/minhnhatle/Dropbox (MIT)/Sur/MatchingSimulations/processed_data/blockhmmfit/121921/fh01_hmmblockfit_113021_saved_121921.mat',\n",
       " '//Users/minhnhatle/Dropbox (MIT)/Sur/MatchingSimulations/processed_data/blockhmmfit/121921/fh02_hmmblockfit_113021_saved_121921.mat',\n",
       " '//Users/minhnhatle/Dropbox (MIT)/Sur/MatchingSimulations/processed_data/blockhmmfit/121921/f04_hmmblockfit_113021_saved_121921.mat',\n",
       " '//Users/minhnhatle/Dropbox (MIT)/Sur/MatchingSimulations/processed_data/blockhmmfit/121921/f20_hmmblockfit_113021_saved_121921.mat',\n",
       " '//Users/minhnhatle/Dropbox (MIT)/Sur/MatchingSimulations/processed_data/blockhmmfit/121921/f17_hmmblockfit_113021_saved_121921.mat',\n",
       " '//Users/minhnhatle/Dropbox (MIT)/Sur/MatchingSimulations/processed_data/blockhmmfit/121921/e53_hmmblockfit_113021_saved_121921.mat',\n",
       " '//Users/minhnhatle/Dropbox (MIT)/Sur/MatchingSimulations/processed_data/blockhmmfit/121921/f23_hmmblockfit_113021_saved_121921.mat',\n",
       " '//Users/minhnhatle/Dropbox (MIT)/Sur/MatchingSimulations/processed_data/blockhmmfit/121921/f02_hmmblockfit_113021_saved_121921.mat',\n",
       " '//Users/minhnhatle/Dropbox (MIT)/Sur/MatchingSimulations/processed_data/blockhmmfit/121921/f11_hmmblockfit_113021_saved_121921.mat',\n",
       " '//Users/minhnhatle/Dropbox (MIT)/Sur/MatchingSimulations/processed_data/blockhmmfit/121921/f01_hmmblockfit_113021_saved_121921.mat',\n",
       " '//Users/minhnhatle/Dropbox (MIT)/Sur/MatchingSimulations/processed_data/blockhmmfit/121921/fh03_hmmblockfit_113021_saved_121921.mat',\n",
       " '//Users/minhnhatle/Dropbox (MIT)/Sur/MatchingSimulations/processed_data/blockhmmfit/121921/f12_hmmblockfit_113021_saved_121921.mat',\n",
       " '//Users/minhnhatle/Dropbox (MIT)/Sur/MatchingSimulations/processed_data/blockhmmfit/121921/e46_hmmblockfit_113021_saved_121921.mat']"
      ]
     },
     "execution_count": 65,
     "metadata": {},
     "output_type": "execute_result"
    }
   ],
   "source": [
    "files"
   ]
  },
  {
   "cell_type": "code",
   "execution_count": 70,
   "metadata": {},
   "outputs": [
    {
     "name": "stdout",
     "output_type": "stream",
     "text": [
      "-1.3596201131154617 1.0356786048670328 0.3014001131165652\n"
     ]
    }
   ],
   "source": [
    "# Single file investigation\n",
    "file = files[0]\n",
    "i = 0\n",
    "data = smart.loadmat(file)\n",
    "\n",
    "zstates = data['zstates']\n",
    "assert(len(np.unique(zstates)) == nstates)\n",
    "assert(max(np.unique(zstates)) == nstates - 1)\n",
    "\n",
    "\n",
    "obs = data['obs']\n",
    "# Subsample\n",
    "obs_singlez = obs[zstates == i]\n",
    "mean_singlez = np.mean(obs_singlez, axis=0)\n",
    "offset, slope, _, _, lapse, _ = utils.fit_doublesigmoid_helper(mean_singlez, 1 - mean_singlez)\n",
    "print(offset, slope, lapse)\n"
   ]
  },
  {
   "cell_type": "code",
   "execution_count": 71,
   "metadata": {},
   "outputs": [
    {
     "data": {
      "text/plain": [
       "'//Users/minhnhatle/Dropbox (MIT)/Sur/MatchingSimulations/processed_data/blockhmmfit/121921/f16_hmmblockfit_113021_saved_121921.mat'"
      ]
     },
     "execution_count": 71,
     "metadata": {},
     "output_type": "execute_result"
    }
   ],
   "source": [
    "file"
   ]
  },
  {
   "cell_type": "code",
   "execution_count": 59,
   "metadata": {},
   "outputs": [
    {
     "data": {
      "text/plain": [
       "[<matplotlib.lines.Line2D at 0x7f92ec1b6910>]"
      ]
     },
     "execution_count": 59,
     "metadata": {},
     "output_type": "execute_result"
    },
    {
     "data": {
      "image/png": "[encoded data removed]",
      "text/plain": [
       "<Figure size 432x288 with 1 Axes>"
      ]
     },
     "metadata": {
      "needs_background": "light"
     },
     "output_type": "display_data"
    }
   ],
   "source": [
    "plt.plot(mean_singlez)"
   ]
  },
  {
   "cell_type": "code",
   "execution_count": 60,
   "metadata": {},
   "outputs": [
    {
     "name": "stdout",
     "output_type": "stream",
     "text": [
      "-1.3596201131154617 1.0356786048670328 0.3014001131165652\n"
     ]
    }
   ],
   "source": [
    "print(offset, slope, lapse)"
   ]
  },
  {
   "cell_type": "code",
   "execution_count": 72,
   "metadata": {},
   "outputs": [
    {
     "data": {
      "text/plain": [
       "[<matplotlib.lines.Line2D at 0x7f92ed57c340>]"
      ]
     },
     "execution_count": 72,
     "metadata": {},
     "output_type": "execute_result"
    },
    {
     "data": {
      "image/png": "[encoded data removed]",
      "text/plain": [
       "<Figure size 432x288 with 1 Axes>"
      ]
     },
     "metadata": {
      "needs_background": "light"
     },
     "output_type": "display_data"
    }
   ],
   "source": [
    "xvals = np.arange(15)\n",
    "yvals = predict_sigmoid(np.arange(15), [0.68, -1.16, 0.07])\n",
    "plt.plot(xvals, yvals)\n",
    "plt.plot(mean_singlez)"
   ]
  },
  {
   "cell_type": "code",
   "execution_count": null,
   "metadata": {},
   "outputs": [],
   "source": []
  }
 ],
 "metadata": {
  "kernelspec": {
   "display_name": "Default",
   "language": "python",
   "name": "default"
  },
  "language_info": {
   "codemirror_mode": {
    "name": "ipython",
    "version": 3
   },
   "file_extension": ".py",
   "mimetype": "text/x-python",
   "name": "python",
   "nbconvert_exporter": "python",
   "pygments_lexer": "ipython3",
   "version": "3.9.5"
  }
 },
 "nbformat": 4,
 "nbformat_minor": 4
}
