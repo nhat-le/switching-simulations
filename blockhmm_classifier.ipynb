{
 "cells": [
  {
   "cell_type": "code",
   "execution_count": 12,
   "metadata": {},
   "outputs": [],
   "source": [
    "import glob\n",
    "import numpy as np\n",
    "import matplotlib.pyplot as plt\n",
    "import smartload.smartload as smart\n",
    "from src import utils\n",
    "import scipy.io\n",
    "\n",
    "%matplotlib inline\n",
    "\n",
    "%reload_ext autoreload\n",
    "%autoreload 2\n"
   ]
  },
  {
   "cell_type": "code",
   "execution_count": 23,
   "metadata": {},
   "outputs": [],
   "source": [
    "paths = utils.pathsetup('matchingsim')\n",
    "files = glob.glob('/Users/minhnhatle/Dropbox (MIT)/Sur/MatchingSimulations/processed_data/expdata/113021/*hmmblockfit_113021.mat')"
   ]
  },
  {
   "cell_type": "code",
   "execution_count": 52,
   "metadata": {},
   "outputs": [
    {
     "name": "stdout",
     "output_type": "stream",
     "text": [
      "[0.38636364 0.63636364 0.5        0.43181818 0.43181818 0.31818182\n",
      " 0.36363636 0.65909091 0.40909091 0.59090909 0.40909091 0.5\n",
      " 0.72727273 0.56818182 0.68181818]\n",
      "[0.13636364 0.27272727 0.27272727 0.25       0.09090909 0.22727273\n",
      " 0.20454545 0.31818182 0.36363636 0.29545455 0.27272727 0.18181818\n",
      " 0.27272727 0.18181818 0.27272727]\n",
      "[0.47727273 0.61363636 0.68181818 0.86363636 0.63636364 0.84090909\n",
      " 0.72727273 0.90909091 0.90909091 0.95454545 0.86363636 0.90909091\n",
      " 0.90909091 0.95454545 1.        ]\n"
     ]
    },
    {
     "name": "stderr",
     "output_type": "stream",
     "text": [
      "/Users/minhnhatle/opt/anaconda3/envs/default/lib/python3.9/site-packages/numpy/core/fromnumeric.py:3440: RuntimeWarning: Mean of empty slice.\n",
      "  return _methods._mean(a, axis=axis, dtype=dtype,\n",
      "/Users/minhnhatle/opt/anaconda3/envs/default/lib/python3.9/site-packages/numpy/core/_methods.py:181: RuntimeWarning: invalid value encountered in true_divide\n",
      "  ret = um.true_divide(\n"
     ]
    },
    {
     "name": "stdout",
     "output_type": "stream",
     "text": [
      "[0.17647059 0.52941176 0.70588235 0.88235294 0.82352941 0.88235294\n",
      " 1.         1.         1.         1.         0.94117647 0.88235294\n",
      " 1.         0.88235294 0.94117647]\n",
      "[[-6.44331283e+00  5.15283974e-02  0.00000000e+00 -8.72545571e-01\n",
      "   1.19615987e-02  0.00000000e+00]\n",
      " [-7.69291940e+01  1.66124899e-02  0.00000000e+00 -1.67953404e+03\n",
      "   6.54484427e-03  2.24743470e-01]\n",
      " [ 0.00000000e+00  3.35931827e-01  4.85216855e-02 -6.16934075e-02\n",
      "   3.16533568e-01  5.38887871e-02]\n",
      " [-1.11266101e+00  1.05347263e+00  4.55314982e-02 -1.50000000e+01\n",
      "   1.08246734e-07  0.00000000e+00]]\n",
      "[0.04545455 0.13636364 0.22727273 0.27272727 0.38636364 0.47727273\n",
      " 0.59090909 0.81818182 0.75       0.72727273 0.95454545 1.\n",
      " 1.         1.         1.        ]\n",
      "[0.09090909 0.09090909 0.27272727 0.27272727 0.29545455 0.13636364\n",
      " 0.25       0.29545455 0.22727273 0.36363636 0.13636364 0.36363636\n",
      " 0.36363636 0.5        0.38636364]\n",
      "[0.27272727 0.52272727 0.54545455 0.61363636 0.40909091 0.61363636\n",
      " 0.45454545 0.29545455 0.84090909 0.43181818 0.59090909 0.65909091\n",
      " 0.52272727 0.70454545 0.5       ]\n",
      "[0.56818182 0.93181818 0.90909091 1.         0.95454545 1.\n",
      " 1.         0.95454545 1.         1.         1.         0.95454545\n",
      " 1.         1.         1.        ]\n",
      "[[-5.04218152e+00  4.66092646e-01  0.00000000e+00 -5.25887519e+00\n",
      "   5.36260136e-01  2.01321707e-02]\n",
      " [-1.75557787e+01  9.83681142e-02  0.00000000e+00 -1.97446333e+01\n",
      "   1.10425255e-01  8.63573450e-02]\n",
      " [-4.05192960e+00  2.17063537e-01  3.69567021e-01 -9.22877208e-01\n",
      "   9.36547627e-01  4.15411148e-01]\n",
      " [ 0.00000000e+00  1.48501426e+00  6.54232147e-03  0.00000000e+00\n",
      "   1.32399523e+00  5.21685037e-02]]\n",
      "[0.27272727 0.22727273 0.34090909 0.09090909 0.13636364 0.5\n",
      " 0.61363636 0.68181818 0.63636364 0.86363636 0.90909091 0.86363636\n",
      " 0.90909091 0.90909091 0.81818182]\n",
      "[0.13636364 0.22727273 0.18181818 0.40909091 0.09090909 0.36363636\n",
      " 0.13636364 0.27272727 0.22727273 0.22727273 0.22727273 0.22727273\n",
      " 0.45454545 0.29545455 0.27272727]\n",
      "[0.68181818 0.68181818 0.86363636 0.86363636 0.90909091 1.\n",
      " 1.         1.         1.         1.         1.         1.\n",
      " 1.         1.         1.        ]\n",
      "[0.27272727 0.63636364 0.36363636 0.54545455 0.54545455 0.45454545\n",
      " 0.70454545 0.61363636 0.5        0.47727273 0.63636364 0.54545455\n",
      " 0.45454545 0.61363636 0.59090909]\n",
      "[[-5.62707674e+00  8.72454128e-01  1.53371558e-01 -5.75163391e+00\n",
      "   3.05406958e-01  0.00000000e+00]\n",
      " [-3.03443739e+01  5.95309597e-02  8.55267580e-02 -3.44945819e+01\n",
      "   4.11063552e-02  9.42096466e-03]\n",
      " [ 0.00000000e+00  7.20020110e-01  0.00000000e+00  0.00000000e+00\n",
      "   9.79077732e-01  5.35590578e-02]\n",
      " [-2.90574854e+00  6.20840189e-01  4.26195224e-01 -1.55753561e+00\n",
      "   4.08745409e-01  4.49018237e-01]]\n",
      "[0.36363636 0.18181818 0.31818182 0.13636364 0.31818182 0.22727273\n",
      " 0.22727273 0.25       0.18181818 0.20454545 0.09090909 0.27272727\n",
      " 0.20454545 0.11363636 0.45454545]\n",
      "[0.09090909 0.27272727 0.36363636 0.09090909 0.40909091 0.36363636\n",
      " 0.63636364 0.68181818 0.77272727 0.95454545 0.90909091 0.95454545\n",
      " 0.93181818 0.95454545 1.        ]\n",
      "[0.31818182 0.81818182 0.77272727 0.86363636 1.         0.95454545\n",
      " 0.81818182 0.95454545 0.95454545 0.86363636 0.72727273 0.72727273\n",
      " 0.72727273 0.90909091 0.88636364]\n",
      "[0.54545455 0.59090909 0.54545455 0.47727273 0.38636364 0.68181818\n",
      " 0.61363636 0.5        0.25       0.68181818 0.59090909 0.68181818\n",
      " 0.63636364 0.52272727 0.63636364]\n",
      "[[-1.49700397e+01  1.08145564e+00  2.19958365e-01 -1.33168607e+01\n",
      "   1.05763918e+00  2.88181677e-01]\n",
      " [-5.11516998e+00  4.41630582e-01  3.67268670e-03 -4.43617416e+00\n",
      "   3.67804291e-01  0.00000000e+00]\n",
      " [-3.02204324e-01  1.56637289e+00  1.29589118e-01 -8.02064761e-01\n",
      "   1.61124166e+00  1.06421852e-01]\n",
      " [ 0.00000000e+00  3.03063319e-02  0.00000000e+00 -2.47252535e+00\n",
      "   5.85335627e-01  4.75533322e-01]]\n",
      "[0.81818182 0.93181818 0.90909091 1.         1.         1.\n",
      " 1.         0.77272727 0.90909091 0.86363636 0.90909091 1.\n",
      " 0.93181818 0.95454545 0.90909091]\n",
      "[0.18181818 0.18181818 0.38636364 0.29545455 0.15909091 0.13636364\n",
      " 0.34090909 0.43181818 0.34090909 0.43181818 0.52272727 0.31818182\n",
      " 0.38636364 0.40909091 0.52272727]\n",
      "[0.31818182 0.09090909 0.31818182 0.59090909 0.31818182 0.56818182\n",
      " 0.70454545 0.75       0.97727273 0.84090909 0.93181818 0.95454545\n",
      " 0.95454545 0.81818182 0.95454545]\n",
      "[0.09090909 0.04545455 0.81818182 0.95454545 1.         0.95454545\n",
      " 0.86363636 0.97727273 1.         0.95454545 0.81818182 0.77272727\n",
      " 0.86363636 0.77272727 0.90909091]\n",
      "[[  0.           1.65891634   0.05500715  -0.32071505   2.2669314\n",
      "    0.04538381]\n",
      " [-14.83488706   0.08971702   0.          -1.43099775   0.\n",
      "    0.5       ]\n",
      " [ -3.95622398   0.46639546   0.05346952  -3.80598002   0.40917903\n",
      "    0.03154251]\n",
      " [ -1.60871723   2.49301151   0.07960065  -1.72490475   2.28382061\n",
      "    0.05158173]]\n",
      "[0.29545455 0.47727273 0.40909091 0.54545455 0.56818182 0.56818182\n",
      " 0.77272727 0.63636364 0.70454545 0.93181818 0.86363636 1.\n",
      " 0.84090909 1.         0.90909091]\n",
      "[0.18181818 0.34090909 0.27272727 0.27272727 0.18181818 0.47727273\n",
      " 0.29545455 0.45454545 0.15909091 0.52272727 0.34090909 0.38636364\n",
      " 0.45454545 0.47727273 0.36363636]\n",
      "[0.34090909 0.70454545 0.77272727 0.61363636 0.56818182 0.56818182\n",
      " 0.63636364 0.45454545 0.52272727 0.54545455 0.61363636 0.47727273\n",
      " 0.47727273 0.31818182 0.45454545]\n",
      "[0.43181818 0.72727273 0.90909091 0.90909091 1.         0.95454545\n",
      " 1.         0.95454545 1.         0.97727273 0.90909091 1.\n",
      " 0.97727273 0.95454545 0.95454545]\n",
      "[[-2.80682563e+00  2.54668492e-01  0.00000000e+00 -3.01003737e+00\n",
      "   2.73267932e-01  0.00000000e+00]\n",
      " [-1.76256040e+01  6.10616876e-02  0.00000000e+00 -1.23915886e+01\n",
      "   7.19097090e-02  1.36526141e-02]\n",
      " [ 0.00000000e+00  9.34558809e-01  4.57874659e-01  0.00000000e+00\n",
      "   1.21497827e+00  3.75021669e-01]\n",
      " [-1.42726650e-01  1.09882317e+00  2.53285456e-02 -6.09050102e-01\n",
      "   1.67461603e+00  5.69976851e-02]]\n",
      "[0.22727273 0.77272727 0.72727273 0.68181818 0.77272727 0.90909091\n",
      " 0.72727273 0.90909091 0.86363636 0.86363636 0.86363636 0.86363636\n",
      " 0.86363636 0.81818182 0.72727273]\n",
      "[0.38636364 0.20454545 0.09090909 0.31818182 0.45454545 0.54545455\n",
      " 0.65909091 0.68181818 0.97727273 0.95454545 1.         1.\n",
      " 1.         0.95454545 0.95454545]\n",
      "[0.61363636 0.77272727 1.         0.97727273 1.         0.95454545\n",
      " 0.97727273 1.         1.         0.95454545 1.         1.\n",
      " 0.95454545 1.         1.        ]\n",
      "[0.34090909 0.11363636 0.54545455 0.61363636 0.38636364 0.43181818\n",
      " 0.52272727 0.38636364 0.36363636 0.34090909 0.40909091 0.40909091\n",
      " 0.59090909 0.56818182 0.61363636]\n",
      "[[-5.57707883e-01  1.38012807e+00  1.67478202e-01 -8.33238673e-01\n",
      "   1.94220793e+00  1.78391752e-01]\n",
      " [-4.39854764e+00  4.82129575e-01  6.43492856e-03 -3.49145883e+00\n",
      "   5.87902785e-01  7.45217175e-03]\n",
      " [ 0.00000000e+00  1.23783954e+00  6.50833904e-03  0.00000000e+00\n",
      "   1.33817875e+00  3.95352109e-02]\n",
      " [-1.55200897e+00  5.57276648e-07  5.00000000e-01 -1.93901890e+01\n",
      "   2.76725258e-02  7.72402773e-03]]\n",
      "[0.27272727 0.40909091 0.68181818 0.63636364 0.59090909 0.63636364\n",
      " 0.63636364 0.59090909 0.81818182 0.72727273 0.72727273 0.59090909\n",
      " 0.45454545 0.68181818 0.63636364]\n",
      "[0.02272727 0.13636364 0.25       0.13636364 0.36363636 0.5\n",
      " 0.77272727 0.86363636 0.68181818 0.93181818 1.         1.\n",
      " 1.         1.         1.        ]\n",
      "[0.36363636 0.54545455 0.95454545 0.77272727 1.         1.\n",
      " 1.         0.95454545 1.         1.         1.         0.95454545\n",
      " 0.95454545 1.         1.        ]\n",
      "[0.22727273 0.29545455 0.22727273 0.22727273 0.27272727 0.27272727\n",
      " 0.27272727 0.18181818 0.43181818 0.31818182 0.36363636 0.45454545\n",
      " 0.29545455 0.40909091 0.45454545]\n",
      "[[-1.40849064e+00  1.22328760e+00  3.39669185e-01 -1.21436260e+00\n",
      "   1.81988253e+00  3.54924920e-01]\n",
      " [-4.82039000e+00  5.96314558e-01  0.00000000e+00 -4.18756673e+00\n",
      "   3.91727269e-01  0.00000000e+00]\n",
      " [-5.55979989e-01  9.87359580e-01  1.08393632e-02 -1.03110233e+00\n",
      "   1.35182491e+00  3.15820619e-02]\n",
      " [-1.64614258e+01  1.68663306e-01  1.97566576e-01 -3.52314854e+00\n",
      "   3.33748555e-07  5.00000000e-01]]\n",
      "[0.625 0.75  0.875 0.875 1.    1.    1.    0.875 1.    1.    1.    1.\n",
      " 1.    1.    1.   ]\n",
      "[0.04545455 0.34090909 0.13636364 0.36363636 0.27272727 0.11363636\n",
      " 0.45454545 0.22727273 0.5        0.18181818 0.54545455 0.31818182\n",
      " 0.59090909 0.34090909 0.43181818]\n",
      "[0.5 1.  0.5 0.5 0.5 0.5 0.5 0.5 0.5 1.  0.  0.  1.  0.  0. ]\n",
      "[0.4  0.2  0.3  0.2  0.5  0.5  1.   0.5  0.75 0.7  0.8  0.8  0.85 1.\n",
      " 1.  ]\n",
      "[[ 0.00000000e+00  8.94082091e-01  8.40828913e-03 -1.50000000e+01\n",
      "   1.08246734e-07  0.00000000e+00]\n",
      " [-1.51036414e+01  9.36181019e-02  0.00000000e+00 -3.46957748e+00\n",
      "   1.02995079e-06  5.00000000e-01]\n",
      " [-5.49657167e-02  0.00000000e+00  5.00000000e-01 -1.50000000e+01\n",
      "   1.08246734e-07  0.00000000e+00]\n",
      " [-4.44741546e+00  2.77258890e-01  0.00000000e+00 -1.50000000e+01\n",
      "   1.08246734e-07  0.00000000e+00]]\n",
      "[0.31818182 0.5        0.95454545 0.95454545 0.95454545 1.\n",
      " 1.         0.95454545 0.90909091 0.90909091 0.90909091 0.95454545\n",
      " 0.86363636 0.90909091 0.86363636]\n",
      "[0.05  0.275 0.25  0.15  0.25  0.175 0.15  0.35  0.7   0.6   0.725 0.85\n",
      " 0.9   0.95  0.975]\n",
      "[0.18181818 0.13636364 0.22727273 0.22727273 0.63636364 0.63636364\n",
      " 0.81818182 0.93181818 0.95454545 0.68181818 0.95454545 0.95454545\n",
      " 0.72727273 0.95454545 0.86363636]\n",
      "[0.45454545 0.36363636 0.63636364 0.5        0.31818182 0.5\n",
      " 0.22727273 0.38636364 0.45454545 0.5        0.54545455 0.61363636\n",
      " 0.38636364 0.40909091 0.31818182]\n",
      "[[-7.01779195e-01  1.42155682e+00  5.92468814e-02 -8.32093857e-01\n",
      "   1.63256884e+00  4.81690369e-02]\n",
      " [-7.74525436e+00  8.53734505e-01  1.26451789e-01 -1.50000000e+01\n",
      "   1.08246734e-07  0.00000000e+00]\n",
      " [-3.87941472e+00  1.07895507e+00  1.20874907e-01 -4.10456036e+00\n",
      "   1.35544692e+00  1.29203738e-01]\n",
      " [-1.27717025e+00  2.52180281e-07  5.00000000e-01 -3.05445926e+00\n",
      "   2.00339869e-08  5.00000000e-01]]\n",
      "[0.29545455 0.40909091 0.68181818 0.5        0.59090909 0.65909091\n",
      " 0.43181818 0.47727273 0.45454545 0.29545455 0.59090909 0.68181818\n",
      " 0.56818182 0.72727273 0.52272727]\n"
     ]
    },
    {
     "name": "stdout",
     "output_type": "stream",
     "text": [
      "[0.41666667 0.80555556 0.83333333 0.83333333 0.86111111 1.\n",
      " 1.         1.         1.         1.         1.         1.\n",
      " 1.         1.         1.        ]\n",
      "[0.14285714 0.14285714 0.         0.14285714 0.         0.\n",
      " 0.14285714 0.14285714 0.42857143 0.         0.14285714 0.\n",
      " 0.14285714 0.         0.14285714]\n",
      "[0.25       0.32142857 0.10714286 0.21428571 0.28571429 0.42857143\n",
      " 0.60714286 0.85714286 0.85714286 0.92857143 1.         1.\n",
      " 0.92857143 0.92857143 0.78571429]\n",
      "[[-1.71240883e+00  8.14031421e-01  4.41424650e-01 -1.20916575e+01\n",
      "   1.00955417e-01  0.00000000e+00]\n",
      " [ 0.00000000e+00  7.26219115e-01  1.79226785e-03 -1.50000000e+01\n",
      "   1.08246734e-07  0.00000000e+00]\n",
      " [-6.34915808e+02  9.61477421e-03  1.02524367e-01 -1.50000000e+01\n",
      "   1.08246734e-07  0.00000000e+00]\n",
      " [-5.19378387e+00  9.70933639e-01  1.08772971e-01 -1.50000000e+01\n",
      "   1.08246734e-07  0.00000000e+00]]\n",
      "[0.06818182 0.52272727 0.63636364 0.81818182 0.90909091 0.95454545\n",
      " 1.         1.         1.         1.         1.         1.\n",
      " 1.         1.         0.95454545]\n",
      "[0.18181818 0.13636364 0.18181818 0.27272727 0.36363636 0.31818182\n",
      " 0.27272727 0.27272727 0.27272727 0.59090909 0.43181818 0.45454545\n",
      " 0.45454545 0.59090909 0.54545455]\n",
      "[0.27272727 0.59090909 0.34090909 0.63636364 0.72727273 0.79545455\n",
      " 0.79545455 0.86363636 0.72727273 0.77272727 0.81818182 0.54545455\n",
      " 0.77272727 0.63636364 0.61363636]\n",
      "[0.11764706 0.29411765 0.         0.         0.11764706 0.41176471\n",
      " 0.70588235 0.73529412 1.         1.         1.         0.82352941\n",
      " 1.         1.         0.85294118]\n",
      "[[-1.38168988e+00  9.96212276e-01  2.05384638e-03 -1.35640789e+00\n",
      "   1.11179790e+00  1.16782657e-02]\n",
      " [-1.18413085e+01  1.31493387e-01  0.00000000e+00 -1.15181036e+01\n",
      "   1.34648518e-01  0.00000000e+00]\n",
      " [-1.80670202e+00  8.98372351e-01  2.61511841e-01 -1.65150913e+00\n",
      "   1.50522134e+00  3.24409459e-01]\n",
      " [-5.42473706e+00  1.31774900e+00  6.28732641e-02 -1.50000000e+01\n",
      "   1.08246734e-07  0.00000000e+00]]\n",
      "[0.5        0.27272727 0.40909091 0.40909091 0.68181818 0.5\n",
      " 0.63636364 0.68181818 0.72727273 0.86363636 0.72727273 0.59090909\n",
      " 0.59090909 0.63636364 0.59090909]\n",
      "[0.15909091 0.22727273 0.36363636 0.36363636 0.84090909 0.93181818\n",
      " 0.93181818 0.95454545 1.         1.         1.         0.95454545\n",
      " 0.95454545 1.         1.        ]\n",
      "[0.  0.  0.  0.  0.  0.  0.6 0.8 1.  1.  1.  1.  1.  1.  1. ]\n",
      "[0.34090909 0.29545455 0.22727273 0.31818182 0.25       0.11363636\n",
      " 0.31818182 0.18181818 0.22727273 0.11363636 0.27272727 0.20454545\n",
      " 0.22727273 0.18181818 0.18181818]\n",
      "[[-3.33858513e+00  7.94056988e-01  3.28777231e-01 -1.16788076e+00\n",
      "   1.24538625e+00  3.34249208e-01]\n",
      " [-2.78021608e+00  8.41248720e-01  9.91073824e-03 -1.53434437e+00\n",
      "   1.02977030e+00  3.42427008e-02]\n",
      " [-6.00409026e+00  1.71972688e+00  0.00000000e+00 -1.50000000e+01\n",
      "   1.08246734e-07  0.00000000e+00]\n",
      " [-1.78056138e+03  6.86866451e-03  2.30302541e-01 -1.73362161e+01\n",
      "   2.10554771e-01  1.21294375e-01]]\n",
      "[0.15909091 0.27272727 0.36363636 0.68181818 0.72727273 0.68181818\n",
      " 0.84090909 0.81818182 0.81818182 0.77272727 0.88636364 0.86363636\n",
      " 0.90909091 0.72727273 0.95454545]\n",
      "[0.625 0.625 0.85  0.75  0.9   0.925 1.    1.    1.    1.    1.    1.\n",
      " 1.    1.    1.   ]\n",
      "[0.36363636 0.36363636 0.27272727 0.22727273 0.31818182 0.27272727\n",
      " 0.31818182 0.36363636 0.13636364 0.22727273 0.31818182 0.22727273\n",
      " 0.22727273 0.27272727 0.27272727]\n",
      "[0.22727273 0.31818182 0.40909091 0.27272727 0.13636364 0.38636364\n",
      " 0.52272727 0.40909091 0.65909091 0.43181818 0.54545455 0.43181818\n",
      " 0.5        0.70454545 0.86363636]\n",
      "[[-2.51468858e+00  9.43057375e-01  1.50953372e-01 -1.53402576e+00\n",
      "   1.78279701e+00  1.64107225e-01]\n",
      " [ 0.00000000e+00  5.52348952e-01  0.00000000e+00 -1.50000000e+01\n",
      "   1.08246734e-07  0.00000000e+00]\n",
      " [-1.73942115e+03  6.36357572e-03  2.78858446e-01 -7.18795983e+00\n",
      "   0.00000000e+00  5.00000000e-01]\n",
      " [-8.47173859e+00  1.41045137e-01  0.00000000e+00 -6.64281150e+00\n",
      "   2.40124213e-01  0.00000000e+00]]\n",
      "[0.22727273 0.77272727 0.90909091 1.         1.         1.\n",
      " 1.         1.         1.         1.         1.         1.\n",
      " 0.95454545 1.         0.95454545]\n",
      "[0.13636364 0.40909091 0.5        0.22727273 0.45454545 0.31818182\n",
      " 0.31818182 0.5        0.5        0.09090909 0.36363636 0.36363636\n",
      " 0.36363636 0.56818182 0.47727273]\n"
     ]
    },
    {
     "name": "stderr",
     "output_type": "stream",
     "text": [
      "/Users/minhnhatle/Dropbox (MIT)/Sur/MatchingSimulations/src/utils.py:320: RuntimeWarning: overflow encountered in exp\n",
      "  return gamma + (1 - gamma - lamb) * 1 / (1 + np.exp(-p[0] * (x + p[1])))\n"
     ]
    },
    {
     "name": "stdout",
     "output_type": "stream",
     "text": [
      "[0.13636364 0.27272727 0.36363636 0.54545455 0.72727273 0.86363636\n",
      " 1.         1.         1.         1.         1.         1.\n",
      " 0.90909091 1.         1.        ]\n",
      "[0.27272727 0.36363636 0.54545455 0.63636364 0.54545455 0.63636364\n",
      " 0.63636364 0.77272727 0.77272727 0.72727273 0.77272727 0.86363636\n",
      " 0.54545455 0.54545455 0.81818182]\n",
      "[[-5.02720862e-01  1.63927807e+00  1.54473002e-03 -5.46058897e-01\n",
      "   1.97075614e+00  5.53459659e-03]\n",
      " [-1.59532695e+01  5.33408302e-01  4.29476174e-04 -1.54854958e+01\n",
      "   7.53061698e-02  3.78685616e-02]\n",
      " [-2.60047850e+00  7.49080929e-01  0.00000000e+00 -3.11289786e+00\n",
      "   7.41996692e-01  0.00000000e+00]\n",
      " [-2.29657337e+00  6.96915444e-01  2.73458991e-01 -7.48605232e-01\n",
      "   1.68106959e+00  2.56950568e-01]]\n",
      "[0.09090909 0.18181818 0.36363636 0.31818182 0.45454545 0.63636364\n",
      " 0.86363636 0.95454545 0.95454545 1.         0.95454545 1.\n",
      " 1.         1.         0.95454545]\n",
      "[0.04545455 0.09090909 0.04545455 0.25       0.27272727 0.22727273\n",
      " 0.09090909 0.18181818 0.13636364 0.13636364 0.11363636 0.15909091\n",
      " 0.20454545 0.22727273 0.29545455]\n",
      "[0.22727273 0.5        0.40909091 0.47727273 0.40909091 0.40909091\n",
      " 0.40909091 0.36363636 0.5        0.59090909 0.65909091 0.54545455\n",
      " 0.68181818 0.63636364 0.59090909]\n",
      "[0.22727273 0.59090909 0.90909091 0.95454545 1.         0.86363636\n",
      " 0.90909091 0.86363636 0.95454545 0.90909091 0.95454545 0.90909091\n",
      " 1.         0.90909091 0.90909091]\n",
      "[[ -3.76664656   0.61753893   0.          -3.90819921   0.68975979\n",
      "    0.        ]\n",
      " [-16.95300555   0.48239577   0.13859002 -15.15927578   0.71774461\n",
      "    0.19444689]\n",
      " [ -8.04110493   0.59349159   0.28310879  -5.5756892    0.3104201\n",
      "    0.30364017]\n",
      " [ -0.72645147   1.5977236    0.06325169  -0.77074098   1.82716014\n",
      "    0.04347455]]\n",
      "[0.   0.5  1.   1.   0.75 0.75 1.   0.75 1.   1.   0.75 1.   1.   0.75\n",
      " 1.  ]\n",
      "[0.1875 0.3125 0.1875 0.3125 0.375  0.375  0.4375 0.5    0.3125 0.5\n",
      " 0.625  0.5625 0.5625 0.8125 0.75  ]\n",
      "[0.26315789 0.44736842 0.21052632 0.34210526 0.52631579 0.57894737\n",
      " 0.34210526 0.42105263 0.57894737 0.68421053 0.68421053 0.57894737\n",
      " 0.57894737 0.78947368 0.36842105]\n",
      "[0.22727273 0.31818182 0.36363636 0.31818182 0.22727273 0.20454545\n",
      " 0.13636364 0.31818182 0.18181818 0.31818182 0.34090909 0.22727273\n",
      " 0.18181818 0.27272727 0.36363636]\n",
      "[[-9.96417361e-01  2.29754408e+00  8.19514003e-02 -1.50000000e+01\n",
      "   1.08246734e-07  0.00000000e+00]\n",
      " [-8.30359083e+00  1.64353857e-01  0.00000000e+00 -1.50000000e+01\n",
      "   1.08246734e-07  0.00000000e+00]\n",
      " [-6.59841333e+00  5.92038463e-01  3.57824872e-01 -1.50000000e+01\n",
      "   1.08246734e-07  0.00000000e+00]\n",
      " [-1.89101828e+01  4.41695064e-01  2.56924664e-01 -3.24786237e+00\n",
      "   0.00000000e+00  5.00000000e-01]]\n",
      "[0.22727273 0.56818182 0.54545455 0.63636364 0.61363636 0.54545455\n",
      " 0.38636364 0.68181818 0.56818182 0.5        0.40909091 0.27272727\n",
      " 0.61363636 0.63636364 0.5       ]\n",
      "[0.27272727 0.13636364 0.18181818 0.27272727 0.45454545 0.59090909\n",
      " 0.63636364 0.77272727 0.77272727 1.         0.90909091 0.90909091\n",
      " 1.         1.         1.        ]\n",
      "[0.22727273 0.59090909 0.86363636 1.         0.95454545 1.\n",
      " 1.         1.         1.         1.         0.95454545 0.90909091\n",
      " 0.95454545 1.         1.        ]\n",
      "[0.04545455 0.27272727 0.13636364 0.13636364 0.22727273 0.15909091\n",
      " 0.04545455 0.15909091 0.20454545 0.15909091 0.11363636 0.\n",
      " 0.18181818 0.09090909 0.18181818]\n",
      "[[-1.26390839e+00  8.19804223e-01  4.61796180e-01  0.00000000e+00\n",
      "   5.94327086e-01  4.74904615e-01]\n",
      " [-4.52688957e+00  4.59164855e-01  0.00000000e+00 -4.24683145e+00\n",
      "   3.81298353e-01  0.00000000e+00]\n",
      " [-7.56731451e-01  1.38426516e+00  1.15745520e-02 -5.35418788e-01\n",
      "   1.99816386e+00  5.46567937e-02]\n",
      " [-1.27099194e+03  8.63904914e-03  1.40902398e-01 -1.67733939e+01\n",
      "   6.64974677e-01  1.35588645e-01]]\n",
      "[0.22727273 0.5        1.         0.86363636 0.90909091 1.\n",
      " 0.95454545 1.         1.         0.95454545 0.95454545 0.95454545\n",
      " 1.         1.         0.95454545]\n",
      "[0.25       0.70454545 0.54545455 0.40909091 0.38636364 0.56818182\n",
      " 0.52272727 0.40909091 0.40909091 0.59090909 0.68181818 0.54545455\n",
      " 0.45454545 0.59090909 0.40909091]\n",
      "[0.09090909 0.13636364 0.45454545 0.59090909 0.72727273 0.63636364\n",
      " 0.90909091 0.90909091 0.95454545 0.81818182 0.86363636 0.86363636\n",
      " 0.68181818 0.81818182 0.81818182]\n",
      "[0.13636364 0.20454545 0.18181818 0.04545455 0.18181818 0.13636364\n",
      " 0.22727273 0.29545455 0.25       0.45454545 0.15909091 0.18181818\n",
      " 0.06818182 0.43181818 0.43181818]\n",
      "[[-8.24110444e-01  1.49618975e+00  2.40123629e-02 -7.28915144e-01\n",
      "   1.78130485e+00  4.57465805e-02]\n",
      " [-7.29178709e+00  1.91772547e-02  1.71592539e-04 -9.76301195e+00\n",
      "   1.93974977e-02  7.73388787e-03]\n",
      " [-2.68617850e+00  1.05757390e+00  1.46826265e-01 -1.96528270e+00\n",
      "   8.44488291e-01  2.00507681e-01]\n",
      " [-1.45623583e+01  8.23665330e-01  1.92481268e-01 -1.53132173e+01\n",
      "   5.23192286e-01  1.71616948e-01]]\n"
     ]
    }
   ],
   "source": [
    "params_all = []\n",
    "for file in files:\n",
    "    data = smart.loadmat(file)\n",
    "\n",
    "    zstates = data['zstates']\n",
    "    obs = data['obs']\n",
    "\n",
    "    # Subsample\n",
    "    offsets1 = []\n",
    "    slopes1 = []\n",
    "    lapses1 = []\n",
    "\n",
    "    offsets2 = []\n",
    "    slopes2 = []\n",
    "    lapses2 = []\n",
    "\n",
    "    for i in range(4):\n",
    "        obs_singlez = obs[zstates == i]\n",
    "        mean_singlez = np.mean(obs_singlez, axis=0)\n",
    "\n",
    "        mean_singlez1 = np.mean(obs_singlez[:int(N/2),:], axis=0)\n",
    "        mean_singlez2 = np.mean(obs_singlez[int(N/2):,:], axis=0)\n",
    "\n",
    "        print(mean_singlez1)\n",
    "        offset1, slope1, _, _, lapse1, _ = utils.fit_doublesigmoid_helper(mean_singlez1, 1 - mean_singlez1)\n",
    "        offset2, slope2, _, _, lapse2, _ = utils.fit_doublesigmoid_helper(mean_singlez2, 1 - mean_singlez2)\n",
    "\n",
    "    #     offset, slope, _, _, lapse, _ = utils.fit_doublesigmoid_helper(mean_singlez, 1 - mean_singlez)\n",
    "        offsets1.append(offset1)\n",
    "        offsets2.append(offset2)\n",
    "        slopes1.append(slope1)\n",
    "        slopes2.append(slope2)\n",
    "\n",
    "        lapses1.append(lapse1)\n",
    "        lapses2.append(lapse2)\n",
    "\n",
    "    params[:,0] = offsets1\n",
    "    params[:,1] = slopes1\n",
    "    params[:,2] = lapses1\n",
    "    params[:,3] = offsets2\n",
    "    params[:,4] = slopes2\n",
    "    params[:,5] = lapses2\n",
    "    \n",
    "    print(params)\n",
    "    \n",
    "    params_all.append(params)\n",
    "        \n",
    "    \n",
    "    \n",
    "\n"
   ]
  },
  {
   "cell_type": "code",
   "execution_count": 53,
   "metadata": {},
   "outputs": [],
   "source": [
    "scipy.io.savemat(paths['expdatapath'] + '/113021/sigmoid_fit_all_113021b.mat', dict(files=files, params_all=params_all))"
   ]
  },
  {
   "cell_type": "code",
   "execution_count": 33,
   "metadata": {},
   "outputs": [
    {
     "data": {
      "text/plain": [
       "[<matplotlib.lines.Line2D at 0x7fdd8e4c2430>]"
      ]
     },
     "execution_count": 33,
     "metadata": {},
     "output_type": "execute_result"
    },
    {
     "data": {
      "image/png": "[encoded data removed]",
      "text/plain": [
       "<Figure size 432x288 with 1 Axes>"
      ]
     },
     "metadata": {
      "needs_background": "light"
     },
     "output_type": "display_data"
    }
   ],
   "source": [
    "plt.plot(mean_singlez1)\n",
    "\n",
    "\n"
   ]
  },
  {
   "cell_type": "code",
   "execution_count": 36,
   "metadata": {},
   "outputs": [
    {
     "data": {
      "text/plain": [
       "[<matplotlib.lines.Line2D at 0x7fdd8e9e8490>]"
      ]
     },
     "execution_count": 36,
     "metadata": {},
     "output_type": "execute_result"
    },
    {
     "data": {
      "image/png": "[encoded data removed]",
      "text/plain": [
       "<Figure size 432x288 with 1 Axes>"
      ]
     },
     "metadata": {
      "needs_background": "light"
     },
     "output_type": "display_data"
    }
   ],
   "source": [
    "plt.plot(np.mean(obs_singlez, axis=0))\n"
   ]
  },
  {
   "cell_type": "code",
   "execution_count": 50,
   "metadata": {},
   "outputs": [
    {
     "data": {
      "text/plain": [
       "array([-0.32023688,  0.        ,  0.05278729])"
      ]
     },
     "execution_count": 50,
     "metadata": {},
     "output_type": "execute_result"
    }
   ],
   "source": [
    "pR"
   ]
  },
  {
   "cell_type": "code",
   "execution_count": 29,
   "metadata": {},
   "outputs": [
    {
     "data": {
      "text/plain": [
       "(44, 15)"
      ]
     },
     "execution_count": 29,
     "metadata": {},
     "output_type": "execute_result"
    }
   ],
   "source": [
    "obs_singlez.shape\n",
    "\n"
   ]
  },
  {
   "cell_type": "code",
   "execution_count": null,
   "metadata": {},
   "outputs": [],
   "source": [
    "utils."
   ]
  },
  {
   "cell_type": "code",
   "execution_count": 42,
   "metadata": {},
   "outputs": [
    {
     "data": {
      "text/plain": [
       "<matplotlib.image.AxesImage at 0x7f8938cd9940>"
      ]
     },
     "execution_count": 42,
     "metadata": {},
     "output_type": "execute_result"
    },
    {
     "data": {
      "image/png": "[encoded data removed]",
      "text/plain": [
       "<Figure size 432x288 with 1 Axes>"
      ]
     },
     "metadata": {
      "needs_background": "light"
     },
     "output_type": "display_data"
    }
   ],
   "source": [
    "plt.imshow(obs_double[:10,:], aspect='auto')"
   ]
  },
  {
   "cell_type": "code",
   "execution_count": 46,
   "metadata": {},
   "outputs": [
    {
     "name": "stdout",
     "output_type": "stream",
     "text": [
      "[0.27272727 0.22727273 0.34090909 0.09090909 0.13636364 0.5\n",
      " 0.61363636 0.68181818 0.63636364 0.86363636 0.90909091 0.86363636\n",
      " 0.90909091 0.90909091 0.81818182]\n",
      "[0.13636364 0.22727273 0.18181818 0.40909091 0.09090909 0.36363636\n",
      " 0.13636364 0.27272727 0.22727273 0.22727273 0.22727273 0.22727273\n",
      " 0.45454545 0.29545455 0.27272727]\n",
      "[0.68181818 0.68181818 0.86363636 0.86363636 0.90909091 1.\n",
      " 1.         1.         1.         1.         1.         1.\n",
      " 1.         1.         1.        ]\n",
      "[0.27272727 0.63636364 0.36363636 0.54545455 0.54545455 0.45454545\n",
      " 0.70454545 0.61363636 0.5        0.47727273 0.63636364 0.54545455\n",
      " 0.45454545 0.61363636 0.59090909]\n",
      "[[-5.62707674e+00  8.72454128e-01  1.53371558e-01 -5.75163391e+00\n",
      "   3.05406958e-01  0.00000000e+00]\n",
      " [-3.03443739e+01  5.95309597e-02  8.55267580e-02 -3.44945819e+01\n",
      "   4.11063552e-02  9.42096466e-03]\n",
      " [ 0.00000000e+00  7.20020110e-01  0.00000000e+00  0.00000000e+00\n",
      "   9.79077732e-01  5.35590578e-02]\n",
      " [-2.90574854e+00  6.20840189e-01  4.26195224e-01 -1.55753561e+00\n",
      "   4.08745409e-01  4.49018237e-01]]\n"
     ]
    }
   ],
   "source": [
    "params = np.zeros((4, 6)) * np.nan\n",
    "    \n",
    "# print(file)\n",
    "data = smart.loadmat(files[2])\n",
    "\n",
    "zstates = data['zstates']\n",
    "obs = data['obs']\n",
    "\n",
    "# Subsample\n",
    "offsets1 = []\n",
    "slopes1 = []\n",
    "lapses1 = []\n",
    "\n",
    "offsets2 = []\n",
    "slopes2 = []\n",
    "lapses2 = []\n",
    "\n",
    "for i in range(4):\n",
    "    obs_singlez = obs[zstates == i]\n",
    "    mean_singlez = np.mean(obs_singlez, axis=0)\n",
    "    \n",
    "    mean_singlez1 = np.mean(obs_singlez[:int(N/2),:], axis=0)\n",
    "    mean_singlez2 = np.mean(obs_singlez[int(N/2):,:], axis=0)\n",
    "\n",
    "    print(mean_singlez1)\n",
    "    offset1, slope1, _, _, lapse1, _ = utils.fit_doublesigmoid_helper(mean_singlez1, 1 - mean_singlez1)\n",
    "    offset2, slope2, _, _, lapse2, _ = utils.fit_doublesigmoid_helper(mean_singlez2, 1 - mean_singlez2)\n",
    "    \n",
    "#     offset, slope, _, _, lapse, _ = utils.fit_doublesigmoid_helper(mean_singlez, 1 - mean_singlez)\n",
    "    offsets1.append(offset1)\n",
    "    offsets2.append(offset2)\n",
    "    slopes1.append(slope1)\n",
    "    slopes2.append(slope2)\n",
    "    \n",
    "    lapses1.append(lapse1)\n",
    "    lapses2.append(lapse2)\n",
    "\n",
    "params[:,0] = offsets1\n",
    "params[:,1] = slopes1\n",
    "params[:,2] = lapses1\n",
    "params[:,3] = offsets2\n",
    "params[:,4] = slopes2\n",
    "params[:,5] = lapses2\n",
    "\n",
    "print(params)\n",
    "\n",
    "params_all.append(params)"
   ]
  },
  {
   "cell_type": "code",
   "execution_count": 51,
   "metadata": {},
   "outputs": [
    {
     "data": {
      "text/plain": [
       "array([[-5.62707674e+00,  8.72454128e-01,  1.53371558e-01,\n",
       "        -5.75163391e+00,  3.05406958e-01,  0.00000000e+00],\n",
       "       [-3.03443739e+01,  5.95309597e-02,  8.55267580e-02,\n",
       "        -3.44945819e+01,  4.11063552e-02,  9.42096466e-03],\n",
       "       [ 0.00000000e+00,  7.20020110e-01,  0.00000000e+00,\n",
       "         0.00000000e+00,  9.79077732e-01,  5.35590578e-02],\n",
       "       [-2.90574854e+00,  6.20840189e-01,  4.26195224e-01,\n",
       "        -1.55753561e+00,  4.08745409e-01,  4.49018237e-01]])"
      ]
     },
     "execution_count": 51,
     "metadata": {},
     "output_type": "execute_result"
    }
   ],
   "source": [
    "params"
   ]
  },
  {
   "cell_type": "code",
   "execution_count": 16,
   "metadata": {},
   "outputs": [],
   "source": [
    "obs_singlez = obs[zstates == 2]\n",
    "mean_singlez = np.mean(obs_singlez, axis=0)\n",
    "offset, slope, _, _, lapse, _ = utils.fit_doublesigmoid_helper(mean_singlez, 1 - mean_singlez)\n",
    "# offsets.append(offset)\n",
    "# slopes.append(slope)\n",
    "# lapses.append(lapse)"
   ]
  },
  {
   "cell_type": "code",
   "execution_count": 21,
   "metadata": {},
   "outputs": [
    {
     "data": {
      "text/plain": [
       "array([-13.85839917,   0.        , -13.85839917,   0.        ,\n",
       "         0.5       ,   0.5       ])"
      ]
     },
     "execution_count": 21,
     "metadata": {},
     "output_type": "execute_result"
    }
   ],
   "source": [
    "utils.fit_doublesigmoid_helper(mean_singlez, 1-mean_singlez)"
   ]
  },
  {
   "cell_type": "code",
   "execution_count": 18,
   "metadata": {},
   "outputs": [
    {
     "data": {
      "text/plain": [
       "[<matplotlib.lines.Line2D at 0x7fdd8e01ffd0>]"
      ]
     },
     "execution_count": 18,
     "metadata": {},
     "output_type": "execute_result"
    },
    {
     "data": {
      "image/png": "[encoded data removed]",
      "text/plain": [
       "<Figure size 432x288 with 1 Axes>"
      ]
     },
     "metadata": {
      "needs_background": "light"
     },
     "output_type": "display_data"
    }
   ],
   "source": [
    "plt.plot(mean_singlez)"
   ]
  },
  {
   "cell_type": "code",
   "execution_count": 22,
   "metadata": {},
   "outputs": [
    {
     "name": "stderr",
     "output_type": "stream",
     "text": [
      "[autoreload of src.utils failed: Traceback (most recent call last):\n",
      "  File \"/Users/minhnhatle/opt/anaconda3/envs/default/lib/python3.9/site-packages/IPython/extensions/autoreload.py\", line 245, in check\n",
      "    superreload(m, reload, self.old_objects)\n",
      "  File \"/Users/minhnhatle/opt/anaconda3/envs/default/lib/python3.9/site-packages/IPython/extensions/autoreload.py\", line 394, in superreload\n",
      "    module = reload(module)\n",
      "  File \"/Users/minhnhatle/opt/anaconda3/envs/default/lib/python3.9/imp.py\", line 314, in reload\n",
      "    return importlib.reload(module)\n",
      "  File \"/Users/minhnhatle/opt/anaconda3/envs/default/lib/python3.9/importlib/__init__.py\", line 169, in reload\n",
      "    _bootstrap._exec(spec, module)\n",
      "  File \"<frozen importlib._bootstrap>\", line 613, in _exec\n",
      "  File \"<frozen importlib._bootstrap_external>\", line 851, in exec_module\n",
      "  File \"<frozen importlib._bootstrap_external>\", line 988, in get_code\n",
      "  File \"<frozen importlib._bootstrap_external>\", line 918, in source_to_code\n",
      "  File \"<frozen importlib._bootstrap>\", line 228, in _call_with_frames_removed\n",
      "  File \"/Users/minhnhatle/Dropbox (MIT)/Sur/MatchingSimulations/src/utils.py\", line 558\n",
      "    \n",
      "    ^\n",
      "IndentationError: expected an indented block\n",
      "]\n",
      "[autoreload of src.utils failed: Traceback (most recent call last):\n",
      "  File \"/Users/minhnhatle/opt/anaconda3/envs/default/lib/python3.9/site-packages/IPython/extensions/autoreload.py\", line 245, in check\n",
      "    superreload(m, reload, self.old_objects)\n",
      "  File \"/Users/minhnhatle/opt/anaconda3/envs/default/lib/python3.9/site-packages/IPython/extensions/autoreload.py\", line 394, in superreload\n",
      "    module = reload(module)\n",
      "  File \"/Users/minhnhatle/opt/anaconda3/envs/default/lib/python3.9/imp.py\", line 314, in reload\n",
      "    return importlib.reload(module)\n",
      "  File \"/Users/minhnhatle/opt/anaconda3/envs/default/lib/python3.9/importlib/__init__.py\", line 169, in reload\n",
      "    _bootstrap._exec(spec, module)\n",
      "  File \"<frozen importlib._bootstrap>\", line 613, in _exec\n",
      "  File \"<frozen importlib._bootstrap_external>\", line 851, in exec_module\n",
      "  File \"<frozen importlib._bootstrap_external>\", line 988, in get_code\n",
      "  File \"<frozen importlib._bootstrap_external>\", line 918, in source_to_code\n",
      "  File \"<frozen importlib._bootstrap>\", line 228, in _call_with_frames_removed\n",
      "  File \"/Users/minhnhatle/Dropbox (MIT)/Sur/MatchingSimulations/src/utils.py\", line 558\n",
      "    \n",
      "    ^\n",
      "IndentationError: expected an indented block\n",
      "]\n"
     ]
    },
    {
     "data": {
      "text/plain": [
       "array([0.55555556, 0.73015873, 0.85714286, 0.86507937, 0.92857143,\n",
       "       0.98412698, 0.95238095, 0.93650794, 1.        , 0.95238095,\n",
       "       0.98412698, 0.95238095, 0.96825397, 0.93650794, 0.96825397])"
      ]
     },
     "execution_count": 22,
     "metadata": {},
     "output_type": "execute_result"
    }
   ],
   "source": [
    "mean_singlez"
   ]
  },
  {
   "cell_type": "code",
   "execution_count": null,
   "metadata": {},
   "outputs": [],
   "source": []
  }
 ],
 "metadata": {
  "kernelspec": {
   "display_name": "Default",
   "language": "python",
   "name": "default"
  },
  "language_info": {
   "codemirror_mode": {
    "name": "ipython",
    "version": 3
   },
   "file_extension": ".py",
   "mimetype": "text/x-python",
   "name": "python",
   "nbconvert_exporter": "python",
   "pygments_lexer": "ipython3",
   "version": "3.9.5"
  }
 },
 "nbformat": 4,
 "nbformat_minor": 4
}
