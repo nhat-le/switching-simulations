{
 "cells": [
  {
   "cell_type": "code",
   "execution_count": 32,
   "metadata": {},
   "outputs": [],
   "source": [
    "import numpy as np\n",
    "import matplotlib.pyplot as plt\n",
    "\n",
    "%matplotlib inline"
   ]
  },
  {
   "cell_type": "code",
   "execution_count": 123,
   "metadata": {},
   "outputs": [],
   "source": [
    "# A world object\n",
    "class RandomWorld():\n",
    "    def __init__(self, rates, ntrials):\n",
    "        '''\n",
    "        rates: a list, rates of the world\n",
    "        ntrials: a list, number of trials in each block\n",
    "        '''\n",
    "        self.rates = rates\n",
    "        self.ntrials = ntrials\n",
    "        self.curr_block = 0\n",
    "        self.history = []\n",
    "        self.rate_history = []\n",
    "        self.curr_rate = self.rates[0]\n",
    "        self.curr_side = np.random.rand() < self.curr_rate\n",
    "        #print('curr side=  ', int(self.curr_side))\n",
    "        \n",
    "    def update(self, agent_choice):\n",
    "        '''\n",
    "        Update the world based on agent choice\n",
    "        '''\n",
    "        self.history.append(self.curr_side)\n",
    "        self.rate_history.append(self.curr_rate)\n",
    "        \n",
    "        if agent_choice == self.curr_side:\n",
    "            reward = 1\n",
    "            # See if we should switch blocks\n",
    "            # TODO: update this block\n",
    "            self.curr_rate = self.curr_rate \n",
    "            \n",
    "            # Sample the next side\n",
    "            self.curr_side = np.random.rand() < self.curr_rate\n",
    "        \n",
    "        else:\n",
    "            # Incorrect, keep the same side\n",
    "            reward = 0\n",
    "                    \n",
    "        return reward\n",
    "            \n",
    "    \n",
    "\n",
    "# An agent object\n",
    "class MatchingAgent():\n",
    "    '''\n",
    "    Simulate an agent that matches perfectly (perfect integration of past rewards)\n",
    "    '''\n",
    "    def __init__(self):\n",
    "        self.Rewards1side = 1 # Start with 1 so that the agent does not get 'stuck'\n",
    "        self.Rewards0side = 1\n",
    "        self.choice_history = []\n",
    "        self.Rewards1side_history = []\n",
    "        self.Rewards0side_history = []\n",
    "        \n",
    "    def outcome_received(self, outcome):\n",
    "        if outcome == 1:\n",
    "            if self.choice_history[-1] == 1:\n",
    "                self.Rewards1side += 1\n",
    "            else:\n",
    "                self.Rewards0side += 1\n",
    "                \n",
    "        self.Rewards1side_history.append(self.Rewards1side)\n",
    "        self.Rewards0side_history.append(self.Rewards0side)\n",
    "            \n",
    "        \n",
    "    \n",
    "    def make_choice(self):\n",
    "        '''\n",
    "        Make a choice, probabilistically sample from past reward ratios\n",
    "        '''\n",
    "        \n",
    "        p = self.Rewards1side / (self.Rewards1side + self.Rewards0side)\n",
    "        choice = np.random.rand() < p\n",
    "        self.choice_history.append(choice)\n",
    "        return choice\n",
    "        \n",
    "    \n",
    "class Experiment():\n",
    "    '''\n",
    "    An experiment consists of an agent in a world\n",
    "    '''\n",
    "    def __init__(self, agent, world):\n",
    "        self.agent = agent\n",
    "        self.world = world\n",
    "    \n",
    "    "
   ]
  },
  {
   "cell_type": "code",
   "execution_count": 76,
   "metadata": {
    "scrolled": false
   },
   "outputs": [],
   "source": [
    "# Say we pick the choice randomly with prob 0.2\n",
    "choices = []\n",
    "rewards = []\n",
    "for i in range(1000):\n",
    "    choice = np.random.rand() < 0.7\n",
    "    #print('choice = ', int(choice))\n",
    "    choices.append(choice)\n",
    "    reward = world.update(choice)\n",
    "    rewards.append(reward)"
   ]
  },
  {
   "cell_type": "code",
   "execution_count": 86,
   "metadata": {},
   "outputs": [],
   "source": [
    "def simulate_p_strategy(ntrials, pworld, pagent):\n",
    "    world = RandomWorld([pworld], [10])\n",
    "    # Say we pick the choice randomly with prob 0.2\n",
    "    choices = []\n",
    "    rewards = []\n",
    "    for i in range(ntrials):\n",
    "        choice = np.random.rand() < pagent\n",
    "        #print('choice = ', int(choice))\n",
    "        choices.append(choice)\n",
    "        reward = world.update(choice)\n",
    "        rewards.append(reward)\n",
    "        \n",
    "    efficiency = np.sum(rewards) / ntrials\n",
    "    return efficiency\n",
    "    \n",
    "        \n",
    "        "
   ]
  },
  {
   "cell_type": "code",
   "execution_count": 77,
   "metadata": {},
   "outputs": [
    {
     "data": {
      "text/plain": [
       "[<matplotlib.lines.Line2D at 0x7fb7ef76ed50>]"
      ]
     },
     "execution_count": 77,
     "metadata": {},
     "output_type": "execute_result"
    },
    {
     "data": {
      "image/png": "[encoded data removed]",
      "text/plain": [
       "<Figure size 432x288 with 1 Axes>"
      ]
     },
     "metadata": {
      "needs_background": "light"
     },
     "output_type": "display_data"
    }
   ],
   "source": [
    "plt.plot(choices)\n",
    "plt.plot(rewards)"
   ]
  },
  {
   "cell_type": "code",
   "execution_count": 98,
   "metadata": {},
   "outputs": [],
   "source": [
    "# Let's plot the dependence on the p-strategy\n",
    "N = 20\n",
    "plst = np.linspace(0, 1, N)\n",
    "results = np.zeros((N, N))\n",
    "for idworld, pworld in enumerate(plst):\n",
    "    for idagent, pagent in enumerate(plst):\n",
    "        efficiency = simulate_p_strategy(1000, pworld=pworld, pagent=pagent)\n",
    "        results[idworld][idagent] = efficiency\n",
    "    "
   ]
  },
  {
   "cell_type": "code",
   "execution_count": 99,
   "metadata": {},
   "outputs": [
    {
     "data": {
      "text/plain": [
       "<matplotlib.image.AxesImage at 0x7fb7f18d63d0>"
      ]
     },
     "execution_count": 99,
     "metadata": {},
     "output_type": "execute_result"
    },
    {
     "data": {
      "image/png": "[encoded data removed]",
      "text/plain": [
       "<Figure size 432x288 with 1 Axes>"
      ]
     },
     "metadata": {
      "needs_background": "light"
     },
     "output_type": "display_data"
    }
   ],
   "source": [
    "plt.imshow(results)"
   ]
  },
  {
   "cell_type": "code",
   "execution_count": 90,
   "metadata": {},
   "outputs": [
    {
     "data": {
      "text/plain": [
       "[<matplotlib.lines.Line2D at 0x7fb7f15b3c10>]"
      ]
     },
     "execution_count": 90,
     "metadata": {},
     "output_type": "execute_result"
    },
    {
     "data": {
      "image/png": "[encoded data removed]",
      "text/plain": [
       "<Figure size 432x288 with 1 Axes>"
      ]
     },
     "metadata": {
      "needs_background": "light"
     },
     "output_type": "display_data"
    }
   ],
   "source": [
    "plt.plot(plst, results)"
   ]
  },
  {
   "cell_type": "code",
   "execution_count": 107,
   "metadata": {},
   "outputs": [],
   "source": [
    "agent = MatchingAgent(world)"
   ]
  },
  {
   "cell_type": "code",
   "execution_count": 108,
   "metadata": {},
   "outputs": [
    {
     "data": {
      "text/plain": [
       "True"
      ]
     },
     "execution_count": 108,
     "metadata": {},
     "output_type": "execute_result"
    }
   ],
   "source": [
    "agent.make_choice()"
   ]
  },
  {
   "cell_type": "code",
   "execution_count": 109,
   "metadata": {},
   "outputs": [
    {
     "data": {
      "text/plain": [
       "[True]"
      ]
     },
     "execution_count": 109,
     "metadata": {},
     "output_type": "execute_result"
    }
   ],
   "source": [
    "agent.choice_history"
   ]
  },
  {
   "cell_type": "code",
   "execution_count": 128,
   "metadata": {},
   "outputs": [],
   "source": [
    "# Let's simulate the matching agent now\n",
    "world = RandomWorld([0.8], [10])\n",
    "agent = MatchingAgent()\n",
    "\n",
    "choices = []\n",
    "rewards = []\n",
    "for i in range(1000):\n",
    "    choice = agent.make_choice()\n",
    "    #print('choice = ', int(choice))\n",
    "    choices.append(choice)\n",
    "    reward = world.update(choice)\n",
    "    #print('reward = ', int(reward))\n",
    "    agent.outcome_received(reward)\n",
    "    rewards.append(reward)"
   ]
  },
  {
   "cell_type": "code",
   "execution_count": 129,
   "metadata": {},
   "outputs": [
    {
     "data": {
      "text/plain": [
       "[<matplotlib.lines.Line2D at 0x7fb7f1ee1750>]"
      ]
     },
     "execution_count": 129,
     "metadata": {},
     "output_type": "execute_result"
    },
    {
     "data": {
      "image/png": "[encoded data removed]",
      "text/plain": [
       "<Figure size 432x288 with 1 Axes>"
      ]
     },
     "metadata": {
      "needs_background": "light"
     },
     "output_type": "display_data"
    }
   ],
   "source": [
    "plt.plot(rewards)"
   ]
  },
  {
   "cell_type": "code",
   "execution_count": 130,
   "metadata": {},
   "outputs": [
    {
     "data": {
      "text/plain": [
       "811"
      ]
     },
     "execution_count": 130,
     "metadata": {},
     "output_type": "execute_result"
    }
   ],
   "source": [
    "np.sum(agent.choice_history)"
   ]
  },
  {
   "cell_type": "code",
   "execution_count": null,
   "metadata": {},
   "outputs": [],
   "source": []
  }
 ],
 "metadata": {
  "kernelspec": {
   "display_name": "Python 3",
   "language": "python",
   "name": "python3"
  },
  "language_info": {
   "codemirror_mode": {
    "name": "ipython",
    "version": 3
   },
   "file_extension": ".py",
   "mimetype": "text/x-python",
   "name": "python",
   "nbconvert_exporter": "python",
   "pygments_lexer": "ipython3",
   "version": "3.7.6"
  }
 },
 "nbformat": 4,
 "nbformat_minor": 4
}
