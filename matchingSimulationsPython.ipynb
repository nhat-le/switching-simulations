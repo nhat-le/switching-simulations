{
 "cells": [
  {
   "cell_type": "code",
   "execution_count": 5,
   "metadata": {},
   "outputs": [],
   "source": [
    "import numpy as np\n",
    "import matplotlib.pyplot as plt\n",
    "from worldModels import *\n",
    "\n",
    "%matplotlib inline\n",
    "%reload_ext autoreload\n",
    "%autoreload 2"
   ]
  },
  {
   "cell_type": "code",
   "execution_count": 6,
   "metadata": {},
   "outputs": [],
   "source": [
    "world = PersistentWorld(rates=np.array([[1, 0], [0, 1]]), ntrials=[30, 40])\n",
    "agent = ConstantProbAgent(0.5)\n",
    "\n",
    "exp = Experiment(agent, world)\n",
    "choices, rewards = exp.run()\n",
    "# choices = []\n",
    "# rewards = []\n",
    "\n",
    "# choice = agent.make_choice()\n",
    "# #print('choice = ', int(choice))\n",
    "# #choices.append(choice)\n",
    "# reward = world.update(choice)\n",
    "# #print('reward = ', int(reward))\n",
    "# #agent.outcome_received(reward)\n",
    "# #rewards.append(reward)"
   ]
  },
  {
   "cell_type": "code",
   "execution_count": 7,
   "metadata": {},
   "outputs": [
    {
     "data": {
      "text/plain": [
       "[<matplotlib.lines.Line2D at 0x7fc05b493810>]"
      ]
     },
     "execution_count": 7,
     "metadata": {},
     "output_type": "execute_result"
    },
    {
     "data": {
      "image/png": "[encoded data removed]",
      "text/plain": [
       "<Figure size 432x288 with 1 Axes>"
      ]
     },
     "metadata": {
      "needs_background": "light"
     },
     "output_type": "display_data"
    }
   ],
   "source": [
    "plt.plot(rewards, '.')"
   ]
  },
  {
   "cell_type": "code",
   "execution_count": 8,
   "metadata": {},
   "outputs": [],
   "source": [
    "def simulate_p_strategy(ntrials, pworld, pagent):\n",
    "    world = RandomWorld([pworld], [10000])\n",
    "    # Say we pick the choice randomly with prob 0.2\n",
    "    choices = []\n",
    "    rewards = []\n",
    "    for i in range(ntrials):\n",
    "        choice = np.random.rand() < pagent\n",
    "        #print('choice = ', int(choice))\n",
    "        choices.append(choice)\n",
    "        reward = world.update(choice)\n",
    "        rewards.append(reward)\n",
    "        \n",
    "    efficiency = np.sum(rewards) / ntrials\n",
    "    return efficiency\n",
    "    \n",
    "        \n",
    "        "
   ]
  },
  {
   "cell_type": "code",
   "execution_count": 9,
   "metadata": {},
   "outputs": [],
   "source": [
    "# Let's plot the dependence on the p-strategy\n",
    "N = 20\n",
    "plst = np.linspace(0, 1, N)\n",
    "results = np.zeros((N, N))\n",
    "for idworld, pworld in enumerate(plst):\n",
    "    for idagent, pagent in enumerate(plst):\n",
    "        efficiency = simulate_p_strategy(1000, pworld=pworld, pagent=pagent)\n",
    "        results[idworld][idagent] = efficiency\n",
    "    "
   ]
  },
  {
   "cell_type": "code",
   "execution_count": 10,
   "metadata": {},
   "outputs": [],
   "source": [
    "def simulate_local_agent(tau):\n",
    "    nblocks = 10\n",
    "    raw_rates = np.random.rand(nblocks)\n",
    "    rates = np.vstack((1-raw_rates, raw_rates)).T\n",
    "    ntrials = np.random.uniform(low=5, high=10, size=nblocks).astype('int')\n",
    "    \n",
    "#     world = RandomWorld(rates=rates, ntrials=ntrials)\n",
    "    world = PersistentWorld(rates=rates, ntrials=ntrials)\n",
    "    agent = LocalMatchingAgent(tau)\n",
    "#     agent = PiecewiseConstantProbAgent(rates=rates, ntrials=ntrials)\n",
    "#     agent = ConstantProbAgent(0.5)\n",
    "    # agent = MatchingAgent()\n",
    "    exp = Experiment(agent, world)\n",
    "    exp.run()  \n",
    "    return agent.find_efficiency()\n",
    "\n",
    "\n",
    "def simulate_piecewise_agent(tau):\n",
    "    nblocks = 6\n",
    "    raw_rates = np.random.rand(nblocks)\n",
    "    rates = np.vstack((1-raw_rates, raw_rates)).T\n",
    "    ntrials = np.random.uniform(low=100, high=200, size=nblocks).astype('int')\n",
    "    \n",
    "#     world = RandomWorld(rates=rates, ntrials=ntrials)\n",
    "    world = PersistentWorld(rates=rates, ntrials=ntrials)\n",
    "    agent = PiecewiseConstantProbAgent(rates=raw_rates, ntrials=ntrials)\n",
    "    exp = Experiment(agent, world)\n",
    "    exp.run()  \n",
    "    return agent.find_efficiency()"
   ]
  },
  {
   "cell_type": "code",
   "execution_count": 11,
   "metadata": {},
   "outputs": [],
   "source": [
    "taulst = np.arange(1, 10)\n",
    "N = 100\n",
    "results = np.zeros((len(taulst), N))\n",
    "for idx, tau in enumerate(taulst):\n",
    "    for iter in range(N):\n",
    "        prob = simulate_local_agent(tau)\n",
    "        results[idx, iter] = prob\n",
    "    "
   ]
  },
  {
   "cell_type": "code",
   "execution_count": 12,
   "metadata": {},
   "outputs": [
    {
     "data": {
      "text/plain": [
       "[<matplotlib.lines.Line2D at 0x7fc05bb08890>]"
      ]
     },
     "execution_count": 12,
     "metadata": {},
     "output_type": "execute_result"
    },
    {
     "data": {
      "image/png": "[encoded data removed]",
      "text/plain": [
       "<Figure size 432x288 with 1 Axes>"
      ]
     },
     "metadata": {
      "needs_background": "light"
     },
     "output_type": "display_data"
    }
   ],
   "source": [
    "plt.errorbar(taulst, np.mean(results, axis=1), np.std(results, axis=1) / np.sqrt(N))\n",
    "plt.plot(taulst, np.mean(results, axis=1), '.')"
   ]
  },
  {
   "cell_type": "code",
   "execution_count": 14,
   "metadata": {},
   "outputs": [],
   "source": [
    "nblocks = 2\n",
    "raw_rates = np.array([1, 0]) #np.random.rand(nblocks)\n",
    "rates = np.vstack((1-raw_rates, raw_rates)).T\n",
    "ntrials = [20, 90] #np.random.uniform(low=100, high=200, size=nblocks).astype('int')\n",
    "\n",
    "#     world = RandomWorld(rates=rates, ntrials=ntrials)\n",
    "world = PersistentWorld(rates=rates, ntrials=ntrials)\n",
    "agent = LocalMatchingAgent(30)\n",
    "exp = Experiment(agent, world)\n",
    "choices, rewards = exp.run()  \n",
    "\n",
    "\n",
    "\n",
    "\n"
   ]
  },
  {
   "cell_type": "code",
   "execution_count": 15,
   "metadata": {},
   "outputs": [
    {
     "data": {
      "text/plain": [
       "[<matplotlib.lines.Line2D at 0x7fc05bd22c10>]"
      ]
     },
     "execution_count": 15,
     "metadata": {},
     "output_type": "execute_result"
    },
    {
     "data": {
      "image/png": "[encoded data removed]",
      "text/plain": [
       "<Figure size 432x288 with 1 Axes>"
      ]
     },
     "metadata": {
      "needs_background": "light"
     },
     "output_type": "display_data"
    }
   ],
   "source": [
    "plt.plot(agent.Rewards0side_history[0:])\n",
    "plt.plot(agent.Rewards1side_history[0:])"
   ]
  },
  {
   "cell_type": "code",
   "execution_count": 16,
   "metadata": {},
   "outputs": [
    {
     "data": {
      "text/plain": [
       "[<matplotlib.lines.Line2D at 0x7fc05be3e310>]"
      ]
     },
     "execution_count": 16,
     "metadata": {},
     "output_type": "execute_result"
    },
    {
     "data": {
      "image/png": "[encoded data removed]",
      "text/plain": [
       "<Figure size 432x288 with 1 Axes>"
      ]
     },
     "metadata": {
      "needs_background": "light"
     },
     "output_type": "display_data"
    }
   ],
   "source": [
    "p1 = np.array(agent.Rewards1side_history)\n",
    "p2 = np.array(agent.Rewards0side_history)\n",
    "plt.plot(p1 / (p1 + p2))\n"
   ]
  },
  {
   "cell_type": "code",
   "execution_count": 17,
   "metadata": {},
   "outputs": [
    {
     "data": {
      "text/plain": [
       "[<matplotlib.lines.Line2D at 0x7fc05c075b90>]"
      ]
     },
     "execution_count": 17,
     "metadata": {},
     "output_type": "execute_result"
    },
    {
     "data": {
      "image/png": "[encoded data removed]",
      "text/plain": [
       "<Figure size 432x288 with 1 Axes>"
      ]
     },
     "metadata": {
      "needs_background": "light"
     },
     "output_type": "display_data"
    }
   ],
   "source": [
    "plt.plot(choices, '.')"
   ]
  },
  {
   "cell_type": "code",
   "execution_count": 18,
   "metadata": {},
   "outputs": [],
   "source": [
    "world = RandomWorld(rates=[0.8, 0.2, 0.8, 0.2], ntrials=[100, 100, 100, 100])\n",
    "agent = LocalMatchingAgent(0.98)\n",
    "# agent = ConstantProbAgent(0.2)\n",
    "# agent = MatchingAgent()\n",
    "exp = Experiment(agent, world)\n",
    "choices, rewards = exp.run()  "
   ]
  },
  {
   "cell_type": "code",
   "execution_count": 19,
   "metadata": {},
   "outputs": [
    {
     "data": {
      "text/plain": [
       "0.010025062656641603"
      ]
     },
     "execution_count": 19,
     "metadata": {},
     "output_type": "execute_result"
    }
   ],
   "source": [
    "agent.find_efficiency()"
   ]
  },
  {
   "cell_type": "code",
   "execution_count": 20,
   "metadata": {},
   "outputs": [
    {
     "data": {
      "text/plain": [
       "Text(0.5, 1.0, 'Rewards')"
      ]
     },
     "execution_count": 20,
     "metadata": {},
     "output_type": "execute_result"
    },
    {
     "data": {
      "image/png": "[encoded data removed]",
      "text/plain": [
       "<Figure size 1080x720 with 2 Axes>"
      ]
     },
     "metadata": {
      "needs_background": "light"
     },
     "output_type": "display_data"
    }
   ],
   "source": [
    "plt.figure(figsize=(15, 10))\n",
    "plt.subplot(211)\n",
    "plt.plot(choices, '.')\n",
    "plt.title('Choices')\n",
    "\n",
    "plt.subplot(212)\n",
    "plt.plot(rewards, '.')\n",
    "plt.title('Rewards')"
   ]
  },
  {
   "cell_type": "code",
   "execution_count": 21,
   "metadata": {},
   "outputs": [
    {
     "data": {
      "text/plain": [
       "[<matplotlib.lines.Line2D at 0x7fc05c720a50>]"
      ]
     },
     "execution_count": 21,
     "metadata": {},
     "output_type": "execute_result"
    },
    {
     "data": {
      "image/png": "[encoded data removed]",
      "text/plain": [
       "<Figure size 432x288 with 1 Axes>"
      ]
     },
     "metadata": {
      "needs_background": "light"
     },
     "output_type": "display_data"
    }
   ],
   "source": [
    "phist = np.array(agent.Rewards1side_history) / (np.array(agent.Rewards0side_history) + np.array(agent.Rewards1side_history))\n",
    "plt.figure()\n",
    "plt.plot(phist)"
   ]
  },
  {
   "cell_type": "code",
   "execution_count": 23,
   "metadata": {},
   "outputs": [
    {
     "data": {
      "text/plain": [
       "[<matplotlib.lines.Line2D at 0x7fc05c876d90>]"
      ]
     },
     "execution_count": 23,
     "metadata": {},
     "output_type": "execute_result"
    },
    {
     "data": {
      "image/png": "[encoded data removed]",
      "text/plain": [
       "<Figure size 432x288 with 1 Axes>"
      ]
     },
     "metadata": {
      "needs_background": "light"
     },
     "output_type": "display_data"
    }
   ],
   "source": [
    "plt.plot(agent.Rewards0side_history)"
   ]
  },
  {
   "cell_type": "code",
   "execution_count": 24,
   "metadata": {},
   "outputs": [
    {
     "data": {
      "text/plain": [
       "[<matplotlib.lines.Line2D at 0x7fc05c9337d0>]"
      ]
     },
     "execution_count": 24,
     "metadata": {},
     "output_type": "execute_result"
    },
    {
     "data": {
      "image/png": "[encoded data removed]",
      "text/plain": [
       "<Figure size 432x288 with 1 Axes>"
      ]
     },
     "metadata": {
      "needs_background": "light"
     },
     "output_type": "display_data"
    }
   ],
   "source": [
    "plt.plot(agent.Rewards0side_history[200:400], '.')\n",
    "plt.plot(agent.Rewards1side_history[200:400], '.')"
   ]
  },
  {
   "cell_type": "code",
   "execution_count": 25,
   "metadata": {},
   "outputs": [],
   "source": [
    "nblocks = 20\n",
    "rates = np.random.rand(nblocks)\n",
    "ntrials = np.random.uniform(low=100, high=200, size=nblocks).astype('int')\n",
    "\n",
    "world = RandomWorld(rates=[0.99, 0.01], ntrials=[134, 150])\n",
    "agent = PiecewiseConstantProbAgent(rates=[0.99, 0.01], ntrials=[134, 150])\n",
    "exp = Experiment(agent, world)\n",
    "choices, rewards = exp.run()  "
   ]
  },
  {
   "cell_type": "code",
   "execution_count": 26,
   "metadata": {},
   "outputs": [
    {
     "name": "stdout",
     "output_type": "stream",
     "text": [
      "0.6303664921465969\n"
     ]
    }
   ],
   "source": [
    "nblocks = 20\n",
    "ratesRaw = np.random.rand(nblocks)\n",
    "rates = np.vstack((ratesRaw, 1-ratesRaw)).T\n",
    "ntrials = np.random.uniform(low=100, high=200, size=nblocks).astype('int')\n",
    "\n",
    "world = PersistentWorld(rates=rates, ntrials=ntrials)\n",
    "#     agent = LocalMatchingAgent(tau)\n",
    "#     agent = PiecewiseConstantProbAgent(rates=rates, ntrials=ntrials)\n",
    "agent = LocalMatchingAgent(60)\n",
    "\n",
    "exp = Experiment(agent, world)\n",
    "choices, rewards = exp.run()  \n",
    "print(agent.find_efficiency())"
   ]
  },
  {
   "cell_type": "code",
   "execution_count": null,
   "metadata": {},
   "outputs": [],
   "source": [
    "boundaries = np.cumsum(ntrials)\n",
    "boundaries = np.concatenate(([0], boundaries))\n",
    "boundaries"
   ]
  },
  {
   "cell_type": "code",
   "execution_count": 29,
   "metadata": {},
   "outputs": [
    {
     "ename": "NameError",
     "evalue": "name 'boundaries' is not defined",
     "output_type": "error",
     "traceback": [
      "\u001b[0;31m---------------------------------------------------------------------------\u001b[0m",
      "\u001b[0;31mNameError\u001b[0m                                 Traceback (most recent call last)",
      "\u001b[0;32m<ipython-input-29-d8c874c4379d>\u001b[0m in \u001b[0;36m<module>\u001b[0;34m\u001b[0m\n\u001b[1;32m      1\u001b[0m \u001b[0;32mfor\u001b[0m \u001b[0mi\u001b[0m \u001b[0;32min\u001b[0m \u001b[0mrange\u001b[0m\u001b[0;34m(\u001b[0m\u001b[0mlen\u001b[0m\u001b[0;34m(\u001b[0m\u001b[0mrates\u001b[0m\u001b[0;34m)\u001b[0m\u001b[0;34m)\u001b[0m\u001b[0;34m:\u001b[0m\u001b[0;34m\u001b[0m\u001b[0;34m\u001b[0m\u001b[0m\n\u001b[0;32m----> 2\u001b[0;31m     \u001b[0mblockeff\u001b[0m \u001b[0;34m=\u001b[0m \u001b[0msum\u001b[0m\u001b[0;34m(\u001b[0m\u001b[0mrewards\u001b[0m\u001b[0;34m[\u001b[0m\u001b[0mboundaries\u001b[0m\u001b[0;34m[\u001b[0m\u001b[0mi\u001b[0m\u001b[0;34m]\u001b[0m\u001b[0;34m:\u001b[0m\u001b[0mboundaries\u001b[0m\u001b[0;34m[\u001b[0m\u001b[0mi\u001b[0m\u001b[0;34m+\u001b[0m\u001b[0;36m1\u001b[0m\u001b[0;34m]\u001b[0m\u001b[0;34m]\u001b[0m\u001b[0;34m)\u001b[0m \u001b[0;34m/\u001b[0m \u001b[0mntrials\u001b[0m\u001b[0;34m[\u001b[0m\u001b[0mi\u001b[0m\u001b[0;34m]\u001b[0m\u001b[0;34m\u001b[0m\u001b[0;34m\u001b[0m\u001b[0m\n\u001b[0m\u001b[1;32m      3\u001b[0m     \u001b[0mprint\u001b[0m\u001b[0;34m(\u001b[0m\u001b[0mblockeff\u001b[0m\u001b[0;34m)\u001b[0m\u001b[0;34m\u001b[0m\u001b[0;34m\u001b[0m\u001b[0m\n",
      "\u001b[0;31mNameError\u001b[0m: name 'boundaries' is not defined"
     ]
    }
   ],
   "source": [
    "for i in range(len(rates)):\n",
    "    blockeff = sum(rewards[boundaries[i]:boundaries[i+1]]) / ntrials[i]\n",
    "    print(blockeff)"
   ]
  },
  {
   "cell_type": "code",
   "execution_count": null,
   "metadata": {},
   "outputs": [],
   "source": []
  }
 ],
 "metadata": {
  "kernelspec": {
   "display_name": "Python 3",
   "language": "python",
   "name": "python3"
  },
  "language_info": {
   "codemirror_mode": {
    "name": "ipython",
    "version": 3
   },
   "file_extension": ".py",
   "mimetype": "text/x-python",
   "name": "python",
   "nbconvert_exporter": "python",
   "pygments_lexer": "ipython3",
   "version": "3.7.6"
  }
 },
 "nbformat": 4,
 "nbformat_minor": 4
}
