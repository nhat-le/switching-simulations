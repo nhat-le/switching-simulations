{
 "cells": [
  {
   "cell_type": "code",
   "execution_count": 19,
   "metadata": {},
   "outputs": [],
   "source": [
    "import numpy as np\n",
    "import matplotlib.pyplot as plt\n",
    "from worldModels import *\n",
    "\n",
    "%matplotlib inline\n",
    "%reload_ext autoreload\n",
    "%autoreload 2"
   ]
  },
  {
   "cell_type": "code",
   "execution_count": 20,
   "metadata": {},
   "outputs": [],
   "source": [
    "def simulate_p_strategy(ntrials, pworld, pagent):\n",
    "#     world = RandomWorld([pworld], [10000])\n",
    "    world = PersistentWorld(np.array([[1-pworld, pworld]]), [10000])\n",
    "    # Say we pick the choice randomly with prob 0.2\n",
    "    choices = []\n",
    "    rewards = []\n",
    "    for i in range(ntrials):\n",
    "        choice = np.random.rand() < pagent\n",
    "        #print('choice = ', int(choice))\n",
    "        choices.append(choice)\n",
    "        reward = world.update(choice)\n",
    "        rewards.append(reward)\n",
    "        \n",
    "    efficiency = np.sum(rewards) / ntrials\n",
    "    return efficiency\n",
    "    \n",
    "        \n",
    "        "
   ]
  },
  {
   "cell_type": "code",
   "execution_count": 21,
   "metadata": {},
   "outputs": [],
   "source": [
    "# Let's plot the dependence on the p-strategy\n",
    "N = 20\n",
    "plst = np.linspace(0, 1, N)\n",
    "results = np.zeros((N, N))\n",
    "for idworld, pworld in enumerate(plst):\n",
    "    for idagent, pagent in enumerate(plst):\n",
    "        efficiency = simulate_p_strategy(1000, pworld=pworld, pagent=pagent)\n",
    "        results[idworld][idagent] = efficiency\n",
    "    "
   ]
  },
  {
   "cell_type": "code",
   "execution_count": 22,
   "metadata": {},
   "outputs": [
    {
     "data": {
      "text/plain": [
       "<matplotlib.image.AxesImage at 0x7fd7f43656d0>"
      ]
     },
     "execution_count": 22,
     "metadata": {},
     "output_type": "execute_result"
    },
    {
     "data": {
      "image/png": "[encoded data removed]",
      "text/plain": [
       "<Figure size 432x288 with 1 Axes>"
      ]
     },
     "metadata": {
      "needs_background": "light"
     },
     "output_type": "display_data"
    }
   ],
   "source": [
    "plt.imshow(results)"
   ]
  },
  {
   "cell_type": "code",
   "execution_count": 26,
   "metadata": {},
   "outputs": [],
   "source": [
    "def simulate_agent(type, tau=0):\n",
    "    nblocks = 200\n",
    "    raw_rates = np.random.rand(nblocks)\n",
    "    rates = np.vstack((1-raw_rates, raw_rates)).T\n",
    "    ntrials = np.random.uniform(low=100, high=200, size=nblocks).astype('int')\n",
    "    \n",
    "#     world = RandomWorld(rates=rates, ntrials=ntrials)\n",
    "    world = PersistentWorld(rates=rates, ntrials=ntrials)\n",
    "    \n",
    "    if type == 'LocalMatching':\n",
    "        agent = LocalMatchingAgent(tau, eps=0.05)\n",
    "    elif type == 'ConstantProb':\n",
    "        agent = ConstantProbAgent(0.5)\n",
    "    elif type == 'PiecewiseConstantProb':\n",
    "        agent = PiecewiseConstantProbAgent(rates=raw_rates, ntrials=ntrials)\n",
    "    elif type == 'Matching':\n",
    "        agent = MatchingAgent(eps=0.05)\n",
    "\n",
    "    exp = Experiment(agent, world)\n",
    "    exp.run()  \n",
    "    return agent.find_efficiency()\n"
   ]
  },
  {
   "cell_type": "code",
   "execution_count": 27,
   "metadata": {},
   "outputs": [
    {
     "name": "stdout",
     "output_type": "stream",
     "text": [
      "mean =  0.6125194503545407 std =  0.004792981381372984\n"
     ]
    },
    {
     "data": {
      "image/png": "[encoded data removed]",
      "text/plain": [
       "<Figure size 432x288 with 1 Axes>"
      ]
     },
     "metadata": {
      "needs_background": "light"
     },
     "output_type": "display_data"
    }
   ],
   "source": [
    "# Simulate a random agent for baseline performance\n",
    "N = 10\n",
    "results_random = []\n",
    "for iter in range(N):\n",
    "    prob = simulate_agent('ConstantProb', tau=1)\n",
    "    results_random.append(prob)\n",
    "        \n",
    "plt.plot(np.random.rand(len(results_random)), results_random, '.')\n",
    "plt.title('constant prob')\n",
    "plt.ylabel('efficiency')\n",
    "print('mean = ', np.mean(results_random), 'std = ', np.std(results_random))"
   ]
  },
  {
   "cell_type": "code",
   "execution_count": 28,
   "metadata": {},
   "outputs": [
    {
     "name": "stdout",
     "output_type": "stream",
     "text": [
      "mean =  0.7720761567882988 std =  0.007618233119075078\n"
     ]
    },
    {
     "data": {
      "image/png": "[encoded data removed]",
      "text/plain": [
       "<Figure size 432x288 with 1 Axes>"
      ]
     },
     "metadata": {
      "needs_background": "light"
     },
     "output_type": "display_data"
    }
   ],
   "source": [
    "# Simulate a clairvoyant agent for baseline performance\n",
    "N = 10\n",
    "results_clairvoyant = []\n",
    "for iter in range(N):\n",
    "    prob = simulate_agent('PiecewiseConstantProb', tau=1)\n",
    "    results_clairvoyant.append(prob)\n",
    "        \n",
    "plt.plot(np.random.rand(len(results_clairvoyant)), results_clairvoyant, '.')\n",
    "plt.title('clairvoyant agent')\n",
    "plt.ylabel('efficiency')\n",
    "\n",
    "print('mean = ', np.mean(results_clairvoyant), 'std = ', np.std(results_clairvoyant))"
   ]
  },
  {
   "cell_type": "code",
   "execution_count": 29,
   "metadata": {},
   "outputs": [
    {
     "name": "stdout",
     "output_type": "stream",
     "text": [
      "0\n",
      "1\n",
      "2\n",
      "3\n",
      "4\n",
      "5\n",
      "6\n",
      "7\n",
      "8\n",
      "9\n",
      "10\n",
      "11\n",
      "12\n",
      "13\n"
     ]
    }
   ],
   "source": [
    "# Test the Local Matching agent with various values of tau\n",
    "taulst = np.arange(1, 15)\n",
    "N = 10\n",
    "results = np.zeros((len(taulst), N))\n",
    "for idx, tau in enumerate(taulst):\n",
    "    print(idx)\n",
    "    for iter in range(N):\n",
    "        prob = simulate_agent('LocalMatching', tau=tau)\n",
    "        results[idx, iter] = prob\n",
    "    "
   ]
  },
  {
   "cell_type": "code",
   "execution_count": 30,
   "metadata": {},
   "outputs": [
    {
     "data": {
      "text/plain": [
       "<matplotlib.collections.LineCollection at 0x7fd7f3cfad90>"
      ]
     },
     "execution_count": 30,
     "metadata": {},
     "output_type": "execute_result"
    },
    {
     "data": {
      "image/png": "[encoded data removed]",
      "text/plain": [
       "<Figure size 432x288 with 1 Axes>"
      ]
     },
     "metadata": {
      "needs_background": "light"
     },
     "output_type": "display_data"
    }
   ],
   "source": [
    "# Plot the results!\n",
    "plt.errorbar(taulst, np.mean(results, axis=1), np.std(results, axis=1) / np.sqrt(N))\n",
    "plt.plot(taulst, np.mean(results, axis=1), '.')\n",
    "plt.ylabel('efficiency')\n",
    "plt.xlabel('tau')\n",
    "\n",
    "# Plot baseline performances\n",
    "plt.hlines(np.mean(results_clairvoyant), min(taulst), max(taulst), linestyles='--')\n",
    "plt.hlines(np.mean(results_random), min(taulst), max(taulst), linestyles='--')"
   ]
  },
  {
   "cell_type": "code",
   "execution_count": null,
   "metadata": {},
   "outputs": [],
   "source": []
  }
 ],
 "metadata": {
  "kernelspec": {
   "display_name": "Python 3",
   "language": "python",
   "name": "python3"
  },
  "language_info": {
   "codemirror_mode": {
    "name": "ipython",
    "version": 3
   },
   "file_extension": ".py",
   "mimetype": "text/x-python",
   "name": "python",
   "nbconvert_exporter": "python",
   "pygments_lexer": "ipython3",
   "version": "3.7.6"
  }
 },
 "nbformat": 4,
 "nbformat_minor": 4
}
