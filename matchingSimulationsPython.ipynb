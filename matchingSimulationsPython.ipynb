{
 "cells": [
  {
   "cell_type": "code",
   "execution_count": 32,
   "metadata": {},
   "outputs": [],
   "source": [
    "import numpy as np\n",
    "import matplotlib.pyplot as plt\n",
    "\n",
    "%matplotlib inline\n"
   ]
  },
  {
   "cell_type": "code",
   "execution_count": 43,
   "metadata": {},
   "outputs": [],
   "source": [
    "# A world object\n",
    "class RandomWorld():\n",
    "    def __init__(self, rates, ntrials):\n",
    "        '''\n",
    "        rates: a list, rates of the world\n",
    "        ntrials: a list, number of trials in each block\n",
    "        '''\n",
    "        self.rates = rates\n",
    "        self.ntrials = ntrials\n",
    "        self.curr_block = 0\n",
    "        self.history = []\n",
    "        self.rate_history = []\n",
    "        self.curr_rate = self.rates[0]\n",
    "        self.curr_side = np.random.rand() < self.curr_rate\n",
    "        #print('curr side=  ', int(self.curr_side))\n",
    "        \n",
    "    def update(self, agent_choice):\n",
    "        '''\n",
    "        Update the world based on agent choice\n",
    "        '''\n",
    "        self.history.append(self.curr_side)\n",
    "        self.rate_history.append(self.curr_rate)\n",
    "        \n",
    "        if agent_choice == self.curr_side:\n",
    "            # Give a reward and update world!\n",
    "            reward = 1\n",
    "            \n",
    "            # See if we should switch blocks\n",
    "            # TODO: update this block\n",
    "            self.curr_rate = self.curr_rate \n",
    "            \n",
    "            # Sample the next side\n",
    "            self.curr_side = np.random.rand() < self.curr_rate\n",
    "        \n",
    "        else:\n",
    "            # Incorrect, keep the same side\n",
    "            reward = 0\n",
    "            \n",
    "        #print('Reward = ', reward, 'curr side =', int(self.curr_side))\n",
    "        \n",
    "        return reward\n",
    "            \n",
    "    \n",
    "\n",
    "# An agent object\n",
    "class MatchingAgent():\n",
    "    '''\n",
    "    Simulate an agent that matches perfectly (perfect integration of past rewards)\n",
    "    '''\n",
    "    def __init__(self, world):\n",
    "        self.lRewards = 0\n",
    "        self.rRewards = 0\n",
    "        \n",
    "        \n",
    "    def make_choice(self):\n",
    "        '''\n",
    "        Make a choice, probabilistically sample from past reward ratios\n",
    "        '''\n",
    "        p = self.lRewards / (self.lRewards + self.rRewards)\n",
    "        return np.random.rand() < p\n",
    "        \n",
    "    \n",
    "    \n",
    "    \n",
    "class Experiment():\n",
    "    '''\n",
    "    An experiment consists of an agent in a world\n",
    "    '''\n",
    "    def __init__(self, agent, world):\n",
    "        self.agent = agent\n",
    "        self.world = world\n",
    "    \n",
    "    "
   ]
  },
  {
   "cell_type": "code",
   "execution_count": 44,
   "metadata": {},
   "outputs": [],
   "source": [
    "world = RandomWorld([0.8, 0.2, 0.8, 0.2], [10, 10, 10, 10])"
   ]
  },
  {
   "cell_type": "code",
   "execution_count": 76,
   "metadata": {
    "scrolled": false
   },
   "outputs": [],
   "source": [
    "# Say we pick the choice randomly with prob 0.2\n",
    "choices = []\n",
    "rewards = []\n",
    "for i in range(1000):\n",
    "    choice = np.random.rand() < 0.7\n",
    "    #print('choice = ', int(choice))\n",
    "    choices.append(choice)\n",
    "    reward = world.update(choice)\n",
    "    rewards.append(reward)"
   ]
  },
  {
   "cell_type": "code",
   "execution_count": 86,
   "metadata": {},
   "outputs": [],
   "source": [
    "def simulate_p_strategy(ntrials, pworld, pagent):\n",
    "    world = RandomWorld([pworld], [10])\n",
    "    # Say we pick the choice randomly with prob 0.2\n",
    "    choices = []\n",
    "    rewards = []\n",
    "    for i in range(ntrials):\n",
    "        choice = np.random.rand() < pagent\n",
    "        #print('choice = ', int(choice))\n",
    "        choices.append(choice)\n",
    "        reward = world.update(choice)\n",
    "        rewards.append(reward)\n",
    "        \n",
    "    efficiency = np.sum(rewards) / ntrials\n",
    "    return efficiency\n",
    "    \n",
    "        \n",
    "        "
   ]
  },
  {
   "cell_type": "code",
   "execution_count": 77,
   "metadata": {},
   "outputs": [
    {
     "data": {
      "text/plain": [
       "[<matplotlib.lines.Line2D at 0x7fb7ef76ed50>]"
      ]
     },
     "execution_count": 77,
     "metadata": {},
     "output_type": "execute_result"
    },
    {
     "data": {
      "image/png": "[encoded data removed]",
      "text/plain": [
       "<Figure size 432x288 with 1 Axes>"
      ]
     },
     "metadata": {
      "needs_background": "light"
     },
     "output_type": "display_data"
    }
   ],
   "source": [
    "plt.plot(choices)\n",
    "plt.plot(rewards)"
   ]
  },
  {
   "cell_type": "code",
   "execution_count": 98,
   "metadata": {},
   "outputs": [],
   "source": [
    "# Let's plot the dependence on the p-strategy\n",
    "N = 20\n",
    "plst = np.linspace(0, 1, N)\n",
    "results = np.zeros((N, N))\n",
    "for idworld, pworld in enumerate(plst):\n",
    "    for idagent, pagent in enumerate(plst):\n",
    "        efficiency = simulate_p_strategy(1000, pworld=pworld, pagent=pagent)\n",
    "        results[idworld][idagent] = efficiency\n",
    "    "
   ]
  },
  {
   "cell_type": "code",
   "execution_count": 99,
   "metadata": {},
   "outputs": [
    {
     "data": {
      "text/plain": [
       "<matplotlib.image.AxesImage at 0x7fb7f18d63d0>"
      ]
     },
     "execution_count": 99,
     "metadata": {},
     "output_type": "execute_result"
    },
    {
     "data": {
      "image/png": "[encoded data removed]",
      "text/plain": [
       "<Figure size 432x288 with 1 Axes>"
      ]
     },
     "metadata": {
      "needs_background": "light"
     },
     "output_type": "display_data"
    }
   ],
   "source": [
    "plt.imshow(results)"
   ]
  },
  {
   "cell_type": "code",
   "execution_count": 90,
   "metadata": {},
   "outputs": [
    {
     "data": {
      "text/plain": [
       "[<matplotlib.lines.Line2D at 0x7fb7f15b3c10>]"
      ]
     },
     "execution_count": 90,
     "metadata": {},
     "output_type": "execute_result"
    },
    {
     "data": {
      "image/png": "[encoded data removed]",
      "text/plain": [
       "<Figure size 432x288 with 1 Axes>"
      ]
     },
     "metadata": {
      "needs_background": "light"
     },
     "output_type": "display_data"
    }
   ],
   "source": [
    "plt.plot(plst, results)"
   ]
  },
  {
   "cell_type": "code",
   "execution_count": null,
   "metadata": {},
   "outputs": [],
   "source": []
  }
 ],
 "metadata": {
  "kernelspec": {
   "display_name": "Python 3",
   "language": "python",
   "name": "python3"
  },
  "language_info": {
   "codemirror_mode": {
    "name": "ipython",
    "version": 3
   },
   "file_extension": ".py",
   "mimetype": "text/x-python",
   "name": "python",
   "nbconvert_exporter": "python",
   "pygments_lexer": "ipython3",
   "version": "3.7.6"
  }
 },
 "nbformat": 4,
 "nbformat_minor": 4
}
