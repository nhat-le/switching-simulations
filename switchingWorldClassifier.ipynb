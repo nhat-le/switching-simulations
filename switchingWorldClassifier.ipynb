{
 "cells": [
  {
   "cell_type": "code",
   "execution_count": 1,
   "metadata": {},
   "outputs": [],
   "source": [
    "import numpy as np\n",
    "import matplotlib.pyplot as plt\n",
    "from worldModels import *\n",
    "import scipy.io\n",
    "import os.path\n",
    "from utils import *\n",
    "from run_simulations import *\n",
    "from decoding import *\n",
    "from agents import *\n",
    "from sklearn import svm\n",
    "import pickle\n",
    "\n",
    "\n",
    "\n",
    "%matplotlib inline\n",
    "%reload_ext autoreload\n",
    "%autoreload 2"
   ]
  },
  {
   "cell_type": "markdown",
   "metadata": {},
   "source": [
    "## Repeated simulations of Q-learning and inference-based behavior "
   ]
  },
  {
   "cell_type": "markdown",
   "metadata": {},
   "source": [
    "### Q-learning"
   ]
  },
  {
   "cell_type": "code",
   "execution_count": 72,
   "metadata": {
    "scrolled": true
   },
   "outputs": [
    {
     "name": "stdout",
     "output_type": "stream",
     "text": [
      "0.01 0.01\n"
     ]
    },
    {
     "name": "stderr",
     "output_type": "stream",
     "text": [
      "/Users/minhnhatle/Dropbox (MIT)/Sur/MatchingSimulations/utils.py:156: RuntimeWarning: Mean of empty slice\n",
      "  leftAverage = np.nanmean(choicelst[::2, :], axis=0)\n",
      "/Users/minhnhatle/Dropbox (MIT)/Sur/MatchingSimulations/utils.py:156: RuntimeWarning: Mean of empty slice\n",
      "  leftAverage = np.nanmean(choicelst[::2, :], axis=0)\n"
     ]
    },
    {
     "ename": "KeyboardInterrupt",
     "evalue": "",
     "output_type": "error",
     "traceback": [
      "\u001b[0;31m---------------------------------------------------------------------------\u001b[0m",
      "\u001b[0;31mKeyboardInterrupt\u001b[0m                         Traceback (most recent call last)",
      "\u001b[0;32m<ipython-input-72-62929b2fee2d>\u001b[0m in \u001b[0;36m<module>\u001b[0;34m\u001b[0m\n\u001b[1;32m     13\u001b[0m     \u001b[0;32mfor\u001b[0m \u001b[0mideps\u001b[0m\u001b[0;34m,\u001b[0m \u001b[0meps\u001b[0m \u001b[0;32min\u001b[0m \u001b[0menumerate\u001b[0m\u001b[0;34m(\u001b[0m\u001b[0mepslst\u001b[0m\u001b[0;34m)\u001b[0m\u001b[0;34m:\u001b[0m\u001b[0;34m\u001b[0m\u001b[0;34m\u001b[0m\u001b[0m\n\u001b[1;32m     14\u001b[0m         \u001b[0mprint\u001b[0m\u001b[0;34m(\u001b[0m\u001b[0mgamma\u001b[0m\u001b[0;34m,\u001b[0m \u001b[0meps\u001b[0m\u001b[0;34m)\u001b[0m\u001b[0;34m\u001b[0m\u001b[0;34m\u001b[0m\u001b[0m\n\u001b[0;32m---> 15\u001b[0;31m         \u001b[0mmetrics\u001b[0m \u001b[0;34m=\u001b[0m \u001b[0mget_Qmetrics\u001b[0m\u001b[0;34m(\u001b[0m\u001b[0mgamma\u001b[0m\u001b[0;34m,\u001b[0m \u001b[0meps\u001b[0m\u001b[0;34m)\u001b[0m\u001b[0;34m\u001b[0m\u001b[0;34m\u001b[0m\u001b[0m\n\u001b[0m\u001b[1;32m     16\u001b[0m         \u001b[0mQeff_arr\u001b[0m\u001b[0;34m[\u001b[0m\u001b[0midgamma\u001b[0m\u001b[0;34m,\u001b[0m \u001b[0mideps\u001b[0m\u001b[0;34m,\u001b[0m \u001b[0;34m:\u001b[0m\u001b[0;34m]\u001b[0m \u001b[0;34m=\u001b[0m \u001b[0mmetrics\u001b[0m\u001b[0;34m[\u001b[0m\u001b[0;36m0\u001b[0m\u001b[0;34m]\u001b[0m\u001b[0;34m\u001b[0m\u001b[0;34m\u001b[0m\u001b[0m\n\u001b[1;32m     17\u001b[0m         \u001b[0mQlapse_arr\u001b[0m\u001b[0;34m[\u001b[0m\u001b[0midgamma\u001b[0m\u001b[0;34m,\u001b[0m \u001b[0mideps\u001b[0m\u001b[0;34m,\u001b[0m \u001b[0;34m:\u001b[0m\u001b[0;34m]\u001b[0m \u001b[0;34m=\u001b[0m \u001b[0mmetrics\u001b[0m\u001b[0;34m[\u001b[0m\u001b[0;36m1\u001b[0m\u001b[0;34m]\u001b[0m\u001b[0;34m\u001b[0m\u001b[0;34m\u001b[0m\u001b[0m\n",
      "\u001b[0;32m~/Dropbox (MIT)/Sur/MatchingSimulations/decoding.py\u001b[0m in \u001b[0;36mget_Qmetrics\u001b[0;34m(gamma, eps)\u001b[0m\n\u001b[1;32m     31\u001b[0m     \u001b[0;31m#     print('Starting q-learning simulation')\u001b[0m\u001b[0;34m\u001b[0m\u001b[0;34m\u001b[0m\u001b[0;34m\u001b[0m\u001b[0m\n\u001b[1;32m     32\u001b[0m     \u001b[0mefflistQ\u001b[0m\u001b[0;34m,\u001b[0m \u001b[0mT11lstQ\u001b[0m\u001b[0;34m,\u001b[0m \u001b[0mT22lstQ\u001b[0m\u001b[0;34m,\u001b[0m \u001b[0mE1lstQ\u001b[0m\u001b[0;34m,\u001b[0m \u001b[0mE2lstQ\u001b[0m\u001b[0;34m,\u001b[0m \u001b[0mPRslopelistQ\u001b[0m\u001b[0;34m,\u001b[0m \u001b[0mPLslopelistQ\u001b[0m\u001b[0;34m,\u001b[0m\u001b[0;31m \u001b[0m\u001b[0;31m\\\u001b[0m\u001b[0;34m\u001b[0m\u001b[0;34m\u001b[0m\u001b[0m\n\u001b[0;32m---> 33\u001b[0;31m     \u001b[0mPRoffsetlistQ\u001b[0m\u001b[0;34m,\u001b[0m \u001b[0mPLoffsetlistQ\u001b[0m\u001b[0;34m,\u001b[0m \u001b[0mLapseLQ\u001b[0m\u001b[0;34m,\u001b[0m \u001b[0mLapseRQ\u001b[0m\u001b[0;34m,\u001b[0m \u001b[0mParamsAQ\u001b[0m\u001b[0;34m,\u001b[0m \u001b[0mParamsBQ\u001b[0m\u001b[0;34m,\u001b[0m \u001b[0mParamsCQ\u001b[0m \u001b[0;34m=\u001b[0m \u001b[0mrun_repeated_single_agent\u001b[0m\u001b[0;34m(\u001b[0m\u001b[0mparams\u001b[0m\u001b[0;34m)\u001b[0m\u001b[0;34m\u001b[0m\u001b[0;34m\u001b[0m\u001b[0m\n\u001b[0m\u001b[1;32m     34\u001b[0m \u001b[0;34m\u001b[0m\u001b[0m\n\u001b[1;32m     35\u001b[0m     \u001b[0mQmetrics\u001b[0m \u001b[0;34m=\u001b[0m \u001b[0;34m[\u001b[0m\u001b[0mefflistQ\u001b[0m\u001b[0;34m,\u001b[0m \u001b[0mLapseLQ\u001b[0m\u001b[0;34m,\u001b[0m \u001b[0mPLoffsetlistQ\u001b[0m\u001b[0;34m,\u001b[0m \u001b[0mPLslopelistQ\u001b[0m\u001b[0;34m]\u001b[0m\u001b[0;34m\u001b[0m\u001b[0;34m\u001b[0m\u001b[0m\n",
      "\u001b[0;32m~/Dropbox (MIT)/Sur/MatchingSimulations/run_simulations.py\u001b[0m in \u001b[0;36mrun_repeated_single_agent\u001b[0;34m(params)\u001b[0m\n\u001b[1;32m     39\u001b[0m         \u001b[0magent\u001b[0m\u001b[0;34m,\u001b[0m \u001b[0mworld\u001b[0m\u001b[0;34m,\u001b[0m \u001b[0mpR\u001b[0m\u001b[0;34m,\u001b[0m \u001b[0mpL\u001b[0m\u001b[0;34m,\u001b[0m \u001b[0mhmm\u001b[0m \u001b[0;34m=\u001b[0m \u001b[0mrun_single_agent\u001b[0m\u001b[0;34m(\u001b[0m\u001b[0;36m0\u001b[0m\u001b[0;34m,\u001b[0m \u001b[0;36m0\u001b[0m\u001b[0;34m,\u001b[0m \u001b[0mparams\u001b[0m\u001b[0;34m)\u001b[0m\u001b[0;34m\u001b[0m\u001b[0;34m\u001b[0m\u001b[0m\n\u001b[1;32m     40\u001b[0m \u001b[0;34m\u001b[0m\u001b[0m\n\u001b[0;32m---> 41\u001b[0;31m         \u001b[0mxvals\u001b[0m\u001b[0;34m,\u001b[0m \u001b[0mmeans\u001b[0m\u001b[0;34m,\u001b[0m \u001b[0m_\u001b[0m\u001b[0;34m,\u001b[0m \u001b[0m_\u001b[0m \u001b[0;34m=\u001b[0m \u001b[0msimulate_rew_error_correlations\u001b[0m\u001b[0;34m(\u001b[0m\u001b[0mworld\u001b[0m\u001b[0;34m,\u001b[0m \u001b[0magent\u001b[0m\u001b[0;34m)\u001b[0m\u001b[0;34m\u001b[0m\u001b[0;34m\u001b[0m\u001b[0m\n\u001b[0m\u001b[1;32m     42\u001b[0m         \u001b[0mparamsFit\u001b[0m\u001b[0;34m,\u001b[0m \u001b[0m_\u001b[0m \u001b[0;34m=\u001b[0m \u001b[0mfit_expfun2\u001b[0m\u001b[0;34m(\u001b[0m\u001b[0;34m[\u001b[0m\u001b[0;36m0.5\u001b[0m\u001b[0;34m,\u001b[0m \u001b[0;36m4\u001b[0m\u001b[0;34m,\u001b[0m \u001b[0;36m5\u001b[0m\u001b[0;34m]\u001b[0m\u001b[0;34m,\u001b[0m \u001b[0mxvals\u001b[0m\u001b[0;34m,\u001b[0m \u001b[0mnp\u001b[0m\u001b[0;34m.\u001b[0m\u001b[0marray\u001b[0m\u001b[0;34m(\u001b[0m\u001b[0mmeans\u001b[0m\u001b[0;34m)\u001b[0m\u001b[0;34m)\u001b[0m\u001b[0;34m\u001b[0m\u001b[0;34m\u001b[0m\u001b[0m\n\u001b[1;32m     43\u001b[0m \u001b[0;34m\u001b[0m\u001b[0m\n",
      "\u001b[0;32m~/Dropbox (MIT)/Sur/MatchingSimulations/utils.py\u001b[0m in \u001b[0;36msimulate_rew_error_correlations\u001b[0;34m(world, agent)\u001b[0m\n\u001b[1;32m    396\u001b[0m     \u001b[0mexp\u001b[0m\u001b[0;34m.\u001b[0m\u001b[0mrun\u001b[0m\u001b[0;34m(\u001b[0m\u001b[0;34m)\u001b[0m\u001b[0;34m\u001b[0m\u001b[0;34m\u001b[0m\u001b[0m\n\u001b[1;32m    397\u001b[0m \u001b[0;34m\u001b[0m\u001b[0m\n\u001b[0;32m--> 398\u001b[0;31m     \u001b[0mlst\u001b[0m \u001b[0;34m=\u001b[0m \u001b[0mget_switch_times\u001b[0m\u001b[0;34m(\u001b[0m\u001b[0mworld\u001b[0m\u001b[0;34m,\u001b[0m \u001b[0magent\u001b[0m\u001b[0;34m)\u001b[0m\u001b[0;34m.\u001b[0m\u001b[0mastype\u001b[0m\u001b[0;34m(\u001b[0m\u001b[0;34m'float'\u001b[0m\u001b[0;34m)\u001b[0m\u001b[0;34m\u001b[0m\u001b[0;34m\u001b[0m\u001b[0m\n\u001b[0m\u001b[1;32m    399\u001b[0m     \u001b[0;31m# print(lst)\u001b[0m\u001b[0;34m\u001b[0m\u001b[0;34m\u001b[0m\u001b[0;34m\u001b[0m\u001b[0m\n\u001b[1;32m    400\u001b[0m     \u001b[0mlst\u001b[0m\u001b[0;34m[\u001b[0m\u001b[0mlst\u001b[0m \u001b[0;34m==\u001b[0m \u001b[0;34m-\u001b[0m\u001b[0;36m1\u001b[0m\u001b[0;34m]\u001b[0m \u001b[0;34m=\u001b[0m \u001b[0mnp\u001b[0m\u001b[0;34m.\u001b[0m\u001b[0mnan\u001b[0m\u001b[0;34m\u001b[0m\u001b[0;34m\u001b[0m\u001b[0m\n",
      "\u001b[0;32m~/Dropbox (MIT)/Sur/MatchingSimulations/utils.py\u001b[0m in \u001b[0;36mget_switch_times\u001b[0;34m(world, agent)\u001b[0m\n\u001b[1;32m    253\u001b[0m     \u001b[0mbased\u001b[0m \u001b[0mon\u001b[0m \u001b[0mthe\u001b[0m \u001b[0mHMM\u001b[0m \u001b[0mmodel\u001b[0m \u001b[0mfits\u001b[0m\u001b[0;34m\u001b[0m\u001b[0;34m\u001b[0m\u001b[0m\n\u001b[1;32m    254\u001b[0m     '''\n\u001b[0;32m--> 255\u001b[0;31m     \u001b[0mz_states\u001b[0m \u001b[0;34m=\u001b[0m \u001b[0mget_zstates\u001b[0m\u001b[0;34m(\u001b[0m\u001b[0magent\u001b[0m\u001b[0;34m)\u001b[0m\u001b[0;34m\u001b[0m\u001b[0;34m\u001b[0m\u001b[0m\n\u001b[0m\u001b[1;32m    256\u001b[0m     \u001b[0msplits\u001b[0m \u001b[0;34m=\u001b[0m \u001b[0msplit_by_trials\u001b[0m\u001b[0;34m(\u001b[0m\u001b[0mz_states\u001b[0m\u001b[0;34m,\u001b[0m \u001b[0mworld\u001b[0m\u001b[0;34m.\u001b[0m\u001b[0mntrialblocks\u001b[0m\u001b[0;34m,\u001b[0m \u001b[0mchop\u001b[0m\u001b[0;34m=\u001b[0m\u001b[0;34m'none'\u001b[0m\u001b[0;34m)\u001b[0m\u001b[0;34m\u001b[0m\u001b[0;34m\u001b[0m\u001b[0m\n\u001b[1;32m    257\u001b[0m     \u001b[0;31m# Identify where the switch happens\u001b[0m\u001b[0;34m\u001b[0m\u001b[0;34m\u001b[0m\u001b[0;34m\u001b[0m\u001b[0m\n",
      "\u001b[0;32m~/Dropbox (MIT)/Sur/MatchingSimulations/utils.py\u001b[0m in \u001b[0;36mget_zstates\u001b[0;34m(agent, num_states, obs_dim, N_iters)\u001b[0m\n\u001b[1;32m    240\u001b[0m     \u001b[0;31m## testing the constrained transitions class\u001b[0m\u001b[0;34m\u001b[0m\u001b[0;34m\u001b[0m\u001b[0;34m\u001b[0m\u001b[0m\n\u001b[1;32m    241\u001b[0m     \u001b[0mhmm\u001b[0m \u001b[0;34m=\u001b[0m \u001b[0mssm\u001b[0m\u001b[0;34m.\u001b[0m\u001b[0mHMM\u001b[0m\u001b[0;34m(\u001b[0m\u001b[0mnum_states\u001b[0m\u001b[0;34m,\u001b[0m \u001b[0mobs_dim\u001b[0m\u001b[0;34m,\u001b[0m \u001b[0mobservations\u001b[0m\u001b[0;34m=\u001b[0m\u001b[0;34m\"bernoulli\"\u001b[0m\u001b[0;34m)\u001b[0m\u001b[0;34m\u001b[0m\u001b[0;34m\u001b[0m\u001b[0m\n\u001b[0;32m--> 242\u001b[0;31m     \u001b[0mhmm_lls\u001b[0m \u001b[0;34m=\u001b[0m \u001b[0mhmm\u001b[0m\u001b[0;34m.\u001b[0m\u001b[0mfit\u001b[0m\u001b[0;34m(\u001b[0m\u001b[0mdata\u001b[0m\u001b[0;34m,\u001b[0m \u001b[0mmethod\u001b[0m\u001b[0;34m=\u001b[0m\u001b[0;34m\"em\"\u001b[0m\u001b[0;34m,\u001b[0m \u001b[0mnum_iters\u001b[0m\u001b[0;34m=\u001b[0m\u001b[0mN_iters\u001b[0m\u001b[0;34m,\u001b[0m \u001b[0minit_method\u001b[0m\u001b[0;34m=\u001b[0m\u001b[0;34m\"kmeans\"\u001b[0m\u001b[0;34m,\u001b[0m \u001b[0mverbose\u001b[0m\u001b[0;34m=\u001b[0m\u001b[0;36m0\u001b[0m\u001b[0;34m)\u001b[0m\u001b[0;34m\u001b[0m\u001b[0;34m\u001b[0m\u001b[0m\n\u001b[0m\u001b[1;32m    243\u001b[0m \u001b[0;34m\u001b[0m\u001b[0m\n\u001b[1;32m    244\u001b[0m     \u001b[0;32mif\u001b[0m \u001b[0mhmm\u001b[0m\u001b[0;34m.\u001b[0m\u001b[0mobservations\u001b[0m\u001b[0;34m.\u001b[0m\u001b[0mlogit_ps\u001b[0m\u001b[0;34m[\u001b[0m\u001b[0;36m0\u001b[0m\u001b[0;34m]\u001b[0m \u001b[0;34m>\u001b[0m \u001b[0;36m0\u001b[0m\u001b[0;34m:\u001b[0m\u001b[0;34m\u001b[0m\u001b[0;34m\u001b[0m\u001b[0m\n",
      "\u001b[0;32m~/Documents/ExternalCode/ssm/ssm/util.py\u001b[0m in \u001b[0;36mwrapper\u001b[0;34m(self, datas, inputs, masks, tags, **kwargs)\u001b[0m\n\u001b[1;32m    109\u001b[0m             \u001b[0mtags\u001b[0m \u001b[0;34m=\u001b[0m \u001b[0;34m[\u001b[0m\u001b[0mtags\u001b[0m\u001b[0;34m]\u001b[0m\u001b[0;34m\u001b[0m\u001b[0;34m\u001b[0m\u001b[0m\n\u001b[1;32m    110\u001b[0m \u001b[0;34m\u001b[0m\u001b[0m\n\u001b[0;32m--> 111\u001b[0;31m         \u001b[0;32mreturn\u001b[0m \u001b[0mf\u001b[0m\u001b[0;34m(\u001b[0m\u001b[0mself\u001b[0m\u001b[0;34m,\u001b[0m \u001b[0mdatas\u001b[0m\u001b[0;34m,\u001b[0m \u001b[0minputs\u001b[0m\u001b[0;34m=\u001b[0m\u001b[0minputs\u001b[0m\u001b[0;34m,\u001b[0m \u001b[0mmasks\u001b[0m\u001b[0;34m=\u001b[0m\u001b[0mmasks\u001b[0m\u001b[0;34m,\u001b[0m \u001b[0mtags\u001b[0m\u001b[0;34m=\u001b[0m\u001b[0mtags\u001b[0m\u001b[0;34m,\u001b[0m \u001b[0;34m**\u001b[0m\u001b[0mkwargs\u001b[0m\u001b[0;34m)\u001b[0m\u001b[0;34m\u001b[0m\u001b[0;34m\u001b[0m\u001b[0m\n\u001b[0m\u001b[1;32m    112\u001b[0m \u001b[0;34m\u001b[0m\u001b[0m\n\u001b[1;32m    113\u001b[0m     \u001b[0;32mreturn\u001b[0m \u001b[0mwrapper\u001b[0m\u001b[0;34m\u001b[0m\u001b[0;34m\u001b[0m\u001b[0m\n",
      "\u001b[0;32m~/Documents/ExternalCode/ssm/ssm/hmm.py\u001b[0m in \u001b[0;36mfit\u001b[0;34m(self, datas, inputs, masks, tags, verbose, method, initialize, init_method, **kwargs)\u001b[0m\n\u001b[1;32m    502\u001b[0m \u001b[0;34m\u001b[0m\u001b[0m\n\u001b[1;32m    503\u001b[0m        \u001b[0;31m# print(verbose)\u001b[0m\u001b[0;34m\u001b[0m\u001b[0;34m\u001b[0m\u001b[0;34m\u001b[0m\u001b[0m\n\u001b[0;32m--> 504\u001b[0;31m         return _fitting_methods[method](datas,\n\u001b[0m\u001b[1;32m    505\u001b[0m                                         \u001b[0minputs\u001b[0m\u001b[0;34m=\u001b[0m\u001b[0minputs\u001b[0m\u001b[0;34m,\u001b[0m\u001b[0;34m\u001b[0m\u001b[0;34m\u001b[0m\u001b[0m\n\u001b[1;32m    506\u001b[0m                                         \u001b[0mmasks\u001b[0m\u001b[0;34m=\u001b[0m\u001b[0mmasks\u001b[0m\u001b[0;34m,\u001b[0m\u001b[0;34m\u001b[0m\u001b[0;34m\u001b[0m\u001b[0m\n",
      "\u001b[0;32m~/Documents/ExternalCode/ssm/ssm/hmm.py\u001b[0m in \u001b[0;36m_fit_em\u001b[0;34m(self, datas, inputs, masks, tags, verbose, num_iters, tolerance, init_state_mstep_kwargs, transitions_mstep_kwargs, observations_mstep_kwargs, **kwargs)\u001b[0m\n\u001b[1;32m    447\u001b[0m         \u001b[0;32mfor\u001b[0m \u001b[0mitr\u001b[0m \u001b[0;32min\u001b[0m \u001b[0mpbar\u001b[0m\u001b[0;34m:\u001b[0m\u001b[0;34m\u001b[0m\u001b[0;34m\u001b[0m\u001b[0m\n\u001b[1;32m    448\u001b[0m             \u001b[0;31m# E step: compute expected latent states with current parameters\u001b[0m\u001b[0;34m\u001b[0m\u001b[0;34m\u001b[0m\u001b[0;34m\u001b[0m\u001b[0m\n\u001b[0;32m--> 449\u001b[0;31m             expectations = [self.expected_states(data, input, mask, tag)\n\u001b[0m\u001b[1;32m    450\u001b[0m                             \u001b[0;32mfor\u001b[0m \u001b[0mdata\u001b[0m\u001b[0;34m,\u001b[0m \u001b[0minput\u001b[0m\u001b[0;34m,\u001b[0m \u001b[0mmask\u001b[0m\u001b[0;34m,\u001b[0m \u001b[0mtag\u001b[0m\u001b[0;34m,\u001b[0m\u001b[0;34m\u001b[0m\u001b[0;34m\u001b[0m\u001b[0m\n\u001b[1;32m    451\u001b[0m                             in zip(datas, inputs, masks, tags)]\n",
      "\u001b[0;32m~/Documents/ExternalCode/ssm/ssm/hmm.py\u001b[0m in \u001b[0;36m<listcomp>\u001b[0;34m(.0)\u001b[0m\n\u001b[1;32m    447\u001b[0m         \u001b[0;32mfor\u001b[0m \u001b[0mitr\u001b[0m \u001b[0;32min\u001b[0m \u001b[0mpbar\u001b[0m\u001b[0;34m:\u001b[0m\u001b[0;34m\u001b[0m\u001b[0;34m\u001b[0m\u001b[0m\n\u001b[1;32m    448\u001b[0m             \u001b[0;31m# E step: compute expected latent states with current parameters\u001b[0m\u001b[0;34m\u001b[0m\u001b[0;34m\u001b[0m\u001b[0;34m\u001b[0m\u001b[0m\n\u001b[0;32m--> 449\u001b[0;31m             expectations = [self.expected_states(data, input, mask, tag)\n\u001b[0m\u001b[1;32m    450\u001b[0m                             \u001b[0;32mfor\u001b[0m \u001b[0mdata\u001b[0m\u001b[0;34m,\u001b[0m \u001b[0minput\u001b[0m\u001b[0;34m,\u001b[0m \u001b[0mmask\u001b[0m\u001b[0;34m,\u001b[0m \u001b[0mtag\u001b[0m\u001b[0;34m,\u001b[0m\u001b[0;34m\u001b[0m\u001b[0;34m\u001b[0m\u001b[0m\n\u001b[1;32m    451\u001b[0m                             in zip(datas, inputs, masks, tags)]\n",
      "\u001b[0;32m~/Documents/ExternalCode/ssm/ssm/util.py\u001b[0m in \u001b[0;36mwrapper\u001b[0;34m(self, data, input, mask, tag, **kwargs)\u001b[0m\n\u001b[1;32m    156\u001b[0m \u001b[0;34m\u001b[0m\u001b[0m\n\u001b[1;32m    157\u001b[0m         \u001b[0mmask\u001b[0m \u001b[0;34m=\u001b[0m \u001b[0mnp\u001b[0m\u001b[0;34m.\u001b[0m\u001b[0mones_like\u001b[0m\u001b[0;34m(\u001b[0m\u001b[0mdata\u001b[0m\u001b[0;34m,\u001b[0m \u001b[0mdtype\u001b[0m\u001b[0;34m=\u001b[0m\u001b[0mbool\u001b[0m\u001b[0;34m)\u001b[0m \u001b[0;32mif\u001b[0m \u001b[0mmask\u001b[0m \u001b[0;32mis\u001b[0m \u001b[0;32mNone\u001b[0m \u001b[0;32melse\u001b[0m \u001b[0mmask\u001b[0m\u001b[0;34m\u001b[0m\u001b[0;34m\u001b[0m\u001b[0m\n\u001b[0;32m--> 158\u001b[0;31m         \u001b[0;32mreturn\u001b[0m \u001b[0mf\u001b[0m\u001b[0;34m(\u001b[0m\u001b[0mself\u001b[0m\u001b[0;34m,\u001b[0m \u001b[0mdata\u001b[0m\u001b[0;34m,\u001b[0m \u001b[0minput\u001b[0m\u001b[0;34m=\u001b[0m\u001b[0minput\u001b[0m\u001b[0;34m,\u001b[0m \u001b[0mmask\u001b[0m\u001b[0;34m=\u001b[0m\u001b[0mmask\u001b[0m\u001b[0;34m,\u001b[0m \u001b[0mtag\u001b[0m\u001b[0;34m=\u001b[0m\u001b[0mtag\u001b[0m\u001b[0;34m,\u001b[0m \u001b[0;34m**\u001b[0m\u001b[0mkwargs\u001b[0m\u001b[0;34m)\u001b[0m\u001b[0;34m\u001b[0m\u001b[0;34m\u001b[0m\u001b[0m\n\u001b[0m\u001b[1;32m    159\u001b[0m     \u001b[0;32mreturn\u001b[0m \u001b[0mwrapper\u001b[0m\u001b[0;34m\u001b[0m\u001b[0;34m\u001b[0m\u001b[0m\n\u001b[1;32m    160\u001b[0m \u001b[0;34m\u001b[0m\u001b[0m\n",
      "\u001b[0;32m~/Documents/ExternalCode/ssm/ssm/hmm.py\u001b[0m in \u001b[0;36mexpected_states\u001b[0;34m(self, data, input, mask, tag)\u001b[0m\n\u001b[1;32m    256\u001b[0m         \u001b[0mPs\u001b[0m \u001b[0;34m=\u001b[0m \u001b[0mself\u001b[0m\u001b[0;34m.\u001b[0m\u001b[0mtransitions\u001b[0m\u001b[0;34m.\u001b[0m\u001b[0mtransition_matrices\u001b[0m\u001b[0;34m(\u001b[0m\u001b[0mdata\u001b[0m\u001b[0;34m,\u001b[0m \u001b[0minput\u001b[0m\u001b[0;34m,\u001b[0m \u001b[0mmask\u001b[0m\u001b[0;34m,\u001b[0m \u001b[0mtag\u001b[0m\u001b[0;34m)\u001b[0m\u001b[0;34m\u001b[0m\u001b[0;34m\u001b[0m\u001b[0m\n\u001b[1;32m    257\u001b[0m         \u001b[0mlog_likes\u001b[0m \u001b[0;34m=\u001b[0m \u001b[0mself\u001b[0m\u001b[0;34m.\u001b[0m\u001b[0mobservations\u001b[0m\u001b[0;34m.\u001b[0m\u001b[0mlog_likelihoods\u001b[0m\u001b[0;34m(\u001b[0m\u001b[0mdata\u001b[0m\u001b[0;34m,\u001b[0m \u001b[0minput\u001b[0m\u001b[0;34m,\u001b[0m \u001b[0mmask\u001b[0m\u001b[0;34m,\u001b[0m \u001b[0mtag\u001b[0m\u001b[0;34m)\u001b[0m\u001b[0;34m\u001b[0m\u001b[0;34m\u001b[0m\u001b[0m\n\u001b[0;32m--> 258\u001b[0;31m         \u001b[0;32mreturn\u001b[0m \u001b[0mhmm_expected_states\u001b[0m\u001b[0;34m(\u001b[0m\u001b[0mpi0\u001b[0m\u001b[0;34m,\u001b[0m \u001b[0mPs\u001b[0m\u001b[0;34m,\u001b[0m \u001b[0mlog_likes\u001b[0m\u001b[0;34m)\u001b[0m\u001b[0;34m\u001b[0m\u001b[0;34m\u001b[0m\u001b[0m\n\u001b[0m\u001b[1;32m    259\u001b[0m \u001b[0;34m\u001b[0m\u001b[0m\n\u001b[1;32m    260\u001b[0m     \u001b[0;34m@\u001b[0m\u001b[0mensure_args_not_none\u001b[0m\u001b[0;34m\u001b[0m\u001b[0;34m\u001b[0m\u001b[0m\n",
      "\u001b[0;32m~/Documents/ExternalCode/ssm/ssm/messages.py\u001b[0m in \u001b[0;36mhmm_expected_states\u001b[0;34m(pi0, Ps, ll)\u001b[0m\n\u001b[1;32m    175\u001b[0m     \u001b[0;31m# Compute E[z_t] for t = 1, ..., T\u001b[0m\u001b[0;34m\u001b[0m\u001b[0;34m\u001b[0m\u001b[0;34m\u001b[0m\u001b[0m\n\u001b[1;32m    176\u001b[0m     \u001b[0mexpected_states\u001b[0m \u001b[0;34m=\u001b[0m \u001b[0malphas\u001b[0m \u001b[0;34m+\u001b[0m \u001b[0mbetas\u001b[0m\u001b[0;34m\u001b[0m\u001b[0;34m\u001b[0m\u001b[0m\n\u001b[0;32m--> 177\u001b[0;31m     \u001b[0mexpected_states\u001b[0m \u001b[0;34m-=\u001b[0m \u001b[0mscsp\u001b[0m\u001b[0;34m.\u001b[0m\u001b[0mlogsumexp\u001b[0m\u001b[0;34m(\u001b[0m\u001b[0mexpected_states\u001b[0m\u001b[0;34m,\u001b[0m \u001b[0maxis\u001b[0m\u001b[0;34m=\u001b[0m\u001b[0;36m1\u001b[0m\u001b[0;34m,\u001b[0m \u001b[0mkeepdims\u001b[0m\u001b[0;34m=\u001b[0m\u001b[0;32mTrue\u001b[0m\u001b[0;34m)\u001b[0m\u001b[0;34m\u001b[0m\u001b[0;34m\u001b[0m\u001b[0m\n\u001b[0m\u001b[1;32m    178\u001b[0m     \u001b[0mexpected_states\u001b[0m \u001b[0;34m=\u001b[0m \u001b[0mnp\u001b[0m\u001b[0;34m.\u001b[0m\u001b[0mexp\u001b[0m\u001b[0;34m(\u001b[0m\u001b[0mexpected_states\u001b[0m\u001b[0;34m)\u001b[0m\u001b[0;34m\u001b[0m\u001b[0;34m\u001b[0m\u001b[0m\n\u001b[1;32m    179\u001b[0m \u001b[0;34m\u001b[0m\u001b[0m\n",
      "\u001b[0;32m~/opt/anaconda3/envs/default/lib/python3.9/site-packages/scipy/special/_logsumexp.py\u001b[0m in \u001b[0;36mlogsumexp\u001b[0;34m(a, axis, b, keepdims, return_sign)\u001b[0m\n\u001b[1;32m    112\u001b[0m     \u001b[0;31m# suppress warnings about log of zero\u001b[0m\u001b[0;34m\u001b[0m\u001b[0;34m\u001b[0m\u001b[0;34m\u001b[0m\u001b[0m\n\u001b[1;32m    113\u001b[0m     \u001b[0;32mwith\u001b[0m \u001b[0mnp\u001b[0m\u001b[0;34m.\u001b[0m\u001b[0merrstate\u001b[0m\u001b[0;34m(\u001b[0m\u001b[0mdivide\u001b[0m\u001b[0;34m=\u001b[0m\u001b[0;34m'ignore'\u001b[0m\u001b[0;34m)\u001b[0m\u001b[0;34m:\u001b[0m\u001b[0;34m\u001b[0m\u001b[0;34m\u001b[0m\u001b[0m\n\u001b[0;32m--> 114\u001b[0;31m         \u001b[0ms\u001b[0m \u001b[0;34m=\u001b[0m \u001b[0mnp\u001b[0m\u001b[0;34m.\u001b[0m\u001b[0msum\u001b[0m\u001b[0;34m(\u001b[0m\u001b[0mtmp\u001b[0m\u001b[0;34m,\u001b[0m \u001b[0maxis\u001b[0m\u001b[0;34m=\u001b[0m\u001b[0maxis\u001b[0m\u001b[0;34m,\u001b[0m \u001b[0mkeepdims\u001b[0m\u001b[0;34m=\u001b[0m\u001b[0mkeepdims\u001b[0m\u001b[0;34m)\u001b[0m\u001b[0;34m\u001b[0m\u001b[0;34m\u001b[0m\u001b[0m\n\u001b[0m\u001b[1;32m    115\u001b[0m         \u001b[0;32mif\u001b[0m \u001b[0mreturn_sign\u001b[0m\u001b[0;34m:\u001b[0m\u001b[0;34m\u001b[0m\u001b[0;34m\u001b[0m\u001b[0m\n\u001b[1;32m    116\u001b[0m             \u001b[0msgn\u001b[0m \u001b[0;34m=\u001b[0m \u001b[0mnp\u001b[0m\u001b[0;34m.\u001b[0m\u001b[0msign\u001b[0m\u001b[0;34m(\u001b[0m\u001b[0ms\u001b[0m\u001b[0;34m)\u001b[0m\u001b[0;34m\u001b[0m\u001b[0;34m\u001b[0m\u001b[0m\n",
      "\u001b[0;32m<__array_function__ internals>\u001b[0m in \u001b[0;36msum\u001b[0;34m(*args, **kwargs)\u001b[0m\n",
      "\u001b[0;32m~/opt/anaconda3/envs/default/lib/python3.9/site-packages/numpy/core/fromnumeric.py\u001b[0m in \u001b[0;36msum\u001b[0;34m(a, axis, dtype, out, keepdims, initial, where)\u001b[0m\n\u001b[1;32m   2257\u001b[0m         \u001b[0;32mreturn\u001b[0m \u001b[0mres\u001b[0m\u001b[0;34m\u001b[0m\u001b[0;34m\u001b[0m\u001b[0m\n\u001b[1;32m   2258\u001b[0m \u001b[0;34m\u001b[0m\u001b[0m\n\u001b[0;32m-> 2259\u001b[0;31m     return _wrapreduction(a, np.add, 'sum', axis, dtype, out, keepdims=keepdims,\n\u001b[0m\u001b[1;32m   2260\u001b[0m                           initial=initial, where=where)\n\u001b[1;32m   2261\u001b[0m \u001b[0;34m\u001b[0m\u001b[0m\n",
      "\u001b[0;32m~/opt/anaconda3/envs/default/lib/python3.9/site-packages/numpy/core/fromnumeric.py\u001b[0m in \u001b[0;36m_wrapreduction\u001b[0;34m(obj, ufunc, method, axis, dtype, out, **kwargs)\u001b[0m\n\u001b[1;32m     84\u001b[0m                 \u001b[0;32mreturn\u001b[0m \u001b[0mreduction\u001b[0m\u001b[0;34m(\u001b[0m\u001b[0maxis\u001b[0m\u001b[0;34m=\u001b[0m\u001b[0maxis\u001b[0m\u001b[0;34m,\u001b[0m \u001b[0mout\u001b[0m\u001b[0;34m=\u001b[0m\u001b[0mout\u001b[0m\u001b[0;34m,\u001b[0m \u001b[0;34m**\u001b[0m\u001b[0mpasskwargs\u001b[0m\u001b[0;34m)\u001b[0m\u001b[0;34m\u001b[0m\u001b[0;34m\u001b[0m\u001b[0m\n\u001b[1;32m     85\u001b[0m \u001b[0;34m\u001b[0m\u001b[0m\n\u001b[0;32m---> 86\u001b[0;31m     \u001b[0;32mreturn\u001b[0m \u001b[0mufunc\u001b[0m\u001b[0;34m.\u001b[0m\u001b[0mreduce\u001b[0m\u001b[0;34m(\u001b[0m\u001b[0mobj\u001b[0m\u001b[0;34m,\u001b[0m \u001b[0maxis\u001b[0m\u001b[0;34m,\u001b[0m \u001b[0mdtype\u001b[0m\u001b[0;34m,\u001b[0m \u001b[0mout\u001b[0m\u001b[0;34m,\u001b[0m \u001b[0;34m**\u001b[0m\u001b[0mpasskwargs\u001b[0m\u001b[0;34m)\u001b[0m\u001b[0;34m\u001b[0m\u001b[0;34m\u001b[0m\u001b[0m\n\u001b[0m\u001b[1;32m     87\u001b[0m \u001b[0;34m\u001b[0m\u001b[0m\n\u001b[1;32m     88\u001b[0m \u001b[0;34m\u001b[0m\u001b[0m\n",
      "\u001b[0;31mKeyboardInterrupt\u001b[0m: "
     ]
    }
   ],
   "source": [
    "# Get metrics for all points in the Qspace\n",
    "N = 11\n",
    "gammalst = np.linspace(0.01, 1.4, N)\n",
    "epslst = np.linspace(0.01, 0.5, N)\n",
    "\n",
    "Qeff_arr = np.zeros((N, N, 50)) * np.nan\n",
    "Qlapse_arr = np.zeros((N, N, 50)) * np.nan\n",
    "Qoffset_arr = np.zeros((N, N, 50)) * np.nan\n",
    "Qslope_arr = np.zeros((N, N, 50)) * np.nan\n",
    "\n",
    "\n",
    "for idgamma, gamma in enumerate(gammalst):\n",
    "    for ideps, eps in enumerate(epslst):\n",
    "        print(gamma, eps)\n",
    "        metrics = get_Qmetrics(gamma, eps)\n",
    "        Qeff_arr[idgamma, ideps, :] = metrics[0]\n",
    "        Qlapse_arr[idgamma, ideps, :] = metrics[1]\n",
    "        Qoffset_arr[idgamma, ideps, :] = metrics[2]\n",
    "        Qslope_arr[idgamma, ideps, :] = metrics[3]\n",
    "        "
   ]
  },
  {
   "cell_type": "code",
   "execution_count": 50,
   "metadata": {},
   "outputs": [
    {
     "data": {
      "text/plain": [
       "<matplotlib.colorbar.Colorbar at 0x7ff15ff401f0>"
      ]
     },
     "execution_count": 50,
     "metadata": {},
     "output_type": "execute_result"
    },
    {
     "data": {
      "image/png": "[encoded data removed]",
      "text/plain": [
       "<Figure size 432x288 with 2 Axes>"
      ]
     },
     "metadata": {
      "needs_background": "light"
     },
     "output_type": "display_data"
    }
   ],
   "source": [
    "plt.imshow(np.nanmean(Qeff_arr, axis=2))\n",
    "plt.colorbar()"
   ]
  },
  {
   "cell_type": "markdown",
   "metadata": {},
   "source": [
    "### Inference-based"
   ]
  },
  {
   "cell_type": "code",
   "execution_count": 51,
   "metadata": {
    "scrolled": true
   },
   "outputs": [
    {
     "name": "stdout",
     "output_type": "stream",
     "text": [
      "0.55 0.01\n"
     ]
    },
    {
     "name": "stderr",
     "output_type": "stream",
     "text": [
      "/Users/minhnhatle/Dropbox (MIT)/Sur/MatchingSimulations/utils.py:156: RuntimeWarning: Mean of empty slice\n",
      "  leftAverage = np.nanmean(choicelst[::2, :], axis=0)\n",
      "/Users/minhnhatle/Dropbox (MIT)/Sur/MatchingSimulations/utils.py:156: RuntimeWarning: Mean of empty slice\n",
      "  leftAverage = np.nanmean(choicelst[::2, :], axis=0)\n"
     ]
    },
    {
     "name": "stdout",
     "output_type": "stream",
     "text": [
      "0.55 0.054\n",
      "0.55 0.09799999999999999\n"
     ]
    },
    {
     "name": "stderr",
     "output_type": "stream",
     "text": [
      "/Users/minhnhatle/Dropbox (MIT)/Sur/MatchingSimulations/utils.py:151: RuntimeWarning: Mean of empty slice\n",
      "  leftAverage = np.nanmean(choicelst[1::2, :], axis=0)\n",
      "/Users/minhnhatle/Dropbox (MIT)/Sur/MatchingSimulations/utils.py:156: RuntimeWarning: Mean of empty slice\n",
      "  leftAverage = np.nanmean(choicelst[::2, :], axis=0)\n"
     ]
    },
    {
     "name": "stdout",
     "output_type": "stream",
     "text": [
      "0.55 0.14200000000000002\n"
     ]
    },
    {
     "name": "stderr",
     "output_type": "stream",
     "text": [
      "/Users/minhnhatle/Dropbox (MIT)/Sur/MatchingSimulations/utils.py:151: RuntimeWarning: Mean of empty slice\n",
      "  leftAverage = np.nanmean(choicelst[1::2, :], axis=0)\n",
      "/Users/minhnhatle/Dropbox (MIT)/Sur/MatchingSimulations/utils.py:156: RuntimeWarning: Mean of empty slice\n",
      "  leftAverage = np.nanmean(choicelst[::2, :], axis=0)\n"
     ]
    },
    {
     "name": "stdout",
     "output_type": "stream",
     "text": [
      "0.55 0.186\n"
     ]
    },
    {
     "name": "stderr",
     "output_type": "stream",
     "text": [
      "/Users/minhnhatle/Dropbox (MIT)/Sur/MatchingSimulations/utils.py:151: RuntimeWarning: Mean of empty slice\n",
      "  leftAverage = np.nanmean(choicelst[1::2, :], axis=0)\n",
      "/Users/minhnhatle/Dropbox (MIT)/Sur/MatchingSimulations/utils.py:156: RuntimeWarning: Mean of empty slice\n",
      "  leftAverage = np.nanmean(choicelst[::2, :], axis=0)\n"
     ]
    },
    {
     "name": "stdout",
     "output_type": "stream",
     "text": [
      "0.55 0.22999999999999998\n"
     ]
    },
    {
     "name": "stderr",
     "output_type": "stream",
     "text": [
      "/Users/minhnhatle/Dropbox (MIT)/Sur/MatchingSimulations/utils.py:151: RuntimeWarning: Mean of empty slice\n",
      "  leftAverage = np.nanmean(choicelst[1::2, :], axis=0)\n",
      "/Users/minhnhatle/Dropbox (MIT)/Sur/MatchingSimulations/utils.py:156: RuntimeWarning: Mean of empty slice\n",
      "  leftAverage = np.nanmean(choicelst[::2, :], axis=0)\n"
     ]
    },
    {
     "name": "stdout",
     "output_type": "stream",
     "text": [
      "0.55 0.274\n"
     ]
    },
    {
     "name": "stderr",
     "output_type": "stream",
     "text": [
      "/Users/minhnhatle/Dropbox (MIT)/Sur/MatchingSimulations/utils.py:156: RuntimeWarning: Mean of empty slice\n",
      "  leftAverage = np.nanmean(choicelst[::2, :], axis=0)\n"
     ]
    },
    {
     "name": "stdout",
     "output_type": "stream",
     "text": [
      "0.55 0.318\n"
     ]
    },
    {
     "name": "stderr",
     "output_type": "stream",
     "text": [
      "/Users/minhnhatle/Dropbox (MIT)/Sur/MatchingSimulations/utils.py:156: RuntimeWarning: Mean of empty slice\n",
      "  leftAverage = np.nanmean(choicelst[::2, :], axis=0)\n"
     ]
    },
    {
     "name": "stdout",
     "output_type": "stream",
     "text": [
      "0.55 0.362\n"
     ]
    },
    {
     "name": "stderr",
     "output_type": "stream",
     "text": [
      "/Users/minhnhatle/Dropbox (MIT)/Sur/MatchingSimulations/utils.py:156: RuntimeWarning: Mean of empty slice\n",
      "  leftAverage = np.nanmean(choicelst[::2, :], axis=0)\n"
     ]
    },
    {
     "name": "stdout",
     "output_type": "stream",
     "text": [
      "0.55 0.40599999999999997\n"
     ]
    },
    {
     "name": "stderr",
     "output_type": "stream",
     "text": [
      "/Users/minhnhatle/Dropbox (MIT)/Sur/MatchingSimulations/utils.py:156: RuntimeWarning: Mean of empty slice\n",
      "  leftAverage = np.nanmean(choicelst[::2, :], axis=0)\n"
     ]
    },
    {
     "name": "stdout",
     "output_type": "stream",
     "text": [
      "0.55 0.45\n"
     ]
    },
    {
     "name": "stderr",
     "output_type": "stream",
     "text": [
      "/Users/minhnhatle/Dropbox (MIT)/Sur/MatchingSimulations/utils.py:156: RuntimeWarning: Mean of empty slice\n",
      "  leftAverage = np.nanmean(choicelst[::2, :], axis=0)\n"
     ]
    },
    {
     "name": "stdout",
     "output_type": "stream",
     "text": [
      "0.5940000000000001 0.01\n",
      "0.5940000000000001 0.054\n"
     ]
    },
    {
     "name": "stderr",
     "output_type": "stream",
     "text": [
      "/Users/minhnhatle/Dropbox (MIT)/Sur/MatchingSimulations/utils.py:151: RuntimeWarning: Mean of empty slice\n",
      "  leftAverage = np.nanmean(choicelst[1::2, :], axis=0)\n"
     ]
    },
    {
     "name": "stdout",
     "output_type": "stream",
     "text": [
      "0.5940000000000001 0.09799999999999999\n"
     ]
    },
    {
     "name": "stderr",
     "output_type": "stream",
     "text": [
      "/Users/minhnhatle/Dropbox (MIT)/Sur/MatchingSimulations/utils.py:151: RuntimeWarning: Mean of empty slice\n",
      "  leftAverage = np.nanmean(choicelst[1::2, :], axis=0)\n",
      "/Users/minhnhatle/Dropbox (MIT)/Sur/MatchingSimulations/utils.py:156: RuntimeWarning: Mean of empty slice\n",
      "  leftAverage = np.nanmean(choicelst[::2, :], axis=0)\n"
     ]
    },
    {
     "name": "stdout",
     "output_type": "stream",
     "text": [
      "0.5940000000000001 0.14200000000000002\n"
     ]
    },
    {
     "name": "stderr",
     "output_type": "stream",
     "text": [
      "/Users/minhnhatle/Dropbox (MIT)/Sur/MatchingSimulations/utils.py:151: RuntimeWarning: Mean of empty slice\n",
      "  leftAverage = np.nanmean(choicelst[1::2, :], axis=0)\n",
      "/Users/minhnhatle/Dropbox (MIT)/Sur/MatchingSimulations/utils.py:156: RuntimeWarning: Mean of empty slice\n",
      "  leftAverage = np.nanmean(choicelst[::2, :], axis=0)\n"
     ]
    },
    {
     "name": "stdout",
     "output_type": "stream",
     "text": [
      "0.5940000000000001 0.186\n"
     ]
    },
    {
     "name": "stderr",
     "output_type": "stream",
     "text": [
      "/Users/minhnhatle/Dropbox (MIT)/Sur/MatchingSimulations/utils.py:151: RuntimeWarning: Mean of empty slice\n",
      "  leftAverage = np.nanmean(choicelst[1::2, :], axis=0)\n",
      "/Users/minhnhatle/Dropbox (MIT)/Sur/MatchingSimulations/utils.py:156: RuntimeWarning: Mean of empty slice\n",
      "  leftAverage = np.nanmean(choicelst[::2, :], axis=0)\n"
     ]
    },
    {
     "name": "stdout",
     "output_type": "stream",
     "text": [
      "0.5940000000000001 0.22999999999999998\n"
     ]
    },
    {
     "name": "stderr",
     "output_type": "stream",
     "text": [
      "/Users/minhnhatle/Dropbox (MIT)/Sur/MatchingSimulations/utils.py:151: RuntimeWarning: Mean of empty slice\n",
      "  leftAverage = np.nanmean(choicelst[1::2, :], axis=0)\n",
      "/Users/minhnhatle/Dropbox (MIT)/Sur/MatchingSimulations/utils.py:156: RuntimeWarning: Mean of empty slice\n",
      "  leftAverage = np.nanmean(choicelst[::2, :], axis=0)\n"
     ]
    },
    {
     "name": "stdout",
     "output_type": "stream",
     "text": [
      "0.5940000000000001 0.274\n"
     ]
    },
    {
     "name": "stderr",
     "output_type": "stream",
     "text": [
      "/Users/minhnhatle/Dropbox (MIT)/Sur/MatchingSimulations/utils.py:156: RuntimeWarning: Mean of empty slice\n",
      "  leftAverage = np.nanmean(choicelst[::2, :], axis=0)\n"
     ]
    },
    {
     "name": "stdout",
     "output_type": "stream",
     "text": [
      "0.5940000000000001 0.318\n"
     ]
    },
    {
     "name": "stderr",
     "output_type": "stream",
     "text": [
      "/Users/minhnhatle/Dropbox (MIT)/Sur/MatchingSimulations/utils.py:156: RuntimeWarning: Mean of empty slice\n",
      "  leftAverage = np.nanmean(choicelst[::2, :], axis=0)\n"
     ]
    },
    {
     "name": "stdout",
     "output_type": "stream",
     "text": [
      "0.5940000000000001 0.362\n"
     ]
    },
    {
     "name": "stderr",
     "output_type": "stream",
     "text": [
      "/Users/minhnhatle/Dropbox (MIT)/Sur/MatchingSimulations/utils.py:156: RuntimeWarning: Mean of empty slice\n",
      "  leftAverage = np.nanmean(choicelst[::2, :], axis=0)\n"
     ]
    },
    {
     "name": "stdout",
     "output_type": "stream",
     "text": [
      "0.5940000000000001 0.40599999999999997\n"
     ]
    },
    {
     "name": "stderr",
     "output_type": "stream",
     "text": [
      "/Users/minhnhatle/Dropbox (MIT)/Sur/MatchingSimulations/utils.py:156: RuntimeWarning: Mean of empty slice\n",
      "  leftAverage = np.nanmean(choicelst[::2, :], axis=0)\n"
     ]
    },
    {
     "name": "stdout",
     "output_type": "stream",
     "text": [
      "0.5940000000000001 0.45\n"
     ]
    },
    {
     "name": "stderr",
     "output_type": "stream",
     "text": [
      "/Users/minhnhatle/Dropbox (MIT)/Sur/MatchingSimulations/utils.py:156: RuntimeWarning: Mean of empty slice\n",
      "  leftAverage = np.nanmean(choicelst[::2, :], axis=0)\n"
     ]
    },
    {
     "name": "stdout",
     "output_type": "stream",
     "text": [
      "0.638 0.01\n"
     ]
    },
    {
     "name": "stderr",
     "output_type": "stream",
     "text": [
      "/Users/minhnhatle/Dropbox (MIT)/Sur/MatchingSimulations/utils.py:156: RuntimeWarning: Mean of empty slice\n",
      "  leftAverage = np.nanmean(choicelst[::2, :], axis=0)\n",
      "/Users/minhnhatle/Dropbox (MIT)/Sur/MatchingSimulations/utils.py:156: RuntimeWarning: Mean of empty slice\n",
      "  leftAverage = np.nanmean(choicelst[::2, :], axis=0)\n"
     ]
    },
    {
     "name": "stdout",
     "output_type": "stream",
     "text": [
      "0.638 0.054\n"
     ]
    },
    {
     "name": "stderr",
     "output_type": "stream",
     "text": [
      "/Users/minhnhatle/Dropbox (MIT)/Sur/MatchingSimulations/utils.py:156: RuntimeWarning: Mean of empty slice\n",
      "  leftAverage = np.nanmean(choicelst[::2, :], axis=0)\n",
      "/Users/minhnhatle/Dropbox (MIT)/Sur/MatchingSimulations/utils.py:151: RuntimeWarning: Mean of empty slice\n",
      "  leftAverage = np.nanmean(choicelst[1::2, :], axis=0)\n"
     ]
    },
    {
     "name": "stdout",
     "output_type": "stream",
     "text": [
      "0.638 0.09799999999999999\n"
     ]
    },
    {
     "name": "stderr",
     "output_type": "stream",
     "text": [
      "/Users/minhnhatle/Dropbox (MIT)/Sur/MatchingSimulations/utils.py:151: RuntimeWarning: Mean of empty slice\n",
      "  leftAverage = np.nanmean(choicelst[1::2, :], axis=0)\n",
      "/Users/minhnhatle/Dropbox (MIT)/Sur/MatchingSimulations/utils.py:156: RuntimeWarning: Mean of empty slice\n",
      "  leftAverage = np.nanmean(choicelst[::2, :], axis=0)\n"
     ]
    },
    {
     "name": "stdout",
     "output_type": "stream",
     "text": [
      "0.638 0.14200000000000002\n"
     ]
    },
    {
     "name": "stderr",
     "output_type": "stream",
     "text": [
      "/Users/minhnhatle/Dropbox (MIT)/Sur/MatchingSimulations/utils.py:151: RuntimeWarning: Mean of empty slice\n",
      "  leftAverage = np.nanmean(choicelst[1::2, :], axis=0)\n",
      "/Users/minhnhatle/Dropbox (MIT)/Sur/MatchingSimulations/utils.py:156: RuntimeWarning: Mean of empty slice\n",
      "  leftAverage = np.nanmean(choicelst[::2, :], axis=0)\n"
     ]
    },
    {
     "name": "stdout",
     "output_type": "stream",
     "text": [
      "0.638 0.186\n"
     ]
    },
    {
     "name": "stderr",
     "output_type": "stream",
     "text": [
      "/Users/minhnhatle/Dropbox (MIT)/Sur/MatchingSimulations/utils.py:151: RuntimeWarning: Mean of empty slice\n",
      "  leftAverage = np.nanmean(choicelst[1::2, :], axis=0)\n",
      "/Users/minhnhatle/Dropbox (MIT)/Sur/MatchingSimulations/utils.py:156: RuntimeWarning: Mean of empty slice\n",
      "  leftAverage = np.nanmean(choicelst[::2, :], axis=0)\n"
     ]
    },
    {
     "name": "stdout",
     "output_type": "stream",
     "text": [
      "0.638 0.22999999999999998\n"
     ]
    },
    {
     "name": "stderr",
     "output_type": "stream",
     "text": [
      "/Users/minhnhatle/Dropbox (MIT)/Sur/MatchingSimulations/utils.py:151: RuntimeWarning: Mean of empty slice\n",
      "  leftAverage = np.nanmean(choicelst[1::2, :], axis=0)\n",
      "/Users/minhnhatle/Dropbox (MIT)/Sur/MatchingSimulations/utils.py:156: RuntimeWarning: Mean of empty slice\n",
      "  leftAverage = np.nanmean(choicelst[::2, :], axis=0)\n"
     ]
    },
    {
     "name": "stdout",
     "output_type": "stream",
     "text": [
      "0.638 0.274\n"
     ]
    },
    {
     "name": "stderr",
     "output_type": "stream",
     "text": [
      "/Users/minhnhatle/Dropbox (MIT)/Sur/MatchingSimulations/utils.py:156: RuntimeWarning: Mean of empty slice\n",
      "  leftAverage = np.nanmean(choicelst[::2, :], axis=0)\n"
     ]
    },
    {
     "name": "stdout",
     "output_type": "stream",
     "text": [
      "0.638 0.318\n"
     ]
    },
    {
     "name": "stderr",
     "output_type": "stream",
     "text": [
      "/Users/minhnhatle/Dropbox (MIT)/Sur/MatchingSimulations/utils.py:156: RuntimeWarning: Mean of empty slice\n",
      "  leftAverage = np.nanmean(choicelst[::2, :], axis=0)\n"
     ]
    },
    {
     "name": "stdout",
     "output_type": "stream",
     "text": [
      "0.638 0.362\n"
     ]
    },
    {
     "name": "stderr",
     "output_type": "stream",
     "text": [
      "/Users/minhnhatle/Dropbox (MIT)/Sur/MatchingSimulations/utils.py:156: RuntimeWarning: Mean of empty slice\n",
      "  leftAverage = np.nanmean(choicelst[::2, :], axis=0)\n"
     ]
    },
    {
     "name": "stdout",
     "output_type": "stream",
     "text": [
      "0.638 0.40599999999999997\n"
     ]
    },
    {
     "name": "stderr",
     "output_type": "stream",
     "text": [
      "/Users/minhnhatle/Dropbox (MIT)/Sur/MatchingSimulations/utils.py:156: RuntimeWarning: Mean of empty slice\n",
      "  leftAverage = np.nanmean(choicelst[::2, :], axis=0)\n"
     ]
    },
    {
     "name": "stdout",
     "output_type": "stream",
     "text": [
      "0.638 0.45\n"
     ]
    },
    {
     "name": "stderr",
     "output_type": "stream",
     "text": [
      "/Users/minhnhatle/Dropbox (MIT)/Sur/MatchingSimulations/utils.py:156: RuntimeWarning: Mean of empty slice\n",
      "  leftAverage = np.nanmean(choicelst[::2, :], axis=0)\n"
     ]
    },
    {
     "name": "stdout",
     "output_type": "stream",
     "text": [
      "0.682 0.01\n"
     ]
    },
    {
     "name": "stderr",
     "output_type": "stream",
     "text": [
      "/Users/minhnhatle/Dropbox (MIT)/Sur/MatchingSimulations/utils.py:155: RuntimeWarning: Mean of empty slice\n",
      "  rightAverage = np.nanmean(choicelst[1::2, :], axis=0)\n",
      "/Users/minhnhatle/Dropbox (MIT)/Sur/MatchingSimulations/utils.py:152: RuntimeWarning: Mean of empty slice\n",
      "  rightAverage = np.nanmean(choicelst[::2, :], axis=0)\n"
     ]
    },
    {
     "name": "stdout",
     "output_type": "stream",
     "text": [
      "0.682 0.054\n"
     ]
    },
    {
     "name": "stderr",
     "output_type": "stream",
     "text": [
      "/Users/minhnhatle/Dropbox (MIT)/Sur/MatchingSimulations/utils.py:151: RuntimeWarning: Mean of empty slice\n",
      "  leftAverage = np.nanmean(choicelst[1::2, :], axis=0)\n",
      "/Users/minhnhatle/Dropbox (MIT)/Sur/MatchingSimulations/utils.py:156: RuntimeWarning: Mean of empty slice\n",
      "  leftAverage = np.nanmean(choicelst[::2, :], axis=0)\n"
     ]
    },
    {
     "name": "stdout",
     "output_type": "stream",
     "text": [
      "0.682 0.09799999999999999\n"
     ]
    },
    {
     "name": "stderr",
     "output_type": "stream",
     "text": [
      "/Users/minhnhatle/Dropbox (MIT)/Sur/MatchingSimulations/utils.py:151: RuntimeWarning: Mean of empty slice\n",
      "  leftAverage = np.nanmean(choicelst[1::2, :], axis=0)\n",
      "/Users/minhnhatle/Dropbox (MIT)/Sur/MatchingSimulations/utils.py:156: RuntimeWarning: Mean of empty slice\n",
      "  leftAverage = np.nanmean(choicelst[::2, :], axis=0)\n"
     ]
    },
    {
     "name": "stdout",
     "output_type": "stream",
     "text": [
      "0.682 0.14200000000000002\n"
     ]
    },
    {
     "name": "stderr",
     "output_type": "stream",
     "text": [
      "/Users/minhnhatle/Dropbox (MIT)/Sur/MatchingSimulations/utils.py:151: RuntimeWarning: Mean of empty slice\n",
      "  leftAverage = np.nanmean(choicelst[1::2, :], axis=0)\n",
      "/Users/minhnhatle/Dropbox (MIT)/Sur/MatchingSimulations/utils.py:156: RuntimeWarning: Mean of empty slice\n",
      "  leftAverage = np.nanmean(choicelst[::2, :], axis=0)\n"
     ]
    },
    {
     "name": "stdout",
     "output_type": "stream",
     "text": [
      "0.682 0.186\n"
     ]
    },
    {
     "name": "stderr",
     "output_type": "stream",
     "text": [
      "/Users/minhnhatle/Dropbox (MIT)/Sur/MatchingSimulations/utils.py:151: RuntimeWarning: Mean of empty slice\n",
      "  leftAverage = np.nanmean(choicelst[1::2, :], axis=0)\n",
      "/Users/minhnhatle/Dropbox (MIT)/Sur/MatchingSimulations/utils.py:156: RuntimeWarning: Mean of empty slice\n",
      "  leftAverage = np.nanmean(choicelst[::2, :], axis=0)\n"
     ]
    },
    {
     "name": "stdout",
     "output_type": "stream",
     "text": [
      "0.682 0.22999999999999998\n"
     ]
    },
    {
     "name": "stderr",
     "output_type": "stream",
     "text": [
      "/Users/minhnhatle/Dropbox (MIT)/Sur/MatchingSimulations/utils.py:156: RuntimeWarning: Mean of empty slice\n",
      "  leftAverage = np.nanmean(choicelst[::2, :], axis=0)\n"
     ]
    },
    {
     "name": "stdout",
     "output_type": "stream",
     "text": [
      "0.682 0.274\n"
     ]
    },
    {
     "name": "stderr",
     "output_type": "stream",
     "text": [
      "/Users/minhnhatle/Dropbox (MIT)/Sur/MatchingSimulations/utils.py:156: RuntimeWarning: Mean of empty slice\n",
      "  leftAverage = np.nanmean(choicelst[::2, :], axis=0)\n"
     ]
    },
    {
     "name": "stdout",
     "output_type": "stream",
     "text": [
      "0.682 0.318\n"
     ]
    },
    {
     "name": "stderr",
     "output_type": "stream",
     "text": [
      "/Users/minhnhatle/Dropbox (MIT)/Sur/MatchingSimulations/utils.py:156: RuntimeWarning: Mean of empty slice\n",
      "  leftAverage = np.nanmean(choicelst[::2, :], axis=0)\n"
     ]
    },
    {
     "name": "stdout",
     "output_type": "stream",
     "text": [
      "0.682 0.362\n"
     ]
    },
    {
     "name": "stderr",
     "output_type": "stream",
     "text": [
      "/Users/minhnhatle/Dropbox (MIT)/Sur/MatchingSimulations/utils.py:156: RuntimeWarning: Mean of empty slice\n",
      "  leftAverage = np.nanmean(choicelst[::2, :], axis=0)\n"
     ]
    },
    {
     "name": "stdout",
     "output_type": "stream",
     "text": [
      "0.682 0.40599999999999997\n"
     ]
    },
    {
     "name": "stderr",
     "output_type": "stream",
     "text": [
      "/Users/minhnhatle/Dropbox (MIT)/Sur/MatchingSimulations/utils.py:156: RuntimeWarning: Mean of empty slice\n",
      "  leftAverage = np.nanmean(choicelst[::2, :], axis=0)\n"
     ]
    },
    {
     "name": "stdout",
     "output_type": "stream",
     "text": [
      "0.682 0.45\n"
     ]
    },
    {
     "name": "stderr",
     "output_type": "stream",
     "text": [
      "/Users/minhnhatle/Dropbox (MIT)/Sur/MatchingSimulations/utils.py:156: RuntimeWarning: Mean of empty slice\n",
      "  leftAverage = np.nanmean(choicelst[::2, :], axis=0)\n"
     ]
    },
    {
     "name": "stdout",
     "output_type": "stream",
     "text": [
      "0.726 0.01\n"
     ]
    },
    {
     "name": "stderr",
     "output_type": "stream",
     "text": [
      "/Users/minhnhatle/Dropbox (MIT)/Sur/MatchingSimulations/utils.py:151: RuntimeWarning: Mean of empty slice\n",
      "  leftAverage = np.nanmean(choicelst[1::2, :], axis=0)\n"
     ]
    },
    {
     "name": "stdout",
     "output_type": "stream",
     "text": [
      "0.726 0.054\n"
     ]
    },
    {
     "name": "stderr",
     "output_type": "stream",
     "text": [
      "/Users/minhnhatle/Dropbox (MIT)/Sur/MatchingSimulations/utils.py:151: RuntimeWarning: Mean of empty slice\n",
      "  leftAverage = np.nanmean(choicelst[1::2, :], axis=0)\n",
      "/Users/minhnhatle/Dropbox (MIT)/Sur/MatchingSimulations/utils.py:156: RuntimeWarning: Mean of empty slice\n",
      "  leftAverage = np.nanmean(choicelst[::2, :], axis=0)\n"
     ]
    },
    {
     "name": "stdout",
     "output_type": "stream",
     "text": [
      "0.726 0.09799999999999999\n"
     ]
    },
    {
     "name": "stderr",
     "output_type": "stream",
     "text": [
      "/Users/minhnhatle/Dropbox (MIT)/Sur/MatchingSimulations/utils.py:151: RuntimeWarning: Mean of empty slice\n",
      "  leftAverage = np.nanmean(choicelst[1::2, :], axis=0)\n",
      "/Users/minhnhatle/Dropbox (MIT)/Sur/MatchingSimulations/utils.py:156: RuntimeWarning: Mean of empty slice\n",
      "  leftAverage = np.nanmean(choicelst[::2, :], axis=0)\n"
     ]
    },
    {
     "name": "stdout",
     "output_type": "stream",
     "text": [
      "0.726 0.14200000000000002\n"
     ]
    },
    {
     "name": "stderr",
     "output_type": "stream",
     "text": [
      "/Users/minhnhatle/Dropbox (MIT)/Sur/MatchingSimulations/utils.py:151: RuntimeWarning: Mean of empty slice\n",
      "  leftAverage = np.nanmean(choicelst[1::2, :], axis=0)\n",
      "/Users/minhnhatle/Dropbox (MIT)/Sur/MatchingSimulations/utils.py:156: RuntimeWarning: Mean of empty slice\n",
      "  leftAverage = np.nanmean(choicelst[::2, :], axis=0)\n"
     ]
    },
    {
     "name": "stdout",
     "output_type": "stream",
     "text": [
      "0.726 0.186\n"
     ]
    },
    {
     "name": "stderr",
     "output_type": "stream",
     "text": [
      "/Users/minhnhatle/Dropbox (MIT)/Sur/MatchingSimulations/utils.py:151: RuntimeWarning: Mean of empty slice\n",
      "  leftAverage = np.nanmean(choicelst[1::2, :], axis=0)\n",
      "/Users/minhnhatle/Dropbox (MIT)/Sur/MatchingSimulations/utils.py:156: RuntimeWarning: Mean of empty slice\n",
      "  leftAverage = np.nanmean(choicelst[::2, :], axis=0)\n"
     ]
    },
    {
     "name": "stdout",
     "output_type": "stream",
     "text": [
      "0.726 0.22999999999999998\n"
     ]
    },
    {
     "name": "stderr",
     "output_type": "stream",
     "text": [
      "/Users/minhnhatle/Dropbox (MIT)/Sur/MatchingSimulations/utils.py:156: RuntimeWarning: Mean of empty slice\n",
      "  leftAverage = np.nanmean(choicelst[::2, :], axis=0)\n"
     ]
    },
    {
     "name": "stdout",
     "output_type": "stream",
     "text": [
      "0.726 0.274\n"
     ]
    },
    {
     "name": "stderr",
     "output_type": "stream",
     "text": [
      "/Users/minhnhatle/Dropbox (MIT)/Sur/MatchingSimulations/utils.py:156: RuntimeWarning: Mean of empty slice\n",
      "  leftAverage = np.nanmean(choicelst[::2, :], axis=0)\n"
     ]
    },
    {
     "name": "stdout",
     "output_type": "stream",
     "text": [
      "0.726 0.318\n"
     ]
    },
    {
     "name": "stderr",
     "output_type": "stream",
     "text": [
      "/Users/minhnhatle/Dropbox (MIT)/Sur/MatchingSimulations/utils.py:156: RuntimeWarning: Mean of empty slice\n",
      "  leftAverage = np.nanmean(choicelst[::2, :], axis=0)\n"
     ]
    },
    {
     "name": "stdout",
     "output_type": "stream",
     "text": [
      "0.726 0.362\n"
     ]
    },
    {
     "name": "stderr",
     "output_type": "stream",
     "text": [
      "/Users/minhnhatle/Dropbox (MIT)/Sur/MatchingSimulations/utils.py:156: RuntimeWarning: Mean of empty slice\n",
      "  leftAverage = np.nanmean(choicelst[::2, :], axis=0)\n"
     ]
    },
    {
     "name": "stdout",
     "output_type": "stream",
     "text": [
      "0.726 0.40599999999999997\n"
     ]
    },
    {
     "name": "stderr",
     "output_type": "stream",
     "text": [
      "/Users/minhnhatle/Dropbox (MIT)/Sur/MatchingSimulations/utils.py:156: RuntimeWarning: Mean of empty slice\n",
      "  leftAverage = np.nanmean(choicelst[::2, :], axis=0)\n"
     ]
    },
    {
     "name": "stdout",
     "output_type": "stream",
     "text": [
      "0.726 0.45\n"
     ]
    },
    {
     "name": "stderr",
     "output_type": "stream",
     "text": [
      "/Users/minhnhatle/Dropbox (MIT)/Sur/MatchingSimulations/utils.py:156: RuntimeWarning: Mean of empty slice\n",
      "  leftAverage = np.nanmean(choicelst[::2, :], axis=0)\n"
     ]
    },
    {
     "name": "stdout",
     "output_type": "stream",
     "text": [
      "0.77 0.01\n"
     ]
    },
    {
     "name": "stderr",
     "output_type": "stream",
     "text": [
      "/Users/minhnhatle/Dropbox (MIT)/Sur/MatchingSimulations/utils.py:151: RuntimeWarning: Mean of empty slice\n",
      "  leftAverage = np.nanmean(choicelst[1::2, :], axis=0)\n"
     ]
    },
    {
     "name": "stdout",
     "output_type": "stream",
     "text": [
      "0.77 0.054\n"
     ]
    },
    {
     "name": "stderr",
     "output_type": "stream",
     "text": [
      "/Users/minhnhatle/Dropbox (MIT)/Sur/MatchingSimulations/utils.py:151: RuntimeWarning: Mean of empty slice\n",
      "  leftAverage = np.nanmean(choicelst[1::2, :], axis=0)\n",
      "/Users/minhnhatle/Dropbox (MIT)/Sur/MatchingSimulations/utils.py:156: RuntimeWarning: Mean of empty slice\n",
      "  leftAverage = np.nanmean(choicelst[::2, :], axis=0)\n"
     ]
    },
    {
     "name": "stdout",
     "output_type": "stream",
     "text": [
      "0.77 0.09799999999999999\n"
     ]
    },
    {
     "name": "stderr",
     "output_type": "stream",
     "text": [
      "/Users/minhnhatle/Dropbox (MIT)/Sur/MatchingSimulations/utils.py:151: RuntimeWarning: Mean of empty slice\n",
      "  leftAverage = np.nanmean(choicelst[1::2, :], axis=0)\n",
      "/Users/minhnhatle/Dropbox (MIT)/Sur/MatchingSimulations/utils.py:156: RuntimeWarning: Mean of empty slice\n",
      "  leftAverage = np.nanmean(choicelst[::2, :], axis=0)\n"
     ]
    },
    {
     "name": "stdout",
     "output_type": "stream",
     "text": [
      "0.77 0.14200000000000002\n"
     ]
    },
    {
     "name": "stderr",
     "output_type": "stream",
     "text": [
      "/Users/minhnhatle/Dropbox (MIT)/Sur/MatchingSimulations/utils.py:151: RuntimeWarning: Mean of empty slice\n",
      "  leftAverage = np.nanmean(choicelst[1::2, :], axis=0)\n",
      "/Users/minhnhatle/Dropbox (MIT)/Sur/MatchingSimulations/utils.py:156: RuntimeWarning: Mean of empty slice\n",
      "  leftAverage = np.nanmean(choicelst[::2, :], axis=0)\n"
     ]
    },
    {
     "name": "stdout",
     "output_type": "stream",
     "text": [
      "0.77 0.186\n"
     ]
    },
    {
     "name": "stderr",
     "output_type": "stream",
     "text": [
      "/Users/minhnhatle/Dropbox (MIT)/Sur/MatchingSimulations/utils.py:156: RuntimeWarning: Mean of empty slice\n",
      "  leftAverage = np.nanmean(choicelst[::2, :], axis=0)\n"
     ]
    },
    {
     "name": "stdout",
     "output_type": "stream",
     "text": [
      "0.77 0.22999999999999998\n"
     ]
    },
    {
     "name": "stderr",
     "output_type": "stream",
     "text": [
      "/Users/minhnhatle/Dropbox (MIT)/Sur/MatchingSimulations/utils.py:156: RuntimeWarning: Mean of empty slice\n",
      "  leftAverage = np.nanmean(choicelst[::2, :], axis=0)\n"
     ]
    },
    {
     "name": "stdout",
     "output_type": "stream",
     "text": [
      "0.77 0.274\n"
     ]
    },
    {
     "name": "stderr",
     "output_type": "stream",
     "text": [
      "/Users/minhnhatle/Dropbox (MIT)/Sur/MatchingSimulations/utils.py:156: RuntimeWarning: Mean of empty slice\n",
      "  leftAverage = np.nanmean(choicelst[::2, :], axis=0)\n"
     ]
    },
    {
     "name": "stdout",
     "output_type": "stream",
     "text": [
      "0.77 0.318\n"
     ]
    },
    {
     "name": "stderr",
     "output_type": "stream",
     "text": [
      "/Users/minhnhatle/Dropbox (MIT)/Sur/MatchingSimulations/utils.py:156: RuntimeWarning: Mean of empty slice\n",
      "  leftAverage = np.nanmean(choicelst[::2, :], axis=0)\n"
     ]
    },
    {
     "name": "stdout",
     "output_type": "stream",
     "text": [
      "0.77 0.362\n"
     ]
    },
    {
     "name": "stderr",
     "output_type": "stream",
     "text": [
      "/Users/minhnhatle/Dropbox (MIT)/Sur/MatchingSimulations/utils.py:156: RuntimeWarning: Mean of empty slice\n",
      "  leftAverage = np.nanmean(choicelst[::2, :], axis=0)\n"
     ]
    },
    {
     "name": "stdout",
     "output_type": "stream",
     "text": [
      "0.77 0.40599999999999997\n"
     ]
    },
    {
     "name": "stderr",
     "output_type": "stream",
     "text": [
      "/Users/minhnhatle/Dropbox (MIT)/Sur/MatchingSimulations/utils.py:156: RuntimeWarning: Mean of empty slice\n",
      "  leftAverage = np.nanmean(choicelst[::2, :], axis=0)\n"
     ]
    },
    {
     "name": "stdout",
     "output_type": "stream",
     "text": [
      "0.77 0.45\n"
     ]
    },
    {
     "name": "stderr",
     "output_type": "stream",
     "text": [
      "/Users/minhnhatle/Dropbox (MIT)/Sur/MatchingSimulations/utils.py:156: RuntimeWarning: Mean of empty slice\n",
      "  leftAverage = np.nanmean(choicelst[::2, :], axis=0)\n"
     ]
    },
    {
     "name": "stdout",
     "output_type": "stream",
     "text": [
      "0.8140000000000001 0.01\n"
     ]
    },
    {
     "name": "stderr",
     "output_type": "stream",
     "text": [
      "/Users/minhnhatle/Dropbox (MIT)/Sur/MatchingSimulations/utils.py:151: RuntimeWarning: Mean of empty slice\n",
      "  leftAverage = np.nanmean(choicelst[1::2, :], axis=0)\n",
      "/Users/minhnhatle/Dropbox (MIT)/Sur/MatchingSimulations/utils.py:156: RuntimeWarning: Mean of empty slice\n",
      "  leftAverage = np.nanmean(choicelst[::2, :], axis=0)\n"
     ]
    },
    {
     "name": "stdout",
     "output_type": "stream",
     "text": [
      "0.8140000000000001 0.054\n"
     ]
    },
    {
     "name": "stderr",
     "output_type": "stream",
     "text": [
      "/Users/minhnhatle/Dropbox (MIT)/Sur/MatchingSimulations/utils.py:151: RuntimeWarning: Mean of empty slice\n",
      "  leftAverage = np.nanmean(choicelst[1::2, :], axis=0)\n",
      "/Users/minhnhatle/Dropbox (MIT)/Sur/MatchingSimulations/utils.py:156: RuntimeWarning: Mean of empty slice\n",
      "  leftAverage = np.nanmean(choicelst[::2, :], axis=0)\n"
     ]
    },
    {
     "name": "stdout",
     "output_type": "stream",
     "text": [
      "0.8140000000000001 0.09799999999999999\n"
     ]
    },
    {
     "name": "stderr",
     "output_type": "stream",
     "text": [
      "/Users/minhnhatle/Dropbox (MIT)/Sur/MatchingSimulations/utils.py:151: RuntimeWarning: Mean of empty slice\n",
      "  leftAverage = np.nanmean(choicelst[1::2, :], axis=0)\n",
      "/Users/minhnhatle/Dropbox (MIT)/Sur/MatchingSimulations/utils.py:156: RuntimeWarning: Mean of empty slice\n",
      "  leftAverage = np.nanmean(choicelst[::2, :], axis=0)\n"
     ]
    },
    {
     "name": "stdout",
     "output_type": "stream",
     "text": [
      "0.8140000000000001 0.14200000000000002\n"
     ]
    },
    {
     "name": "stderr",
     "output_type": "stream",
     "text": [
      "/Users/minhnhatle/Dropbox (MIT)/Sur/MatchingSimulations/utils.py:151: RuntimeWarning: Mean of empty slice\n",
      "  leftAverage = np.nanmean(choicelst[1::2, :], axis=0)\n",
      "/Users/minhnhatle/Dropbox (MIT)/Sur/MatchingSimulations/utils.py:156: RuntimeWarning: Mean of empty slice\n",
      "  leftAverage = np.nanmean(choicelst[::2, :], axis=0)\n"
     ]
    },
    {
     "name": "stdout",
     "output_type": "stream",
     "text": [
      "0.8140000000000001 0.186\n"
     ]
    },
    {
     "name": "stderr",
     "output_type": "stream",
     "text": [
      "/Users/minhnhatle/Dropbox (MIT)/Sur/MatchingSimulations/utils.py:156: RuntimeWarning: Mean of empty slice\n",
      "  leftAverage = np.nanmean(choicelst[::2, :], axis=0)\n"
     ]
    },
    {
     "name": "stdout",
     "output_type": "stream",
     "text": [
      "0.8140000000000001 0.22999999999999998\n"
     ]
    },
    {
     "name": "stderr",
     "output_type": "stream",
     "text": [
      "/Users/minhnhatle/Dropbox (MIT)/Sur/MatchingSimulations/utils.py:156: RuntimeWarning: Mean of empty slice\n",
      "  leftAverage = np.nanmean(choicelst[::2, :], axis=0)\n"
     ]
    },
    {
     "name": "stdout",
     "output_type": "stream",
     "text": [
      "0.8140000000000001 0.274\n"
     ]
    },
    {
     "name": "stderr",
     "output_type": "stream",
     "text": [
      "/Users/minhnhatle/Dropbox (MIT)/Sur/MatchingSimulations/utils.py:156: RuntimeWarning: Mean of empty slice\n",
      "  leftAverage = np.nanmean(choicelst[::2, :], axis=0)\n"
     ]
    },
    {
     "name": "stdout",
     "output_type": "stream",
     "text": [
      "0.8140000000000001 0.318\n"
     ]
    },
    {
     "name": "stderr",
     "output_type": "stream",
     "text": [
      "/Users/minhnhatle/Dropbox (MIT)/Sur/MatchingSimulations/utils.py:156: RuntimeWarning: Mean of empty slice\n",
      "  leftAverage = np.nanmean(choicelst[::2, :], axis=0)\n"
     ]
    },
    {
     "name": "stdout",
     "output_type": "stream",
     "text": [
      "0.8140000000000001 0.362\n"
     ]
    },
    {
     "name": "stderr",
     "output_type": "stream",
     "text": [
      "/Users/minhnhatle/Dropbox (MIT)/Sur/MatchingSimulations/utils.py:156: RuntimeWarning: Mean of empty slice\n",
      "  leftAverage = np.nanmean(choicelst[::2, :], axis=0)\n"
     ]
    },
    {
     "name": "stdout",
     "output_type": "stream",
     "text": [
      "0.8140000000000001 0.40599999999999997\n"
     ]
    },
    {
     "name": "stderr",
     "output_type": "stream",
     "text": [
      "/Users/minhnhatle/Dropbox (MIT)/Sur/MatchingSimulations/utils.py:156: RuntimeWarning: Mean of empty slice\n",
      "  leftAverage = np.nanmean(choicelst[::2, :], axis=0)\n"
     ]
    },
    {
     "name": "stdout",
     "output_type": "stream",
     "text": [
      "0.8140000000000001 0.45\n"
     ]
    },
    {
     "name": "stderr",
     "output_type": "stream",
     "text": [
      "/Users/minhnhatle/Dropbox (MIT)/Sur/MatchingSimulations/utils.py:156: RuntimeWarning: Mean of empty slice\n",
      "  leftAverage = np.nanmean(choicelst[::2, :], axis=0)\n"
     ]
    },
    {
     "name": "stdout",
     "output_type": "stream",
     "text": [
      "0.8580000000000001 0.01\n"
     ]
    },
    {
     "name": "stderr",
     "output_type": "stream",
     "text": [
      "/Users/minhnhatle/Dropbox (MIT)/Sur/MatchingSimulations/utils.py:151: RuntimeWarning: Mean of empty slice\n",
      "  leftAverage = np.nanmean(choicelst[1::2, :], axis=0)\n",
      "/Users/minhnhatle/Dropbox (MIT)/Sur/MatchingSimulations/utils.py:156: RuntimeWarning: Mean of empty slice\n",
      "  leftAverage = np.nanmean(choicelst[::2, :], axis=0)\n"
     ]
    },
    {
     "name": "stdout",
     "output_type": "stream",
     "text": [
      "0.8580000000000001 0.054\n"
     ]
    },
    {
     "name": "stderr",
     "output_type": "stream",
     "text": [
      "/Users/minhnhatle/Dropbox (MIT)/Sur/MatchingSimulations/utils.py:151: RuntimeWarning: Mean of empty slice\n",
      "  leftAverage = np.nanmean(choicelst[1::2, :], axis=0)\n",
      "/Users/minhnhatle/Dropbox (MIT)/Sur/MatchingSimulations/utils.py:156: RuntimeWarning: Mean of empty slice\n",
      "  leftAverage = np.nanmean(choicelst[::2, :], axis=0)\n"
     ]
    },
    {
     "name": "stdout",
     "output_type": "stream",
     "text": [
      "0.8580000000000001 0.09799999999999999\n"
     ]
    },
    {
     "name": "stderr",
     "output_type": "stream",
     "text": [
      "/Users/minhnhatle/Dropbox (MIT)/Sur/MatchingSimulations/utils.py:151: RuntimeWarning: Mean of empty slice\n",
      "  leftAverage = np.nanmean(choicelst[1::2, :], axis=0)\n",
      "/Users/minhnhatle/Dropbox (MIT)/Sur/MatchingSimulations/utils.py:156: RuntimeWarning: Mean of empty slice\n",
      "  leftAverage = np.nanmean(choicelst[::2, :], axis=0)\n"
     ]
    },
    {
     "name": "stdout",
     "output_type": "stream",
     "text": [
      "0.8580000000000001 0.14200000000000002\n"
     ]
    },
    {
     "name": "stderr",
     "output_type": "stream",
     "text": [
      "/Users/minhnhatle/Dropbox (MIT)/Sur/MatchingSimulations/utils.py:156: RuntimeWarning: Mean of empty slice\n",
      "  leftAverage = np.nanmean(choicelst[::2, :], axis=0)\n"
     ]
    },
    {
     "name": "stdout",
     "output_type": "stream",
     "text": [
      "0.8580000000000001 0.186\n"
     ]
    },
    {
     "name": "stderr",
     "output_type": "stream",
     "text": [
      "/Users/minhnhatle/Dropbox (MIT)/Sur/MatchingSimulations/utils.py:156: RuntimeWarning: Mean of empty slice\n",
      "  leftAverage = np.nanmean(choicelst[::2, :], axis=0)\n"
     ]
    },
    {
     "name": "stdout",
     "output_type": "stream",
     "text": [
      "0.8580000000000001 0.22999999999999998\n"
     ]
    },
    {
     "name": "stderr",
     "output_type": "stream",
     "text": [
      "/Users/minhnhatle/Dropbox (MIT)/Sur/MatchingSimulations/utils.py:156: RuntimeWarning: Mean of empty slice\n",
      "  leftAverage = np.nanmean(choicelst[::2, :], axis=0)\n"
     ]
    },
    {
     "name": "stdout",
     "output_type": "stream",
     "text": [
      "0.8580000000000001 0.274\n"
     ]
    },
    {
     "name": "stderr",
     "output_type": "stream",
     "text": [
      "/Users/minhnhatle/Dropbox (MIT)/Sur/MatchingSimulations/utils.py:156: RuntimeWarning: Mean of empty slice\n",
      "  leftAverage = np.nanmean(choicelst[::2, :], axis=0)\n"
     ]
    },
    {
     "name": "stdout",
     "output_type": "stream",
     "text": [
      "0.8580000000000001 0.318\n"
     ]
    },
    {
     "name": "stderr",
     "output_type": "stream",
     "text": [
      "/Users/minhnhatle/Dropbox (MIT)/Sur/MatchingSimulations/utils.py:156: RuntimeWarning: Mean of empty slice\n",
      "  leftAverage = np.nanmean(choicelst[::2, :], axis=0)\n"
     ]
    },
    {
     "name": "stdout",
     "output_type": "stream",
     "text": [
      "0.8580000000000001 0.362\n"
     ]
    },
    {
     "name": "stderr",
     "output_type": "stream",
     "text": [
      "/Users/minhnhatle/Dropbox (MIT)/Sur/MatchingSimulations/utils.py:156: RuntimeWarning: Mean of empty slice\n",
      "  leftAverage = np.nanmean(choicelst[::2, :], axis=0)\n"
     ]
    },
    {
     "name": "stdout",
     "output_type": "stream",
     "text": [
      "0.8580000000000001 0.40599999999999997\n"
     ]
    },
    {
     "name": "stderr",
     "output_type": "stream",
     "text": [
      "/Users/minhnhatle/Dropbox (MIT)/Sur/MatchingSimulations/utils.py:156: RuntimeWarning: Mean of empty slice\n",
      "  leftAverage = np.nanmean(choicelst[::2, :], axis=0)\n"
     ]
    },
    {
     "name": "stdout",
     "output_type": "stream",
     "text": [
      "0.8580000000000001 0.45\n"
     ]
    },
    {
     "name": "stderr",
     "output_type": "stream",
     "text": [
      "/Users/minhnhatle/Dropbox (MIT)/Sur/MatchingSimulations/utils.py:156: RuntimeWarning: Mean of empty slice\n",
      "  leftAverage = np.nanmean(choicelst[::2, :], axis=0)\n"
     ]
    },
    {
     "name": "stdout",
     "output_type": "stream",
     "text": [
      "0.902 0.01\n"
     ]
    },
    {
     "name": "stderr",
     "output_type": "stream",
     "text": [
      "/Users/minhnhatle/Dropbox (MIT)/Sur/MatchingSimulations/utils.py:151: RuntimeWarning: Mean of empty slice\n",
      "  leftAverage = np.nanmean(choicelst[1::2, :], axis=0)\n",
      "/Users/minhnhatle/Dropbox (MIT)/Sur/MatchingSimulations/utils.py:156: RuntimeWarning: Mean of empty slice\n",
      "  leftAverage = np.nanmean(choicelst[::2, :], axis=0)\n"
     ]
    },
    {
     "name": "stdout",
     "output_type": "stream",
     "text": [
      "0.902 0.054\n"
     ]
    },
    {
     "name": "stderr",
     "output_type": "stream",
     "text": [
      "/Users/minhnhatle/Dropbox (MIT)/Sur/MatchingSimulations/utils.py:151: RuntimeWarning: Mean of empty slice\n",
      "  leftAverage = np.nanmean(choicelst[1::2, :], axis=0)\n",
      "/Users/minhnhatle/Dropbox (MIT)/Sur/MatchingSimulations/utils.py:156: RuntimeWarning: Mean of empty slice\n",
      "  leftAverage = np.nanmean(choicelst[::2, :], axis=0)\n"
     ]
    },
    {
     "name": "stdout",
     "output_type": "stream",
     "text": [
      "0.902 0.09799999999999999\n"
     ]
    },
    {
     "name": "stderr",
     "output_type": "stream",
     "text": [
      "/Users/minhnhatle/Dropbox (MIT)/Sur/MatchingSimulations/utils.py:156: RuntimeWarning: Mean of empty slice\n",
      "  leftAverage = np.nanmean(choicelst[::2, :], axis=0)\n"
     ]
    },
    {
     "name": "stdout",
     "output_type": "stream",
     "text": [
      "0.902 0.14200000000000002\n"
     ]
    },
    {
     "name": "stderr",
     "output_type": "stream",
     "text": [
      "/Users/minhnhatle/Dropbox (MIT)/Sur/MatchingSimulations/utils.py:156: RuntimeWarning: Mean of empty slice\n",
      "  leftAverage = np.nanmean(choicelst[::2, :], axis=0)\n"
     ]
    },
    {
     "name": "stdout",
     "output_type": "stream",
     "text": [
      "0.902 0.186\n"
     ]
    },
    {
     "name": "stderr",
     "output_type": "stream",
     "text": [
      "/Users/minhnhatle/Dropbox (MIT)/Sur/MatchingSimulations/utils.py:156: RuntimeWarning: Mean of empty slice\n",
      "  leftAverage = np.nanmean(choicelst[::2, :], axis=0)\n"
     ]
    },
    {
     "name": "stdout",
     "output_type": "stream",
     "text": [
      "0.902 0.22999999999999998\n"
     ]
    },
    {
     "name": "stderr",
     "output_type": "stream",
     "text": [
      "/Users/minhnhatle/Dropbox (MIT)/Sur/MatchingSimulations/utils.py:156: RuntimeWarning: Mean of empty slice\n",
      "  leftAverage = np.nanmean(choicelst[::2, :], axis=0)\n"
     ]
    },
    {
     "name": "stdout",
     "output_type": "stream",
     "text": [
      "0.902 0.274\n"
     ]
    },
    {
     "name": "stderr",
     "output_type": "stream",
     "text": [
      "/Users/minhnhatle/Dropbox (MIT)/Sur/MatchingSimulations/utils.py:156: RuntimeWarning: Mean of empty slice\n",
      "  leftAverage = np.nanmean(choicelst[::2, :], axis=0)\n"
     ]
    },
    {
     "name": "stdout",
     "output_type": "stream",
     "text": [
      "0.902 0.318\n"
     ]
    },
    {
     "name": "stderr",
     "output_type": "stream",
     "text": [
      "/Users/minhnhatle/Dropbox (MIT)/Sur/MatchingSimulations/utils.py:156: RuntimeWarning: Mean of empty slice\n",
      "  leftAverage = np.nanmean(choicelst[::2, :], axis=0)\n"
     ]
    },
    {
     "name": "stdout",
     "output_type": "stream",
     "text": [
      "0.902 0.362\n"
     ]
    },
    {
     "name": "stderr",
     "output_type": "stream",
     "text": [
      "/Users/minhnhatle/Dropbox (MIT)/Sur/MatchingSimulations/utils.py:156: RuntimeWarning: Mean of empty slice\n",
      "  leftAverage = np.nanmean(choicelst[::2, :], axis=0)\n"
     ]
    },
    {
     "name": "stdout",
     "output_type": "stream",
     "text": [
      "0.902 0.40599999999999997\n"
     ]
    },
    {
     "name": "stderr",
     "output_type": "stream",
     "text": [
      "/Users/minhnhatle/Dropbox (MIT)/Sur/MatchingSimulations/utils.py:156: RuntimeWarning: Mean of empty slice\n",
      "  leftAverage = np.nanmean(choicelst[::2, :], axis=0)\n"
     ]
    },
    {
     "name": "stdout",
     "output_type": "stream",
     "text": [
      "0.902 0.45\n"
     ]
    },
    {
     "name": "stderr",
     "output_type": "stream",
     "text": [
      "/Users/minhnhatle/Dropbox (MIT)/Sur/MatchingSimulations/utils.py:156: RuntimeWarning: Mean of empty slice\n",
      "  leftAverage = np.nanmean(choicelst[::2, :], axis=0)\n"
     ]
    },
    {
     "name": "stdout",
     "output_type": "stream",
     "text": [
      "0.946 0.01\n"
     ]
    },
    {
     "name": "stderr",
     "output_type": "stream",
     "text": [
      "/Users/minhnhatle/Dropbox (MIT)/Sur/MatchingSimulations/utils.py:151: RuntimeWarning: Mean of empty slice\n",
      "  leftAverage = np.nanmean(choicelst[1::2, :], axis=0)\n",
      "/Users/minhnhatle/Dropbox (MIT)/Sur/MatchingSimulations/utils.py:156: RuntimeWarning: Mean of empty slice\n",
      "  leftAverage = np.nanmean(choicelst[::2, :], axis=0)\n"
     ]
    },
    {
     "name": "stdout",
     "output_type": "stream",
     "text": [
      "0.946 0.054\n"
     ]
    },
    {
     "name": "stderr",
     "output_type": "stream",
     "text": [
      "/Users/minhnhatle/Dropbox (MIT)/Sur/MatchingSimulations/utils.py:156: RuntimeWarning: Mean of empty slice\n",
      "  leftAverage = np.nanmean(choicelst[::2, :], axis=0)\n"
     ]
    },
    {
     "name": "stdout",
     "output_type": "stream",
     "text": [
      "0.946 0.09799999999999999\n"
     ]
    },
    {
     "name": "stderr",
     "output_type": "stream",
     "text": [
      "/Users/minhnhatle/Dropbox (MIT)/Sur/MatchingSimulations/utils.py:156: RuntimeWarning: Mean of empty slice\n",
      "  leftAverage = np.nanmean(choicelst[::2, :], axis=0)\n"
     ]
    },
    {
     "name": "stdout",
     "output_type": "stream",
     "text": [
      "0.946 0.14200000000000002\n"
     ]
    },
    {
     "name": "stderr",
     "output_type": "stream",
     "text": [
      "/Users/minhnhatle/Dropbox (MIT)/Sur/MatchingSimulations/utils.py:156: RuntimeWarning: Mean of empty slice\n",
      "  leftAverage = np.nanmean(choicelst[::2, :], axis=0)\n"
     ]
    },
    {
     "name": "stdout",
     "output_type": "stream",
     "text": [
      "0.946 0.186\n"
     ]
    },
    {
     "name": "stderr",
     "output_type": "stream",
     "text": [
      "/Users/minhnhatle/Dropbox (MIT)/Sur/MatchingSimulations/utils.py:156: RuntimeWarning: Mean of empty slice\n",
      "  leftAverage = np.nanmean(choicelst[::2, :], axis=0)\n"
     ]
    },
    {
     "name": "stdout",
     "output_type": "stream",
     "text": [
      "0.946 0.22999999999999998\n"
     ]
    },
    {
     "name": "stderr",
     "output_type": "stream",
     "text": [
      "/Users/minhnhatle/Dropbox (MIT)/Sur/MatchingSimulations/utils.py:156: RuntimeWarning: Mean of empty slice\n",
      "  leftAverage = np.nanmean(choicelst[::2, :], axis=0)\n"
     ]
    },
    {
     "name": "stdout",
     "output_type": "stream",
     "text": [
      "0.946 0.274\n"
     ]
    },
    {
     "name": "stderr",
     "output_type": "stream",
     "text": [
      "/Users/minhnhatle/Dropbox (MIT)/Sur/MatchingSimulations/utils.py:156: RuntimeWarning: Mean of empty slice\n",
      "  leftAverage = np.nanmean(choicelst[::2, :], axis=0)\n"
     ]
    },
    {
     "name": "stdout",
     "output_type": "stream",
     "text": [
      "0.946 0.318\n"
     ]
    },
    {
     "name": "stderr",
     "output_type": "stream",
     "text": [
      "/Users/minhnhatle/Dropbox (MIT)/Sur/MatchingSimulations/utils.py:156: RuntimeWarning: Mean of empty slice\n",
      "  leftAverage = np.nanmean(choicelst[::2, :], axis=0)\n"
     ]
    },
    {
     "name": "stdout",
     "output_type": "stream",
     "text": [
      "0.946 0.362\n"
     ]
    },
    {
     "name": "stderr",
     "output_type": "stream",
     "text": [
      "/Users/minhnhatle/Dropbox (MIT)/Sur/MatchingSimulations/utils.py:156: RuntimeWarning: Mean of empty slice\n",
      "  leftAverage = np.nanmean(choicelst[::2, :], axis=0)\n"
     ]
    },
    {
     "name": "stdout",
     "output_type": "stream",
     "text": [
      "0.946 0.40599999999999997\n"
     ]
    },
    {
     "name": "stderr",
     "output_type": "stream",
     "text": [
      "/Users/minhnhatle/Dropbox (MIT)/Sur/MatchingSimulations/utils.py:156: RuntimeWarning: Mean of empty slice\n",
      "  leftAverage = np.nanmean(choicelst[::2, :], axis=0)\n"
     ]
    },
    {
     "name": "stdout",
     "output_type": "stream",
     "text": [
      "0.946 0.45\n"
     ]
    },
    {
     "name": "stderr",
     "output_type": "stream",
     "text": [
      "/Users/minhnhatle/Dropbox (MIT)/Sur/MatchingSimulations/utils.py:156: RuntimeWarning: Mean of empty slice\n",
      "  leftAverage = np.nanmean(choicelst[::2, :], axis=0)\n"
     ]
    },
    {
     "name": "stdout",
     "output_type": "stream",
     "text": [
      "0.99 0.01\n"
     ]
    },
    {
     "name": "stderr",
     "output_type": "stream",
     "text": [
      "/Users/minhnhatle/Dropbox (MIT)/Sur/MatchingSimulations/utils.py:156: RuntimeWarning: Mean of empty slice\n",
      "  leftAverage = np.nanmean(choicelst[::2, :], axis=0)\n"
     ]
    },
    {
     "name": "stdout",
     "output_type": "stream",
     "text": [
      "0.99 0.054\n"
     ]
    },
    {
     "name": "stderr",
     "output_type": "stream",
     "text": [
      "/Users/minhnhatle/Dropbox (MIT)/Sur/MatchingSimulations/utils.py:156: RuntimeWarning: Mean of empty slice\n",
      "  leftAverage = np.nanmean(choicelst[::2, :], axis=0)\n"
     ]
    },
    {
     "name": "stdout",
     "output_type": "stream",
     "text": [
      "0.99 0.09799999999999999\n"
     ]
    },
    {
     "name": "stderr",
     "output_type": "stream",
     "text": [
      "/Users/minhnhatle/Dropbox (MIT)/Sur/MatchingSimulations/utils.py:156: RuntimeWarning: Mean of empty slice\n",
      "  leftAverage = np.nanmean(choicelst[::2, :], axis=0)\n"
     ]
    },
    {
     "name": "stdout",
     "output_type": "stream",
     "text": [
      "0.99 0.14200000000000002\n"
     ]
    },
    {
     "name": "stderr",
     "output_type": "stream",
     "text": [
      "/Users/minhnhatle/Dropbox (MIT)/Sur/MatchingSimulations/utils.py:156: RuntimeWarning: Mean of empty slice\n",
      "  leftAverage = np.nanmean(choicelst[::2, :], axis=0)\n"
     ]
    },
    {
     "name": "stdout",
     "output_type": "stream",
     "text": [
      "0.99 0.186\n"
     ]
    },
    {
     "name": "stderr",
     "output_type": "stream",
     "text": [
      "/Users/minhnhatle/Dropbox (MIT)/Sur/MatchingSimulations/utils.py:156: RuntimeWarning: Mean of empty slice\n",
      "  leftAverage = np.nanmean(choicelst[::2, :], axis=0)\n"
     ]
    },
    {
     "name": "stdout",
     "output_type": "stream",
     "text": [
      "0.99 0.22999999999999998\n"
     ]
    },
    {
     "name": "stderr",
     "output_type": "stream",
     "text": [
      "/Users/minhnhatle/Dropbox (MIT)/Sur/MatchingSimulations/utils.py:156: RuntimeWarning: Mean of empty slice\n",
      "  leftAverage = np.nanmean(choicelst[::2, :], axis=0)\n"
     ]
    },
    {
     "name": "stdout",
     "output_type": "stream",
     "text": [
      "0.99 0.274\n"
     ]
    },
    {
     "name": "stderr",
     "output_type": "stream",
     "text": [
      "/Users/minhnhatle/Dropbox (MIT)/Sur/MatchingSimulations/utils.py:156: RuntimeWarning: Mean of empty slice\n",
      "  leftAverage = np.nanmean(choicelst[::2, :], axis=0)\n"
     ]
    },
    {
     "name": "stdout",
     "output_type": "stream",
     "text": [
      "0.99 0.318\n"
     ]
    },
    {
     "name": "stderr",
     "output_type": "stream",
     "text": [
      "/Users/minhnhatle/Dropbox (MIT)/Sur/MatchingSimulations/utils.py:156: RuntimeWarning: Mean of empty slice\n",
      "  leftAverage = np.nanmean(choicelst[::2, :], axis=0)\n"
     ]
    },
    {
     "name": "stdout",
     "output_type": "stream",
     "text": [
      "0.99 0.362\n"
     ]
    },
    {
     "name": "stderr",
     "output_type": "stream",
     "text": [
      "/Users/minhnhatle/Dropbox (MIT)/Sur/MatchingSimulations/utils.py:156: RuntimeWarning: Mean of empty slice\n",
      "  leftAverage = np.nanmean(choicelst[::2, :], axis=0)\n"
     ]
    },
    {
     "name": "stdout",
     "output_type": "stream",
     "text": [
      "0.99 0.40599999999999997\n"
     ]
    },
    {
     "name": "stderr",
     "output_type": "stream",
     "text": [
      "/Users/minhnhatle/Dropbox (MIT)/Sur/MatchingSimulations/utils.py:156: RuntimeWarning: Mean of empty slice\n",
      "  leftAverage = np.nanmean(choicelst[::2, :], axis=0)\n"
     ]
    },
    {
     "name": "stdout",
     "output_type": "stream",
     "text": [
      "0.99 0.45\n"
     ]
    },
    {
     "name": "stderr",
     "output_type": "stream",
     "text": [
      "/Users/minhnhatle/Dropbox (MIT)/Sur/MatchingSimulations/utils.py:156: RuntimeWarning: Mean of empty slice\n",
      "  leftAverage = np.nanmean(choicelst[::2, :], axis=0)\n"
     ]
    }
   ],
   "source": [
    "# Get metrics for all points in the IB space\n",
    "prewlst = np.linspace(0.55, 0.99, N)\n",
    "pswitchlst = np.linspace(0.01, 0.45, N)\n",
    "\n",
    "IBeff_arr = np.zeros((N, N, 50)) * np.nan\n",
    "IBlapse_arr = np.zeros((N, N, 50)) * np.nan\n",
    "IBoffset_arr = np.zeros((N, N, 50)) * np.nan\n",
    "IBslope_arr = np.zeros((N, N, 50)) * np.nan\n",
    "\n",
    "\n",
    "for idr, prew in enumerate(prewlst):\n",
    "    for ids, pswitch in enumerate(pswitchlst):\n",
    "        print(prew, pswitch)\n",
    "        metrics = get_IB_metrics(pswitch, prew)\n",
    "        IBeff_arr[idr, ids, :] = metrics[0]\n",
    "        IBlapse_arr[idr, ids, :] = metrics[1]\n",
    "        IBoffset_arr[idr, ids, :] = metrics[2]\n",
    "        IBslope_arr[idr, ids, :] = metrics[3]\n",
    "        "
   ]
  },
  {
   "cell_type": "markdown",
   "metadata": {},
   "source": [
    "### Decoding\n",
    "Here, we will try to use SVM to decode the behavior of Q-learning from inference-based.\n",
    "We pick pairs of parameter sets, one from Q-learning and one from inference-based, to do the decoding"
   ]
  },
  {
   "cell_type": "code",
   "execution_count": 52,
   "metadata": {},
   "outputs": [],
   "source": [
    "# SVM decode\n",
    "decoding_perf = np.zeros((len(gammalst), len(epslst), len(prewlst), len(pswitchlst)))\n",
    "coefs_all0 = np.zeros((len(gammalst), len(epslst), len(prewlst), len(pswitchlst)))\n",
    "coefs_all1 = np.zeros((len(gammalst), len(epslst), len(prewlst), len(pswitchlst)))\n",
    "coefs_all2 = np.zeros((len(gammalst), len(epslst), len(prewlst), len(pswitchlst)))\n",
    "coefs_all3 = np.zeros((len(gammalst), len(epslst), len(prewlst), len(pswitchlst)))\n",
    "\n",
    "for idgamma, gamma in enumerate(gammalst):\n",
    "    for ideps, eps in enumerate(epslst):\n",
    "        for idr, pr in enumerate(prewlst):\n",
    "            for ids, ps in enumerate(pswitchlst):\n",
    "                Qmetrics = [Qeff_arr[idgamma, ideps], Qlapse_arr[idgamma, ideps], \n",
    "                            Qoffset_arr[idgamma, ideps], Qslope_arr[idgamma, ideps]]\n",
    "                IBmetrics = [IBeff_arr[idr, ids], IBlapse_arr[idr, ids], \n",
    "                            IBoffset_arr[idr, ids], IBslope_arr[idr, ids]]\n",
    "                perf, coefs = fit_and_evaluate_svm(Qmetrics, IBmetrics)\n",
    "                decoding_perf[idgamma, ideps, idr, ids] = perf\n",
    "                coefs_all0[idgamma, ideps, idr, ids] = coefs[0][0]\n",
    "                coefs_all1[idgamma, ideps, idr, ids] = coefs[0][1]\n",
    "                coefs_all2[idgamma, ideps, idr, ids] = coefs[0][2]\n",
    "                coefs_all3[idgamma, ideps, idr, ids] = coefs[0][3]\n",
    "\n"
   ]
  },
  {
   "cell_type": "code",
   "execution_count": 57,
   "metadata": {},
   "outputs": [],
   "source": [
    "sim_obj = {'Qeff_arr': Qeff_arr, 'Qlapse_arr': Qlapse_arr, 'Qoffset_arr': Qoffset_arr, \n",
    "          'Qslope_arr': Qslope_arr, 'IBeff_arr': IBeff_arr, 'IBlapse_arr': IBlapse_arr,\n",
    "          'IBslope_arr': IBslope_arr, 'IBoffset_arr': IBoffset_arr,\n",
    "          'coefs0': coefs_all0, 'coefs1': coefs_all1, 'coefs2': coefs_all2,\n",
    "                                   'coefs3': coefs_all3, 'decoding_perf': decoding_perf,\n",
    "                                   'prewlst': prewlst, 'pswitchlst': pswitchlst, 'gammalst': gammalst,\n",
    "                                   'epslst': epslst, 'order': ['gamma', 'eps', 'pr', 'ps']}\n",
    "with open('svmclassifier.pickle', 'wb') as f:\n",
    "    pickle.dump(sim_obj, f)"
   ]
  },
  {
   "cell_type": "code",
   "execution_count": 6,
   "metadata": {},
   "outputs": [],
   "source": [
    "scipy.io.savemat('svmresults2.mat', {'coefs0': coefs_all0, 'coefs1': coefs_all1, 'coefs2': coefs_all2,\n",
    "                                   'coefs3': coefs_all3, 'decoding_perf': decoding_perf,\n",
    "                                   'prewlst': prewlst, 'pswitchlst': pswitchlst, 'gammalst': gammalst,\n",
    "                                   'epslst': epslst, 'order': ['gamma', 'eps', 'pr', 'ps']})"
   ]
  },
  {
   "cell_type": "markdown",
   "metadata": {},
   "source": [
    "## Behavioral session decoding"
   ]
  },
  {
   "cell_type": "code",
   "execution_count": 2,
   "metadata": {},
   "outputs": [],
   "source": [
    "# Load the behavior\n",
    "data = scipy.io.loadmat('f01_all_sessions.mat')\n",
    "\n",
    "# Load the simulation results\n",
    "with open('svmclassifier.pickle', 'rb') as f:\n",
    "    sim_obj = pickle.load(f)\n"
   ]
  },
  {
   "cell_type": "code",
   "execution_count": 3,
   "metadata": {},
   "outputs": [],
   "source": [
    "expdata = {'alltargets': data['targets_cell'][0][107], \n",
    "           'allchoices': data['choices_cell'][0][107]}\n",
    "pR, pL, _, eff = find_experiment_metrics(expdata, window=20)"
   ]
  },
  {
   "cell_type": "code",
   "execution_count": 17,
   "metadata": {},
   "outputs": [],
   "source": [
    "eff_arr_all = np.vstack([sim_obj['Qeff_arr'], sim_obj['IBeff_arr']])\n",
    "lapse_arr_all = np.vstack([sim_obj['Qlapse_arr'], sim_obj['IBlapse_arr']])\n",
    "offset_arr_all = np.vstack([sim_obj['Qoffset_arr'], sim_obj['IBoffset_arr']])\n",
    "slope_arr_all = np.vstack([sim_obj['Qslope_arr'], sim_obj['IBslope_arr']])\n",
    "\n",
    "QIBmetrics = normalize_and_average_all([eff_arr_all,\n",
    "                    lapse_arr_all, offset_arr_all, slope_arr_all])\n",
    "\n",
    "Qdistance2, IBdistance2 = find_Q_IB_distance([eff_arr_all, lapse_arr_all, offset_arr_all, slope_arr_all],\n",
    "                                            QIBmetrics)\n"
   ]
  },
  {
   "cell_type": "code",
   "execution_count": 16,
   "metadata": {},
   "outputs": [],
   "source": [
    "def find_Q_IB_distance(expmetrics, QIBmetrics):\n",
    "    # Normalize the metrics\n",
    "    expeff_norm = (eff - np.mean(expmetrics[0])) / np.std(expmetrics[0])\n",
    "    explapse_norm = (pL[2] - np.mean(expmetrics[1])) / np.std(expmetrics[1])\n",
    "    expoffset_norm = (pL[1] - np.mean(expmetrics[2])) / np.std(expmetrics[2])\n",
    "    expslope_norm = (pL[0] - np.mean(expmetrics[3])) / np.std(expmetrics[3])\n",
    "    \n",
    "    Qeff_norm = QIBmetrics[0][:11,:]\n",
    "    Qlapse_norm = QIBmetrics[1][:11,:]\n",
    "    Qslope_norm = QIBmetrics[3][:11,:]\n",
    "    Qoffset_norm = QIBmetrics[2][:11,:]\n",
    "    IBeff_norm = QIBmetrics[0][11:,:]\n",
    "    IBlapse_norm = QIBmetrics[1][11:,:]\n",
    "    IBslope_norm = QIBmetrics[3][11:,:]\n",
    "    IBoffset_norm = QIBmetrics[2][11:,:]\n",
    "\n",
    "    Qdistance = (Qeff_norm - expeff_norm)**2 + (Qlapse_norm - explapse_norm)**2 + \\\n",
    "            (Qslope_norm - expslope_norm)**2 + (Qoffset_norm - expoffset_norm)**2\n",
    "    IBdistance = (IBeff_norm - expeff_norm)**2 + (IBlapse_norm - explapse_norm)**2 + \\\n",
    "            (IBslope_norm - expslope_norm)**2 + (IBoffset_norm - expoffset_norm)**2\n",
    "    \n",
    "    return Qdistance, IBdistance\n",
    "\n",
    "    "
   ]
  },
  {
   "cell_type": "code",
   "execution_count": 5,
   "metadata": {},
   "outputs": [
    {
     "data": {
      "text/plain": [
       "<matplotlib.colorbar.Colorbar at 0x7f7fb0376760>"
      ]
     },
     "execution_count": 5,
     "metadata": {},
     "output_type": "execute_result"
    },
    {
     "data": {
      "image/png": "[encoded data removed]",
      "text/plain": [
       "<Figure size 720x360 with 4 Axes>"
      ]
     },
     "metadata": {
      "needs_background": "light"
     },
     "output_type": "display_data"
    }
   ],
   "source": [
    "plt.figure(figsize=(10, 5))\n",
    "plt.subplot(121)\n",
    "plt.imshow(Qdistance, vmin=0, vmax=10)\n",
    "plt.colorbar()\n",
    "\n",
    "plt.subplot(122)\n",
    "plt.imshow(IBdistance, vmin=0, vmax=10)\n",
    "plt.colorbar()"
   ]
  },
  {
   "cell_type": "code",
   "execution_count": 14,
   "metadata": {},
   "outputs": [
    {
     "name": "stdout",
     "output_type": "stream",
     "text": [
      "qpos =  [8, 2] . ibpos = [2, 1]\n"
     ]
    },
    {
     "data": {
      "text/plain": [
       "(-5.0, 0.0)"
      ]
     },
     "execution_count": 14,
     "metadata": {},
     "output_type": "execute_result"
    },
    {
     "data": {
      "image/png": "[encoded data removed]",
      "text/plain": [
       "<Figure size 432x288 with 4 Axes>"
      ]
     },
     "metadata": {
      "needs_background": "light"
     },
     "output_type": "display_data"
    }
   ],
   "source": [
    "qpos = [np.where(Qdistance == np.min(Qdistance))[0][0],\n",
    "       np.where(Qdistance == np.min(Qdistance))[1][0]]\n",
    "ibpos = [np.where(IBdistance == np.min(IBdistance))[0][0],\n",
    "        np.where(IBdistance == np.min(IBdistance))[1][0]]\n",
    "print('qpos = ', qpos, '. ibpos =', ibpos)\n",
    "plt.subplot(221)\n",
    "plt.plot(sim_obj['Qeff_arr'][qpos[0], qpos[1]])\n",
    "plt.plot(sim_obj['IBeff_arr'][ibpos[0], ibpos[1]])\n",
    "plt.hlines(eff, 0, 50)\n",
    "\n",
    "plt.subplot(222)\n",
    "plt.plot(sim_obj['Qlapse_arr'][qpos[0], qpos[1]])\n",
    "plt.plot(sim_obj['IBlapse_arr'][ibpos[0], ibpos[1]])\n",
    "plt.hlines(pL[2], 0, 50)\n",
    "\n",
    "\n",
    "plt.subplot(223)\n",
    "plt.plot(sim_obj['Qslope_arr'][qpos[0], qpos[1]])\n",
    "plt.plot(sim_obj['IBslope_arr'][ibpos[0], ibpos[1]])\n",
    "plt.hlines(pL[0], 0, 50)\n",
    "\n",
    "\n",
    "plt.subplot(224)\n",
    "plt.plot(sim_obj['Qoffset_arr'][qpos[0], qpos[1]])\n",
    "plt.plot(sim_obj['IBoffset_arr'][ibpos[0], ibpos[1]])\n",
    "plt.hlines(pL[1], 0, 50)\n",
    "plt.ylim([-5, 0])\n"
   ]
  },
  {
   "cell_type": "code",
   "execution_count": 34,
   "metadata": {},
   "outputs": [
    {
     "data": {
      "text/plain": [
       "0.47002920361038514"
      ]
     },
     "execution_count": 34,
     "metadata": {},
     "output_type": "execute_result"
    }
   ],
   "source": [
    "Qdistance[2,1]"
   ]
  },
  {
   "cell_type": "code",
   "execution_count": 38,
   "metadata": {},
   "outputs": [
    {
     "data": {
      "text/plain": [
       "0.5963499469104858"
      ]
     },
     "execution_count": 38,
     "metadata": {},
     "output_type": "execute_result"
    }
   ],
   "source": [
    "IBdistance[3,3]"
   ]
  },
  {
   "cell_type": "code",
   "execution_count": 22,
   "metadata": {},
   "outputs": [
    {
     "data": {
      "text/plain": [
       "array([[0., 0., 0., 0., 0.],\n",
       "       [0., 0., 0., 0., 0.],\n",
       "       [0., 0., 0., 0., 0.],\n",
       "       [0., 0., 0., 0., 0.],\n",
       "       [0., 0., 0., 0., 0.]])"
      ]
     },
     "execution_count": 22,
     "metadata": {},
     "output_type": "execute_result"
    }
   ],
   "source": [
    "Qeff_norm2 - np.mean(Qeff_norm, axis=2)"
   ]
  },
  {
   "cell_type": "code",
   "execution_count": 20,
   "metadata": {},
   "outputs": [],
   "source": [
    "def normalize_and_average(arr):\n",
    "    normarr = (arr - np.mean(arr)) / np.std(arr)\n",
    "    return np.mean(normarr, axis=2)\n",
    "\n",
    "def normalize_and_average_all(lst):\n",
    "    return [normalize_and_average(elem) for elem in lst]"
   ]
  },
  {
   "cell_type": "code",
   "execution_count": 10,
   "metadata": {},
   "outputs": [
    {
     "data": {
      "text/plain": [
       "<matplotlib.colorbar.Colorbar at 0x7ff15cb18c10>"
      ]
     },
     "execution_count": 10,
     "metadata": {},
     "output_type": "execute_result"
    },
    {
     "data": {
      "image/png": "[encoded data removed]",
      "text/plain": [
       "<Figure size 432x288 with 2 Axes>"
      ]
     },
     "metadata": {
      "needs_background": "light"
     },
     "output_type": "display_data"
    }
   ],
   "source": [
    "plt.imshow(np.mean(Qoffset_norm, axis=2))\n",
    "plt.colorbar()"
   ]
  },
  {
   "cell_type": "code",
   "execution_count": 11,
   "metadata": {},
   "outputs": [
    {
     "data": {
      "text/plain": [
       "array([ 2.33740718, -0.65348981,  0.07979201])"
      ]
     },
     "execution_count": 11,
     "metadata": {},
     "output_type": "execute_result"
    }
   ],
   "source": [
    "pL"
   ]
  },
  {
   "cell_type": "code",
   "execution_count": 12,
   "metadata": {},
   "outputs": [
    {
     "data": {
      "text/plain": [
       "<matplotlib.image.AxesImage at 0x7ff15cd2fa30>"
      ]
     },
     "execution_count": 12,
     "metadata": {},
     "output_type": "execute_result"
    },
    {
     "data": {
      "image/png": "[encoded data removed]",
      "text/plain": [
       "<Figure size 432x288 with 1 Axes>"
      ]
     },
     "metadata": {
      "needs_background": "light"
     },
     "output_type": "display_data"
    }
   ],
   "source": [
    "plt.imshow(arr)"
   ]
  },
  {
   "cell_type": "code",
   "execution_count": 13,
   "metadata": {},
   "outputs": [
    {
     "data": {
      "text/plain": [
       "[<matplotlib.lines.Line2D at 0x7ff15cdc3100>]"
      ]
     },
     "execution_count": 13,
     "metadata": {},
     "output_type": "execute_result"
    },
    {
     "data": {
      "image/png": "[encoded data removed]",
      "text/plain": [
       "<Figure size 432x288 with 1 Axes>"
      ]
     },
     "metadata": {
      "needs_background": "light"
     },
     "output_type": "display_data"
    }
   ],
   "source": [
    "xvals = np.arange(20)\n",
    "p = pR\n",
    "ypred = p[2] + (1 - 2 * p[2]) * 1 / (1 + np.exp(-p[0] * (xvals + p[1])))\n",
    "plt.plot(np.nanmean(arr[1::2, :], axis=0))\n",
    "plt.plot(xvals, ypred)"
   ]
  },
  {
   "cell_type": "code",
   "execution_count": 14,
   "metadata": {},
   "outputs": [
    {
     "data": {
      "text/plain": [
       "array([-5.96505132, -0.7154493 ,  0.0966405 ])"
      ]
     },
     "execution_count": 14,
     "metadata": {},
     "output_type": "execute_result"
    }
   ],
   "source": [
    "pR"
   ]
  },
  {
   "cell_type": "code",
   "execution_count": null,
   "metadata": {},
   "outputs": [],
   "source": []
  }
 ],
 "metadata": {
  "kernelspec": {
   "display_name": "Default",
   "language": "python",
   "name": "default"
  },
  "language_info": {
   "codemirror_mode": {
    "name": "ipython",
    "version": 3
   },
   "file_extension": ".py",
   "mimetype": "text/x-python",
   "name": "python",
   "nbconvert_exporter": "python",
   "pygments_lexer": "ipython3",
   "version": "3.9.5"
  }
 },
 "nbformat": 4,
 "nbformat_minor": 4
}
