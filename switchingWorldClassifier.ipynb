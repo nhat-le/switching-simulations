{
 "cells": [
  {
   "cell_type": "code",
   "execution_count": 44,
   "metadata": {},
   "outputs": [],
   "source": [
    "import numpy as np\n",
    "import matplotlib.pyplot as plt\n",
    "from worldModels import *\n",
    "from sklearn.linear_model import LogisticRegression\n",
    "from sklearn.metrics import classification_report, confusion_matrix\n",
    "import scipy.optimize\n",
    "import scipy.io\n",
    "import os.path\n",
    "from utils import *\n",
    "from run_simulations import *\n",
    "from agents import *\n",
    "import matplotlib.pyplot as plt\n",
    "from sklearn import svm\n",
    "\n",
    "\n",
    "\n",
    "%matplotlib inline\n",
    "%reload_ext autoreload\n",
    "%autoreload 2"
   ]
  },
  {
   "cell_type": "code",
   "execution_count": 58,
   "metadata": {
    "scrolled": true
   },
   "outputs": [
    {
     "name": "stdout",
     "output_type": "stream",
     "text": [
      "Starting q-learning simulation\n",
      "Iteration =  0\n",
      "Iteration =  1\n",
      "Iteration =  2\n"
     ]
    },
    {
     "name": "stderr",
     "output_type": "stream",
     "text": [
      "/Users/minhnhatle/Dropbox (MIT)/Sur/MatchingSimulations/utils.py:43: RuntimeWarning: overflow encountered in exp\n",
      "  return p[2] + (1 - 2 * p[2]) * 1 / (1 + np.exp(-p[0] * (x + p[1])))\n"
     ]
    },
    {
     "name": "stdout",
     "output_type": "stream",
     "text": [
      "Iteration =  3\n",
      "Iteration =  4\n"
     ]
    },
    {
     "name": "stderr",
     "output_type": "stream",
     "text": [
      "/Users/minhnhatle/Dropbox (MIT)/Sur/MatchingSimulations/utils.py:43: RuntimeWarning: overflow encountered in exp\n",
      "  return p[2] + (1 - 2 * p[2]) * 1 / (1 + np.exp(-p[0] * (x + p[1])))\n"
     ]
    },
    {
     "name": "stdout",
     "output_type": "stream",
     "text": [
      "Iteration =  5\n",
      "Iteration =  6\n",
      "Iteration =  7\n",
      "Iteration =  8\n",
      "Iteration =  9\n",
      "Iteration =  10\n",
      "Iteration =  11\n",
      "Iteration =  12\n"
     ]
    },
    {
     "name": "stderr",
     "output_type": "stream",
     "text": [
      "/Users/minhnhatle/Dropbox (MIT)/Sur/MatchingSimulations/utils.py:43: RuntimeWarning: overflow encountered in exp\n",
      "  return p[2] + (1 - 2 * p[2]) * 1 / (1 + np.exp(-p[0] * (x + p[1])))\n"
     ]
    },
    {
     "name": "stdout",
     "output_type": "stream",
     "text": [
      "Iteration =  13\n",
      "Iteration =  14\n",
      "Iteration =  15\n",
      "Iteration =  16\n",
      "Iteration =  17\n",
      "Iteration =  18\n",
      "Iteration =  19\n",
      "Iteration =  20\n",
      "Iteration =  21\n",
      "Iteration =  22\n",
      "Iteration =  23\n",
      "Iteration =  24\n",
      "Iteration =  25\n",
      "Iteration =  26\n",
      "Iteration =  27\n",
      "Iteration =  28\n",
      "Iteration =  29\n",
      "Iteration =  30\n",
      "Iteration =  31\n",
      "Iteration =  32\n",
      "Iteration =  33\n",
      "Iteration =  34\n",
      "Iteration =  35\n",
      "Iteration =  36\n",
      "Iteration =  37\n",
      "Iteration =  38\n",
      "Iteration =  39\n",
      "Iteration =  40\n",
      "Iteration =  41\n",
      "Iteration =  42\n",
      "Iteration =  43\n",
      "Iteration =  44\n"
     ]
    },
    {
     "name": "stderr",
     "output_type": "stream",
     "text": [
      "/Users/minhnhatle/Dropbox (MIT)/Sur/MatchingSimulations/utils.py:43: RuntimeWarning: overflow encountered in exp\n",
      "  return p[2] + (1 - 2 * p[2]) * 1 / (1 + np.exp(-p[0] * (x + p[1])))\n"
     ]
    },
    {
     "name": "stdout",
     "output_type": "stream",
     "text": [
      "Iteration =  45\n",
      "Iteration =  46\n",
      "Iteration =  47\n",
      "Iteration =  48\n"
     ]
    },
    {
     "name": "stderr",
     "output_type": "stream",
     "text": [
      "/Users/minhnhatle/Dropbox (MIT)/Sur/MatchingSimulations/utils.py:43: RuntimeWarning: overflow encountered in exp\n",
      "  return p[2] + (1 - 2 * p[2]) * 1 / (1 + np.exp(-p[0] * (x + p[1])))\n"
     ]
    },
    {
     "name": "stdout",
     "output_type": "stream",
     "text": [
      "Iteration =  49\n",
      "Iteration =  50\n",
      "Iteration =  51\n",
      "Iteration =  52\n",
      "Iteration =  53\n"
     ]
    },
    {
     "name": "stderr",
     "output_type": "stream",
     "text": [
      "/Users/minhnhatle/Dropbox (MIT)/Sur/MatchingSimulations/utils.py:123: RuntimeWarning: Mean of empty slice\n",
      "  rightAverage = np.nanmean(choicelst[::2, :], axis=0)\n"
     ]
    },
    {
     "name": "stdout",
     "output_type": "stream",
     "text": [
      "Iteration =  54\n",
      "Iteration =  55\n",
      "Iteration =  56\n",
      "Iteration =  57\n"
     ]
    },
    {
     "name": "stderr",
     "output_type": "stream",
     "text": [
      "/Users/minhnhatle/Dropbox (MIT)/Sur/MatchingSimulations/utils.py:43: RuntimeWarning: overflow encountered in exp\n",
      "  return p[2] + (1 - 2 * p[2]) * 1 / (1 + np.exp(-p[0] * (x + p[1])))\n"
     ]
    },
    {
     "name": "stdout",
     "output_type": "stream",
     "text": [
      "Iteration =  58\n",
      "Iteration =  59\n",
      "Iteration =  60\n"
     ]
    },
    {
     "name": "stderr",
     "output_type": "stream",
     "text": [
      "/Users/minhnhatle/Dropbox (MIT)/Sur/MatchingSimulations/utils.py:43: RuntimeWarning: overflow encountered in exp\n",
      "  return p[2] + (1 - 2 * p[2]) * 1 / (1 + np.exp(-p[0] * (x + p[1])))\n"
     ]
    },
    {
     "name": "stdout",
     "output_type": "stream",
     "text": [
      "Iteration =  61\n",
      "Iteration =  62\n",
      "Iteration =  63\n",
      "Iteration =  64\n",
      "Iteration =  65\n",
      "Iteration =  66\n",
      "Iteration =  67\n",
      "Iteration =  68\n",
      "Iteration =  69\n",
      "Iteration =  70\n",
      "Iteration =  71\n",
      "Iteration =  72\n"
     ]
    },
    {
     "name": "stderr",
     "output_type": "stream",
     "text": [
      "/Users/minhnhatle/Dropbox (MIT)/Sur/MatchingSimulations/utils.py:43: RuntimeWarning: overflow encountered in exp\n",
      "  return p[2] + (1 - 2 * p[2]) * 1 / (1 + np.exp(-p[0] * (x + p[1])))\n",
      "/Users/minhnhatle/Dropbox (MIT)/Sur/MatchingSimulations/utils.py:43: RuntimeWarning: overflow encountered in exp\n",
      "  return p[2] + (1 - 2 * p[2]) * 1 / (1 + np.exp(-p[0] * (x + p[1])))\n"
     ]
    },
    {
     "name": "stdout",
     "output_type": "stream",
     "text": [
      "Iteration =  73\n",
      "Iteration =  74\n",
      "Iteration =  75\n",
      "Iteration =  76\n",
      "Iteration =  77\n",
      "Iteration =  78\n"
     ]
    },
    {
     "name": "stderr",
     "output_type": "stream",
     "text": [
      "/Users/minhnhatle/Dropbox (MIT)/Sur/MatchingSimulations/utils.py:43: RuntimeWarning: overflow encountered in exp\n",
      "  return p[2] + (1 - 2 * p[2]) * 1 / (1 + np.exp(-p[0] * (x + p[1])))\n"
     ]
    },
    {
     "name": "stdout",
     "output_type": "stream",
     "text": [
      "Iteration =  79\n",
      "Iteration =  80\n",
      "Iteration =  81\n",
      "Iteration =  82\n",
      "Iteration =  83\n",
      "Iteration =  84\n",
      "Iteration =  85\n",
      "Iteration =  86\n"
     ]
    },
    {
     "name": "stderr",
     "output_type": "stream",
     "text": [
      "/Users/minhnhatle/Dropbox (MIT)/Sur/MatchingSimulations/utils.py:127: RuntimeWarning: Mean of empty slice\n",
      "  leftAverage = np.nanmean(choicelst[::2, :], axis=0)\n",
      "/Users/minhnhatle/Dropbox (MIT)/Sur/MatchingSimulations/utils.py:43: RuntimeWarning: overflow encountered in exp\n",
      "  return p[2] + (1 - 2 * p[2]) * 1 / (1 + np.exp(-p[0] * (x + p[1])))\n"
     ]
    },
    {
     "name": "stdout",
     "output_type": "stream",
     "text": [
      "Iteration =  87\n",
      "Iteration =  88\n",
      "Iteration =  89\n",
      "Iteration =  90\n",
      "Iteration =  91\n",
      "Iteration =  92\n",
      "Iteration =  93\n",
      "Iteration =  94\n",
      "Iteration =  95\n",
      "Iteration =  96\n",
      "Iteration =  97\n"
     ]
    },
    {
     "name": "stderr",
     "output_type": "stream",
     "text": [
      "/Users/minhnhatle/Dropbox (MIT)/Sur/MatchingSimulations/utils.py:43: RuntimeWarning: overflow encountered in exp\n",
      "  return p[2] + (1 - 2 * p[2]) * 1 / (1 + np.exp(-p[0] * (x + p[1])))\n"
     ]
    },
    {
     "name": "stdout",
     "output_type": "stream",
     "text": [
      "Iteration =  98\n",
      "Iteration =  99\n",
      "Iteration =  100\n",
      "Iteration =  101\n",
      "Iteration =  102\n",
      "Iteration =  103\n",
      "Iteration =  104\n",
      "Iteration =  105\n",
      "Iteration =  106\n",
      "Iteration =  107\n"
     ]
    },
    {
     "name": "stderr",
     "output_type": "stream",
     "text": [
      "/Users/minhnhatle/Dropbox (MIT)/Sur/MatchingSimulations/utils.py:122: RuntimeWarning: Mean of empty slice\n",
      "  leftAverage = np.nanmean(choicelst[1::2, :], axis=0)\n",
      "/Users/minhnhatle/Dropbox (MIT)/Sur/MatchingSimulations/utils.py:123: RuntimeWarning: Mean of empty slice\n",
      "  rightAverage = np.nanmean(choicelst[::2, :], axis=0)\n"
     ]
    },
    {
     "name": "stdout",
     "output_type": "stream",
     "text": [
      "Iteration =  108\n",
      "Iteration =  109\n",
      "Iteration =  110\n",
      "Iteration =  111\n",
      "Iteration =  112\n",
      "Iteration =  113\n"
     ]
    },
    {
     "name": "stderr",
     "output_type": "stream",
     "text": [
      "/Users/minhnhatle/Dropbox (MIT)/Sur/MatchingSimulations/utils.py:43: RuntimeWarning: overflow encountered in exp\n",
      "  return p[2] + (1 - 2 * p[2]) * 1 / (1 + np.exp(-p[0] * (x + p[1])))\n"
     ]
    },
    {
     "name": "stdout",
     "output_type": "stream",
     "text": [
      "Iteration =  114\n",
      "Iteration =  115\n",
      "Iteration =  116\n"
     ]
    },
    {
     "name": "stderr",
     "output_type": "stream",
     "text": [
      "/Users/minhnhatle/Dropbox (MIT)/Sur/MatchingSimulations/utils.py:43: RuntimeWarning: overflow encountered in exp\n",
      "  return p[2] + (1 - 2 * p[2]) * 1 / (1 + np.exp(-p[0] * (x + p[1])))\n",
      "/Users/minhnhatle/Dropbox (MIT)/Sur/MatchingSimulations/utils.py:43: RuntimeWarning: overflow encountered in exp\n",
      "  return p[2] + (1 - 2 * p[2]) * 1 / (1 + np.exp(-p[0] * (x + p[1])))\n"
     ]
    },
    {
     "name": "stdout",
     "output_type": "stream",
     "text": [
      "Iteration =  117\n",
      "Iteration =  118\n",
      "Iteration =  119\n",
      "Iteration =  120\n",
      "Iteration =  121\n",
      "Iteration =  122\n",
      "Iteration =  123\n",
      "Iteration =  124\n",
      "Iteration =  125\n"
     ]
    },
    {
     "name": "stderr",
     "output_type": "stream",
     "text": [
      "/Users/minhnhatle/Dropbox (MIT)/Sur/MatchingSimulations/utils.py:43: RuntimeWarning: overflow encountered in exp\n",
      "  return p[2] + (1 - 2 * p[2]) * 1 / (1 + np.exp(-p[0] * (x + p[1])))\n"
     ]
    },
    {
     "name": "stdout",
     "output_type": "stream",
     "text": [
      "Iteration =  126\n",
      "Iteration =  127\n",
      "Iteration =  128\n"
     ]
    },
    {
     "name": "stderr",
     "output_type": "stream",
     "text": [
      "/Users/minhnhatle/Dropbox (MIT)/Sur/MatchingSimulations/utils.py:43: RuntimeWarning: overflow encountered in exp\n",
      "  return p[2] + (1 - 2 * p[2]) * 1 / (1 + np.exp(-p[0] * (x + p[1])))\n"
     ]
    },
    {
     "name": "stdout",
     "output_type": "stream",
     "text": [
      "Iteration =  129\n",
      "Iteration =  130\n",
      "Iteration =  131\n"
     ]
    },
    {
     "name": "stderr",
     "output_type": "stream",
     "text": [
      "/Users/minhnhatle/Dropbox (MIT)/Sur/MatchingSimulations/utils.py:43: RuntimeWarning: overflow encountered in exp\n",
      "  return p[2] + (1 - 2 * p[2]) * 1 / (1 + np.exp(-p[0] * (x + p[1])))\n",
      "/Users/minhnhatle/Dropbox (MIT)/Sur/MatchingSimulations/utils.py:43: RuntimeWarning: overflow encountered in exp\n",
      "  return p[2] + (1 - 2 * p[2]) * 1 / (1 + np.exp(-p[0] * (x + p[1])))\n"
     ]
    },
    {
     "name": "stdout",
     "output_type": "stream",
     "text": [
      "Iteration =  132\n",
      "Iteration =  133\n",
      "Iteration =  134\n",
      "Iteration =  135\n",
      "Iteration =  136\n",
      "Iteration =  137\n",
      "Iteration =  138\n",
      "Iteration =  139\n",
      "Iteration =  140\n"
     ]
    },
    {
     "name": "stderr",
     "output_type": "stream",
     "text": [
      "/Users/minhnhatle/Dropbox (MIT)/Sur/MatchingSimulations/utils.py:43: RuntimeWarning: overflow encountered in exp\n",
      "  return p[2] + (1 - 2 * p[2]) * 1 / (1 + np.exp(-p[0] * (x + p[1])))\n",
      "/Users/minhnhatle/Dropbox (MIT)/Sur/MatchingSimulations/utils.py:43: RuntimeWarning: overflow encountered in exp\n",
      "  return p[2] + (1 - 2 * p[2]) * 1 / (1 + np.exp(-p[0] * (x + p[1])))\n"
     ]
    },
    {
     "name": "stdout",
     "output_type": "stream",
     "text": [
      "Iteration =  141\n",
      "Iteration =  142\n",
      "Iteration =  143\n"
     ]
    },
    {
     "name": "stderr",
     "output_type": "stream",
     "text": [
      "/Users/minhnhatle/Dropbox (MIT)/Sur/MatchingSimulations/utils.py:127: RuntimeWarning: Mean of empty slice\n",
      "  leftAverage = np.nanmean(choicelst[::2, :], axis=0)\n",
      "/Users/minhnhatle/Dropbox (MIT)/Sur/MatchingSimulations/utils.py:122: RuntimeWarning: Mean of empty slice\n",
      "  leftAverage = np.nanmean(choicelst[1::2, :], axis=0)\n"
     ]
    },
    {
     "name": "stdout",
     "output_type": "stream",
     "text": [
      "Iteration =  144\n",
      "Iteration =  145\n",
      "Iteration =  146\n"
     ]
    },
    {
     "name": "stderr",
     "output_type": "stream",
     "text": [
      "/Users/minhnhatle/Dropbox (MIT)/Sur/MatchingSimulations/utils.py:43: RuntimeWarning: overflow encountered in exp\n",
      "  return p[2] + (1 - 2 * p[2]) * 1 / (1 + np.exp(-p[0] * (x + p[1])))\n"
     ]
    },
    {
     "name": "stdout",
     "output_type": "stream",
     "text": [
      "Iteration =  147\n",
      "Iteration =  148\n",
      "Iteration =  149\n",
      "Iteration =  150\n",
      "Iteration =  151\n",
      "Iteration =  152\n",
      "Iteration =  153\n",
      "Iteration =  154\n",
      "Iteration =  155\n"
     ]
    },
    {
     "name": "stderr",
     "output_type": "stream",
     "text": [
      "/Users/minhnhatle/Dropbox (MIT)/Sur/MatchingSimulations/utils.py:43: RuntimeWarning: overflow encountered in exp\n",
      "  return p[2] + (1 - 2 * p[2]) * 1 / (1 + np.exp(-p[0] * (x + p[1])))\n",
      "/Users/minhnhatle/Dropbox (MIT)/Sur/MatchingSimulations/utils.py:43: RuntimeWarning: overflow encountered in exp\n",
      "  return p[2] + (1 - 2 * p[2]) * 1 / (1 + np.exp(-p[0] * (x + p[1])))\n"
     ]
    },
    {
     "name": "stdout",
     "output_type": "stream",
     "text": [
      "Iteration =  156\n",
      "Iteration =  157\n",
      "Iteration =  158\n",
      "Iteration =  159\n",
      "Iteration =  160\n",
      "Iteration =  161\n",
      "Iteration =  162\n",
      "Iteration =  163\n"
     ]
    },
    {
     "name": "stderr",
     "output_type": "stream",
     "text": [
      "/Users/minhnhatle/Dropbox (MIT)/Sur/MatchingSimulations/utils.py:43: RuntimeWarning: overflow encountered in exp\n",
      "  return p[2] + (1 - 2 * p[2]) * 1 / (1 + np.exp(-p[0] * (x + p[1])))\n"
     ]
    },
    {
     "name": "stdout",
     "output_type": "stream",
     "text": [
      "Iteration =  164\n",
      "Iteration =  165\n",
      "Iteration =  166\n",
      "Iteration =  167\n",
      "Iteration =  168\n",
      "Iteration =  169\n",
      "Iteration =  170\n",
      "Iteration =  171\n",
      "Iteration =  172\n",
      "Iteration =  173\n",
      "Iteration =  174\n",
      "Iteration =  175\n",
      "Iteration =  176\n",
      "Iteration =  177\n",
      "Iteration =  178\n",
      "Iteration =  179\n",
      "Iteration =  180\n",
      "Iteration =  181\n",
      "Iteration =  182\n",
      "Iteration =  183\n",
      "Iteration =  184\n",
      "Iteration =  185\n",
      "Iteration =  186\n",
      "Iteration =  187\n"
     ]
    },
    {
     "name": "stderr",
     "output_type": "stream",
     "text": [
      "/Users/minhnhatle/Dropbox (MIT)/Sur/MatchingSimulations/utils.py:43: RuntimeWarning: overflow encountered in exp\n",
      "  return p[2] + (1 - 2 * p[2]) * 1 / (1 + np.exp(-p[0] * (x + p[1])))\n"
     ]
    },
    {
     "name": "stdout",
     "output_type": "stream",
     "text": [
      "Iteration =  188\n",
      "Iteration =  189\n",
      "Iteration =  190\n",
      "Iteration =  191\n",
      "Iteration =  192\n",
      "Iteration =  193\n",
      "Iteration =  194\n",
      "Iteration =  195\n",
      "Iteration =  196\n",
      "Iteration =  197\n",
      "Iteration =  198\n",
      "Iteration =  199\n",
      "Iteration =  200\n",
      "Iteration =  201\n",
      "Iteration =  202\n",
      "Iteration =  203\n",
      "Iteration =  204\n",
      "Iteration =  205\n"
     ]
    },
    {
     "name": "stderr",
     "output_type": "stream",
     "text": [
      "/Users/minhnhatle/Dropbox (MIT)/Sur/MatchingSimulations/utils.py:122: RuntimeWarning: Mean of empty slice\n",
      "  leftAverage = np.nanmean(choicelst[1::2, :], axis=0)\n"
     ]
    },
    {
     "name": "stdout",
     "output_type": "stream",
     "text": [
      "Iteration =  206\n",
      "Iteration =  207\n",
      "Iteration =  208\n"
     ]
    },
    {
     "name": "stderr",
     "output_type": "stream",
     "text": [
      "/Users/minhnhatle/Dropbox (MIT)/Sur/MatchingSimulations/utils.py:43: RuntimeWarning: overflow encountered in exp\n",
      "  return p[2] + (1 - 2 * p[2]) * 1 / (1 + np.exp(-p[0] * (x + p[1])))\n"
     ]
    },
    {
     "name": "stdout",
     "output_type": "stream",
     "text": [
      "Iteration =  209\n",
      "Iteration =  210\n",
      "Iteration =  211\n",
      "Iteration =  212\n",
      "Iteration =  213\n",
      "Iteration =  214\n"
     ]
    },
    {
     "name": "stderr",
     "output_type": "stream",
     "text": [
      "/Users/minhnhatle/Dropbox (MIT)/Sur/MatchingSimulations/utils.py:43: RuntimeWarning: overflow encountered in exp\n",
      "  return p[2] + (1 - 2 * p[2]) * 1 / (1 + np.exp(-p[0] * (x + p[1])))\n"
     ]
    },
    {
     "name": "stdout",
     "output_type": "stream",
     "text": [
      "Iteration =  215\n",
      "Iteration =  216\n",
      "Iteration =  217\n"
     ]
    },
    {
     "name": "stderr",
     "output_type": "stream",
     "text": [
      "/Users/minhnhatle/Dropbox (MIT)/Sur/MatchingSimulations/utils.py:43: RuntimeWarning: overflow encountered in exp\n",
      "  return p[2] + (1 - 2 * p[2]) * 1 / (1 + np.exp(-p[0] * (x + p[1])))\n"
     ]
    },
    {
     "name": "stdout",
     "output_type": "stream",
     "text": [
      "Iteration =  218\n",
      "Iteration =  219\n",
      "Iteration =  220\n"
     ]
    },
    {
     "name": "stderr",
     "output_type": "stream",
     "text": [
      "/Users/minhnhatle/Dropbox (MIT)/Sur/MatchingSimulations/utils.py:43: RuntimeWarning: overflow encountered in exp\n",
      "  return p[2] + (1 - 2 * p[2]) * 1 / (1 + np.exp(-p[0] * (x + p[1])))\n"
     ]
    },
    {
     "name": "stdout",
     "output_type": "stream",
     "text": [
      "Iteration =  221\n",
      "Iteration =  222\n",
      "Iteration =  223\n",
      "Iteration =  224\n",
      "Iteration =  225\n",
      "Iteration =  226\n",
      "Iteration =  227\n",
      "Iteration =  228\n",
      "Iteration =  229\n",
      "Iteration =  230\n",
      "Iteration =  231\n",
      "Iteration =  232\n",
      "Iteration =  233\n",
      "Iteration =  234\n",
      "Iteration =  235\n"
     ]
    },
    {
     "name": "stderr",
     "output_type": "stream",
     "text": [
      "/Users/minhnhatle/Dropbox (MIT)/Sur/MatchingSimulations/utils.py:43: RuntimeWarning: overflow encountered in exp\n",
      "  return p[2] + (1 - 2 * p[2]) * 1 / (1 + np.exp(-p[0] * (x + p[1])))\n",
      "/Users/minhnhatle/Dropbox (MIT)/Sur/MatchingSimulations/utils.py:43: RuntimeWarning: overflow encountered in exp\n",
      "  return p[2] + (1 - 2 * p[2]) * 1 / (1 + np.exp(-p[0] * (x + p[1])))\n"
     ]
    },
    {
     "name": "stdout",
     "output_type": "stream",
     "text": [
      "Iteration =  236\n",
      "Iteration =  237\n",
      "Iteration =  238\n"
     ]
    },
    {
     "name": "stderr",
     "output_type": "stream",
     "text": [
      "/Users/minhnhatle/Dropbox (MIT)/Sur/MatchingSimulations/utils.py:43: RuntimeWarning: overflow encountered in exp\n",
      "  return p[2] + (1 - 2 * p[2]) * 1 / (1 + np.exp(-p[0] * (x + p[1])))\n",
      "/Users/minhnhatle/Dropbox (MIT)/Sur/MatchingSimulations/utils.py:126: RuntimeWarning: Mean of empty slice\n",
      "  rightAverage = np.nanmean(choicelst[1::2, :], axis=0)\n"
     ]
    },
    {
     "name": "stdout",
     "output_type": "stream",
     "text": [
      "Iteration =  239\n",
      "Iteration =  240\n",
      "Iteration =  241\n"
     ]
    },
    {
     "name": "stderr",
     "output_type": "stream",
     "text": [
      "/Users/minhnhatle/Dropbox (MIT)/Sur/MatchingSimulations/utils.py:43: RuntimeWarning: overflow encountered in exp\n",
      "  return p[2] + (1 - 2 * p[2]) * 1 / (1 + np.exp(-p[0] * (x + p[1])))\n",
      "/Users/minhnhatle/Dropbox (MIT)/Sur/MatchingSimulations/utils.py:43: RuntimeWarning: overflow encountered in exp\n",
      "  return p[2] + (1 - 2 * p[2]) * 1 / (1 + np.exp(-p[0] * (x + p[1])))\n"
     ]
    },
    {
     "name": "stdout",
     "output_type": "stream",
     "text": [
      "Iteration =  242\n",
      "Iteration =  243\n",
      "Iteration =  244\n",
      "Iteration =  245\n",
      "Iteration =  246\n",
      "Iteration =  247\n"
     ]
    },
    {
     "name": "stderr",
     "output_type": "stream",
     "text": [
      "/Users/minhnhatle/Dropbox (MIT)/Sur/MatchingSimulations/utils.py:43: RuntimeWarning: overflow encountered in exp\n",
      "  return p[2] + (1 - 2 * p[2]) * 1 / (1 + np.exp(-p[0] * (x + p[1])))\n",
      "/Users/minhnhatle/Dropbox (MIT)/Sur/MatchingSimulations/utils.py:43: RuntimeWarning: overflow encountered in exp\n",
      "  return p[2] + (1 - 2 * p[2]) * 1 / (1 + np.exp(-p[0] * (x + p[1])))\n"
     ]
    },
    {
     "name": "stdout",
     "output_type": "stream",
     "text": [
      "Iteration =  248\n",
      "Iteration =  249\n",
      "Iteration =  250\n"
     ]
    },
    {
     "name": "stderr",
     "output_type": "stream",
     "text": [
      "/Users/minhnhatle/Dropbox (MIT)/Sur/MatchingSimulations/utils.py:43: RuntimeWarning: overflow encountered in exp\n",
      "  return p[2] + (1 - 2 * p[2]) * 1 / (1 + np.exp(-p[0] * (x + p[1])))\n"
     ]
    },
    {
     "name": "stdout",
     "output_type": "stream",
     "text": [
      "Iteration =  251\n",
      "Iteration =  252\n",
      "Iteration =  253\n",
      "Iteration =  254\n",
      "Iteration =  255\n",
      "Iteration =  256\n",
      "Iteration =  257\n",
      "Iteration =  258\n",
      "Iteration =  259\n",
      "Iteration =  260\n",
      "Iteration =  261\n"
     ]
    },
    {
     "name": "stderr",
     "output_type": "stream",
     "text": [
      "/Users/minhnhatle/Dropbox (MIT)/Sur/MatchingSimulations/utils.py:126: RuntimeWarning: Mean of empty slice\n",
      "  rightAverage = np.nanmean(choicelst[1::2, :], axis=0)\n"
     ]
    },
    {
     "name": "stdout",
     "output_type": "stream",
     "text": [
      "Iteration =  262\n",
      "Iteration =  263\n"
     ]
    },
    {
     "name": "stderr",
     "output_type": "stream",
     "text": [
      "/Users/minhnhatle/Dropbox (MIT)/Sur/MatchingSimulations/utils.py:43: RuntimeWarning: overflow encountered in exp\n",
      "  return p[2] + (1 - 2 * p[2]) * 1 / (1 + np.exp(-p[0] * (x + p[1])))\n"
     ]
    },
    {
     "name": "stdout",
     "output_type": "stream",
     "text": [
      "Iteration =  264\n",
      "Iteration =  265\n",
      "Iteration =  266\n",
      "Iteration =  267\n",
      "Iteration =  268\n",
      "Iteration =  269\n",
      "Iteration =  270\n",
      "Iteration =  271\n",
      "Iteration =  272\n",
      "Iteration =  273\n",
      "Iteration =  274\n",
      "Iteration =  275\n",
      "Iteration =  276\n",
      "Iteration =  277\n",
      "Iteration =  278\n",
      "Iteration =  279\n",
      "Iteration =  280\n",
      "Iteration =  281\n",
      "Iteration =  282\n",
      "Iteration =  283\n",
      "Iteration =  284\n",
      "Iteration =  285\n",
      "Iteration =  286\n",
      "Iteration =  287\n",
      "Iteration =  288\n",
      "Iteration =  289\n",
      "Iteration =  290\n",
      "Iteration =  291\n"
     ]
    },
    {
     "name": "stderr",
     "output_type": "stream",
     "text": [
      "/Users/minhnhatle/Dropbox (MIT)/Sur/MatchingSimulations/utils.py:43: RuntimeWarning: overflow encountered in exp\n",
      "  return p[2] + (1 - 2 * p[2]) * 1 / (1 + np.exp(-p[0] * (x + p[1])))\n"
     ]
    },
    {
     "name": "stdout",
     "output_type": "stream",
     "text": [
      "Iteration =  292\n",
      "Iteration =  293\n",
      "Iteration =  294\n",
      "Iteration =  295\n",
      "Iteration =  296\n",
      "Iteration =  297\n"
     ]
    },
    {
     "name": "stderr",
     "output_type": "stream",
     "text": [
      "/Users/minhnhatle/Dropbox (MIT)/Sur/MatchingSimulations/utils.py:43: RuntimeWarning: overflow encountered in exp\n",
      "  return p[2] + (1 - 2 * p[2]) * 1 / (1 + np.exp(-p[0] * (x + p[1])))\n",
      "/Users/minhnhatle/Dropbox (MIT)/Sur/MatchingSimulations/utils.py:43: RuntimeWarning: overflow encountered in exp\n",
      "  return p[2] + (1 - 2 * p[2]) * 1 / (1 + np.exp(-p[0] * (x + p[1])))\n",
      "/Users/minhnhatle/Dropbox (MIT)/Sur/MatchingSimulations/utils.py:43: RuntimeWarning: overflow encountered in exp\n",
      "  return p[2] + (1 - 2 * p[2]) * 1 / (1 + np.exp(-p[0] * (x + p[1])))\n"
     ]
    },
    {
     "name": "stdout",
     "output_type": "stream",
     "text": [
      "Iteration =  298\n",
      "Iteration =  299\n",
      "Iteration =  300\n",
      "Iteration =  301\n",
      "Iteration =  302\n",
      "Iteration =  303\n"
     ]
    },
    {
     "name": "stderr",
     "output_type": "stream",
     "text": [
      "/Users/minhnhatle/Dropbox (MIT)/Sur/MatchingSimulations/utils.py:43: RuntimeWarning: overflow encountered in exp\n",
      "  return p[2] + (1 - 2 * p[2]) * 1 / (1 + np.exp(-p[0] * (x + p[1])))\n"
     ]
    },
    {
     "name": "stdout",
     "output_type": "stream",
     "text": [
      "Iteration =  304\n",
      "Iteration =  305\n",
      "Iteration =  306\n",
      "Iteration =  307\n",
      "Iteration =  308\n",
      "Iteration =  309\n"
     ]
    },
    {
     "name": "stderr",
     "output_type": "stream",
     "text": [
      "/Users/minhnhatle/Dropbox (MIT)/Sur/MatchingSimulations/utils.py:43: RuntimeWarning: overflow encountered in exp\n",
      "  return p[2] + (1 - 2 * p[2]) * 1 / (1 + np.exp(-p[0] * (x + p[1])))\n",
      "/Users/minhnhatle/Dropbox (MIT)/Sur/MatchingSimulations/utils.py:127: RuntimeWarning: Mean of empty slice\n",
      "  leftAverage = np.nanmean(choicelst[::2, :], axis=0)\n",
      "/Users/minhnhatle/Dropbox (MIT)/Sur/MatchingSimulations/utils.py:43: RuntimeWarning: overflow encountered in exp\n",
      "  return p[2] + (1 - 2 * p[2]) * 1 / (1 + np.exp(-p[0] * (x + p[1])))\n"
     ]
    },
    {
     "name": "stdout",
     "output_type": "stream",
     "text": [
      "Iteration =  310\n",
      "Iteration =  311\n",
      "Iteration =  312\n",
      "Iteration =  313\n",
      "Iteration =  314\n",
      "Iteration =  315\n",
      "Iteration =  316\n",
      "Iteration =  317\n",
      "Iteration =  318\n",
      "Iteration =  319\n",
      "Iteration =  320\n",
      "Iteration =  321\n",
      "Iteration =  322\n",
      "Iteration =  323\n",
      "Iteration =  324\n"
     ]
    },
    {
     "name": "stderr",
     "output_type": "stream",
     "text": [
      "/Users/minhnhatle/Dropbox (MIT)/Sur/MatchingSimulations/utils.py:122: RuntimeWarning: Mean of empty slice\n",
      "  leftAverage = np.nanmean(choicelst[1::2, :], axis=0)\n"
     ]
    },
    {
     "name": "stdout",
     "output_type": "stream",
     "text": [
      "Iteration =  325\n",
      "Iteration =  326\n",
      "Iteration =  327\n",
      "Iteration =  328\n",
      "Iteration =  329\n",
      "Iteration =  330\n"
     ]
    },
    {
     "name": "stderr",
     "output_type": "stream",
     "text": [
      "/Users/minhnhatle/Dropbox (MIT)/Sur/MatchingSimulations/utils.py:43: RuntimeWarning: overflow encountered in exp\n",
      "  return p[2] + (1 - 2 * p[2]) * 1 / (1 + np.exp(-p[0] * (x + p[1])))\n"
     ]
    },
    {
     "name": "stdout",
     "output_type": "stream",
     "text": [
      "Iteration =  331\n",
      "Iteration =  332\n",
      "Iteration =  333\n"
     ]
    },
    {
     "name": "stderr",
     "output_type": "stream",
     "text": [
      "/Users/minhnhatle/Dropbox (MIT)/Sur/MatchingSimulations/utils.py:43: RuntimeWarning: overflow encountered in exp\n",
      "  return p[2] + (1 - 2 * p[2]) * 1 / (1 + np.exp(-p[0] * (x + p[1])))\n",
      "/Users/minhnhatle/Dropbox (MIT)/Sur/MatchingSimulations/utils.py:43: RuntimeWarning: overflow encountered in exp\n",
      "  return p[2] + (1 - 2 * p[2]) * 1 / (1 + np.exp(-p[0] * (x + p[1])))\n"
     ]
    },
    {
     "name": "stdout",
     "output_type": "stream",
     "text": [
      "Iteration =  334\n",
      "Iteration =  335\n",
      "Iteration =  336\n",
      "Iteration =  337\n",
      "Iteration =  338\n",
      "Iteration =  339\n"
     ]
    },
    {
     "name": "stderr",
     "output_type": "stream",
     "text": [
      "/Users/minhnhatle/Dropbox (MIT)/Sur/MatchingSimulations/utils.py:127: RuntimeWarning: Mean of empty slice\n",
      "  leftAverage = np.nanmean(choicelst[::2, :], axis=0)\n",
      "/Users/minhnhatle/Dropbox (MIT)/Sur/MatchingSimulations/utils.py:43: RuntimeWarning: overflow encountered in exp\n",
      "  return p[2] + (1 - 2 * p[2]) * 1 / (1 + np.exp(-p[0] * (x + p[1])))\n"
     ]
    },
    {
     "name": "stdout",
     "output_type": "stream",
     "text": [
      "Iteration =  340\n",
      "Iteration =  341\n",
      "Iteration =  342\n",
      "Iteration =  343\n",
      "Iteration =  344\n",
      "Iteration =  345\n"
     ]
    },
    {
     "name": "stderr",
     "output_type": "stream",
     "text": [
      "/Users/minhnhatle/Dropbox (MIT)/Sur/MatchingSimulations/utils.py:43: RuntimeWarning: overflow encountered in exp\n",
      "  return p[2] + (1 - 2 * p[2]) * 1 / (1 + np.exp(-p[0] * (x + p[1])))\n"
     ]
    },
    {
     "name": "stdout",
     "output_type": "stream",
     "text": [
      "Iteration =  346\n",
      "Iteration =  347\n",
      "Iteration =  348\n",
      "Iteration =  349\n"
     ]
    },
    {
     "name": "stderr",
     "output_type": "stream",
     "text": [
      "/Users/minhnhatle/Dropbox (MIT)/Sur/MatchingSimulations/utils.py:43: RuntimeWarning: overflow encountered in exp\n",
      "  return p[2] + (1 - 2 * p[2]) * 1 / (1 + np.exp(-p[0] * (x + p[1])))\n"
     ]
    },
    {
     "name": "stdout",
     "output_type": "stream",
     "text": [
      "Iteration =  350\n",
      "Iteration =  351\n"
     ]
    },
    {
     "name": "stderr",
     "output_type": "stream",
     "text": [
      "/Users/minhnhatle/Dropbox (MIT)/Sur/MatchingSimulations/utils.py:126: RuntimeWarning: Mean of empty slice\n",
      "  rightAverage = np.nanmean(choicelst[1::2, :], axis=0)\n"
     ]
    },
    {
     "name": "stdout",
     "output_type": "stream",
     "text": [
      "Iteration =  352\n",
      "Iteration =  353\n",
      "Iteration =  354\n",
      "Iteration =  355\n",
      "Iteration =  356\n",
      "Iteration =  357\n",
      "Iteration =  358\n",
      "Iteration =  359\n",
      "Iteration =  360\n",
      "Iteration =  361\n",
      "Iteration =  362\n",
      "Iteration =  363\n"
     ]
    },
    {
     "name": "stderr",
     "output_type": "stream",
     "text": [
      "/Users/minhnhatle/Dropbox (MIT)/Sur/MatchingSimulations/utils.py:43: RuntimeWarning: overflow encountered in exp\n",
      "  return p[2] + (1 - 2 * p[2]) * 1 / (1 + np.exp(-p[0] * (x + p[1])))\n"
     ]
    },
    {
     "name": "stdout",
     "output_type": "stream",
     "text": [
      "Iteration =  364\n",
      "Iteration =  365\n",
      "Iteration =  366\n",
      "Iteration =  367\n",
      "Iteration =  368\n",
      "Iteration =  369\n",
      "Iteration =  370\n"
     ]
    },
    {
     "name": "stderr",
     "output_type": "stream",
     "text": [
      "/Users/minhnhatle/Dropbox (MIT)/Sur/MatchingSimulations/utils.py:43: RuntimeWarning: overflow encountered in exp\n",
      "  return p[2] + (1 - 2 * p[2]) * 1 / (1 + np.exp(-p[0] * (x + p[1])))\n"
     ]
    },
    {
     "name": "stdout",
     "output_type": "stream",
     "text": [
      "Iteration =  371\n",
      "Iteration =  372\n"
     ]
    },
    {
     "name": "stderr",
     "output_type": "stream",
     "text": [
      "/Users/minhnhatle/Dropbox (MIT)/Sur/MatchingSimulations/utils.py:43: RuntimeWarning: overflow encountered in exp\n",
      "  return p[2] + (1 - 2 * p[2]) * 1 / (1 + np.exp(-p[0] * (x + p[1])))\n"
     ]
    },
    {
     "name": "stdout",
     "output_type": "stream",
     "text": [
      "Iteration =  373\n",
      "Iteration =  374\n",
      "Iteration =  375\n",
      "Iteration =  376\n",
      "Iteration =  377\n"
     ]
    },
    {
     "name": "stderr",
     "output_type": "stream",
     "text": [
      "/Users/minhnhatle/Dropbox (MIT)/Sur/MatchingSimulations/utils.py:43: RuntimeWarning: overflow encountered in exp\n",
      "  return p[2] + (1 - 2 * p[2]) * 1 / (1 + np.exp(-p[0] * (x + p[1])))\n",
      "/Users/minhnhatle/Dropbox (MIT)/Sur/MatchingSimulations/utils.py:126: RuntimeWarning: Mean of empty slice\n",
      "  rightAverage = np.nanmean(choicelst[1::2, :], axis=0)\n"
     ]
    },
    {
     "name": "stdout",
     "output_type": "stream",
     "text": [
      "Iteration =  378\n",
      "Iteration =  379\n",
      "Iteration =  380\n",
      "Iteration =  381\n",
      "Iteration =  382\n"
     ]
    },
    {
     "name": "stderr",
     "output_type": "stream",
     "text": [
      "/Users/minhnhatle/Dropbox (MIT)/Sur/MatchingSimulations/utils.py:43: RuntimeWarning: overflow encountered in exp\n",
      "  return p[2] + (1 - 2 * p[2]) * 1 / (1 + np.exp(-p[0] * (x + p[1])))\n"
     ]
    },
    {
     "name": "stdout",
     "output_type": "stream",
     "text": [
      "Iteration =  383\n",
      "Iteration =  384\n"
     ]
    },
    {
     "name": "stderr",
     "output_type": "stream",
     "text": [
      "/Users/minhnhatle/Dropbox (MIT)/Sur/MatchingSimulations/utils.py:43: RuntimeWarning: overflow encountered in exp\n",
      "  return p[2] + (1 - 2 * p[2]) * 1 / (1 + np.exp(-p[0] * (x + p[1])))\n"
     ]
    },
    {
     "name": "stdout",
     "output_type": "stream",
     "text": [
      "Iteration =  385\n",
      "Iteration =  386\n",
      "Iteration =  387\n",
      "Iteration =  388\n",
      "Iteration =  389\n",
      "Iteration =  390\n",
      "Iteration =  391\n",
      "Iteration =  392\n",
      "Iteration =  393\n",
      "Iteration =  394\n",
      "Iteration =  395\n",
      "Iteration =  396\n"
     ]
    },
    {
     "name": "stderr",
     "output_type": "stream",
     "text": [
      "/Users/minhnhatle/Dropbox (MIT)/Sur/MatchingSimulations/utils.py:43: RuntimeWarning: overflow encountered in exp\n",
      "  return p[2] + (1 - 2 * p[2]) * 1 / (1 + np.exp(-p[0] * (x + p[1])))\n"
     ]
    },
    {
     "name": "stdout",
     "output_type": "stream",
     "text": [
      "Iteration =  397\n",
      "Iteration =  398\n"
     ]
    },
    {
     "name": "stderr",
     "output_type": "stream",
     "text": [
      "/Users/minhnhatle/Dropbox (MIT)/Sur/MatchingSimulations/utils.py:122: RuntimeWarning: Mean of empty slice\n",
      "  leftAverage = np.nanmean(choicelst[1::2, :], axis=0)\n"
     ]
    },
    {
     "name": "stdout",
     "output_type": "stream",
     "text": [
      "Iteration =  399\n",
      "Iteration =  400\n",
      "Iteration =  401\n",
      "Iteration =  402\n",
      "Iteration =  403\n",
      "Iteration =  404\n",
      "Iteration =  405\n",
      "Iteration =  406\n",
      "Iteration =  407\n",
      "Iteration =  408\n",
      "Iteration =  409\n"
     ]
    },
    {
     "name": "stderr",
     "output_type": "stream",
     "text": [
      "/Users/minhnhatle/Dropbox (MIT)/Sur/MatchingSimulations/utils.py:43: RuntimeWarning: overflow encountered in exp\n",
      "  return p[2] + (1 - 2 * p[2]) * 1 / (1 + np.exp(-p[0] * (x + p[1])))\n"
     ]
    },
    {
     "name": "stdout",
     "output_type": "stream",
     "text": [
      "Iteration =  410\n",
      "Iteration =  411\n",
      "Iteration =  412\n",
      "Iteration =  413\n",
      "Iteration =  414\n",
      "Iteration =  415\n"
     ]
    },
    {
     "name": "stderr",
     "output_type": "stream",
     "text": [
      "/Users/minhnhatle/Dropbox (MIT)/Sur/MatchingSimulations/utils.py:43: RuntimeWarning: overflow encountered in exp\n",
      "  return p[2] + (1 - 2 * p[2]) * 1 / (1 + np.exp(-p[0] * (x + p[1])))\n"
     ]
    },
    {
     "name": "stdout",
     "output_type": "stream",
     "text": [
      "Iteration =  416\n",
      "Iteration =  417\n",
      "Iteration =  418\n",
      "Iteration =  419\n",
      "Iteration =  420\n",
      "Iteration =  421\n",
      "Iteration =  422\n",
      "Iteration =  423\n",
      "Iteration =  424\n"
     ]
    },
    {
     "name": "stderr",
     "output_type": "stream",
     "text": [
      "/Users/minhnhatle/Dropbox (MIT)/Sur/MatchingSimulations/utils.py:43: RuntimeWarning: overflow encountered in exp\n",
      "  return p[2] + (1 - 2 * p[2]) * 1 / (1 + np.exp(-p[0] * (x + p[1])))\n"
     ]
    },
    {
     "name": "stdout",
     "output_type": "stream",
     "text": [
      "Iteration =  425\n",
      "Iteration =  426\n",
      "Iteration =  427\n",
      "Iteration =  428\n",
      "Iteration =  429\n",
      "Iteration =  430\n",
      "Iteration =  431\n",
      "Iteration =  432\n",
      "Iteration =  433\n",
      "Iteration =  434\n",
      "Iteration =  435\n",
      "Iteration =  436\n",
      "Iteration =  437\n",
      "Iteration =  438\n",
      "Iteration =  439\n",
      "Iteration =  440\n",
      "Iteration =  441\n"
     ]
    },
    {
     "name": "stderr",
     "output_type": "stream",
     "text": [
      "/Users/minhnhatle/Dropbox (MIT)/Sur/MatchingSimulations/utils.py:43: RuntimeWarning: overflow encountered in exp\n",
      "  return p[2] + (1 - 2 * p[2]) * 1 / (1 + np.exp(-p[0] * (x + p[1])))\n"
     ]
    },
    {
     "name": "stdout",
     "output_type": "stream",
     "text": [
      "Iteration =  442\n",
      "Iteration =  443\n",
      "Iteration =  444\n"
     ]
    },
    {
     "name": "stderr",
     "output_type": "stream",
     "text": [
      "/Users/minhnhatle/Dropbox (MIT)/Sur/MatchingSimulations/utils.py:43: RuntimeWarning: overflow encountered in exp\n",
      "  return p[2] + (1 - 2 * p[2]) * 1 / (1 + np.exp(-p[0] * (x + p[1])))\n"
     ]
    },
    {
     "name": "stdout",
     "output_type": "stream",
     "text": [
      "Iteration =  445\n",
      "Iteration =  446\n",
      "Iteration =  447\n"
     ]
    },
    {
     "name": "stderr",
     "output_type": "stream",
     "text": [
      "/Users/minhnhatle/Dropbox (MIT)/Sur/MatchingSimulations/utils.py:43: RuntimeWarning: overflow encountered in exp\n",
      "  return p[2] + (1 - 2 * p[2]) * 1 / (1 + np.exp(-p[0] * (x + p[1])))\n",
      "/Users/minhnhatle/Dropbox (MIT)/Sur/MatchingSimulations/utils.py:43: RuntimeWarning: overflow encountered in exp\n",
      "  return p[2] + (1 - 2 * p[2]) * 1 / (1 + np.exp(-p[0] * (x + p[1])))\n"
     ]
    },
    {
     "name": "stdout",
     "output_type": "stream",
     "text": [
      "Iteration =  448\n",
      "Iteration =  449\n",
      "Iteration =  450\n",
      "Iteration =  451\n",
      "Iteration =  452\n",
      "Iteration =  453\n",
      "Iteration =  454\n",
      "Iteration =  455\n",
      "Iteration =  456\n"
     ]
    },
    {
     "name": "stderr",
     "output_type": "stream",
     "text": [
      "/Users/minhnhatle/Dropbox (MIT)/Sur/MatchingSimulations/utils.py:43: RuntimeWarning: overflow encountered in exp\n",
      "  return p[2] + (1 - 2 * p[2]) * 1 / (1 + np.exp(-p[0] * (x + p[1])))\n"
     ]
    },
    {
     "name": "stdout",
     "output_type": "stream",
     "text": [
      "Iteration =  457\n",
      "Iteration =  458\n",
      "Iteration =  459\n",
      "Iteration =  460\n",
      "Iteration =  461\n"
     ]
    },
    {
     "name": "stderr",
     "output_type": "stream",
     "text": [
      "/Users/minhnhatle/Dropbox (MIT)/Sur/MatchingSimulations/utils.py:43: RuntimeWarning: overflow encountered in exp\n",
      "  return p[2] + (1 - 2 * p[2]) * 1 / (1 + np.exp(-p[0] * (x + p[1])))\n",
      "/Users/minhnhatle/Dropbox (MIT)/Sur/MatchingSimulations/utils.py:43: RuntimeWarning: overflow encountered in exp\n",
      "  return p[2] + (1 - 2 * p[2]) * 1 / (1 + np.exp(-p[0] * (x + p[1])))\n",
      "/Users/minhnhatle/Dropbox (MIT)/Sur/MatchingSimulations/utils.py:43: RuntimeWarning: overflow encountered in exp\n",
      "  return p[2] + (1 - 2 * p[2]) * 1 / (1 + np.exp(-p[0] * (x + p[1])))\n"
     ]
    },
    {
     "name": "stdout",
     "output_type": "stream",
     "text": [
      "Iteration =  462\n",
      "Iteration =  463\n",
      "Iteration =  464\n",
      "Iteration =  465\n",
      "Iteration =  466\n",
      "Iteration =  467\n",
      "Iteration =  468\n",
      "Iteration =  469\n",
      "Iteration =  470\n"
     ]
    },
    {
     "name": "stderr",
     "output_type": "stream",
     "text": [
      "/Users/minhnhatle/Dropbox (MIT)/Sur/MatchingSimulations/utils.py:43: RuntimeWarning: overflow encountered in exp\n",
      "  return p[2] + (1 - 2 * p[2]) * 1 / (1 + np.exp(-p[0] * (x + p[1])))\n"
     ]
    },
    {
     "name": "stdout",
     "output_type": "stream",
     "text": [
      "Iteration =  471\n",
      "Iteration =  472\n",
      "Iteration =  473\n",
      "Iteration =  474\n",
      "Iteration =  475\n",
      "Iteration =  476\n"
     ]
    },
    {
     "name": "stderr",
     "output_type": "stream",
     "text": [
      "/Users/minhnhatle/Dropbox (MIT)/Sur/MatchingSimulations/utils.py:43: RuntimeWarning: overflow encountered in exp\n",
      "  return p[2] + (1 - 2 * p[2]) * 1 / (1 + np.exp(-p[0] * (x + p[1])))\n"
     ]
    },
    {
     "name": "stdout",
     "output_type": "stream",
     "text": [
      "Iteration =  477\n",
      "Iteration =  478\n",
      "Iteration =  479\n",
      "Iteration =  480\n",
      "Iteration =  481\n",
      "Iteration =  482\n",
      "Iteration =  483\n",
      "Iteration =  484\n",
      "Iteration =  485\n",
      "Iteration =  486\n",
      "Iteration =  487\n",
      "Iteration =  488\n",
      "Iteration =  489\n",
      "Iteration =  490\n",
      "Iteration =  491\n",
      "Iteration =  492\n",
      "Iteration =  493\n",
      "Iteration =  494\n",
      "Iteration =  495\n",
      "Iteration =  496\n",
      "Iteration =  497\n",
      "Iteration =  498\n",
      "Iteration =  499\n"
     ]
    },
    {
     "name": "stderr",
     "output_type": "stream",
     "text": [
      "/Users/minhnhatle/Dropbox (MIT)/Sur/MatchingSimulations/utils.py:43: RuntimeWarning: overflow encountered in exp\n",
      "  return p[2] + (1 - 2 * p[2]) * 1 / (1 + np.exp(-p[0] * (x + p[1])))\n"
     ]
    },
    {
     "name": "stdout",
     "output_type": "stream",
     "text": [
      "Starting inf-based simulation\n",
      "Iteration =  0\n",
      "Iteration =  1\n",
      "Iteration =  2\n",
      "Iteration =  3\n",
      "Iteration =  4\n",
      "Iteration =  5\n",
      "Iteration =  6\n",
      "Iteration =  7\n",
      "Iteration =  8\n",
      "Iteration =  9\n",
      "Iteration =  10\n",
      "Iteration =  11\n",
      "Iteration =  12\n",
      "Iteration =  13\n",
      "Iteration =  14\n",
      "Iteration =  15\n",
      "Iteration =  16\n",
      "Iteration =  17\n",
      "Iteration =  18\n",
      "Iteration =  19\n",
      "Iteration =  20\n",
      "Iteration =  21\n",
      "Iteration =  22\n",
      "Iteration =  23\n",
      "Iteration =  24\n",
      "Iteration =  25\n",
      "Iteration =  26\n",
      "Iteration =  27\n",
      "Iteration =  28\n",
      "Iteration =  29\n",
      "Iteration =  30\n",
      "Iteration =  31\n",
      "Iteration =  32\n",
      "Iteration =  33\n",
      "Iteration =  34\n",
      "Iteration =  35\n",
      "Iteration =  36\n",
      "Iteration =  37\n",
      "Iteration =  38\n",
      "Iteration =  39\n",
      "Iteration =  40\n",
      "Iteration =  41\n",
      "Iteration =  42\n",
      "Iteration =  43\n",
      "Iteration =  44\n"
     ]
    },
    {
     "name": "stderr",
     "output_type": "stream",
     "text": [
      "/Users/minhnhatle/Dropbox (MIT)/Sur/MatchingSimulations/utils.py:127: RuntimeWarning: Mean of empty slice\n",
      "  leftAverage = np.nanmean(choicelst[::2, :], axis=0)\n"
     ]
    },
    {
     "name": "stdout",
     "output_type": "stream",
     "text": [
      "Iteration =  45\n",
      "Iteration =  46\n",
      "Iteration =  47\n",
      "Iteration =  48\n",
      "Iteration =  49\n",
      "Iteration =  50\n",
      "Iteration =  51\n",
      "Iteration =  52\n",
      "Iteration =  53\n",
      "Iteration =  54\n",
      "Iteration =  55\n",
      "Iteration =  56\n",
      "Iteration =  57\n",
      "Iteration =  58\n",
      "Iteration =  59\n",
      "Iteration =  60\n",
      "Iteration =  61\n",
      "Iteration =  62\n",
      "Iteration =  63\n",
      "Iteration =  64\n",
      "Iteration =  65\n",
      "Iteration =  66\n",
      "Iteration =  67\n",
      "Iteration =  68\n",
      "Iteration =  69\n",
      "Iteration =  70\n",
      "Iteration =  71\n",
      "Iteration =  72\n",
      "Iteration =  73\n",
      "Iteration =  74\n",
      "Iteration =  75\n",
      "Iteration =  76\n",
      "Iteration =  77\n",
      "Iteration =  78\n",
      "Iteration =  79\n",
      "Iteration =  80\n",
      "Iteration =  81\n",
      "Iteration =  82\n",
      "Iteration =  83\n",
      "Iteration =  84\n",
      "Iteration =  85\n",
      "Iteration =  86\n",
      "Iteration =  87\n",
      "Iteration =  88\n",
      "Iteration =  89\n",
      "Iteration =  90\n",
      "Iteration =  91\n",
      "Iteration =  92\n",
      "Iteration =  93\n",
      "Iteration =  94\n",
      "Iteration =  95\n"
     ]
    },
    {
     "name": "stderr",
     "output_type": "stream",
     "text": [
      "/Users/minhnhatle/Dropbox (MIT)/Sur/MatchingSimulations/utils.py:122: RuntimeWarning: Mean of empty slice\n",
      "  leftAverage = np.nanmean(choicelst[1::2, :], axis=0)\n"
     ]
    },
    {
     "name": "stdout",
     "output_type": "stream",
     "text": [
      "Iteration =  96\n",
      "Iteration =  97\n",
      "Iteration =  98\n"
     ]
    },
    {
     "name": "stderr",
     "output_type": "stream",
     "text": [
      "/Users/minhnhatle/Dropbox (MIT)/Sur/MatchingSimulations/utils.py:127: RuntimeWarning: Mean of empty slice\n",
      "  leftAverage = np.nanmean(choicelst[::2, :], axis=0)\n"
     ]
    },
    {
     "name": "stdout",
     "output_type": "stream",
     "text": [
      "Iteration =  99\n",
      "Iteration =  100\n",
      "Iteration =  101\n",
      "Iteration =  102\n",
      "Iteration =  103\n",
      "Iteration =  104\n",
      "Iteration =  105\n",
      "Iteration =  106\n",
      "Iteration =  107\n",
      "Iteration =  108\n",
      "Iteration =  109\n",
      "Iteration =  110\n",
      "Iteration =  111\n",
      "Iteration =  112\n",
      "Iteration =  113\n",
      "Iteration =  114\n",
      "Iteration =  115\n",
      "Iteration =  116\n",
      "Iteration =  117\n",
      "Iteration =  118\n",
      "Iteration =  119\n",
      "Iteration =  120\n",
      "Iteration =  121\n",
      "Iteration =  122\n",
      "Iteration =  123\n",
      "Iteration =  124\n",
      "Iteration =  125\n",
      "Iteration =  126\n",
      "Iteration =  127\n",
      "Iteration =  128\n",
      "Iteration =  129\n",
      "Iteration =  130\n",
      "Iteration =  131\n",
      "Iteration =  132\n",
      "Iteration =  133\n",
      "Iteration =  134\n",
      "Iteration =  135\n",
      "Iteration =  136\n",
      "Iteration =  137\n",
      "Iteration =  138\n",
      "Iteration =  139\n",
      "Iteration =  140\n",
      "Iteration =  141\n",
      "Iteration =  142\n",
      "Iteration =  143\n"
     ]
    },
    {
     "name": "stderr",
     "output_type": "stream",
     "text": [
      "/Users/minhnhatle/Dropbox (MIT)/Sur/MatchingSimulations/utils.py:127: RuntimeWarning: Mean of empty slice\n",
      "  leftAverage = np.nanmean(choicelst[::2, :], axis=0)\n",
      "/Users/minhnhatle/Dropbox (MIT)/Sur/MatchingSimulations/utils.py:126: RuntimeWarning: Mean of empty slice\n",
      "  rightAverage = np.nanmean(choicelst[1::2, :], axis=0)\n"
     ]
    },
    {
     "name": "stdout",
     "output_type": "stream",
     "text": [
      "Iteration =  144\n",
      "Iteration =  145\n",
      "Iteration =  146\n",
      "Iteration =  147\n",
      "Iteration =  148\n",
      "Iteration =  149\n",
      "Iteration =  150\n",
      "Iteration =  151\n",
      "Iteration =  152\n",
      "Iteration =  153\n",
      "Iteration =  154\n",
      "Iteration =  155\n",
      "Iteration =  156\n",
      "Iteration =  157\n",
      "Iteration =  158\n",
      "Iteration =  159\n",
      "Iteration =  160\n",
      "Iteration =  161\n",
      "Iteration =  162\n",
      "Iteration =  163\n",
      "Iteration =  164\n",
      "Iteration =  165\n",
      "Iteration =  166\n",
      "Iteration =  167\n",
      "Iteration =  168\n",
      "Iteration =  169\n",
      "Iteration =  170\n"
     ]
    },
    {
     "name": "stderr",
     "output_type": "stream",
     "text": [
      "/Users/minhnhatle/Dropbox (MIT)/Sur/MatchingSimulations/utils.py:127: RuntimeWarning: Mean of empty slice\n",
      "  leftAverage = np.nanmean(choicelst[::2, :], axis=0)\n"
     ]
    },
    {
     "name": "stdout",
     "output_type": "stream",
     "text": [
      "Iteration =  171\n",
      "Iteration =  172\n",
      "Iteration =  173\n",
      "Iteration =  174\n",
      "Iteration =  175\n",
      "Iteration =  176\n",
      "Iteration =  177\n",
      "Iteration =  178\n",
      "Iteration =  179\n",
      "Iteration =  180\n",
      "Iteration =  181\n",
      "Iteration =  182\n",
      "Iteration =  183\n",
      "Iteration =  184\n",
      "Iteration =  185\n",
      "Iteration =  186\n",
      "Iteration =  187\n",
      "Iteration =  188\n",
      "Iteration =  189\n",
      "Iteration =  190\n",
      "Iteration =  191\n",
      "Iteration =  192\n",
      "Iteration =  193\n",
      "Iteration =  194\n",
      "Iteration =  195\n",
      "Iteration =  196\n",
      "Iteration =  197\n",
      "Iteration =  198\n",
      "Iteration =  199\n",
      "Iteration =  200\n",
      "Iteration =  201\n",
      "Iteration =  202\n",
      "Iteration =  203\n",
      "Iteration =  204\n",
      "Iteration =  205\n",
      "Iteration =  206\n",
      "Iteration =  207\n",
      "Iteration =  208\n",
      "Iteration =  209\n",
      "Iteration =  210\n",
      "Iteration =  211\n",
      "Iteration =  212\n",
      "Iteration =  213\n",
      "Iteration =  214\n"
     ]
    },
    {
     "name": "stderr",
     "output_type": "stream",
     "text": [
      "/Users/minhnhatle/Dropbox (MIT)/Sur/MatchingSimulations/utils.py:123: RuntimeWarning: Mean of empty slice\n",
      "  rightAverage = np.nanmean(choicelst[::2, :], axis=0)\n",
      "/Users/minhnhatle/Dropbox (MIT)/Sur/MatchingSimulations/utils.py:127: RuntimeWarning: Mean of empty slice\n",
      "  leftAverage = np.nanmean(choicelst[::2, :], axis=0)\n"
     ]
    },
    {
     "name": "stdout",
     "output_type": "stream",
     "text": [
      "Iteration =  215\n",
      "Iteration =  216\n",
      "Iteration =  217\n",
      "Iteration =  218\n",
      "Iteration =  219\n",
      "Iteration =  220\n",
      "Iteration =  221\n",
      "Iteration =  222\n",
      "Iteration =  223\n",
      "Iteration =  224\n",
      "Iteration =  225\n",
      "Iteration =  226\n",
      "Iteration =  227\n",
      "Iteration =  228\n",
      "Iteration =  229\n",
      "Iteration =  230\n",
      "Iteration =  231\n",
      "Iteration =  232\n",
      "Iteration =  233\n",
      "Iteration =  234\n",
      "Iteration =  235\n",
      "Iteration =  236\n",
      "Iteration =  237\n",
      "Iteration =  238\n",
      "Iteration =  239\n",
      "Iteration =  240\n",
      "Iteration =  241\n",
      "Iteration =  242\n",
      "Iteration =  243\n",
      "Iteration =  244\n",
      "Iteration =  245\n",
      "Iteration =  246\n",
      "Iteration =  247\n",
      "Iteration =  248\n",
      "Iteration =  249\n",
      "Iteration =  250\n",
      "Iteration =  251\n",
      "Iteration =  252\n",
      "Iteration =  253\n"
     ]
    },
    {
     "name": "stderr",
     "output_type": "stream",
     "text": [
      "/Users/minhnhatle/Dropbox (MIT)/Sur/MatchingSimulations/utils.py:127: RuntimeWarning: Mean of empty slice\n",
      "  leftAverage = np.nanmean(choicelst[::2, :], axis=0)\n"
     ]
    },
    {
     "name": "stdout",
     "output_type": "stream",
     "text": [
      "Iteration =  254\n",
      "Iteration =  255\n",
      "Iteration =  256\n",
      "Iteration =  257\n",
      "Iteration =  258\n",
      "Iteration =  259\n",
      "Iteration =  260\n",
      "Iteration =  261\n",
      "Iteration =  262\n",
      "Iteration =  263\n",
      "Iteration =  264\n",
      "Iteration =  265\n",
      "Iteration =  266\n",
      "Iteration =  267\n",
      "Iteration =  268\n",
      "Iteration =  269\n",
      "Iteration =  270\n",
      "Iteration =  271\n",
      "Iteration =  272\n",
      "Iteration =  273\n",
      "Iteration =  274\n",
      "Iteration =  275\n",
      "Iteration =  276\n",
      "Iteration =  277\n",
      "Iteration =  278\n",
      "Iteration =  279\n",
      "Iteration =  280\n"
     ]
    },
    {
     "name": "stderr",
     "output_type": "stream",
     "text": [
      "/Users/minhnhatle/Dropbox (MIT)/Sur/MatchingSimulations/utils.py:123: RuntimeWarning: Mean of empty slice\n",
      "  rightAverage = np.nanmean(choicelst[::2, :], axis=0)\n"
     ]
    },
    {
     "name": "stdout",
     "output_type": "stream",
     "text": [
      "Iteration =  281\n",
      "Iteration =  282\n",
      "Iteration =  283\n",
      "Iteration =  284\n",
      "Iteration =  285\n",
      "Iteration =  286\n",
      "Iteration =  287\n",
      "Iteration =  288\n",
      "Iteration =  289\n",
      "Iteration =  290\n",
      "Iteration =  291\n",
      "Iteration =  292\n",
      "Iteration =  293\n",
      "Iteration =  294\n",
      "Iteration =  295\n",
      "Iteration =  296\n",
      "Iteration =  297\n",
      "Iteration =  298\n",
      "Iteration =  299\n",
      "Iteration =  300\n",
      "Iteration =  301\n"
     ]
    },
    {
     "name": "stderr",
     "output_type": "stream",
     "text": [
      "/Users/minhnhatle/Dropbox (MIT)/Sur/MatchingSimulations/utils.py:122: RuntimeWarning: Mean of empty slice\n",
      "  leftAverage = np.nanmean(choicelst[1::2, :], axis=0)\n"
     ]
    },
    {
     "name": "stdout",
     "output_type": "stream",
     "text": [
      "Iteration =  302\n",
      "Iteration =  303\n",
      "Iteration =  304\n",
      "Iteration =  305\n",
      "Iteration =  306\n",
      "Iteration =  307\n"
     ]
    },
    {
     "name": "stderr",
     "output_type": "stream",
     "text": [
      "/Users/minhnhatle/Dropbox (MIT)/Sur/MatchingSimulations/utils.py:126: RuntimeWarning: Mean of empty slice\n",
      "  rightAverage = np.nanmean(choicelst[1::2, :], axis=0)\n"
     ]
    },
    {
     "name": "stdout",
     "output_type": "stream",
     "text": [
      "Iteration =  308\n",
      "Iteration =  309\n",
      "Iteration =  310\n",
      "Iteration =  311\n",
      "Iteration =  312\n",
      "Iteration =  313\n",
      "Iteration =  314\n",
      "Iteration =  315\n",
      "Iteration =  316\n",
      "Iteration =  317\n",
      "Iteration =  318\n",
      "Iteration =  319\n",
      "Iteration =  320\n",
      "Iteration =  321\n",
      "Iteration =  322\n",
      "Iteration =  323\n",
      "Iteration =  324\n",
      "Iteration =  325\n",
      "Iteration =  326\n",
      "Iteration =  327\n",
      "Iteration =  328\n",
      "Iteration =  329\n",
      "Iteration =  330\n",
      "Iteration =  331\n",
      "Iteration =  332\n",
      "Iteration =  333\n",
      "Iteration =  334\n",
      "Iteration =  335\n",
      "Iteration =  336\n",
      "Iteration =  337\n",
      "Iteration =  338\n",
      "Iteration =  339\n",
      "Iteration =  340\n",
      "Iteration =  341\n",
      "Iteration =  342\n"
     ]
    },
    {
     "name": "stderr",
     "output_type": "stream",
     "text": [
      "/Users/minhnhatle/Dropbox (MIT)/Sur/MatchingSimulations/utils.py:122: RuntimeWarning: Mean of empty slice\n",
      "  leftAverage = np.nanmean(choicelst[1::2, :], axis=0)\n"
     ]
    },
    {
     "name": "stdout",
     "output_type": "stream",
     "text": [
      "Iteration =  343\n",
      "Iteration =  344\n",
      "Iteration =  345\n",
      "Iteration =  346\n",
      "Iteration =  347\n",
      "Iteration =  348\n",
      "Iteration =  349\n",
      "Iteration =  350\n",
      "Iteration =  351\n"
     ]
    },
    {
     "name": "stderr",
     "output_type": "stream",
     "text": [
      "/Users/minhnhatle/Dropbox (MIT)/Sur/MatchingSimulations/utils.py:127: RuntimeWarning: Mean of empty slice\n",
      "  leftAverage = np.nanmean(choicelst[::2, :], axis=0)\n"
     ]
    },
    {
     "name": "stdout",
     "output_type": "stream",
     "text": [
      "Iteration =  352\n",
      "Iteration =  353\n",
      "Iteration =  354\n",
      "Iteration =  355\n",
      "Iteration =  356\n",
      "Iteration =  357\n",
      "Iteration =  358\n",
      "Iteration =  359\n",
      "Iteration =  360\n"
     ]
    },
    {
     "name": "stderr",
     "output_type": "stream",
     "text": [
      "/Users/minhnhatle/Dropbox (MIT)/Sur/MatchingSimulations/utils.py:123: RuntimeWarning: Mean of empty slice\n",
      "  rightAverage = np.nanmean(choicelst[::2, :], axis=0)\n"
     ]
    },
    {
     "name": "stdout",
     "output_type": "stream",
     "text": [
      "Iteration =  361\n",
      "Iteration =  362\n",
      "Iteration =  363\n",
      "Iteration =  364\n",
      "Iteration =  365\n",
      "Iteration =  366\n",
      "Iteration =  367\n",
      "Iteration =  368\n",
      "Iteration =  369\n",
      "Iteration =  370\n",
      "Iteration =  371\n",
      "Iteration =  372\n",
      "Iteration =  373\n",
      "Iteration =  374\n",
      "Iteration =  375\n",
      "Iteration =  376\n",
      "Iteration =  377\n",
      "Iteration =  378\n",
      "Iteration =  379\n",
      "Iteration =  380\n",
      "Iteration =  381\n",
      "Iteration =  382\n",
      "Iteration =  383\n",
      "Iteration =  384\n",
      "Iteration =  385\n",
      "Iteration =  386\n",
      "Iteration =  387\n",
      "Iteration =  388\n",
      "Iteration =  389\n",
      "Iteration =  390\n",
      "Iteration =  391\n",
      "Iteration =  392\n",
      "Iteration =  393\n",
      "Iteration =  394\n",
      "Iteration =  395\n",
      "Iteration =  396\n",
      "Iteration =  397\n",
      "Iteration =  398\n",
      "Iteration =  399\n",
      "Iteration =  400\n",
      "Iteration =  401\n",
      "Iteration =  402\n",
      "Iteration =  403\n",
      "Iteration =  404\n",
      "Iteration =  405\n"
     ]
    },
    {
     "name": "stderr",
     "output_type": "stream",
     "text": [
      "/Users/minhnhatle/Dropbox (MIT)/Sur/MatchingSimulations/utils.py:123: RuntimeWarning: Mean of empty slice\n",
      "  rightAverage = np.nanmean(choicelst[::2, :], axis=0)\n"
     ]
    },
    {
     "name": "stdout",
     "output_type": "stream",
     "text": [
      "Iteration =  406\n",
      "Iteration =  407\n",
      "Iteration =  408\n",
      "Iteration =  409\n",
      "Iteration =  410\n",
      "Iteration =  411\n",
      "Iteration =  412\n",
      "Iteration =  413\n",
      "Iteration =  414\n",
      "Iteration =  415\n",
      "Iteration =  416\n",
      "Iteration =  417\n",
      "Iteration =  418\n",
      "Iteration =  419\n",
      "Iteration =  420\n",
      "Iteration =  421\n",
      "Iteration =  422\n",
      "Iteration =  423\n",
      "Iteration =  424\n",
      "Iteration =  425\n",
      "Iteration =  426\n",
      "Iteration =  427\n",
      "Iteration =  428\n",
      "Iteration =  429\n",
      "Iteration =  430\n",
      "Iteration =  431\n",
      "Iteration =  432\n",
      "Iteration =  433\n",
      "Iteration =  434\n",
      "Iteration =  435\n",
      "Iteration =  436\n",
      "Iteration =  437\n",
      "Iteration =  438\n",
      "Iteration =  439\n",
      "Iteration =  440\n",
      "Iteration =  441\n",
      "Iteration =  442\n",
      "Iteration =  443\n",
      "Iteration =  444\n",
      "Iteration =  445\n",
      "Iteration =  446\n",
      "Iteration =  447\n",
      "Iteration =  448\n",
      "Iteration =  449\n",
      "Iteration =  450\n",
      "Iteration =  451\n",
      "Iteration =  452\n",
      "Iteration =  453\n",
      "Iteration =  454\n",
      "Iteration =  455\n",
      "Iteration =  456\n",
      "Iteration =  457\n",
      "Iteration =  458\n",
      "Iteration =  459\n",
      "Iteration =  460\n",
      "Iteration =  461\n",
      "Iteration =  462\n",
      "Iteration =  463\n",
      "Iteration =  464\n",
      "Iteration =  465\n",
      "Iteration =  466\n",
      "Iteration =  467\n",
      "Iteration =  468\n",
      "Iteration =  469\n",
      "Iteration =  470\n",
      "Iteration =  471\n",
      "Iteration =  472\n",
      "Iteration =  473\n",
      "Iteration =  474\n",
      "Iteration =  475\n",
      "Iteration =  476\n",
      "Iteration =  477\n",
      "Iteration =  478\n",
      "Iteration =  479\n",
      "Iteration =  480\n"
     ]
    },
    {
     "name": "stderr",
     "output_type": "stream",
     "text": [
      "/Users/minhnhatle/Dropbox (MIT)/Sur/MatchingSimulations/utils.py:127: RuntimeWarning: Mean of empty slice\n",
      "  leftAverage = np.nanmean(choicelst[::2, :], axis=0)\n"
     ]
    },
    {
     "name": "stdout",
     "output_type": "stream",
     "text": [
      "Iteration =  481\n",
      "Iteration =  482\n",
      "Iteration =  483\n",
      "Iteration =  484\n",
      "Iteration =  485\n",
      "Iteration =  486\n",
      "Iteration =  487\n",
      "Iteration =  488\n",
      "Iteration =  489\n",
      "Iteration =  490\n",
      "Iteration =  491\n",
      "Iteration =  492\n",
      "Iteration =  493\n",
      "Iteration =  494\n",
      "Iteration =  495\n",
      "Iteration =  496\n",
      "Iteration =  497\n",
      "Iteration =  498\n",
      "Iteration =  499\n"
     ]
    }
   ],
   "source": [
    "# For multiple simulations of the same param set\n",
    "pswitchlst = [0.3]\n",
    "prewlst = [0.95]\n",
    "\n",
    "gammalst = [1.4]\n",
    "epslst = [0.2]\n",
    "\n",
    "betalst = 1 / np.linspace(0.05, 2, 12)\n",
    "\n",
    "agent_type = 'qlearning' #'qlearning' or 'inf-based' or 'v-accumulation'\n",
    "\n",
    "N_iters = 500\n",
    "num_states = 2\n",
    "obs_dim = 1\n",
    "nblocks = 20 #100\n",
    "eps = 0\n",
    "hmm_fit = False\n",
    "sigmoid_window = 30\n",
    "ntrials_per_block = [10, 40]\n",
    "seed = 0\n",
    "rlow = 0\n",
    "rhigh = 1\n",
    "np.random.seed(123)\n",
    "\n",
    "params = {'N_iters': N_iters, 'num_states': num_states, 'obs_dim': obs_dim, \n",
    "          'nblocks': nblocks, 'eps': eps, 'ntrials_per_block': ntrials_per_block,\n",
    "          'gammalst': gammalst, 'epslst': epslst, 'seed': seed, 'type': agent_type, 'hmm_fit': hmm_fit,\n",
    "         'pswitchlst': pswitchlst, 'prewlst': prewlst, \n",
    "          'betalst': betalst, 'seed': seed, 'sigmoid_window': sigmoid_window, 'rlow': rlow, 'rhigh': rhigh}\n",
    "\n",
    "# Q-learning simulation\n",
    "print('Starting q-learning simulation')\n",
    "efflistQ, T11lstQ, T22lstQ, E1lstQ, E2lstQ, PRslopelistQ, PLslopelistQ, \\\n",
    "           PRoffsetlistQ, PLoffsetlistQ, LapseLQ, LapseRQ, ParamsAQ, ParamsBQ, ParamsCQ = run_repeated_single_agent(params)\n",
    "\n",
    "# Inference-based simulation\n",
    "print('Starting inf-based simulation')\n",
    "params['type'] = 'inf-based'\n",
    "efflistIB, T11lstIB, T22lstIB, E1lstIB, E2lstIB, PRslopelistIB, PLslopelistIB, \\\n",
    "           PRoffsetlistIB, PLoffsetlistIB, LapseLIB, LapseRIB, ParamsAIB, ParamsBIB, ParamsCIB = run_repeated_single_agent(params)"
   ]
  },
  {
   "cell_type": "code",
   "execution_count": 59,
   "metadata": {},
   "outputs": [
    {
     "data": {
      "text/plain": [
       "[<matplotlib.lines.Line2D at 0x7f8557db7a90>]"
      ]
     },
     "execution_count": 59,
     "metadata": {},
     "output_type": "execute_result"
    },
    {
     "data": {
      "image/png": "[encoded data removed]",
      "text/plain": [
       "<Figure size 432x288 with 4 Axes>"
      ]
     },
     "metadata": {
      "needs_background": "light"
     },
     "output_type": "display_data"
    }
   ],
   "source": [
    "# efflist, T11lst, T22lst, E1lst, E2lst, PRslopelist, PLslopelist, \\\n",
    "#            PRoffsetlist, PLoffsetlist, LapseL, LapseR, ParamsA, ParamsB, ParamsC\n",
    "plt.subplot(221)\n",
    "plt.plot(efflistQ)\n",
    "plt.plot(efflistIB)\n",
    "\n",
    "plt.subplot(222)\n",
    "plt.plot(LapseLQ)\n",
    "plt.plot(LapseLIB)\n",
    "\n",
    "plt.subplot(223)\n",
    "plt.plot(PLoffsetlistQ)\n",
    "plt.plot(PLoffsetlistIB)\n",
    "\n",
    "plt.subplot(224)\n",
    "plt.plot(PLslopelistQ)\n",
    "plt.plot(PLslopelistIB)"
   ]
  },
  {
   "cell_type": "code",
   "execution_count": 75,
   "metadata": {},
   "outputs": [
    {
     "data": {
      "text/plain": [
       "SVC()"
      ]
     },
     "execution_count": 75,
     "metadata": {},
     "output_type": "execute_result"
    }
   ],
   "source": [
    "# Make the training and test sets\n",
    "XQ = np.vstack([efflistQ, LapseLQ, PLoffsetlistQ, PLslopelistQ])\n",
    "XIB = np.vstack([efflistIB, LapseLIB, PLoffsetlistIB, PLslopelistIB])\n",
    "Xall = np.hstack([XQ, XIB])\n",
    "yall = np.array([0] * XQ.shape[1] + [1] * XIB.shape[1])\n",
    "\n",
    "#Normalize\n",
    "mean = np.mean(Xall, axis=1)\n",
    "std = np.std(Xall, axis=1)\n",
    "Xall = (Xall.T - mean) / std\n",
    "\n",
    "# Shuffle\n",
    "order = np.arange(Xall.shape[0])\n",
    "np.random.shuffle(order)\n",
    "Xall = Xall[order,:]\n",
    "\n",
    "Xtrain = Xall[:75,:]\n",
    "Xtest = Xall[75:,:]\n",
    "ytrain = yall[order][:75]\n",
    "ytest = yall[order][75:]\n",
    "\n",
    "clf = svm.SVC()\n",
    "clf.fit(Xtrain, ytrain)\n"
   ]
  },
  {
   "cell_type": "code",
   "execution_count": 77,
   "metadata": {},
   "outputs": [
    {
     "name": "stdout",
     "output_type": "stream",
     "text": [
      "1.0\n"
     ]
    }
   ],
   "source": [
    "preds = clf.predict(Xtest)\n",
    "perf = sum((preds - ytest)**2 == 0) / len(preds)\n",
    "print(perf)"
   ]
  },
  {
   "cell_type": "code",
   "execution_count": 14,
   "metadata": {},
   "outputs": [
    {
     "data": {
      "text/plain": [
       "(4, 100)"
      ]
     },
     "execution_count": 14,
     "metadata": {},
     "output_type": "execute_result"
    }
   ],
   "source": [
    "Xall.shape"
   ]
  },
  {
   "cell_type": "code",
   "execution_count": 22,
   "metadata": {},
   "outputs": [],
   "source": [
    "np.random.shuffle(Xall.T)"
   ]
  },
  {
   "cell_type": "code",
   "execution_count": 30,
   "metadata": {},
   "outputs": [
    {
     "data": {
      "image/png": "[encoded data removed]",
      "text/plain": [
       "<Figure size 432x288 with 1 Axes>"
      ]
     },
     "metadata": {
      "needs_background": "light"
     },
     "output_type": "display_data"
    }
   ],
   "source": [
    "plt.plot(Xall.T);"
   ]
  },
  {
   "cell_type": "code",
   "execution_count": null,
   "metadata": {},
   "outputs": [],
   "source": []
  }
 ],
 "metadata": {
  "kernelspec": {
   "display_name": "Default",
   "language": "python",
   "name": "default"
  },
  "language_info": {
   "codemirror_mode": {
    "name": "ipython",
    "version": 3
   },
   "file_extension": ".py",
   "mimetype": "text/x-python",
   "name": "python",
   "nbconvert_exporter": "python",
   "pygments_lexer": "ipython3",
   "version": "3.9.5"
  }
 },
 "nbformat": 4,
 "nbformat_minor": 4
}
