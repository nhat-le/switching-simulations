{
 "cells": [
  {
   "cell_type": "code",
   "execution_count": 53,
   "metadata": {},
   "outputs": [],
   "source": [
    "import numpy as np\n",
    "import matplotlib.pyplot as plt\n",
    "from worldModels import *\n",
    "from sklearn.linear_model import LogisticRegression\n",
    "from sklearn.metrics import classification_report, confusion_matrix\n",
    "import scipy.optimize\n",
    "import scipy.io\n",
    "import os.path\n",
    "from utils import *\n",
    "from run_simulations import *\n",
    "from agents import *\n",
    "import pickle\n",
    "\n",
    "%matplotlib inline\n",
    "%reload_ext autoreload\n",
    "%autoreload 2\n"
   ]
  },
  {
   "cell_type": "code",
   "execution_count": 54,
   "metadata": {},
   "outputs": [],
   "source": [
    "pswitchlst = np.linspace(0.01, 0.45, 15)\n",
    "prewlst = np.linspace(0.55, 0.99, 10)\n",
    "\n",
    "gammalst = np.linspace(0.01, 1.4, 25)\n",
    "epslst = np.linspace(0.01, 0.5, 20)\n",
    "\n",
    "betalst = 1 / np.linspace(0.05, 2, 20)\n",
    "\n",
    "agent_type = 'inf-based' #'qlearning' or 'inf-based' or 'v-accumulation'\n",
    "\n",
    "N_iters = 50\n",
    "num_states = 2\n",
    "obs_dim = 1\n",
    "nblocks = 20 #1000 for 9.23 run #100\n",
    "eps = 0\n",
    "hmm_fit = False\n",
    "sigmoid_window = 30\n",
    "ntrials_per_block = [10, 40]\n",
    "# ntrials_per_block = [10, 40]\n",
    "seed = 0\n",
    "np.random.seed(seed)\n",
    "\n",
    "params = {'N_iters': N_iters, 'num_states': num_states, 'obs_dim': obs_dim, \n",
    "          'nblocks': nblocks, 'eps': eps, 'ntrials_per_block': ntrials_per_block,\n",
    "          'gammalst': gammalst, 'epslst': epslst, 'seed': seed, 'type': agent_type, 'hmm_fit': hmm_fit,\n",
    "         'pswitchlst': pswitchlst, 'prewlst': prewlst, \n",
    "          'betalst': betalst, 'seed': seed, 'sigmoid_window': sigmoid_window}\n",
    "\n",
    "\n",
    "# for i in [0]: #range(10):\n",
    "#     rlow = 0.05 * i\n",
    "#     rhigh = 1 - 0.05 * i\n",
    "#     print('Simulating rlow = %.2f, rhigh = %.2f' % (rlow, rhigh))\n",
    "#     params['rlow'] = rlow\n",
    "#     params['rhigh'] = rhigh\n"
   ]
  },
  {
   "cell_type": "code",
   "execution_count": 22,
   "metadata": {},
   "outputs": [],
   "source": [
    "params['rlow'] = 0\n",
    "params['rhigh'] = 1\n",
    "\n",
    "agent, world, _, _, _, choicelst = run_single_agent(5,5,params)"
   ]
  },
  {
   "cell_type": "code",
   "execution_count": 39,
   "metadata": {},
   "outputs": [
    {
     "data": {
      "text/plain": [
       "<matplotlib.image.AxesImage at 0x7fc44618af70>"
      ]
     },
     "execution_count": 39,
     "metadata": {},
     "output_type": "execute_result"
    },
    {
     "data": {
      "image/png": "[encoded data removed]",
      "text/plain": [
       "<Figure size 432x288 with 1 Axes>"
      ]
     },
     "metadata": {
      "needs_background": "light"
     },
     "output_type": "display_data"
    }
   ],
   "source": [
    "# Make measurements\n",
    "\n",
    "plt.imshow(outcomeslst)"
   ]
  },
  {
   "cell_type": "code",
   "execution_count": 13,
   "metadata": {},
   "outputs": [
    {
     "name": "stdout",
     "output_type": "stream",
     "text": [
      "one\n"
     ]
    }
   ],
   "source": [
    "if world.rate_history[0][0] < 0.5: #first block starts with side 1 (right)\n",
    "    print('one')"
   ]
  },
  {
   "cell_type": "code",
   "execution_count": 36,
   "metadata": {},
   "outputs": [],
   "source": [
    "choicelst2 = split_by_trials(np.array(agent.choice_history), world.ntrialblocks[:-1], chop='max')\n",
    "outcomeslst = split_by_trials(np.array(agent.outcome_history), world.ntrialblocks[:-1], chop='max')\n",
    "outcomeslst = outcomeslst[:,:30]"
   ]
  },
  {
   "cell_type": "code",
   "execution_count": 37,
   "metadata": {},
   "outputs": [
    {
     "data": {
      "text/plain": [
       "array([13., 29., 18., 29., 29., 29., 25., 29., 23., 17., 10., 29., 13.,\n",
       "       22., 29., 29., 27., 15., 23., 29.])"
      ]
     },
     "execution_count": 37,
     "metadata": {},
     "output_type": "execute_result"
    }
   ],
   "source": [
    "np.nansum(outcomeslst, axis=1)"
   ]
  },
  {
   "cell_type": "code",
   "execution_count": 43,
   "metadata": {},
   "outputs": [],
   "source": [
    "# measure efficiencies\n",
    "effblocks = np.nansum(outcomeslst, axis=1) / np.nansum(~np.isnan(outcomeslst), axis=1)\n",
    "\n",
    "# measure nswitches\n",
    "switchblocks = np.nansum(np.abs(np.diff(choicelst)), axis=1)\n",
    "\n",
    "# measure switch points\n"
   ]
  },
  {
   "cell_type": "code",
   "execution_count": 46,
   "metadata": {},
   "outputs": [],
   "source": [
    "np.diff?"
   ]
  },
  {
   "cell_type": "code",
   "execution_count": 52,
   "metadata": {},
   "outputs": [
    {
     "data": {
      "text/plain": [
       "array([0., 1., 1., 1., 1., 1., 1., 1., 1., 1., 1., 1., 1., 1., 1., 1., 1.,\n",
       "       1., 1., 1.])"
      ]
     },
     "execution_count": 52,
     "metadata": {},
     "output_type": "execute_result"
    }
   ],
   "source": []
  },
  {
   "cell_type": "code",
   "execution_count": null,
   "metadata": {},
   "outputs": [],
   "source": []
  }
 ],
 "metadata": {
  "kernelspec": {
   "display_name": "Default",
   "language": "python",
   "name": "default"
  },
  "language_info": {
   "codemirror_mode": {
    "name": "ipython",
    "version": 3
   },
   "file_extension": ".py",
   "mimetype": "text/x-python",
   "name": "python",
   "nbconvert_exporter": "python",
   "pygments_lexer": "ipython3",
   "version": "3.9.5"
  }
 },
 "nbformat": 4,
 "nbformat_minor": 4
}
