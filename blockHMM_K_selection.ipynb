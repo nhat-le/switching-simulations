{
 "cells": [
  {
   "cell_type": "code",
   "execution_count": 2,
   "metadata": {},
   "outputs": [],
   "source": [
    "import autograd.numpy as np\n",
    "import autograd.numpy.random as npr\n",
    "import os\n",
    "import scipy.io\n",
    "import numpy as np2\n",
    "import matplotlib.pyplot as plt\n",
    "import pickle\n",
    "npr.seed(0)\n",
    "\n",
    "import ssm\n",
    "import smartload.smartload as smart\n",
    "from ssm.exputils import load_multiple_sessions, make_savedict\n",
    "import src.blockhmm_validation as bval\n",
    "from src.utils import pathsetup\n",
    "npr.seed(0)\n",
    "\n",
    "%reload_ext autoreload\n",
    "%autoreload 2\n",
    "%matplotlib inline\n"
   ]
  },
  {
   "cell_type": "code",
   "execution_count": 9,
   "metadata": {},
   "outputs": [],
   "source": [
    "# Setup evaluation parameters\n",
    "nstates_lst=np.arange(1, 9)\n",
    "N_iters=3000\n",
    "frac_train=0.8"
   ]
  },
  {
   "cell_type": "code",
   "execution_count": 2,
   "metadata": {},
   "outputs": [
    {
     "name": "stdout",
     "output_type": "stream",
     "text": [
      "Analyzing animal f01\n",
      "Starting run and save for f01, seed 123\n"
     ]
    },
    {
     "name": "stderr",
     "output_type": "stream",
     "text": [
      "100%|██████████| 107/107 [00:00<00:00, 415.85it/s]\n",
      "100%|██████████| 107/107 [00:00<00:00, 415.32it/s]\n",
      "100%|██████████| 107/107 [00:00<00:00, 430.26it/s]\n"
     ]
    },
    {
     "data": {
      "application/vnd.jupyter.widget-view+json": {
       "model_id": "0550fb301570477b86c4cf41d9541f06",
       "version_major": 2,
       "version_minor": 0
      },
      "text/plain": [
       "  0%|          | 0/3000 [00:00<?, ?it/s]"
      ]
     },
     "metadata": {},
     "output_type": "display_data"
    },
    {
     "name": "stdout",
     "output_type": "stream",
     "text": [
      "Num states = 1, likelihood = 0.8639726175892963\n"
     ]
    },
    {
     "data": {
      "application/vnd.jupyter.widget-view+json": {
       "model_id": "8d5c79ea9e884357baa4c393d0c7449c",
       "version_major": 2,
       "version_minor": 0
      },
      "text/plain": [
       "  0%|          | 0/3000 [00:00<?, ?it/s]"
      ]
     },
     "metadata": {},
     "output_type": "display_data"
    },
    {
     "name": "stdout",
     "output_type": "stream",
     "text": [
      "Num states = 2, likelihood = 2.04432622747037\n"
     ]
    },
    {
     "data": {
      "application/vnd.jupyter.widget-view+json": {
       "model_id": "99e6fe3d61004cb69ba582a23ac5c31f",
       "version_major": 2,
       "version_minor": 0
      },
      "text/plain": [
       "  0%|          | 0/3000 [00:00<?, ?it/s]"
      ]
     },
     "metadata": {},
     "output_type": "display_data"
    },
    {
     "name": "stdout",
     "output_type": "stream",
     "text": [
      "Num states = 3, likelihood = 2.0441223051753896\n"
     ]
    },
    {
     "data": {
      "application/vnd.jupyter.widget-view+json": {
       "model_id": "e46be0caf9d74a69aa69bc8eb514a86e",
       "version_major": 2,
       "version_minor": 0
      },
      "text/plain": [
       "  0%|          | 0/3000 [00:00<?, ?it/s]"
      ]
     },
     "metadata": {},
     "output_type": "display_data"
    },
    {
     "name": "stdout",
     "output_type": "stream",
     "text": [
      "Num states = 4, likelihood = 2.2477215368493444\n"
     ]
    },
    {
     "data": {
      "application/vnd.jupyter.widget-view+json": {
       "model_id": "ca0fa628d7054872b6d79141b1b8daa4",
       "version_major": 2,
       "version_minor": 0
      },
      "text/plain": [
       "  0%|          | 0/3000 [00:00<?, ?it/s]"
      ]
     },
     "metadata": {},
     "output_type": "display_data"
    },
    {
     "name": "stdout",
     "output_type": "stream",
     "text": [
      "Num states = 5, likelihood = 2.309894034824019\n"
     ]
    },
    {
     "data": {
      "application/vnd.jupyter.widget-view+json": {
       "model_id": "cd35bd6121b54ab9b3f9887dba67fded",
       "version_major": 2,
       "version_minor": 0
      },
      "text/plain": [
       "  0%|          | 0/3000 [00:00<?, ?it/s]"
      ]
     },
     "metadata": {},
     "output_type": "display_data"
    },
    {
     "name": "stdout",
     "output_type": "stream",
     "text": [
      "Num states = 6, likelihood = 2.382875068971096\n"
     ]
    },
    {
     "data": {
      "application/vnd.jupyter.widget-view+json": {
       "model_id": "8d29f2f7072544b08f898a5e5fd16e5e",
       "version_major": 2,
       "version_minor": 0
      },
      "text/plain": [
       "  0%|          | 0/3000 [00:00<?, ?it/s]"
      ]
     },
     "metadata": {},
     "output_type": "display_data"
    },
    {
     "name": "stdout",
     "output_type": "stream",
     "text": [
      "Num states = 7, likelihood = 2.372534262097776\n"
     ]
    },
    {
     "data": {
      "application/vnd.jupyter.widget-view+json": {
       "model_id": "a8cc45e3c2d9438d95e2ba2dd4c1d90f",
       "version_major": 2,
       "version_minor": 0
      },
      "text/plain": [
       "  0%|          | 0/3000 [00:00<?, ?it/s]"
      ]
     },
     "metadata": {},
     "output_type": "display_data"
    },
    {
     "name": "stdout",
     "output_type": "stream",
     "text": [
      "Num states = 8, likelihood = 2.371457877770881\n",
      "[1 2 3 4 5 6 7 8]\n",
      "[0.8639726175892963, 2.04432622747037, 2.0441223051753896, 2.2477215368493444, 2.309894034824019, 2.382875068971096, 2.372534262097776, 2.371457877770881]\n",
      "Analyzing animal f02\n",
      "Starting run and save for f02, seed 123\n"
     ]
    },
    {
     "name": "stderr",
     "output_type": "stream",
     "text": [
      "100%|██████████| 23/23 [00:00<00:00, 380.49it/s]\n",
      "100%|██████████| 23/23 [00:00<00:00, 419.56it/s]\n",
      "100%|██████████| 23/23 [00:00<00:00, 445.69it/s]\n"
     ]
    },
    {
     "data": {
      "application/vnd.jupyter.widget-view+json": {
       "model_id": "7f2e1b28b40046a9a8687ddaff7f897c",
       "version_major": 2,
       "version_minor": 0
      },
      "text/plain": [
       "  0%|          | 0/3000 [00:00<?, ?it/s]"
      ]
     },
     "metadata": {},
     "output_type": "display_data"
    },
    {
     "name": "stdout",
     "output_type": "stream",
     "text": [
      "Num states = 1, likelihood = 0.38957187855749703\n"
     ]
    },
    {
     "data": {
      "application/vnd.jupyter.widget-view+json": {
       "model_id": "b6296b7d6d524e229b95b98075f3db7f",
       "version_major": 2,
       "version_minor": 0
      },
      "text/plain": [
       "  0%|          | 0/3000 [00:00<?, ?it/s]"
      ]
     },
     "metadata": {},
     "output_type": "display_data"
    },
    {
     "name": "stdout",
     "output_type": "stream",
     "text": [
      "Num states = 2, likelihood = 1.3229706370574656\n"
     ]
    },
    {
     "data": {
      "application/vnd.jupyter.widget-view+json": {
       "model_id": "a5b39c55ed474745a9823c61cbe85e34",
       "version_major": 2,
       "version_minor": 0
      },
      "text/plain": [
       "  0%|          | 0/3000 [00:00<?, ?it/s]"
      ]
     },
     "metadata": {},
     "output_type": "display_data"
    },
    {
     "name": "stdout",
     "output_type": "stream",
     "text": [
      "Num states = 3, likelihood = 1.3789923553888885\n"
     ]
    },
    {
     "data": {
      "application/vnd.jupyter.widget-view+json": {
       "model_id": "3eed541ff3b848cab4e09639516ba1be",
       "version_major": 2,
       "version_minor": 0
      },
      "text/plain": [
       "  0%|          | 0/3000 [00:00<?, ?it/s]"
      ]
     },
     "metadata": {},
     "output_type": "display_data"
    },
    {
     "name": "stdout",
     "output_type": "stream",
     "text": [
      "Num states = 4, likelihood = 1.4017843100741076\n"
     ]
    },
    {
     "data": {
      "application/vnd.jupyter.widget-view+json": {
       "model_id": "88827466471e45c6a4e0d3c511bf59fa",
       "version_major": 2,
       "version_minor": 0
      },
      "text/plain": [
       "  0%|          | 0/3000 [00:00<?, ?it/s]"
      ]
     },
     "metadata": {},
     "output_type": "display_data"
    },
    {
     "name": "stdout",
     "output_type": "stream",
     "text": [
      "Num states = 5, likelihood = 1.4519314973862074\n"
     ]
    },
    {
     "data": {
      "application/vnd.jupyter.widget-view+json": {
       "model_id": "9ae7a11c9c67449586c0c4f0911b3721",
       "version_major": 2,
       "version_minor": 0
      },
      "text/plain": [
       "  0%|          | 0/3000 [00:00<?, ?it/s]"
      ]
     },
     "metadata": {},
     "output_type": "display_data"
    },
    {
     "name": "stdout",
     "output_type": "stream",
     "text": [
      "Num states = 6, likelihood = 1.5301560536216947\n"
     ]
    },
    {
     "data": {
      "application/vnd.jupyter.widget-view+json": {
       "model_id": "db3a58c36ac94ed7bc8d859cd6acec55",
       "version_major": 2,
       "version_minor": 0
      },
      "text/plain": [
       "  0%|          | 0/3000 [00:00<?, ?it/s]"
      ]
     },
     "metadata": {},
     "output_type": "display_data"
    },
    {
     "name": "stdout",
     "output_type": "stream",
     "text": [
      "Num states = 7, likelihood = 1.3855870092957727\n"
     ]
    },
    {
     "data": {
      "application/vnd.jupyter.widget-view+json": {
       "model_id": "d9648d59fb6c41cabf081d2498f68773",
       "version_major": 2,
       "version_minor": 0
      },
      "text/plain": [
       "  0%|          | 0/3000 [00:00<?, ?it/s]"
      ]
     },
     "metadata": {},
     "output_type": "display_data"
    },
    {
     "name": "stdout",
     "output_type": "stream",
     "text": [
      "Num states = 8, likelihood = 1.2743944682259984\n",
      "[1 2 3 4 5 6 7 8]\n",
      "[0.38957187855749703, 1.3229706370574656, 1.3789923553888885, 1.4017843100741076, 1.4519314973862074, 1.5301560536216947, 1.3855870092957727, 1.2743944682259984]\n",
      "Analyzing animal f03\n",
      "Starting run and save for f03, seed 123\n"
     ]
    },
    {
     "name": "stderr",
     "output_type": "stream",
     "text": [
      "100%|██████████| 72/72 [00:00<00:00, 624.46it/s]\n",
      "100%|██████████| 72/72 [00:00<00:00, 636.89it/s]\n",
      "100%|██████████| 72/72 [00:00<00:00, 638.92it/s]\n"
     ]
    },
    {
     "data": {
      "application/vnd.jupyter.widget-view+json": {
       "model_id": "31750c86d87e4e76ba0276ee29c0d783",
       "version_major": 2,
       "version_minor": 0
      },
      "text/plain": [
       "  0%|          | 0/3000 [00:00<?, ?it/s]"
      ]
     },
     "metadata": {},
     "output_type": "display_data"
    },
    {
     "name": "stdout",
     "output_type": "stream",
     "text": [
      "Num states = 1, likelihood = 0.046980839954394026\n"
     ]
    },
    {
     "data": {
      "application/vnd.jupyter.widget-view+json": {
       "model_id": "e9f1345ff8b74bc0ae996a518d2ed6b0",
       "version_major": 2,
       "version_minor": 0
      },
      "text/plain": [
       "  0%|          | 0/3000 [00:00<?, ?it/s]"
      ]
     },
     "metadata": {},
     "output_type": "display_data"
    },
    {
     "name": "stdout",
     "output_type": "stream",
     "text": [
      "Num states = 2, likelihood = 0.532771550516245\n"
     ]
    },
    {
     "data": {
      "application/vnd.jupyter.widget-view+json": {
       "model_id": "526707075cf94278a627b7c8c628e556",
       "version_major": 2,
       "version_minor": 0
      },
      "text/plain": [
       "  0%|          | 0/3000 [00:00<?, ?it/s]"
      ]
     },
     "metadata": {},
     "output_type": "display_data"
    },
    {
     "name": "stdout",
     "output_type": "stream",
     "text": [
      "Num states = 3, likelihood = 0.6426820190126461\n"
     ]
    },
    {
     "data": {
      "application/vnd.jupyter.widget-view+json": {
       "model_id": "44d12533f0ec4535872368822ef98709",
       "version_major": 2,
       "version_minor": 0
      },
      "text/plain": [
       "  0%|          | 0/3000 [00:00<?, ?it/s]"
      ]
     },
     "metadata": {},
     "output_type": "display_data"
    },
    {
     "name": "stdout",
     "output_type": "stream",
     "text": [
      "Num states = 4, likelihood = 0.7619805040613311\n"
     ]
    },
    {
     "data": {
      "application/vnd.jupyter.widget-view+json": {
       "model_id": "b5aedd292b3940118862b48842896336",
       "version_major": 2,
       "version_minor": 0
      },
      "text/plain": [
       "  0%|          | 0/3000 [00:00<?, ?it/s]"
      ]
     },
     "metadata": {},
     "output_type": "display_data"
    },
    {
     "name": "stderr",
     "output_type": "stream",
     "text": [
      "/Users/minhnhatle/opt/anaconda3/envs/default/lib/python3.9/site-packages/autograd/tracer.py:48: RuntimeWarning: overflow encountered in exp\n",
      "  return f_raw(*args, **kwargs)\n",
      "/Users/minhnhatle/opt/anaconda3/envs/default/lib/python3.9/site-packages/autograd/numpy/numpy_vjps.py:75: RuntimeWarning: invalid value encountered in multiply\n",
      "  defvjp(anp.exp,    lambda ans, x : lambda g: ans * g)\n",
      "/Users/minhnhatle/opt/anaconda3/envs/default/lib/python3.9/site-packages/autograd/numpy/numpy_vjps.py:53: RuntimeWarning: overflow encountered in square\n",
      "  lambda ans, x, y : unbroadcast_f(y, lambda g: - g * x / y**2))\n"
     ]
    },
    {
     "name": "stdout",
     "output_type": "stream",
     "text": [
      "Num states = 5, likelihood = 0.7949805242459452\n"
     ]
    },
    {
     "data": {
      "application/vnd.jupyter.widget-view+json": {
       "model_id": "3324fe66f3db4ee2939bb30ee82b8f6b",
       "version_major": 2,
       "version_minor": 0
      },
      "text/plain": [
       "  0%|          | 0/3000 [00:00<?, ?it/s]"
      ]
     },
     "metadata": {},
     "output_type": "display_data"
    },
    {
     "name": "stdout",
     "output_type": "stream",
     "text": [
      "Num states = 6, likelihood = 0.790920250553306\n"
     ]
    },
    {
     "data": {
      "application/vnd.jupyter.widget-view+json": {
       "model_id": "d24d685f984e4f988edf16ef85139f6a",
       "version_major": 2,
       "version_minor": 0
      },
      "text/plain": [
       "  0%|          | 0/3000 [00:00<?, ?it/s]"
      ]
     },
     "metadata": {},
     "output_type": "display_data"
    },
    {
     "name": "stdout",
     "output_type": "stream",
     "text": [
      "Num states = 7, likelihood = 0.7789550818611581\n"
     ]
    },
    {
     "data": {
      "application/vnd.jupyter.widget-view+json": {
       "model_id": "4f31952ae58b4129be9b9e33494d8df9",
       "version_major": 2,
       "version_minor": 0
      },
      "text/plain": [
       "  0%|          | 0/3000 [00:00<?, ?it/s]"
      ]
     },
     "metadata": {},
     "output_type": "display_data"
    },
    {
     "name": "stdout",
     "output_type": "stream",
     "text": [
      "Num states = 8, likelihood = 0.8469798548896267\n",
      "[1 2 3 4 5 6 7 8]\n",
      "[0.046980839954394026, 0.532771550516245, 0.6426820190126461, 0.7619805040613311, 0.7949805242459452, 0.790920250553306, 0.7789550818611581, 0.8469798548896267]\n",
      "Analyzing animal f04\n",
      "Starting run and save for f04, seed 123\n"
     ]
    },
    {
     "name": "stderr",
     "output_type": "stream",
     "text": [
      "100%|██████████| 70/70 [00:00<00:00, 566.46it/s]\n",
      "100%|██████████| 70/70 [00:00<00:00, 589.48it/s]\n",
      "100%|██████████| 70/70 [00:00<00:00, 632.92it/s]\n"
     ]
    },
    {
     "data": {
      "application/vnd.jupyter.widget-view+json": {
       "model_id": "394b0c3402af48b5bacd4157f33e3eca",
       "version_major": 2,
       "version_minor": 0
      },
      "text/plain": [
       "  0%|          | 0/3000 [00:00<?, ?it/s]"
      ]
     },
     "metadata": {},
     "output_type": "display_data"
    },
    {
     "name": "stdout",
     "output_type": "stream",
     "text": [
      "Num states = 1, likelihood = 0.10409263200055505\n"
     ]
    },
    {
     "data": {
      "application/vnd.jupyter.widget-view+json": {
       "model_id": "672f0a06f0d840c399d777314410ff9a",
       "version_major": 2,
       "version_minor": 0
      },
      "text/plain": [
       "  0%|          | 0/3000 [00:00<?, ?it/s]"
      ]
     },
     "metadata": {},
     "output_type": "display_data"
    },
    {
     "name": "stdout",
     "output_type": "stream",
     "text": [
      "Num states = 2, likelihood = 0.40888012401458973\n"
     ]
    },
    {
     "data": {
      "application/vnd.jupyter.widget-view+json": {
       "model_id": "3188b7153ba8479eb53b09e9c3a7b903",
       "version_major": 2,
       "version_minor": 0
      },
      "text/plain": [
       "  0%|          | 0/3000 [00:00<?, ?it/s]"
      ]
     },
     "metadata": {},
     "output_type": "display_data"
    },
    {
     "name": "stdout",
     "output_type": "stream",
     "text": [
      "Num states = 3, likelihood = 0.3792895984947051\n"
     ]
    },
    {
     "data": {
      "application/vnd.jupyter.widget-view+json": {
       "model_id": "4be462dd61bc42afb79c8132e36ad260",
       "version_major": 2,
       "version_minor": 0
      },
      "text/plain": [
       "  0%|          | 0/3000 [00:00<?, ?it/s]"
      ]
     },
     "metadata": {},
     "output_type": "display_data"
    },
    {
     "name": "stdout",
     "output_type": "stream",
     "text": [
      "Num states = 4, likelihood = 0.5785576077739855\n"
     ]
    },
    {
     "data": {
      "application/vnd.jupyter.widget-view+json": {
       "model_id": "3d517ba6d7df4078a7fbdf240e8cb93a",
       "version_major": 2,
       "version_minor": 0
      },
      "text/plain": [
       "  0%|          | 0/3000 [00:00<?, ?it/s]"
      ]
     },
     "metadata": {},
     "output_type": "display_data"
    },
    {
     "name": "stdout",
     "output_type": "stream",
     "text": [
      "Num states = 5, likelihood = 0.6168946377652019\n"
     ]
    },
    {
     "data": {
      "application/vnd.jupyter.widget-view+json": {
       "model_id": "351be03104494f92a71b58b5b7672632",
       "version_major": 2,
       "version_minor": 0
      },
      "text/plain": [
       "  0%|          | 0/3000 [00:00<?, ?it/s]"
      ]
     },
     "metadata": {},
     "output_type": "display_data"
    },
    {
     "name": "stdout",
     "output_type": "stream",
     "text": [
      "Num states = 6, likelihood = 0.5744300932474309\n"
     ]
    },
    {
     "data": {
      "application/vnd.jupyter.widget-view+json": {
       "model_id": "5e71c48176fb4712b43df11a963aefb9",
       "version_major": 2,
       "version_minor": 0
      },
      "text/plain": [
       "  0%|          | 0/3000 [00:00<?, ?it/s]"
      ]
     },
     "metadata": {},
     "output_type": "display_data"
    },
    {
     "name": "stdout",
     "output_type": "stream",
     "text": [
      "Num states = 7, likelihood = 0.5686121848697224\n"
     ]
    },
    {
     "data": {
      "application/vnd.jupyter.widget-view+json": {
       "model_id": "19144a68af1a4102b20e303dbe33ad6d",
       "version_major": 2,
       "version_minor": 0
      },
      "text/plain": [
       "  0%|          | 0/3000 [00:00<?, ?it/s]"
      ]
     },
     "metadata": {},
     "output_type": "display_data"
    },
    {
     "name": "stdout",
     "output_type": "stream",
     "text": [
      "Num states = 8, likelihood = 0.702762156670037\n",
      "[1 2 3 4 5 6 7 8]\n",
      "[0.10409263200055505, 0.40888012401458973, 0.3792895984947051, 0.5785576077739855, 0.6168946377652019, 0.5744300932474309, 0.5686121848697224, 0.702762156670037]\n",
      "Analyzing animal f11\n",
      "Starting run and save for f11, seed 123\n"
     ]
    },
    {
     "name": "stderr",
     "output_type": "stream",
     "text": [
      "100%|██████████| 59/59 [00:00<00:00, 703.92it/s]\n",
      "100%|██████████| 59/59 [00:00<00:00, 693.82it/s]\n",
      "100%|██████████| 59/59 [00:00<00:00, 714.83it/s]\n"
     ]
    },
    {
     "data": {
      "application/vnd.jupyter.widget-view+json": {
       "model_id": "b8e4c044e3f441ea95b628204b9083e8",
       "version_major": 2,
       "version_minor": 0
      },
      "text/plain": [
       "  0%|          | 0/3000 [00:00<?, ?it/s]"
      ]
     },
     "metadata": {},
     "output_type": "display_data"
    },
    {
     "name": "stdout",
     "output_type": "stream",
     "text": [
      "Num states = 1, likelihood = 0.9771824282579155\n"
     ]
    },
    {
     "data": {
      "application/vnd.jupyter.widget-view+json": {
       "model_id": "6f0e4a717fcc4d18938030d7a9ad05d4",
       "version_major": 2,
       "version_minor": 0
      },
      "text/plain": [
       "  0%|          | 0/3000 [00:00<?, ?it/s]"
      ]
     },
     "metadata": {},
     "output_type": "display_data"
    },
    {
     "name": "stdout",
     "output_type": "stream",
     "text": [
      "Num states = 2, likelihood = 2.3049810172395953\n"
     ]
    },
    {
     "data": {
      "application/vnd.jupyter.widget-view+json": {
       "model_id": "4e0916a5b8a342019b9533c75ba7fcc9",
       "version_major": 2,
       "version_minor": 0
      },
      "text/plain": [
       "  0%|          | 0/3000 [00:00<?, ?it/s]"
      ]
     },
     "metadata": {},
     "output_type": "display_data"
    },
    {
     "name": "stdout",
     "output_type": "stream",
     "text": [
      "Num states = 3, likelihood = 2.4342849077581796\n"
     ]
    },
    {
     "name": "stderr",
     "output_type": "stream",
     "text": [
      "/Users/minhnhatle/opt/anaconda3/envs/default/lib/python3.9/site-packages/autograd/tracer.py:48: RuntimeWarning: overflow encountered in exp\n",
      "  return f_raw(*args, **kwargs)\n",
      "/Users/minhnhatle/opt/anaconda3/envs/default/lib/python3.9/site-packages/autograd/numpy/numpy_vjps.py:75: RuntimeWarning: invalid value encountered in multiply\n",
      "  defvjp(anp.exp,    lambda ans, x : lambda g: ans * g)\n",
      "/Users/minhnhatle/opt/anaconda3/envs/default/lib/python3.9/site-packages/autograd/numpy/numpy_vjps.py:53: RuntimeWarning: overflow encountered in square\n",
      "  lambda ans, x, y : unbroadcast_f(y, lambda g: - g * x / y**2))\n",
      "/Users/minhnhatle/Documents/ExternalCode/ssm/ssm/optimizers.py:149: UserWarning: L-BFGS-B failed with message:\n",
      "ABNORMAL_TERMINATION_IN_LNSRCH\n",
      "  warn(\"{} failed with message:\\n{}\".format(method, result.message))\n"
     ]
    },
    {
     "data": {
      "application/vnd.jupyter.widget-view+json": {
       "model_id": "9f51d7f975024eeb8f77ac4fab531744",
       "version_major": 2,
       "version_minor": 0
      },
      "text/plain": [
       "  0%|          | 0/3000 [00:00<?, ?it/s]"
      ]
     },
     "metadata": {},
     "output_type": "display_data"
    },
    {
     "name": "stdout",
     "output_type": "stream",
     "text": [
      "Num states = 4, likelihood = 2.438528236017204\n"
     ]
    },
    {
     "data": {
      "application/vnd.jupyter.widget-view+json": {
       "model_id": "3ca304e4a8eb4244b1c26d7c283682a6",
       "version_major": 2,
       "version_minor": 0
      },
      "text/plain": [
       "  0%|          | 0/3000 [00:00<?, ?it/s]"
      ]
     },
     "metadata": {},
     "output_type": "display_data"
    },
    {
     "name": "stdout",
     "output_type": "stream",
     "text": [
      "Num states = 5, likelihood = 2.5469310634488385\n"
     ]
    },
    {
     "data": {
      "application/vnd.jupyter.widget-view+json": {
       "model_id": "34db9d4edb7044509f4d3819dc483c8d",
       "version_major": 2,
       "version_minor": 0
      },
      "text/plain": [
       "  0%|          | 0/3000 [00:00<?, ?it/s]"
      ]
     },
     "metadata": {},
     "output_type": "display_data"
    },
    {
     "name": "stdout",
     "output_type": "stream",
     "text": [
      "Num states = 6, likelihood = 2.3420887763967233\n"
     ]
    },
    {
     "data": {
      "application/vnd.jupyter.widget-view+json": {
       "model_id": "5ab297bf439445f89bd84b082f51b44f",
       "version_major": 2,
       "version_minor": 0
      },
      "text/plain": [
       "  0%|          | 0/3000 [00:00<?, ?it/s]"
      ]
     },
     "metadata": {},
     "output_type": "display_data"
    },
    {
     "name": "stdout",
     "output_type": "stream",
     "text": [
      "Num states = 7, likelihood = 2.5496789325175\n"
     ]
    },
    {
     "data": {
      "application/vnd.jupyter.widget-view+json": {
       "model_id": "4e10ba66759945caad3882fd86cc4249",
       "version_major": 2,
       "version_minor": 0
      },
      "text/plain": [
       "  0%|          | 0/3000 [00:00<?, ?it/s]"
      ]
     },
     "metadata": {},
     "output_type": "display_data"
    },
    {
     "name": "stdout",
     "output_type": "stream",
     "text": [
      "Num states = 8, likelihood = 2.619556105465595\n",
      "[1 2 3 4 5 6 7 8]\n",
      "[0.9771824282579155, 2.3049810172395953, 2.4342849077581796, 2.438528236017204, 2.5469310634488385, 2.3420887763967233, 2.5496789325175, 2.619556105465595]\n",
      "Analyzing animal f12\n",
      "Starting run and save for f12, seed 123\n"
     ]
    },
    {
     "name": "stderr",
     "output_type": "stream",
     "text": [
      "100%|██████████| 59/59 [00:00<00:00, 639.68it/s]\n",
      "100%|██████████| 59/59 [00:00<00:00, 631.64it/s]\n",
      "100%|██████████| 59/59 [00:00<00:00, 644.70it/s]\n"
     ]
    },
    {
     "data": {
      "application/vnd.jupyter.widget-view+json": {
       "model_id": "777e23537e9540dcaa41bbf72f1f01c0",
       "version_major": 2,
       "version_minor": 0
      },
      "text/plain": [
       "  0%|          | 0/3000 [00:00<?, ?it/s]"
      ]
     },
     "metadata": {},
     "output_type": "display_data"
    },
    {
     "name": "stdout",
     "output_type": "stream",
     "text": [
      "Num states = 1, likelihood = 1.3871497490379576\n"
     ]
    },
    {
     "data": {
      "application/vnd.jupyter.widget-view+json": {
       "model_id": "07d33b00f47f4be9ab37397d26912bde",
       "version_major": 2,
       "version_minor": 0
      },
      "text/plain": [
       "  0%|          | 0/3000 [00:00<?, ?it/s]"
      ]
     },
     "metadata": {},
     "output_type": "display_data"
    },
    {
     "name": "stdout",
     "output_type": "stream",
     "text": [
      "Num states = 2, likelihood = 2.211930260103133\n"
     ]
    },
    {
     "data": {
      "application/vnd.jupyter.widget-view+json": {
       "model_id": "1d47de6e8c824b4fae1821f51fb75005",
       "version_major": 2,
       "version_minor": 0
      },
      "text/plain": [
       "  0%|          | 0/3000 [00:00<?, ?it/s]"
      ]
     },
     "metadata": {},
     "output_type": "display_data"
    },
    {
     "name": "stdout",
     "output_type": "stream",
     "text": [
      "Num states = 3, likelihood = 2.3864774217219686\n"
     ]
    },
    {
     "data": {
      "application/vnd.jupyter.widget-view+json": {
       "model_id": "f6551bd1a1a94eebac5771033ee83493",
       "version_major": 2,
       "version_minor": 0
      },
      "text/plain": [
       "  0%|          | 0/3000 [00:00<?, ?it/s]"
      ]
     },
     "metadata": {},
     "output_type": "display_data"
    },
    {
     "name": "stdout",
     "output_type": "stream",
     "text": [
      "Num states = 4, likelihood = 2.2691813215919168\n"
     ]
    },
    {
     "data": {
      "application/vnd.jupyter.widget-view+json": {
       "model_id": "ebb06b4cafad4864a5ae81fe18d9412e",
       "version_major": 2,
       "version_minor": 0
      },
      "text/plain": [
       "  0%|          | 0/3000 [00:00<?, ?it/s]"
      ]
     },
     "metadata": {},
     "output_type": "display_data"
    },
    {
     "name": "stdout",
     "output_type": "stream",
     "text": [
      "Num states = 5, likelihood = 2.4606799027405506\n"
     ]
    },
    {
     "data": {
      "application/vnd.jupyter.widget-view+json": {
       "model_id": "6d33bde51e5d4fcebc63614d808e1882",
       "version_major": 2,
       "version_minor": 0
      },
      "text/plain": [
       "  0%|          | 0/3000 [00:00<?, ?it/s]"
      ]
     },
     "metadata": {},
     "output_type": "display_data"
    },
    {
     "name": "stdout",
     "output_type": "stream",
     "text": [
      "Num states = 6, likelihood = 2.6177946305540933\n"
     ]
    },
    {
     "data": {
      "application/vnd.jupyter.widget-view+json": {
       "model_id": "df94c390a8aa4be0ad2f75cb55b1505b",
       "version_major": 2,
       "version_minor": 0
      },
      "text/plain": [
       "  0%|          | 0/3000 [00:00<?, ?it/s]"
      ]
     },
     "metadata": {},
     "output_type": "display_data"
    },
    {
     "name": "stdout",
     "output_type": "stream",
     "text": [
      "Num states = 7, likelihood = 2.6036140541011066\n"
     ]
    },
    {
     "data": {
      "application/vnd.jupyter.widget-view+json": {
       "model_id": "d195f8cb0ba24bb68a40c430d43440e4",
       "version_major": 2,
       "version_minor": 0
      },
      "text/plain": [
       "  0%|          | 0/3000 [00:00<?, ?it/s]"
      ]
     },
     "metadata": {},
     "output_type": "display_data"
    },
    {
     "name": "stdout",
     "output_type": "stream",
     "text": [
      "Num states = 8, likelihood = 2.492817783472321\n",
      "[1 2 3 4 5 6 7 8]\n",
      "[1.3871497490379576, 2.211930260103133, 2.3864774217219686, 2.2691813215919168, 2.4606799027405506, 2.6177946305540933, 2.6036140541011066, 2.492817783472321]\n",
      "Analyzing animal e35\n",
      "Starting run and save for e35, seed 123\n"
     ]
    },
    {
     "name": "stderr",
     "output_type": "stream",
     "text": [
      "100%|██████████| 35/35 [00:00<00:00, 858.45it/s]\n",
      "100%|██████████| 35/35 [00:00<00:00, 809.42it/s]\n",
      "100%|██████████| 35/35 [00:00<00:00, 858.20it/s]\n"
     ]
    },
    {
     "data": {
      "application/vnd.jupyter.widget-view+json": {
       "model_id": "7c1bd08909424707b5423d0f373cf4b9",
       "version_major": 2,
       "version_minor": 0
      },
      "text/plain": [
       "  0%|          | 0/3000 [00:00<?, ?it/s]"
      ]
     },
     "metadata": {},
     "output_type": "display_data"
    },
    {
     "name": "stdout",
     "output_type": "stream",
     "text": [
      "Num states = 1, likelihood = 0.45796298526460866\n"
     ]
    },
    {
     "data": {
      "application/vnd.jupyter.widget-view+json": {
       "model_id": "135fd8ce43c848678c1f1b06cf936917",
       "version_major": 2,
       "version_minor": 0
      },
      "text/plain": [
       "  0%|          | 0/3000 [00:00<?, ?it/s]"
      ]
     },
     "metadata": {},
     "output_type": "display_data"
    },
    {
     "name": "stdout",
     "output_type": "stream",
     "text": [
      "Num states = 2, likelihood = 1.9305839259093907\n"
     ]
    },
    {
     "data": {
      "application/vnd.jupyter.widget-view+json": {
       "model_id": "f09007bc7e44495c859f2c7844a47a11",
       "version_major": 2,
       "version_minor": 0
      },
      "text/plain": [
       "  0%|          | 0/3000 [00:00<?, ?it/s]"
      ]
     },
     "metadata": {},
     "output_type": "display_data"
    },
    {
     "name": "stdout",
     "output_type": "stream",
     "text": [
      "Num states = 3, likelihood = 2.2418093686597214\n"
     ]
    },
    {
     "data": {
      "application/vnd.jupyter.widget-view+json": {
       "model_id": "7edd26e701f94582811535df291adf21",
       "version_major": 2,
       "version_minor": 0
      },
      "text/plain": [
       "  0%|          | 0/3000 [00:00<?, ?it/s]"
      ]
     },
     "metadata": {},
     "output_type": "display_data"
    },
    {
     "name": "stdout",
     "output_type": "stream",
     "text": [
      "Num states = 4, likelihood = 2.156622520769808\n"
     ]
    },
    {
     "data": {
      "application/vnd.jupyter.widget-view+json": {
       "model_id": "0cabd0ddcd3249c6b2f06fc5453179e1",
       "version_major": 2,
       "version_minor": 0
      },
      "text/plain": [
       "  0%|          | 0/3000 [00:00<?, ?it/s]"
      ]
     },
     "metadata": {},
     "output_type": "display_data"
    },
    {
     "name": "stdout",
     "output_type": "stream",
     "text": [
      "Num states = 5, likelihood = 2.4697236783736307\n"
     ]
    },
    {
     "name": "stderr",
     "output_type": "stream",
     "text": [
      "/Users/minhnhatle/opt/anaconda3/envs/default/lib/python3.9/site-packages/autograd/numpy/numpy_vjps.py:53: RuntimeWarning: overflow encountered in square\n",
      "  lambda ans, x, y : unbroadcast_f(y, lambda g: - g * x / y**2))\n"
     ]
    },
    {
     "data": {
      "application/vnd.jupyter.widget-view+json": {
       "model_id": "5d7b28f2611f4264a5f1c66f21b18ad3",
       "version_major": 2,
       "version_minor": 0
      },
      "text/plain": [
       "  0%|          | 0/3000 [00:00<?, ?it/s]"
      ]
     },
     "metadata": {},
     "output_type": "display_data"
    },
    {
     "name": "stdout",
     "output_type": "stream",
     "text": [
      "Num states = 6, likelihood = 2.33790106565771\n"
     ]
    },
    {
     "data": {
      "application/vnd.jupyter.widget-view+json": {
       "model_id": "7b4be64a537a4d15ad33159190d9fb56",
       "version_major": 2,
       "version_minor": 0
      },
      "text/plain": [
       "  0%|          | 0/3000 [00:00<?, ?it/s]"
      ]
     },
     "metadata": {},
     "output_type": "display_data"
    },
    {
     "name": "stdout",
     "output_type": "stream",
     "text": [
      "Num states = 7, likelihood = 2.064370773254836\n"
     ]
    },
    {
     "data": {
      "application/vnd.jupyter.widget-view+json": {
       "model_id": "c96ff4d013f845a0baf55a35f9ef1875",
       "version_major": 2,
       "version_minor": 0
      },
      "text/plain": [
       "  0%|          | 0/3000 [00:00<?, ?it/s]"
      ]
     },
     "metadata": {},
     "output_type": "display_data"
    },
    {
     "name": "stdout",
     "output_type": "stream",
     "text": [
      "Num states = 8, likelihood = 2.207292551253129\n",
      "[1 2 3 4 5 6 7 8]\n",
      "[0.45796298526460866, 1.9305839259093907, 2.2418093686597214, 2.156622520769808, 2.4697236783736307, 2.33790106565771, 2.064370773254836, 2.207292551253129]\n",
      "Analyzing animal e40\n",
      "Starting run and save for e40, seed 123\n"
     ]
    },
    {
     "name": "stderr",
     "output_type": "stream",
     "text": [
      "100%|██████████| 33/33 [00:00<00:00, 967.52it/s]\n",
      "100%|██████████| 33/33 [00:00<00:00, 972.45it/s]\n",
      "100%|██████████| 33/33 [00:00<00:00, 985.90it/s]\n"
     ]
    },
    {
     "data": {
      "application/vnd.jupyter.widget-view+json": {
       "model_id": "a49bb809b40d479a916486126585d266",
       "version_major": 2,
       "version_minor": 0
      },
      "text/plain": [
       "  0%|          | 0/3000 [00:00<?, ?it/s]"
      ]
     },
     "metadata": {},
     "output_type": "display_data"
    },
    {
     "name": "stdout",
     "output_type": "stream",
     "text": [
      "Num states = 1, likelihood = 0.6255786026309895\n"
     ]
    },
    {
     "data": {
      "application/vnd.jupyter.widget-view+json": {
       "model_id": "9a49f15cd0f24f9d996b686eeb7ae630",
       "version_major": 2,
       "version_minor": 0
      },
      "text/plain": [
       "  0%|          | 0/3000 [00:00<?, ?it/s]"
      ]
     },
     "metadata": {},
     "output_type": "display_data"
    },
    {
     "name": "stdout",
     "output_type": "stream",
     "text": [
      "Num states = 2, likelihood = 1.8228962274513143\n"
     ]
    },
    {
     "data": {
      "application/vnd.jupyter.widget-view+json": {
       "model_id": "e1de28bfaf8543fcabcda208186d5f51",
       "version_major": 2,
       "version_minor": 0
      },
      "text/plain": [
       "  0%|          | 0/3000 [00:00<?, ?it/s]"
      ]
     },
     "metadata": {},
     "output_type": "display_data"
    },
    {
     "name": "stdout",
     "output_type": "stream",
     "text": [
      "Num states = 3, likelihood = 1.970035572097732\n"
     ]
    },
    {
     "data": {
      "application/vnd.jupyter.widget-view+json": {
       "model_id": "be3e7ed4bcdd40f09aec4e54155a1c7e",
       "version_major": 2,
       "version_minor": 0
      },
      "text/plain": [
       "  0%|          | 0/3000 [00:00<?, ?it/s]"
      ]
     },
     "metadata": {},
     "output_type": "display_data"
    },
    {
     "name": "stdout",
     "output_type": "stream",
     "text": [
      "Num states = 4, likelihood = 2.0141230765975093\n"
     ]
    },
    {
     "data": {
      "application/vnd.jupyter.widget-view+json": {
       "model_id": "d0dfb55d7160474eac0b2d65a28a87ac",
       "version_major": 2,
       "version_minor": 0
      },
      "text/plain": [
       "  0%|          | 0/3000 [00:00<?, ?it/s]"
      ]
     },
     "metadata": {},
     "output_type": "display_data"
    },
    {
     "name": "stdout",
     "output_type": "stream",
     "text": [
      "Num states = 5, likelihood = 1.7585077445578827\n"
     ]
    },
    {
     "data": {
      "application/vnd.jupyter.widget-view+json": {
       "model_id": "e8cb9d40eedf40c18fd81e2a70568c08",
       "version_major": 2,
       "version_minor": 0
      },
      "text/plain": [
       "  0%|          | 0/3000 [00:00<?, ?it/s]"
      ]
     },
     "metadata": {},
     "output_type": "display_data"
    },
    {
     "name": "stdout",
     "output_type": "stream",
     "text": [
      "Num states = 6, likelihood = 1.867901703425648\n"
     ]
    },
    {
     "data": {
      "application/vnd.jupyter.widget-view+json": {
       "model_id": "5ff0fa9ed1f84fad858be6d4cae711a7",
       "version_major": 2,
       "version_minor": 0
      },
      "text/plain": [
       "  0%|          | 0/3000 [00:00<?, ?it/s]"
      ]
     },
     "metadata": {},
     "output_type": "display_data"
    },
    {
     "name": "stdout",
     "output_type": "stream",
     "text": [
      "Num states = 7, likelihood = 2.026491456586914\n"
     ]
    },
    {
     "data": {
      "application/vnd.jupyter.widget-view+json": {
       "model_id": "9946075575094c9f8dd474853f4c943a",
       "version_major": 2,
       "version_minor": 0
      },
      "text/plain": [
       "  0%|          | 0/3000 [00:00<?, ?it/s]"
      ]
     },
     "metadata": {},
     "output_type": "display_data"
    },
    {
     "name": "stdout",
     "output_type": "stream",
     "text": [
      "Num states = 8, likelihood = 1.969164439905054\n",
      "[1 2 3 4 5 6 7 8]\n",
      "[0.6255786026309895, 1.8228962274513143, 1.970035572097732, 2.0141230765975093, 1.7585077445578827, 1.867901703425648, 2.026491456586914, 1.969164439905054]\n",
      "Analyzing animal fh01\n",
      "Starting run and save for fh01, seed 123\n"
     ]
    },
    {
     "name": "stderr",
     "output_type": "stream",
     "text": [
      "100%|██████████| 10/10 [00:00<00:00, 1210.23it/s]\n",
      "100%|██████████| 10/10 [00:00<00:00, 985.43it/s]\n",
      "100%|██████████| 10/10 [00:00<00:00, 1081.90it/s]\n"
     ]
    },
    {
     "data": {
      "application/vnd.jupyter.widget-view+json": {
       "model_id": "b8f7c32c8ad340e6b0791c74477054a3",
       "version_major": 2,
       "version_minor": 0
      },
      "text/plain": [
       "  0%|          | 0/3000 [00:00<?, ?it/s]"
      ]
     },
     "metadata": {},
     "output_type": "display_data"
    },
    {
     "name": "stdout",
     "output_type": "stream",
     "text": [
      "Num states = 1, likelihood = 0.5505508387558008\n"
     ]
    },
    {
     "data": {
      "application/vnd.jupyter.widget-view+json": {
       "model_id": "a5c27feea7044631bccfe370af0665b0",
       "version_major": 2,
       "version_minor": 0
      },
      "text/plain": [
       "  0%|          | 0/3000 [00:00<?, ?it/s]"
      ]
     },
     "metadata": {},
     "output_type": "display_data"
    },
    {
     "name": "stdout",
     "output_type": "stream",
     "text": [
      "Num states = 2, likelihood = 1.6533493831115897\n"
     ]
    },
    {
     "data": {
      "application/vnd.jupyter.widget-view+json": {
       "model_id": "40c76e1591b54dd9960d795a99e17cab",
       "version_major": 2,
       "version_minor": 0
      },
      "text/plain": [
       "  0%|          | 0/3000 [00:00<?, ?it/s]"
      ]
     },
     "metadata": {},
     "output_type": "display_data"
    },
    {
     "name": "stdout",
     "output_type": "stream",
     "text": [
      "Num states = 3, likelihood = 2.2266272014630193\n"
     ]
    },
    {
     "data": {
      "application/vnd.jupyter.widget-view+json": {
       "model_id": "14b3270c6cc64e0182b27e0fa761bc7e",
       "version_major": 2,
       "version_minor": 0
      },
      "text/plain": [
       "  0%|          | 0/3000 [00:00<?, ?it/s]"
      ]
     },
     "metadata": {},
     "output_type": "display_data"
    },
    {
     "name": "stdout",
     "output_type": "stream",
     "text": [
      "Num states = 4, likelihood = 2.3470360504830494\n"
     ]
    },
    {
     "data": {
      "application/vnd.jupyter.widget-view+json": {
       "model_id": "a2d8711ffe1c4a2cb479c679c092cae7",
       "version_major": 2,
       "version_minor": 0
      },
      "text/plain": [
       "  0%|          | 0/3000 [00:00<?, ?it/s]"
      ]
     },
     "metadata": {},
     "output_type": "display_data"
    },
    {
     "name": "stdout",
     "output_type": "stream",
     "text": [
      "Num states = 5, likelihood = 1.6471299359261664\n"
     ]
    },
    {
     "data": {
      "application/vnd.jupyter.widget-view+json": {
       "model_id": "aa715c59af254a79869108fe35672546",
       "version_major": 2,
       "version_minor": 0
      },
      "text/plain": [
       "  0%|          | 0/3000 [00:00<?, ?it/s]"
      ]
     },
     "metadata": {},
     "output_type": "display_data"
    },
    {
     "name": "stdout",
     "output_type": "stream",
     "text": [
      "Num states = 6, likelihood = 2.156038565666062\n"
     ]
    },
    {
     "data": {
      "application/vnd.jupyter.widget-view+json": {
       "model_id": "50c45e30ecca43ca9445102818689d56",
       "version_major": 2,
       "version_minor": 0
      },
      "text/plain": [
       "  0%|          | 0/3000 [00:00<?, ?it/s]"
      ]
     },
     "metadata": {},
     "output_type": "display_data"
    },
    {
     "name": "stdout",
     "output_type": "stream",
     "text": [
      "Num states = 7, likelihood = 2.5587555381094016\n"
     ]
    },
    {
     "data": {
      "application/vnd.jupyter.widget-view+json": {
       "model_id": "0d68aca1e063441ea5d7444e2accfebf",
       "version_major": 2,
       "version_minor": 0
      },
      "text/plain": [
       "  0%|          | 0/3000 [00:00<?, ?it/s]"
      ]
     },
     "metadata": {},
     "output_type": "display_data"
    },
    {
     "name": "stdout",
     "output_type": "stream",
     "text": [
      "Num states = 8, likelihood = 2.5515082348320806\n",
      "[1 2 3 4 5 6 7 8]\n",
      "[0.5505508387558008, 1.6533493831115897, 2.2266272014630193, 2.3470360504830494, 1.6471299359261664, 2.156038565666062, 2.5587555381094016, 2.5515082348320806]\n",
      "Analyzing animal fh02\n",
      "Starting run and save for fh02, seed 123\n"
     ]
    },
    {
     "name": "stderr",
     "output_type": "stream",
     "text": [
      "100%|██████████| 18/18 [00:00<00:00, 1330.68it/s]\n",
      "100%|██████████| 18/18 [00:00<00:00, 1271.81it/s]\n",
      "100%|██████████| 18/18 [00:00<00:00, 1269.42it/s]\n"
     ]
    },
    {
     "data": {
      "application/vnd.jupyter.widget-view+json": {
       "model_id": "31c5f83b03704985950458a4258d8623",
       "version_major": 2,
       "version_minor": 0
      },
      "text/plain": [
       "  0%|          | 0/3000 [00:00<?, ?it/s]"
      ]
     },
     "metadata": {},
     "output_type": "display_data"
    },
    {
     "name": "stdout",
     "output_type": "stream",
     "text": [
      "Num states = 1, likelihood = 0.37678292670309566\n"
     ]
    },
    {
     "data": {
      "application/vnd.jupyter.widget-view+json": {
       "model_id": "907031ee87334a27983ad8b60dc17e59",
       "version_major": 2,
       "version_minor": 0
      },
      "text/plain": [
       "  0%|          | 0/3000 [00:00<?, ?it/s]"
      ]
     },
     "metadata": {},
     "output_type": "display_data"
    },
    {
     "name": "stdout",
     "output_type": "stream",
     "text": [
      "Num states = 2, likelihood = 2.27000738042239\n"
     ]
    },
    {
     "name": "stderr",
     "output_type": "stream",
     "text": [
      "/Users/minhnhatle/opt/anaconda3/envs/default/lib/python3.9/site-packages/autograd/tracer.py:48: RuntimeWarning: overflow encountered in exp\n",
      "  return f_raw(*args, **kwargs)\n",
      "/Users/minhnhatle/opt/anaconda3/envs/default/lib/python3.9/site-packages/autograd/numpy/numpy_vjps.py:75: RuntimeWarning: invalid value encountered in multiply\n",
      "  defvjp(anp.exp,    lambda ans, x : lambda g: ans * g)\n",
      "/Users/minhnhatle/opt/anaconda3/envs/default/lib/python3.9/site-packages/autograd/numpy/numpy_vjps.py:53: RuntimeWarning: overflow encountered in square\n",
      "  lambda ans, x, y : unbroadcast_f(y, lambda g: - g * x / y**2))\n"
     ]
    },
    {
     "data": {
      "application/vnd.jupyter.widget-view+json": {
       "model_id": "932fb0cd63a94373b54f4bab7bf77a44",
       "version_major": 2,
       "version_minor": 0
      },
      "text/plain": [
       "  0%|          | 0/3000 [00:00<?, ?it/s]"
      ]
     },
     "metadata": {},
     "output_type": "display_data"
    },
    {
     "name": "stdout",
     "output_type": "stream",
     "text": [
      "Num states = 3, likelihood = 2.2788680031214494\n"
     ]
    },
    {
     "data": {
      "application/vnd.jupyter.widget-view+json": {
       "model_id": "645862e0f0e246baa88636989d529e14",
       "version_major": 2,
       "version_minor": 0
      },
      "text/plain": [
       "  0%|          | 0/3000 [00:00<?, ?it/s]"
      ]
     },
     "metadata": {},
     "output_type": "display_data"
    },
    {
     "name": "stdout",
     "output_type": "stream",
     "text": [
      "Num states = 4, likelihood = 2.1908704762188855\n"
     ]
    },
    {
     "data": {
      "application/vnd.jupyter.widget-view+json": {
       "model_id": "084c0cbe5ee5444299e467e11f204ca2",
       "version_major": 2,
       "version_minor": 0
      },
      "text/plain": [
       "  0%|          | 0/3000 [00:00<?, ?it/s]"
      ]
     },
     "metadata": {},
     "output_type": "display_data"
    },
    {
     "name": "stdout",
     "output_type": "stream",
     "text": [
      "Num states = 5, likelihood = 2.36035389529446\n"
     ]
    },
    {
     "data": {
      "application/vnd.jupyter.widget-view+json": {
       "model_id": "20290562011446ac92e6b53e88ec334a",
       "version_major": 2,
       "version_minor": 0
      },
      "text/plain": [
       "  0%|          | 0/3000 [00:00<?, ?it/s]"
      ]
     },
     "metadata": {},
     "output_type": "display_data"
    },
    {
     "name": "stdout",
     "output_type": "stream",
     "text": [
      "Num states = 6, likelihood = 2.137393154610754\n"
     ]
    },
    {
     "data": {
      "application/vnd.jupyter.widget-view+json": {
       "model_id": "118e081e98fc4b42bf32a6b7228e6f8c",
       "version_major": 2,
       "version_minor": 0
      },
      "text/plain": [
       "  0%|          | 0/3000 [00:00<?, ?it/s]"
      ]
     },
     "metadata": {},
     "output_type": "display_data"
    },
    {
     "name": "stdout",
     "output_type": "stream",
     "text": [
      "Num states = 7, likelihood = 2.0507822859628995\n"
     ]
    },
    {
     "data": {
      "application/vnd.jupyter.widget-view+json": {
       "model_id": "053827d4c1d34770bd09fed9cb44cae4",
       "version_major": 2,
       "version_minor": 0
      },
      "text/plain": [
       "  0%|          | 0/3000 [00:00<?, ?it/s]"
      ]
     },
     "metadata": {},
     "output_type": "display_data"
    },
    {
     "name": "stdout",
     "output_type": "stream",
     "text": [
      "Num states = 8, likelihood = 2.1703944992771054\n",
      "[1 2 3 4 5 6 7 8]\n",
      "[0.37678292670309566, 2.27000738042239, 2.2788680031214494, 2.1908704762188855, 2.36035389529446, 2.137393154610754, 2.0507822859628995, 2.1703944992771054]\n",
      "Analyzing animal e53\n",
      "Starting run and save for e53, seed 123\n"
     ]
    },
    {
     "name": "stderr",
     "output_type": "stream",
     "text": [
      "100%|██████████| 77/77 [00:00<00:00, 567.92it/s]\n",
      "100%|██████████| 77/77 [00:00<00:00, 575.22it/s]\n",
      "100%|██████████| 77/77 [00:00<00:00, 592.72it/s]\n"
     ]
    },
    {
     "data": {
      "application/vnd.jupyter.widget-view+json": {
       "model_id": "ad60bb63bfc34ca6b3d392a0e667f07f",
       "version_major": 2,
       "version_minor": 0
      },
      "text/plain": [
       "  0%|          | 0/3000 [00:00<?, ?it/s]"
      ]
     },
     "metadata": {},
     "output_type": "display_data"
    },
    {
     "name": "stdout",
     "output_type": "stream",
     "text": [
      "Num states = 1, likelihood = 0.013645203252368584\n"
     ]
    },
    {
     "data": {
      "application/vnd.jupyter.widget-view+json": {
       "model_id": "b55a024e491a4727beee56dd0a9a3967",
       "version_major": 2,
       "version_minor": 0
      },
      "text/plain": [
       "  0%|          | 0/3000 [00:00<?, ?it/s]"
      ]
     },
     "metadata": {},
     "output_type": "display_data"
    },
    {
     "name": "stdout",
     "output_type": "stream",
     "text": [
      "Num states = 2, likelihood = 0.5873609460146558\n"
     ]
    },
    {
     "data": {
      "application/vnd.jupyter.widget-view+json": {
       "model_id": "b0b6041c9d84410984af7eef288a2463",
       "version_major": 2,
       "version_minor": 0
      },
      "text/plain": [
       "  0%|          | 0/3000 [00:00<?, ?it/s]"
      ]
     },
     "metadata": {},
     "output_type": "display_data"
    },
    {
     "name": "stdout",
     "output_type": "stream",
     "text": [
      "Num states = 3, likelihood = 0.5617235945751797\n"
     ]
    },
    {
     "data": {
      "application/vnd.jupyter.widget-view+json": {
       "model_id": "7b6b8c0a4c7c47b8b8447d505c1e560f",
       "version_major": 2,
       "version_minor": 0
      },
      "text/plain": [
       "  0%|          | 0/3000 [00:00<?, ?it/s]"
      ]
     },
     "metadata": {},
     "output_type": "display_data"
    },
    {
     "name": "stdout",
     "output_type": "stream",
     "text": [
      "Num states = 4, likelihood = 0.663771743308901\n"
     ]
    },
    {
     "data": {
      "application/vnd.jupyter.widget-view+json": {
       "model_id": "661a4c57a22547b1b90315439177b469",
       "version_major": 2,
       "version_minor": 0
      },
      "text/plain": [
       "  0%|          | 0/3000 [00:00<?, ?it/s]"
      ]
     },
     "metadata": {},
     "output_type": "display_data"
    },
    {
     "name": "stdout",
     "output_type": "stream",
     "text": [
      "Num states = 5, likelihood = 0.6512816664819698\n"
     ]
    },
    {
     "data": {
      "application/vnd.jupyter.widget-view+json": {
       "model_id": "46a08f6c5ff34903aec0dbe5c4482994",
       "version_major": 2,
       "version_minor": 0
      },
      "text/plain": [
       "  0%|          | 0/3000 [00:00<?, ?it/s]"
      ]
     },
     "metadata": {},
     "output_type": "display_data"
    },
    {
     "name": "stdout",
     "output_type": "stream",
     "text": [
      "Num states = 6, likelihood = 0.643384313444388\n"
     ]
    },
    {
     "data": {
      "application/vnd.jupyter.widget-view+json": {
       "model_id": "a2552c75aad0403280d4bde2fef6c6ac",
       "version_major": 2,
       "version_minor": 0
      },
      "text/plain": [
       "  0%|          | 0/3000 [00:00<?, ?it/s]"
      ]
     },
     "metadata": {},
     "output_type": "display_data"
    },
    {
     "name": "stdout",
     "output_type": "stream",
     "text": [
      "Num states = 7, likelihood = 0.6833213744840335\n"
     ]
    },
    {
     "data": {
      "application/vnd.jupyter.widget-view+json": {
       "model_id": "65bd3ddb412c4b0dae10e76a6644b5b0",
       "version_major": 2,
       "version_minor": 0
      },
      "text/plain": [
       "  0%|          | 0/3000 [00:00<?, ?it/s]"
      ]
     },
     "metadata": {},
     "output_type": "display_data"
    },
    {
     "name": "stdout",
     "output_type": "stream",
     "text": [
      "Num states = 8, likelihood = 0.6493001790905545\n",
      "[1 2 3 4 5 6 7 8]\n",
      "[0.013645203252368584, 0.5873609460146558, 0.5617235945751797, 0.663771743308901, 0.6512816664819698, 0.643384313444388, 0.6833213744840335, 0.6493001790905545]\n",
      "Analyzing animal fh03\n",
      "Starting run and save for fh03, seed 123\n"
     ]
    },
    {
     "name": "stderr",
     "output_type": "stream",
     "text": [
      "100%|██████████| 34/34 [00:00<00:00, 1004.81it/s]\n",
      "100%|██████████| 34/34 [00:00<00:00, 929.75it/s]\n",
      "100%|██████████| 34/34 [00:00<00:00, 915.58it/s]\n"
     ]
    },
    {
     "data": {
      "application/vnd.jupyter.widget-view+json": {
       "model_id": "74830b3ca0d342a6ab6d9952ebfe7bdb",
       "version_major": 2,
       "version_minor": 0
      },
      "text/plain": [
       "  0%|          | 0/3000 [00:00<?, ?it/s]"
      ]
     },
     "metadata": {},
     "output_type": "display_data"
    },
    {
     "name": "stdout",
     "output_type": "stream",
     "text": [
      "Num states = 1, likelihood = 0.6605188839886849\n"
     ]
    },
    {
     "data": {
      "application/vnd.jupyter.widget-view+json": {
       "model_id": "473a72d710f248cb9af6ed354e295ac0",
       "version_major": 2,
       "version_minor": 0
      },
      "text/plain": [
       "  0%|          | 0/3000 [00:00<?, ?it/s]"
      ]
     },
     "metadata": {},
     "output_type": "display_data"
    },
    {
     "name": "stderr",
     "output_type": "stream",
     "text": [
      "/Users/minhnhatle/opt/anaconda3/envs/default/lib/python3.9/site-packages/autograd/tracer.py:48: RuntimeWarning: overflow encountered in exp\n",
      "  return f_raw(*args, **kwargs)\n",
      "/Users/minhnhatle/opt/anaconda3/envs/default/lib/python3.9/site-packages/autograd/numpy/numpy_vjps.py:75: RuntimeWarning: invalid value encountered in multiply\n",
      "  defvjp(anp.exp,    lambda ans, x : lambda g: ans * g)\n",
      "/Users/minhnhatle/opt/anaconda3/envs/default/lib/python3.9/site-packages/autograd/numpy/numpy_vjps.py:53: RuntimeWarning: overflow encountered in square\n",
      "  lambda ans, x, y : unbroadcast_f(y, lambda g: - g * x / y**2))\n"
     ]
    },
    {
     "name": "stdout",
     "output_type": "stream",
     "text": [
      "Num states = 2, likelihood = 2.375321659757048\n"
     ]
    },
    {
     "data": {
      "application/vnd.jupyter.widget-view+json": {
       "model_id": "a95b27055cb34bf9bc39a3b3c0ff0e3b",
       "version_major": 2,
       "version_minor": 0
      },
      "text/plain": [
       "  0%|          | 0/3000 [00:00<?, ?it/s]"
      ]
     },
     "metadata": {},
     "output_type": "display_data"
    },
    {
     "name": "stdout",
     "output_type": "stream",
     "text": [
      "Num states = 3, likelihood = 2.5385785183409046\n"
     ]
    },
    {
     "name": "stderr",
     "output_type": "stream",
     "text": [
      "/Users/minhnhatle/opt/anaconda3/envs/default/lib/python3.9/site-packages/autograd/numpy/numpy_vjps.py:53: RuntimeWarning: overflow encountered in square\n",
      "  lambda ans, x, y : unbroadcast_f(y, lambda g: - g * x / y**2))\n",
      "/Users/minhnhatle/opt/anaconda3/envs/default/lib/python3.9/site-packages/autograd/tracer.py:48: RuntimeWarning: overflow encountered in exp\n",
      "  return f_raw(*args, **kwargs)\n",
      "/Users/minhnhatle/opt/anaconda3/envs/default/lib/python3.9/site-packages/autograd/numpy/numpy_vjps.py:75: RuntimeWarning: invalid value encountered in multiply\n",
      "  defvjp(anp.exp,    lambda ans, x : lambda g: ans * g)\n"
     ]
    },
    {
     "data": {
      "application/vnd.jupyter.widget-view+json": {
       "model_id": "2fd2e39bb79b4e99a9df9b8c00131613",
       "version_major": 2,
       "version_minor": 0
      },
      "text/plain": [
       "  0%|          | 0/3000 [00:00<?, ?it/s]"
      ]
     },
     "metadata": {},
     "output_type": "display_data"
    },
    {
     "name": "stdout",
     "output_type": "stream",
     "text": [
      "Num states = 4, likelihood = 2.670692664539532\n"
     ]
    },
    {
     "data": {
      "application/vnd.jupyter.widget-view+json": {
       "model_id": "367fcd8f5ff8499e998dc8c992adf638",
       "version_major": 2,
       "version_minor": 0
      },
      "text/plain": [
       "  0%|          | 0/3000 [00:00<?, ?it/s]"
      ]
     },
     "metadata": {},
     "output_type": "display_data"
    },
    {
     "name": "stdout",
     "output_type": "stream",
     "text": [
      "Num states = 5, likelihood = 2.495557026697959\n"
     ]
    },
    {
     "data": {
      "application/vnd.jupyter.widget-view+json": {
       "model_id": "207864b7e5c0416485d315dd036668ce",
       "version_major": 2,
       "version_minor": 0
      },
      "text/plain": [
       "  0%|          | 0/3000 [00:00<?, ?it/s]"
      ]
     },
     "metadata": {},
     "output_type": "display_data"
    },
    {
     "name": "stdout",
     "output_type": "stream",
     "text": [
      "Num states = 6, likelihood = 2.5936115802696866\n"
     ]
    },
    {
     "name": "stderr",
     "output_type": "stream",
     "text": [
      "/Users/minhnhatle/opt/anaconda3/envs/default/lib/python3.9/site-packages/autograd/tracer.py:48: RuntimeWarning: overflow encountered in exp\n",
      "  return f_raw(*args, **kwargs)\n",
      "/Users/minhnhatle/opt/anaconda3/envs/default/lib/python3.9/site-packages/autograd/numpy/numpy_vjps.py:75: RuntimeWarning: invalid value encountered in multiply\n",
      "  defvjp(anp.exp,    lambda ans, x : lambda g: ans * g)\n",
      "/Users/minhnhatle/opt/anaconda3/envs/default/lib/python3.9/site-packages/autograd/numpy/numpy_vjps.py:53: RuntimeWarning: overflow encountered in square\n",
      "  lambda ans, x, y : unbroadcast_f(y, lambda g: - g * x / y**2))\n"
     ]
    },
    {
     "data": {
      "application/vnd.jupyter.widget-view+json": {
       "model_id": "5e38276432c54a7dae66846e26536c14",
       "version_major": 2,
       "version_minor": 0
      },
      "text/plain": [
       "  0%|          | 0/3000 [00:00<?, ?it/s]"
      ]
     },
     "metadata": {},
     "output_type": "display_data"
    },
    {
     "name": "stdout",
     "output_type": "stream",
     "text": [
      "Num states = 7, likelihood = 2.6724804716369337\n"
     ]
    },
    {
     "data": {
      "application/vnd.jupyter.widget-view+json": {
       "model_id": "661e93e226ae416c92a2bc6851f8c4bd",
       "version_major": 2,
       "version_minor": 0
      },
      "text/plain": [
       "  0%|          | 0/3000 [00:00<?, ?it/s]"
      ]
     },
     "metadata": {},
     "output_type": "display_data"
    },
    {
     "name": "stdout",
     "output_type": "stream",
     "text": [
      "Num states = 8, likelihood = 2.934690619174891\n",
      "[1 2 3 4 5 6 7 8]\n",
      "[0.6605188839886849, 2.375321659757048, 2.5385785183409046, 2.670692664539532, 2.495557026697959, 2.5936115802696866, 2.6724804716369337, 2.934690619174891]\n",
      "Analyzing animal f16\n",
      "Starting run and save for f16, seed 123\n"
     ]
    },
    {
     "name": "stderr",
     "output_type": "stream",
     "text": [
      "100%|██████████| 25/25 [00:00<00:00, 922.74it/s]\n",
      "100%|██████████| 25/25 [00:00<00:00, 968.80it/s]\n",
      "100%|██████████| 25/25 [00:00<00:00, 986.38it/s]\n"
     ]
    },
    {
     "data": {
      "application/vnd.jupyter.widget-view+json": {
       "model_id": "ca0a770b797344cb993337a8aa6c9991",
       "version_major": 2,
       "version_minor": 0
      },
      "text/plain": [
       "  0%|          | 0/3000 [00:00<?, ?it/s]"
      ]
     },
     "metadata": {},
     "output_type": "display_data"
    },
    {
     "name": "stdout",
     "output_type": "stream",
     "text": [
      "Num states = 1, likelihood = 1.2249703544142099\n"
     ]
    },
    {
     "data": {
      "application/vnd.jupyter.widget-view+json": {
       "model_id": "47431f44a1a64ad7821b28fa8fd4e10d",
       "version_major": 2,
       "version_minor": 0
      },
      "text/plain": [
       "  0%|          | 0/3000 [00:00<?, ?it/s]"
      ]
     },
     "metadata": {},
     "output_type": "display_data"
    },
    {
     "name": "stdout",
     "output_type": "stream",
     "text": [
      "Num states = 2, likelihood = 2.210416032854736\n"
     ]
    },
    {
     "data": {
      "application/vnd.jupyter.widget-view+json": {
       "model_id": "c145ae95847640bcb5d6bdcf9ceb26ce",
       "version_major": 2,
       "version_minor": 0
      },
      "text/plain": [
       "  0%|          | 0/3000 [00:00<?, ?it/s]"
      ]
     },
     "metadata": {},
     "output_type": "display_data"
    },
    {
     "name": "stdout",
     "output_type": "stream",
     "text": [
      "Num states = 3, likelihood = 2.7817703789153487\n"
     ]
    },
    {
     "data": {
      "application/vnd.jupyter.widget-view+json": {
       "model_id": "e8d8c2b9a99c4779ab5237c0ba3a46c8",
       "version_major": 2,
       "version_minor": 0
      },
      "text/plain": [
       "  0%|          | 0/3000 [00:00<?, ?it/s]"
      ]
     },
     "metadata": {},
     "output_type": "display_data"
    },
    {
     "name": "stdout",
     "output_type": "stream",
     "text": [
      "Num states = 4, likelihood = 2.570365595161729\n"
     ]
    },
    {
     "data": {
      "application/vnd.jupyter.widget-view+json": {
       "model_id": "8e0fb66ba24341e8b754e428984c5a7c",
       "version_major": 2,
       "version_minor": 0
      },
      "text/plain": [
       "  0%|          | 0/3000 [00:00<?, ?it/s]"
      ]
     },
     "metadata": {},
     "output_type": "display_data"
    },
    {
     "name": "stdout",
     "output_type": "stream",
     "text": [
      "Num states = 5, likelihood = 2.6992950410135945\n"
     ]
    },
    {
     "data": {
      "application/vnd.jupyter.widget-view+json": {
       "model_id": "36c7a46f719f44089db22cbf05eddec1",
       "version_major": 2,
       "version_minor": 0
      },
      "text/plain": [
       "  0%|          | 0/3000 [00:00<?, ?it/s]"
      ]
     },
     "metadata": {},
     "output_type": "display_data"
    },
    {
     "name": "stdout",
     "output_type": "stream",
     "text": [
      "Num states = 6, likelihood = 2.682256828279445\n"
     ]
    },
    {
     "data": {
      "application/vnd.jupyter.widget-view+json": {
       "model_id": "46785e2d473c4b48ba2a164f9db814ff",
       "version_major": 2,
       "version_minor": 0
      },
      "text/plain": [
       "  0%|          | 0/3000 [00:00<?, ?it/s]"
      ]
     },
     "metadata": {},
     "output_type": "display_data"
    },
    {
     "name": "stdout",
     "output_type": "stream",
     "text": [
      "Num states = 7, likelihood = 2.6237857342656308\n"
     ]
    },
    {
     "data": {
      "application/vnd.jupyter.widget-view+json": {
       "model_id": "368f490338554f618846f9d1c2a33cbf",
       "version_major": 2,
       "version_minor": 0
      },
      "text/plain": [
       "  0%|          | 0/3000 [00:00<?, ?it/s]"
      ]
     },
     "metadata": {},
     "output_type": "display_data"
    },
    {
     "name": "stdout",
     "output_type": "stream",
     "text": [
      "Num states = 8, likelihood = 2.45331134087526\n",
      "[1 2 3 4 5 6 7 8]\n",
      "[1.2249703544142099, 2.210416032854736, 2.7817703789153487, 2.570365595161729, 2.6992950410135945, 2.682256828279445, 2.6237857342656308, 2.45331134087526]\n",
      "Analyzing animal f17\n",
      "Starting run and save for f17, seed 123\n"
     ]
    },
    {
     "name": "stderr",
     "output_type": "stream",
     "text": [
      "100%|██████████| 25/25 [00:00<00:00, 999.27it/s]\n",
      "100%|██████████| 25/25 [00:00<00:00, 998.04it/s]\n",
      "100%|██████████| 25/25 [00:00<00:00, 990.96it/s]\n"
     ]
    },
    {
     "data": {
      "application/vnd.jupyter.widget-view+json": {
       "model_id": "da1461e6dae1465ab7df603ebf539b9d",
       "version_major": 2,
       "version_minor": 0
      },
      "text/plain": [
       "  0%|          | 0/3000 [00:00<?, ?it/s]"
      ]
     },
     "metadata": {},
     "output_type": "display_data"
    },
    {
     "name": "stdout",
     "output_type": "stream",
     "text": [
      "Num states = 1, likelihood = 1.2400377162964349\n"
     ]
    },
    {
     "name": "stderr",
     "output_type": "stream",
     "text": [
      "/Users/minhnhatle/opt/anaconda3/envs/default/lib/python3.9/site-packages/autograd/numpy/numpy_vjps.py:53: RuntimeWarning: overflow encountered in square\n",
      "  lambda ans, x, y : unbroadcast_f(y, lambda g: - g * x / y**2))\n"
     ]
    },
    {
     "data": {
      "application/vnd.jupyter.widget-view+json": {
       "model_id": "fb5610820e3b4de39ace56c1d78283c8",
       "version_major": 2,
       "version_minor": 0
      },
      "text/plain": [
       "  0%|          | 0/3000 [00:00<?, ?it/s]"
      ]
     },
     "metadata": {},
     "output_type": "display_data"
    },
    {
     "name": "stdout",
     "output_type": "stream",
     "text": [
      "Num states = 2, likelihood = 2.3639777729962184\n"
     ]
    },
    {
     "data": {
      "application/vnd.jupyter.widget-view+json": {
       "model_id": "35a42ca372ad49efa5d4fa12ba61a5cd",
       "version_major": 2,
       "version_minor": 0
      },
      "text/plain": [
       "  0%|          | 0/3000 [00:00<?, ?it/s]"
      ]
     },
     "metadata": {},
     "output_type": "display_data"
    },
    {
     "name": "stdout",
     "output_type": "stream",
     "text": [
      "Num states = 3, likelihood = 2.4309563183870293\n"
     ]
    },
    {
     "data": {
      "application/vnd.jupyter.widget-view+json": {
       "model_id": "e25e5ba1a04943c6aa43ef1f518e6e46",
       "version_major": 2,
       "version_minor": 0
      },
      "text/plain": [
       "  0%|          | 0/3000 [00:00<?, ?it/s]"
      ]
     },
     "metadata": {},
     "output_type": "display_data"
    },
    {
     "name": "stdout",
     "output_type": "stream",
     "text": [
      "Num states = 4, likelihood = 1.762354359994653\n"
     ]
    },
    {
     "data": {
      "application/vnd.jupyter.widget-view+json": {
       "model_id": "266835ef1d18492f8646864cd4ebd287",
       "version_major": 2,
       "version_minor": 0
      },
      "text/plain": [
       "  0%|          | 0/3000 [00:00<?, ?it/s]"
      ]
     },
     "metadata": {},
     "output_type": "display_data"
    },
    {
     "name": "stdout",
     "output_type": "stream",
     "text": [
      "Num states = 5, likelihood = 2.171254343685215\n"
     ]
    },
    {
     "data": {
      "application/vnd.jupyter.widget-view+json": {
       "model_id": "15b740564cc94933998b56f41ea1925e",
       "version_major": 2,
       "version_minor": 0
      },
      "text/plain": [
       "  0%|          | 0/3000 [00:00<?, ?it/s]"
      ]
     },
     "metadata": {},
     "output_type": "display_data"
    },
    {
     "name": "stdout",
     "output_type": "stream",
     "text": [
      "Num states = 6, likelihood = 2.1003338158862195\n"
     ]
    },
    {
     "data": {
      "application/vnd.jupyter.widget-view+json": {
       "model_id": "6478a549188d41d1995bb5d2cd7caf64",
       "version_major": 2,
       "version_minor": 0
      },
      "text/plain": [
       "  0%|          | 0/3000 [00:00<?, ?it/s]"
      ]
     },
     "metadata": {},
     "output_type": "display_data"
    },
    {
     "name": "stdout",
     "output_type": "stream",
     "text": [
      "Num states = 7, likelihood = 2.1086013270624444\n"
     ]
    },
    {
     "data": {
      "application/vnd.jupyter.widget-view+json": {
       "model_id": "ae6a8bec851c4874b5e216956255b491",
       "version_major": 2,
       "version_minor": 0
      },
      "text/plain": [
       "  0%|          | 0/3000 [00:00<?, ?it/s]"
      ]
     },
     "metadata": {},
     "output_type": "display_data"
    },
    {
     "name": "stdout",
     "output_type": "stream",
     "text": [
      "Num states = 8, likelihood = 2.0999568105710704\n",
      "[1 2 3 4 5 6 7 8]\n",
      "[1.2400377162964349, 2.3639777729962184, 2.4309563183870293, 1.762354359994653, 2.171254343685215, 2.1003338158862195, 2.1086013270624444, 2.0999568105710704]\n",
      "Analyzing animal f20\n",
      "Starting run and save for f20, seed 123\n"
     ]
    },
    {
     "name": "stderr",
     "output_type": "stream",
     "text": [
      "100%|██████████| 24/24 [00:00<00:00, 1132.17it/s]\n",
      "100%|██████████| 24/24 [00:00<00:00, 1110.49it/s]\n",
      "100%|██████████| 24/24 [00:00<00:00, 1077.11it/s]\n"
     ]
    },
    {
     "data": {
      "application/vnd.jupyter.widget-view+json": {
       "model_id": "34037f194b554d2d87540220e0b27124",
       "version_major": 2,
       "version_minor": 0
      },
      "text/plain": [
       "  0%|          | 0/3000 [00:00<?, ?it/s]"
      ]
     },
     "metadata": {},
     "output_type": "display_data"
    },
    {
     "name": "stdout",
     "output_type": "stream",
     "text": [
      "Num states = 1, likelihood = 0.29407768203799967\n"
     ]
    },
    {
     "data": {
      "application/vnd.jupyter.widget-view+json": {
       "model_id": "3d6c2f18b6c24a1ba04e4210d8740328",
       "version_major": 2,
       "version_minor": 0
      },
      "text/plain": [
       "  0%|          | 0/3000 [00:00<?, ?it/s]"
      ]
     },
     "metadata": {},
     "output_type": "display_data"
    },
    {
     "name": "stdout",
     "output_type": "stream",
     "text": [
      "Num states = 2, likelihood = 1.3355632521715501\n"
     ]
    },
    {
     "data": {
      "application/vnd.jupyter.widget-view+json": {
       "model_id": "7bbf651b5f964e1ead6afa5db1a773d6",
       "version_major": 2,
       "version_minor": 0
      },
      "text/plain": [
       "  0%|          | 0/3000 [00:00<?, ?it/s]"
      ]
     },
     "metadata": {},
     "output_type": "display_data"
    },
    {
     "name": "stdout",
     "output_type": "stream",
     "text": [
      "Num states = 3, likelihood = 1.5654762129460842\n"
     ]
    },
    {
     "data": {
      "application/vnd.jupyter.widget-view+json": {
       "model_id": "9f11861f75fa49c798b2529d11f2beb3",
       "version_major": 2,
       "version_minor": 0
      },
      "text/plain": [
       "  0%|          | 0/3000 [00:00<?, ?it/s]"
      ]
     },
     "metadata": {},
     "output_type": "display_data"
    },
    {
     "name": "stdout",
     "output_type": "stream",
     "text": [
      "Num states = 4, likelihood = 1.2388471148158358\n"
     ]
    },
    {
     "data": {
      "application/vnd.jupyter.widget-view+json": {
       "model_id": "4ebbe90f3e8b42c1a4a567a206dcf8d4",
       "version_major": 2,
       "version_minor": 0
      },
      "text/plain": [
       "  0%|          | 0/3000 [00:00<?, ?it/s]"
      ]
     },
     "metadata": {},
     "output_type": "display_data"
    },
    {
     "name": "stdout",
     "output_type": "stream",
     "text": [
      "Num states = 5, likelihood = 1.1583517134902692\n"
     ]
    },
    {
     "data": {
      "application/vnd.jupyter.widget-view+json": {
       "model_id": "26b6883cd51a498f83a2a64c4e83cd52",
       "version_major": 2,
       "version_minor": 0
      },
      "text/plain": [
       "  0%|          | 0/3000 [00:00<?, ?it/s]"
      ]
     },
     "metadata": {},
     "output_type": "display_data"
    },
    {
     "name": "stdout",
     "output_type": "stream",
     "text": [
      "Num states = 6, likelihood = 1.4985452914657504\n"
     ]
    },
    {
     "data": {
      "application/vnd.jupyter.widget-view+json": {
       "model_id": "b77338f9150f418198df4441da353539",
       "version_major": 2,
       "version_minor": 0
      },
      "text/plain": [
       "  0%|          | 0/3000 [00:00<?, ?it/s]"
      ]
     },
     "metadata": {},
     "output_type": "display_data"
    },
    {
     "name": "stdout",
     "output_type": "stream",
     "text": [
      "Num states = 7, likelihood = 1.0363718090871985\n"
     ]
    },
    {
     "data": {
      "application/vnd.jupyter.widget-view+json": {
       "model_id": "f66d93faa9144d4787c423e4b73354bc",
       "version_major": 2,
       "version_minor": 0
      },
      "text/plain": [
       "  0%|          | 0/3000 [00:00<?, ?it/s]"
      ]
     },
     "metadata": {},
     "output_type": "display_data"
    },
    {
     "name": "stdout",
     "output_type": "stream",
     "text": [
      "Num states = 8, likelihood = 1.5924458190977948\n",
      "[1 2 3 4 5 6 7 8]\n",
      "[0.29407768203799967, 1.3355632521715501, 1.5654762129460842, 1.2388471148158358, 1.1583517134902692, 1.4985452914657504, 1.0363718090871985, 1.5924458190977948]\n",
      "Analyzing animal f21\n",
      "Starting run and save for f21, seed 123\n"
     ]
    },
    {
     "name": "stderr",
     "output_type": "stream",
     "text": [
      "100%|██████████| 24/24 [00:00<00:00, 938.85it/s]\n",
      "100%|██████████| 24/24 [00:00<00:00, 786.45it/s]\n",
      "100%|██████████| 24/24 [00:00<00:00, 938.19it/s]\n"
     ]
    },
    {
     "data": {
      "application/vnd.jupyter.widget-view+json": {
       "model_id": "0f20f510159247c2972602ceb15758b6",
       "version_major": 2,
       "version_minor": 0
      },
      "text/plain": [
       "  0%|          | 0/3000 [00:00<?, ?it/s]"
      ]
     },
     "metadata": {},
     "output_type": "display_data"
    },
    {
     "name": "stdout",
     "output_type": "stream",
     "text": [
      "Num states = 1, likelihood = 1.297128708865482\n"
     ]
    },
    {
     "data": {
      "application/vnd.jupyter.widget-view+json": {
       "model_id": "1538db0d87dd4bb1a8b99f247f9b8915",
       "version_major": 2,
       "version_minor": 0
      },
      "text/plain": [
       "  0%|          | 0/3000 [00:00<?, ?it/s]"
      ]
     },
     "metadata": {},
     "output_type": "display_data"
    },
    {
     "name": "stdout",
     "output_type": "stream",
     "text": [
      "Num states = 2, likelihood = 1.8752427001839296\n"
     ]
    },
    {
     "data": {
      "application/vnd.jupyter.widget-view+json": {
       "model_id": "3b0aa42cda9f4f06b635641dd4d4c996",
       "version_major": 2,
       "version_minor": 0
      },
      "text/plain": [
       "  0%|          | 0/3000 [00:00<?, ?it/s]"
      ]
     },
     "metadata": {},
     "output_type": "display_data"
    },
    {
     "name": "stdout",
     "output_type": "stream",
     "text": [
      "Num states = 3, likelihood = 2.060910540212107\n"
     ]
    },
    {
     "data": {
      "application/vnd.jupyter.widget-view+json": {
       "model_id": "9e8a78fff49348379e011c93650716b3",
       "version_major": 2,
       "version_minor": 0
      },
      "text/plain": [
       "  0%|          | 0/3000 [00:00<?, ?it/s]"
      ]
     },
     "metadata": {},
     "output_type": "display_data"
    },
    {
     "name": "stdout",
     "output_type": "stream",
     "text": [
      "Num states = 4, likelihood = 1.9643550226049757\n"
     ]
    },
    {
     "name": "stderr",
     "output_type": "stream",
     "text": [
      "/Users/minhnhatle/opt/anaconda3/envs/default/lib/python3.9/site-packages/autograd/tracer.py:48: RuntimeWarning: overflow encountered in exp\n",
      "  return f_raw(*args, **kwargs)\n",
      "/Users/minhnhatle/opt/anaconda3/envs/default/lib/python3.9/site-packages/autograd/numpy/numpy_vjps.py:75: RuntimeWarning: invalid value encountered in multiply\n",
      "  defvjp(anp.exp,    lambda ans, x : lambda g: ans * g)\n",
      "/Users/minhnhatle/opt/anaconda3/envs/default/lib/python3.9/site-packages/autograd/numpy/numpy_vjps.py:53: RuntimeWarning: overflow encountered in square\n",
      "  lambda ans, x, y : unbroadcast_f(y, lambda g: - g * x / y**2))\n"
     ]
    },
    {
     "data": {
      "application/vnd.jupyter.widget-view+json": {
       "model_id": "12a0cc8a491742dab22325a63259e6e3",
       "version_major": 2,
       "version_minor": 0
      },
      "text/plain": [
       "  0%|          | 0/3000 [00:00<?, ?it/s]"
      ]
     },
     "metadata": {},
     "output_type": "display_data"
    },
    {
     "name": "stdout",
     "output_type": "stream",
     "text": [
      "Num states = 5, likelihood = 2.0853148962195935\n"
     ]
    },
    {
     "data": {
      "application/vnd.jupyter.widget-view+json": {
       "model_id": "6b8ad0c037e14c47a7f101bef03ce761",
       "version_major": 2,
       "version_minor": 0
      },
      "text/plain": [
       "  0%|          | 0/3000 [00:00<?, ?it/s]"
      ]
     },
     "metadata": {},
     "output_type": "display_data"
    },
    {
     "name": "stdout",
     "output_type": "stream",
     "text": [
      "Num states = 6, likelihood = 2.1348969369539708\n"
     ]
    },
    {
     "data": {
      "application/vnd.jupyter.widget-view+json": {
       "model_id": "179144e4a9d248a5b8503eda1faf0e58",
       "version_major": 2,
       "version_minor": 0
      },
      "text/plain": [
       "  0%|          | 0/3000 [00:00<?, ?it/s]"
      ]
     },
     "metadata": {},
     "output_type": "display_data"
    },
    {
     "name": "stdout",
     "output_type": "stream",
     "text": [
      "Num states = 7, likelihood = 1.919072283160968\n"
     ]
    },
    {
     "data": {
      "application/vnd.jupyter.widget-view+json": {
       "model_id": "99a21d7549e54b05ae388b4d536ae033",
       "version_major": 2,
       "version_minor": 0
      },
      "text/plain": [
       "  0%|          | 0/3000 [00:00<?, ?it/s]"
      ]
     },
     "metadata": {},
     "output_type": "display_data"
    },
    {
     "name": "stdout",
     "output_type": "stream",
     "text": [
      "Num states = 8, likelihood = 2.216532848571125\n",
      "[1 2 3 4 5 6 7 8]\n",
      "[1.297128708865482, 1.8752427001839296, 2.060910540212107, 1.9643550226049757, 2.0853148962195935, 2.1348969369539708, 1.919072283160968, 2.216532848571125]\n",
      "Analyzing animal f22\n",
      "Starting run and save for f22, seed 123\n"
     ]
    },
    {
     "name": "stderr",
     "output_type": "stream",
     "text": [
      "100%|██████████| 12/12 [00:00<00:00, 1316.96it/s]\n",
      "100%|██████████| 12/12 [00:00<00:00, 1149.75it/s]\n",
      "100%|██████████| 12/12 [00:00<00:00, 1199.74it/s]\n"
     ]
    },
    {
     "data": {
      "application/vnd.jupyter.widget-view+json": {
       "model_id": "132ebfc78d8f4901afe4b1ae76e0cc98",
       "version_major": 2,
       "version_minor": 0
      },
      "text/plain": [
       "  0%|          | 0/3000 [00:00<?, ?it/s]"
      ]
     },
     "metadata": {},
     "output_type": "display_data"
    },
    {
     "name": "stdout",
     "output_type": "stream",
     "text": [
      "Num states = 1, likelihood = -0.1842107663759167\n"
     ]
    },
    {
     "data": {
      "application/vnd.jupyter.widget-view+json": {
       "model_id": "cff0e2135877463f952285b8b394270f",
       "version_major": 2,
       "version_minor": 0
      },
      "text/plain": [
       "  0%|          | 0/3000 [00:00<?, ?it/s]"
      ]
     },
     "metadata": {},
     "output_type": "display_data"
    },
    {
     "name": "stdout",
     "output_type": "stream",
     "text": [
      "Num states = 2, likelihood = 1.736314416547093\n"
     ]
    },
    {
     "data": {
      "application/vnd.jupyter.widget-view+json": {
       "model_id": "aa39dbb253b84e889ebecceb55832035",
       "version_major": 2,
       "version_minor": 0
      },
      "text/plain": [
       "  0%|          | 0/3000 [00:00<?, ?it/s]"
      ]
     },
     "metadata": {},
     "output_type": "display_data"
    },
    {
     "name": "stdout",
     "output_type": "stream",
     "text": [
      "Num states = 3, likelihood = 0.16751237838597724\n"
     ]
    },
    {
     "data": {
      "application/vnd.jupyter.widget-view+json": {
       "model_id": "0c314576657b4eb094270be4bb5c9044",
       "version_major": 2,
       "version_minor": 0
      },
      "text/plain": [
       "  0%|          | 0/3000 [00:00<?, ?it/s]"
      ]
     },
     "metadata": {},
     "output_type": "display_data"
    },
    {
     "name": "stdout",
     "output_type": "stream",
     "text": [
      "Num states = 4, likelihood = 1.2747797065857893\n"
     ]
    },
    {
     "data": {
      "application/vnd.jupyter.widget-view+json": {
       "model_id": "8dac0d6ce21c46979ccc9715f1bc954f",
       "version_major": 2,
       "version_minor": 0
      },
      "text/plain": [
       "  0%|          | 0/3000 [00:00<?, ?it/s]"
      ]
     },
     "metadata": {},
     "output_type": "display_data"
    },
    {
     "name": "stdout",
     "output_type": "stream",
     "text": [
      "Num states = 5, likelihood = 0.49065667404307367\n"
     ]
    },
    {
     "data": {
      "application/vnd.jupyter.widget-view+json": {
       "model_id": "85bc1032d5cc4567af93132bd8212ef1",
       "version_major": 2,
       "version_minor": 0
      },
      "text/plain": [
       "  0%|          | 0/3000 [00:00<?, ?it/s]"
      ]
     },
     "metadata": {},
     "output_type": "display_data"
    },
    {
     "name": "stdout",
     "output_type": "stream",
     "text": [
      "Num states = 6, likelihood = 0.4972830391244793\n"
     ]
    },
    {
     "data": {
      "application/vnd.jupyter.widget-view+json": {
       "model_id": "1b423331983c4ec391244e6a3b4f0763",
       "version_major": 2,
       "version_minor": 0
      },
      "text/plain": [
       "  0%|          | 0/3000 [00:00<?, ?it/s]"
      ]
     },
     "metadata": {},
     "output_type": "display_data"
    },
    {
     "name": "stdout",
     "output_type": "stream",
     "text": [
      "Num states = 7, likelihood = 0.34482130127755717\n"
     ]
    },
    {
     "data": {
      "application/vnd.jupyter.widget-view+json": {
       "model_id": "cee4e69145d549d982dd1af797dd0901",
       "version_major": 2,
       "version_minor": 0
      },
      "text/plain": [
       "  0%|          | 0/3000 [00:00<?, ?it/s]"
      ]
     },
     "metadata": {},
     "output_type": "display_data"
    },
    {
     "name": "stdout",
     "output_type": "stream",
     "text": [
      "Num states = 8, likelihood = 0.21891001398632598\n",
      "[1 2 3 4 5 6 7 8]\n",
      "[-0.1842107663759167, 1.736314416547093, 0.16751237838597724, 1.2747797065857893, 0.49065667404307367, 0.4972830391244793, 0.34482130127755717, 0.21891001398632598]\n",
      "Analyzing animal f23\n",
      "Starting run and save for f23, seed 123\n"
     ]
    },
    {
     "name": "stderr",
     "output_type": "stream",
     "text": [
      "100%|██████████| 11/11 [00:00<00:00, 1230.56it/s]\n",
      "100%|██████████| 11/11 [00:00<00:00, 1203.22it/s]\n",
      "100%|██████████| 11/11 [00:00<00:00, 1269.15it/s]\n"
     ]
    },
    {
     "data": {
      "application/vnd.jupyter.widget-view+json": {
       "model_id": "744e20ef67374416b202768ab142246c",
       "version_major": 2,
       "version_minor": 0
      },
      "text/plain": [
       "  0%|          | 0/3000 [00:00<?, ?it/s]"
      ]
     },
     "metadata": {},
     "output_type": "display_data"
    },
    {
     "name": "stdout",
     "output_type": "stream",
     "text": [
      "Num states = 1, likelihood = -0.1407927334151032\n"
     ]
    },
    {
     "data": {
      "application/vnd.jupyter.widget-view+json": {
       "model_id": "c2d9ecc1906247cfbd088051852adbba",
       "version_major": 2,
       "version_minor": 0
      },
      "text/plain": [
       "  0%|          | 0/3000 [00:00<?, ?it/s]"
      ]
     },
     "metadata": {},
     "output_type": "display_data"
    },
    {
     "name": "stdout",
     "output_type": "stream",
     "text": [
      "Num states = 2, likelihood = -0.000635321952022957\n"
     ]
    },
    {
     "data": {
      "application/vnd.jupyter.widget-view+json": {
       "model_id": "0efca563b13e4e2db679198680cbcd90",
       "version_major": 2,
       "version_minor": 0
      },
      "text/plain": [
       "  0%|          | 0/3000 [00:00<?, ?it/s]"
      ]
     },
     "metadata": {},
     "output_type": "display_data"
    },
    {
     "name": "stdout",
     "output_type": "stream",
     "text": [
      "Num states = 3, likelihood = -0.029888027301308826\n"
     ]
    },
    {
     "data": {
      "application/vnd.jupyter.widget-view+json": {
       "model_id": "0ce7eb665ab64b76ad63541c80b67a7e",
       "version_major": 2,
       "version_minor": 0
      },
      "text/plain": [
       "  0%|          | 0/3000 [00:00<?, ?it/s]"
      ]
     },
     "metadata": {},
     "output_type": "display_data"
    },
    {
     "name": "stdout",
     "output_type": "stream",
     "text": [
      "Num states = 4, likelihood = 0.4380984750043763\n"
     ]
    },
    {
     "data": {
      "application/vnd.jupyter.widget-view+json": {
       "model_id": "4805ba40c1714d009c1d88c91bb9546a",
       "version_major": 2,
       "version_minor": 0
      },
      "text/plain": [
       "  0%|          | 0/3000 [00:00<?, ?it/s]"
      ]
     },
     "metadata": {},
     "output_type": "display_data"
    },
    {
     "name": "stdout",
     "output_type": "stream",
     "text": [
      "Num states = 5, likelihood = -0.297370073493203\n"
     ]
    },
    {
     "data": {
      "application/vnd.jupyter.widget-view+json": {
       "model_id": "dc8216d810a04dbea85fd15b326a708b",
       "version_major": 2,
       "version_minor": 0
      },
      "text/plain": [
       "  0%|          | 0/3000 [00:00<?, ?it/s]"
      ]
     },
     "metadata": {},
     "output_type": "display_data"
    },
    {
     "name": "stdout",
     "output_type": "stream",
     "text": [
      "Num states = 6, likelihood = -0.2691454590465537\n"
     ]
    },
    {
     "data": {
      "application/vnd.jupyter.widget-view+json": {
       "model_id": "e9c2fbaf22864e1da8b12cd08a3ca901",
       "version_major": 2,
       "version_minor": 0
      },
      "text/plain": [
       "  0%|          | 0/3000 [00:00<?, ?it/s]"
      ]
     },
     "metadata": {},
     "output_type": "display_data"
    },
    {
     "name": "stdout",
     "output_type": "stream",
     "text": [
      "Num states = 7, likelihood = -0.5392284488142968\n"
     ]
    },
    {
     "data": {
      "application/vnd.jupyter.widget-view+json": {
       "model_id": "966a11d85e4a4ed2a95f98b561891c21",
       "version_major": 2,
       "version_minor": 0
      },
      "text/plain": [
       "  0%|          | 0/3000 [00:00<?, ?it/s]"
      ]
     },
     "metadata": {},
     "output_type": "display_data"
    },
    {
     "name": "stdout",
     "output_type": "stream",
     "text": [
      "Num states = 8, likelihood = -0.274718920901939\n",
      "[1 2 3 4 5 6 7 8]\n",
      "[-0.1407927334151032, -0.000635321952022957, -0.029888027301308826, 0.4380984750043763, -0.297370073493203, -0.2691454590465537, -0.5392284488142968, -0.274718920901939]\n"
     ]
    }
   ],
   "source": [
    "params = dict(nstates_lst=np.arange(1, 9),\n",
    "                  N_iters=3000,\n",
    "                  frac_train=0.8)\n",
    "# params = dict(nstates_lst=[1], N_iters=10, frac_train=0.8)\n",
    "\n",
    "animal_lst = ['f01', 'f02', 'f03', 'f04', 'f11', 'f12', 'e35', 'e40',\n",
    "        'fh01', 'fh02', 'e53', 'fh03', 'f16', 'f17', 'f20', 'f21', 'f22', 'f23']\n",
    "\n",
    "ll_lst_all = []\n",
    "test_lens = []\n",
    "for animal in animal_lst:\n",
    "    print(f'Analyzing animal {animal}')\n",
    "    ll_lst, nstates_lst, obs_train, obs_test = bval.run_and_validate(animal, 123, params)\n",
    "    test_lens.append(obs_test.shape[0])\n",
    "    ll_lst_all.append(ll_lst)"
   ]
  },
  {
   "cell_type": "code",
   "execution_count": 10,
   "metadata": {},
   "outputs": [
    {
     "name": "stdout",
     "output_type": "stream",
     "text": [
      "5\n",
      "5\n",
      "7\n",
      "7\n",
      "7\n",
      "5\n",
      "4\n",
      "3\n",
      "3\n",
      "1\n",
      "3\n",
      "7\n",
      "2\n",
      "2\n",
      "2\n",
      "7\n",
      "1\n",
      "3\n"
     ]
    },
    {
     "data": {
      "image/png": "[encoded data removed]",
      "text/plain": [
       "<Figure size 432x288 with 2 Axes>"
      ]
     },
     "metadata": {
      "needs_background": "light"
     },
     "output_type": "display_data"
    }
   ],
   "source": [
    "aic_lst = []\n",
    "for i in range(len(ll_lst_all)):\n",
    "    plt.subplot(121)\n",
    "    idmax = np.argmax(ll_lst_all[i])\n",
    "    plt.plot(np.arange(1, 9), ll_lst_all[i] / max(ll_lst_all[i]))\n",
    "    aic = np.array(ll_lst_all[i]) * test_lens[i] * np.log(2) - np.arange(1, 9)\n",
    "    plt.subplot(122)\n",
    "    aic_lst.append(aic)\n",
    "    plt.plot(aic)\n",
    "    print(np.argmax(aic))"
   ]
  },
  {
   "cell_type": "code",
   "execution_count": 7,
   "metadata": {},
   "outputs": [
    {
     "data": {
      "text/plain": [
       "[<matplotlib.lines.Line2D at 0x7ffd43dee7c0>]"
      ]
     },
     "execution_count": 7,
     "metadata": {},
     "output_type": "execute_result"
    },
    {
     "data": {
      "image/png": "[encoded data removed]",
      "text/plain": [
       "<Figure size 432x288 with 1 Axes>"
      ]
     },
     "metadata": {
      "needs_background": "light"
     },
     "output_type": "display_data"
    }
   ],
   "source": [
    "plt.plot(aic)"
   ]
  },
  {
   "cell_type": "code",
   "execution_count": 12,
   "metadata": {},
   "outputs": [],
   "source": [
    "pickle.dump(dict(animal_lst=animal_lst,\n",
    "                ll_lst_all=ll_lst_all,\n",
    "                params=params,\n",
    "                 aic_lst=aic_lst,\n",
    "                seed=123), open('blockhmm_validation_120221.pkl', \"wb\" ))"
   ]
  },
  {
   "cell_type": "code",
   "execution_count": 11,
   "metadata": {},
   "outputs": [],
   "source": [
    "# Load the saved pkl file\n",
    "version = '120221'\n",
    "paths = pathsetup('matchingsim')\n",
    "rootdir = f\"{paths['blockhmmfitpath']}/K_selection/\"\n",
    "savedfilepath = rootdir + f\"blockhmm_validation_{version}.pkl\"\n",
    "matfilepath = rootdir + f\"blockhmm_validation_{version}.mat\"\n"
   ]
  },
  {
   "cell_type": "code",
   "execution_count": 12,
   "metadata": {},
   "outputs": [],
   "source": [
    "with open(savedfilepath, \"rb\" ) as f:\n",
    "    data= pickle.load(f)"
   ]
  },
  {
   "cell_type": "code",
   "execution_count": 21,
   "metadata": {},
   "outputs": [],
   "source": [
    "data.update(dict(nstates_lst=nstates_lst, frac_train=frac_train, N_iters=N_iters,\n",
    "                version=version, savedfilepath=savedfilepath, matfilepath=matfilepath))"
   ]
  },
  {
   "cell_type": "code",
   "execution_count": 22,
   "metadata": {},
   "outputs": [],
   "source": [
    "scipy.io.savemat(matfilepath, data)"
   ]
  },
  {
   "cell_type": "code",
   "execution_count": 14,
   "metadata": {},
   "outputs": [
    {
     "data": {
      "text/plain": [
       "{'animal_lst': ['f01',\n",
       "  'f02',\n",
       "  'f03',\n",
       "  'f04',\n",
       "  'f11',\n",
       "  'f12',\n",
       "  'e35',\n",
       "  'e40',\n",
       "  'fh01',\n",
       "  'fh02',\n",
       "  'e53',\n",
       "  'fh03',\n",
       "  'f16',\n",
       "  'f17',\n",
       "  'f20',\n",
       "  'f21',\n",
       "  'f22',\n",
       "  'f23'],\n",
       " 'll_lst_all': [[0.8639726175892963,\n",
       "   2.04432622747037,\n",
       "   2.0441223051753896,\n",
       "   2.2477215368493444,\n",
       "   2.309894034824019,\n",
       "   2.382875068971096,\n",
       "   2.372534262097776,\n",
       "   2.371457877770881],\n",
       "  [0.38957187855749703,\n",
       "   1.3229706370574656,\n",
       "   1.3789923553888885,\n",
       "   1.4017843100741076,\n",
       "   1.4519314973862074,\n",
       "   1.5301560536216947,\n",
       "   1.3855870092957727,\n",
       "   1.2743944682259984],\n",
       "  [0.046980839954394026,\n",
       "   0.532771550516245,\n",
       "   0.6426820190126461,\n",
       "   0.7619805040613311,\n",
       "   0.7949805242459452,\n",
       "   0.790920250553306,\n",
       "   0.7789550818611581,\n",
       "   0.8469798548896267],\n",
       "  [0.10409263200055505,\n",
       "   0.40888012401458973,\n",
       "   0.3792895984947051,\n",
       "   0.5785576077739855,\n",
       "   0.6168946377652019,\n",
       "   0.5744300932474309,\n",
       "   0.5686121848697224,\n",
       "   0.702762156670037],\n",
       "  [0.9771824282579155,\n",
       "   2.3049810172395953,\n",
       "   2.4342849077581796,\n",
       "   2.438528236017204,\n",
       "   2.5469310634488385,\n",
       "   2.3420887763967233,\n",
       "   2.5496789325175,\n",
       "   2.619556105465595],\n",
       "  [1.3871497490379576,\n",
       "   2.211930260103133,\n",
       "   2.3864774217219686,\n",
       "   2.2691813215919168,\n",
       "   2.4606799027405506,\n",
       "   2.6177946305540933,\n",
       "   2.6036140541011066,\n",
       "   2.492817783472321],\n",
       "  [0.45796298526460866,\n",
       "   1.9305839259093907,\n",
       "   2.2418093686597214,\n",
       "   2.156622520769808,\n",
       "   2.4697236783736307,\n",
       "   2.33790106565771,\n",
       "   2.064370773254836,\n",
       "   2.207292551253129],\n",
       "  [0.6255786026309895,\n",
       "   1.8228962274513143,\n",
       "   1.970035572097732,\n",
       "   2.0141230765975093,\n",
       "   1.7585077445578827,\n",
       "   1.867901703425648,\n",
       "   2.026491456586914,\n",
       "   1.969164439905054],\n",
       "  [0.5505508387558008,\n",
       "   1.6533493831115897,\n",
       "   2.2266272014630193,\n",
       "   2.3470360504830494,\n",
       "   1.6471299359261664,\n",
       "   2.156038565666062,\n",
       "   2.5587555381094016,\n",
       "   2.5515082348320806],\n",
       "  [0.37678292670309566,\n",
       "   2.27000738042239,\n",
       "   2.2788680031214494,\n",
       "   2.1908704762188855,\n",
       "   2.36035389529446,\n",
       "   2.137393154610754,\n",
       "   2.0507822859628995,\n",
       "   2.1703944992771054],\n",
       "  [0.013645203252368584,\n",
       "   0.5873609460146558,\n",
       "   0.5617235945751797,\n",
       "   0.663771743308901,\n",
       "   0.6512816664819698,\n",
       "   0.643384313444388,\n",
       "   0.6833213744840335,\n",
       "   0.6493001790905545],\n",
       "  [0.6605188839886849,\n",
       "   2.375321659757048,\n",
       "   2.5385785183409046,\n",
       "   2.670692664539532,\n",
       "   2.495557026697959,\n",
       "   2.5936115802696866,\n",
       "   2.6724804716369337,\n",
       "   2.934690619174891],\n",
       "  [1.2249703544142099,\n",
       "   2.210416032854736,\n",
       "   2.7817703789153487,\n",
       "   2.570365595161729,\n",
       "   2.6992950410135945,\n",
       "   2.682256828279445,\n",
       "   2.6237857342656308,\n",
       "   2.45331134087526],\n",
       "  [1.2400377162964349,\n",
       "   2.3639777729962184,\n",
       "   2.4309563183870293,\n",
       "   1.762354359994653,\n",
       "   2.171254343685215,\n",
       "   2.1003338158862195,\n",
       "   2.1086013270624444,\n",
       "   2.0999568105710704],\n",
       "  [0.29407768203799967,\n",
       "   1.3355632521715501,\n",
       "   1.5654762129460842,\n",
       "   1.2388471148158358,\n",
       "   1.1583517134902692,\n",
       "   1.4985452914657504,\n",
       "   1.0363718090871985,\n",
       "   1.5924458190977948],\n",
       "  [1.297128708865482,\n",
       "   1.8752427001839296,\n",
       "   2.060910540212107,\n",
       "   1.9643550226049757,\n",
       "   2.0853148962195935,\n",
       "   2.1348969369539708,\n",
       "   1.919072283160968,\n",
       "   2.216532848571125],\n",
       "  [-0.1842107663759167,\n",
       "   1.736314416547093,\n",
       "   0.16751237838597724,\n",
       "   1.2747797065857893,\n",
       "   0.49065667404307367,\n",
       "   0.4972830391244793,\n",
       "   0.34482130127755717,\n",
       "   0.21891001398632598],\n",
       "  [-0.1407927334151032,\n",
       "   -0.000635321952022957,\n",
       "   -0.029888027301308826,\n",
       "   0.4380984750043763,\n",
       "   -0.297370073493203,\n",
       "   -0.2691454590465537,\n",
       "   -0.5392284488142968,\n",
       "   -0.274718920901939]],\n",
       " 'params': {'nstates_lst': array([1, 2, 3, 4, 5, 6, 7, 8]),\n",
       "  'N_iters': 3000,\n",
       "  'frac_train': 0.8},\n",
       " 'aic_lst': [array([197.82158108, 468.45029496, 467.40336737, 513.25661286,\n",
       "         526.56405049, 542.35880105, 538.97912427, 537.73142148]),\n",
       "  array([17.0920535 , 59.43989559, 61.04159243, 61.10007043, 62.42894899,\n",
       "         65.06176474, 57.34785384, 51.18397648]),\n",
       "  array([ 3.55904915, 49.70047374, 59.36625213, 69.94304932, 72.14539126,\n",
       "         70.75137984, 68.59027263, 74.19143778]),\n",
       "  array([ 9.10121201, 37.67797472, 33.80649221, 52.14358045, 54.86382904,\n",
       "         49.74304394, 48.17847059, 60.19646505]),\n",
       "  array([ 67.41045575, 159.36680043, 167.41908977, 166.71615612,\n",
       "         173.30520666, 157.96463543, 171.4975791 , 175.38953081]),\n",
       "  array([147.07083638, 234.1117564 , 251.74373484, 238.22300183,\n",
       "         257.66445387, 273.43561299, 270.92191209, 258.09500121]),\n",
       "  array([ 27.56921768, 118.43609246, 136.85134589, 130.53711378,\n",
       "         149.0693804 , 139.84585789, 121.7821503 , 129.69807477]),\n",
       "  array([ 31.95497139,  94.02868892, 100.77986978, 102.10236362,\n",
       "          87.63675607,  92.39954075,  99.75391981,  95.73397925]),\n",
       "  array([ 5.86902971, 18.62826034, 24.7808466 , 25.28314558, 15.55066248,\n",
       "         20.90013695, 24.92469537, 23.8342733 ]),\n",
       "  array([ 9.44664093, 60.93796862, 60.18363725, 56.74382774, 60.44290591,\n",
       "         53.26112155, 49.85975838, 52.17611312]),\n",
       "  array([ 0.53221773, 63.95466856, 60.07585439, 70.53482501, 68.13231624,\n",
       "         66.24552371, 69.73005003, 64.90981533]),\n",
       "  array([ 34.25343377, 124.77645838, 132.48985778, 138.54109797,\n",
       "         128.19370041, 132.42710068, 135.63651741, 148.63128469]),\n",
       "  array([33.81247464, 60.81788928, 76.0552281 , 69.04730828, 71.71135863,\n",
       "         70.22714908, 67.56545705, 61.7207394 ]),\n",
       "  array([37.67878911, 71.73630377, 72.82547332, 50.97069301, 62.7249472 ,\n",
       "         59.51282082, 58.77069792, 57.50106141]),\n",
       "  array([ 4.70749525, 23.92077328, 27.38295185, 20.04369477, 17.48143028,\n",
       "         23.08394842, 13.11402953, 22.90638123]),\n",
       "  array([46.65235869, 66.8904171 , 72.71125951, 68.16411871, 71.60779747,\n",
       "         72.42928301, 63.50057575, 73.42832521]),\n",
       "  array([-2.78759243, 14.84930019, -1.37444974,  8.37053943, -0.23863794,\n",
       "         -1.17433529, -3.65383322, -5.87568397]),\n",
       "  array([ -2.36626121,  -2.0061652 ,  -3.29003523,   0.25133412,\n",
       "          -7.88569719,  -8.61180383, -12.23270551, -10.66588904])],\n",
       " 'seed': 123}"
      ]
     },
     "execution_count": 14,
     "metadata": {},
     "output_type": "execute_result"
    }
   ],
   "source": [
    "data.update('')"
   ]
  },
  {
   "cell_type": "code",
   "execution_count": null,
   "metadata": {},
   "outputs": [],
   "source": []
  }
 ],
 "metadata": {
  "kernelspec": {
   "display_name": "Default",
   "language": "python",
   "name": "default"
  },
  "language_info": {
   "codemirror_mode": {
    "name": "ipython",
    "version": 3
   },
   "file_extension": ".py",
   "mimetype": "text/x-python",
   "name": "python",
   "nbconvert_exporter": "python",
   "pygments_lexer": "ipython3",
   "version": "3.9.5"
  }
 },
 "nbformat": 4,
 "nbformat_minor": 4
}
