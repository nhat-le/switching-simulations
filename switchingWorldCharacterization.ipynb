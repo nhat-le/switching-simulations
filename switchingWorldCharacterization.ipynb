{
 "cells": [
  {
   "cell_type": "code",
   "execution_count": 1,
   "metadata": {},
   "outputs": [],
   "source": [
    "import numpy as np\n",
    "import matplotlib.pyplot as plt\n",
    "from worldModels import *\n",
    "from sklearn.linear_model import LogisticRegression\n",
    "from sklearn.metrics import classification_report, confusion_matrix\n",
    "import scipy.optimize\n",
    "import scipy.io\n",
    "import os.path\n",
    "from utils import *\n",
    "\n",
    "%matplotlib inline\n",
    "%reload_ext autoreload\n",
    "%autoreload 2"
   ]
  },
  {
   "cell_type": "code",
   "execution_count": 2,
   "metadata": {},
   "outputs": [],
   "source": [
    "import autograd.numpy as np\n",
    "import autograd.numpy.random as npr\n",
    "npr.seed(0)\n",
    "\n",
    "import ssm\n",
    "from ssm.util import find_permutation\n",
    "from ssm.plots import gradient_cmap, white_to_color_cmap\n",
    "\n",
    "import matplotlib.pyplot as plt\n",
    "%matplotlib inline\n",
    "\n",
    "import seaborn as sns\n",
    "sns.set_style(\"white\")\n",
    "sns.set_context(\"talk\")\n",
    "\n",
    "color_names = [\n",
    "    \"windows blue\",\n",
    "    \"red\",\n",
    "    \"amber\",\n",
    "    \"faded green\",\n",
    "    \"dusty purple\",\n",
    "    \"orange\"\n",
    "    ]\n",
    "\n",
    "colors = sns.xkcd_palette(color_names)\n",
    "cmap = gradient_cmap(colors)\n",
    "\n",
    "\n",
    "# Speficy whether or not to save figures\n",
    "save_figures = True"
   ]
  },
  {
   "cell_type": "code",
   "execution_count": 54,
   "metadata": {},
   "outputs": [
    {
     "name": "stdout",
     "output_type": "stream",
     "text": [
      "(100, 15)\n"
     ]
    }
   ],
   "source": [
    "choicelst = split_by_trials(np.array(agent.choice_history), world.ntrialblocks, chop='min')\n",
    "window = 15\n",
    "if window is None:\n",
    "    window = choicelst.shape[1]\n",
    "choicelst = choicelst[:, :window]\n",
    "print(choicelst.shape)"
   ]
  },
  {
   "cell_type": "code",
   "execution_count": 55,
   "metadata": {},
   "outputs": [
    {
     "data": {
      "text/plain": [
       "<matplotlib.image.AxesImage at 0x7fd564edfbe0>"
      ]
     },
     "execution_count": 55,
     "metadata": {},
     "output_type": "execute_result"
    },
    {
     "data": {
      "image/png": "[encoded data removed]",
      "text/plain": [
       "<Figure size 432x288 with 1 Axes>"
      ]
     },
     "metadata": {},
     "output_type": "display_data"
    }
   ],
   "source": [
    "plt.imshow(choicelst[::2,:])"
   ]
  },
  {
   "cell_type": "code",
   "execution_count": 56,
   "metadata": {},
   "outputs": [
    {
     "name": "stdout",
     "output_type": "stream",
     "text": [
      "done with right\n",
      "done with left\n"
     ]
    }
   ],
   "source": [
    "pRight, pLeft = fit_sigmoidal(choicelst, first_side=world.side_history[0][0])"
   ]
  },
  {
   "cell_type": "code",
   "execution_count": 42,
   "metadata": {},
   "outputs": [
    {
     "data": {
      "text/plain": [
       "True"
      ]
     },
     "execution_count": 42,
     "metadata": {},
     "output_type": "execute_result"
    }
   ],
   "source": [
    "world.side_history[0][0]"
   ]
  },
  {
   "cell_type": "code",
   "execution_count": 48,
   "metadata": {},
   "outputs": [],
   "source": [
    "leftAverage = np.nanmean(choicelst[::2, :], axis=0)\n",
    "rightAverage = np.nanmean(choicelst[1::2, :], axis=0)"
   ]
  },
  {
   "cell_type": "code",
   "execution_count": 37,
   "metadata": {},
   "outputs": [],
   "source": [
    "leftAverage = np.nanmean(choicelst[1::2, :], axis=0)"
   ]
  },
  {
   "cell_type": "code",
   "execution_count": 26,
   "metadata": {},
   "outputs": [
    {
     "data": {
      "text/plain": [
       "(50,)"
      ]
     },
     "execution_count": 26,
     "metadata": {},
     "output_type": "execute_result"
    }
   ],
   "source": [
    "leftAverage.shape"
   ]
  },
  {
   "cell_type": "code",
   "execution_count": 49,
   "metadata": {},
   "outputs": [
    {
     "data": {
      "text/plain": [
       "[<matplotlib.lines.Line2D at 0x7fd566f769a0>]"
      ]
     },
     "execution_count": 49,
     "metadata": {},
     "output_type": "execute_result"
    },
    {
     "data": {
      "image/png": "[encoded data removed]",
      "text/plain": [
       "<Figure size 432x288 with 1 Axes>"
      ]
     },
     "metadata": {},
     "output_type": "display_data"
    }
   ],
   "source": [
    "plt.plot(leftAverage)\n",
    "plt.plot(rightAverage)"
   ]
  },
  {
   "cell_type": "code",
   "execution_count": 66,
   "metadata": {},
   "outputs": [
    {
     "data": {
      "text/plain": [
       "(100, 51)"
      ]
     },
     "execution_count": 66,
     "metadata": {},
     "output_type": "execute_result"
    }
   ],
   "source": [
    "choicelst = split_by_trials(np.array(agent.choice_history), world.ntrialblocks, chop='min')\n",
    "choicelst.shape"
   ]
  },
  {
   "cell_type": "code",
   "execution_count": 69,
   "metadata": {},
   "outputs": [
    {
     "data": {
      "text/plain": [
       "(array([ 0.98888891, -0.00520426,  0.500001  ]), [0, -inf, 0])"
      ]
     },
     "execution_count": 69,
     "metadata": {},
     "output_type": "execute_result"
    }
   ],
   "source": [
    "fit_sigmoidal(choicelst, 0)"
   ]
  },
  {
   "cell_type": "code",
   "execution_count": 57,
   "metadata": {
    "scrolled": false
   },
   "outputs": [
    {
     "name": "stdout",
     "output_type": "stream",
     "text": [
      "* pswitch =  0.01\n",
      "     prew =  0.55\n",
      "(100, 15)\n",
      "     prew =  0.5988888888888889\n",
      "(100, 15)\n",
      "     prew =  0.6477777777777778\n",
      "(100, 15)\n",
      "     prew =  0.6966666666666668\n",
      "(100, 15)\n",
      "     prew =  0.7455555555555555\n",
      "(100, 15)\n",
      "     prew =  0.7944444444444445\n",
      "(100, 15)\n",
      "     prew =  0.8433333333333334\n",
      "(100, 15)\n",
      "     prew =  0.8922222222222222\n",
      "(100, 15)\n",
      "     prew =  0.9411111111111111\n",
      "(100, 15)\n",
      "     prew =  0.99\n",
      "(100, 15)\n",
      "* pswitch =  0.05888888888888889\n",
      "     prew =  0.55\n",
      "(100, 15)\n",
      "     prew =  0.5988888888888889\n",
      "(100, 15)\n",
      "     prew =  0.6477777777777778\n",
      "(100, 15)\n",
      "     prew =  0.6966666666666668\n",
      "(100, 15)\n",
      "     prew =  0.7455555555555555\n",
      "(100, 15)\n",
      "     prew =  0.7944444444444445\n",
      "(100, 15)\n",
      "     prew =  0.8433333333333334\n",
      "(100, 15)\n",
      "     prew =  0.8922222222222222\n",
      "(100, 15)\n",
      "     prew =  0.9411111111111111\n",
      "(100, 15)\n",
      "     prew =  0.99\n",
      "(100, 15)\n",
      "* pswitch =  0.10777777777777778\n",
      "     prew =  0.55\n",
      "(100, 15)\n",
      "     prew =  0.5988888888888889\n",
      "(100, 15)\n",
      "     prew =  0.6477777777777778\n",
      "(100, 15)\n",
      "     prew =  0.6966666666666668\n",
      "(100, 15)\n",
      "     prew =  0.7455555555555555\n",
      "(100, 15)\n",
      "     prew =  0.7944444444444445\n",
      "(100, 15)\n",
      "     prew =  0.8433333333333334\n",
      "(100, 15)\n",
      "     prew =  0.8922222222222222\n",
      "(100, 15)\n",
      "     prew =  0.9411111111111111\n",
      "(100, 15)\n",
      "     prew =  0.99\n",
      "(100, 15)\n",
      "* pswitch =  0.15666666666666668\n",
      "     prew =  0.55\n",
      "(100, 15)\n",
      "     prew =  0.5988888888888889\n",
      "(100, 15)\n",
      "     prew =  0.6477777777777778\n",
      "(100, 15)\n",
      "     prew =  0.6966666666666668\n",
      "(100, 15)\n",
      "     prew =  0.7455555555555555\n",
      "(100, 15)\n",
      "     prew =  0.7944444444444445\n",
      "(100, 15)\n",
      "     prew =  0.8433333333333334\n",
      "(100, 15)\n",
      "     prew =  0.8922222222222222\n",
      "(100, 15)\n",
      "     prew =  0.9411111111111111\n",
      "(100, 15)\n",
      "     prew =  0.99\n",
      "(100, 15)\n",
      "* pswitch =  0.20555555555555557\n",
      "     prew =  0.55\n",
      "(100, 15)\n",
      "     prew =  0.5988888888888889\n",
      "(100, 15)\n",
      "     prew =  0.6477777777777778\n",
      "(100, 15)\n",
      "     prew =  0.6966666666666668\n",
      "(100, 15)\n",
      "     prew =  0.7455555555555555\n",
      "(100, 15)\n",
      "     prew =  0.7944444444444445\n",
      "(100, 15)\n",
      "     prew =  0.8433333333333334\n",
      "(100, 15)\n",
      "     prew =  0.8922222222222222\n",
      "(100, 15)\n",
      "     prew =  0.9411111111111111\n",
      "(100, 15)\n",
      "     prew =  0.99\n",
      "(100, 15)\n",
      "* pswitch =  0.2544444444444445\n",
      "     prew =  0.55\n",
      "(100, 15)\n",
      "     prew =  0.5988888888888889\n",
      "(100, 15)\n",
      "     prew =  0.6477777777777778\n",
      "(100, 15)\n",
      "     prew =  0.6966666666666668\n",
      "(100, 15)\n",
      "     prew =  0.7455555555555555\n",
      "(100, 15)\n",
      "     prew =  0.7944444444444445\n",
      "(100, 15)\n",
      "     prew =  0.8433333333333334\n",
      "(100, 15)\n",
      "     prew =  0.8922222222222222\n",
      "(100, 15)\n",
      "     prew =  0.9411111111111111\n",
      "(100, 15)\n",
      "     prew =  0.99\n",
      "(100, 15)\n",
      "* pswitch =  0.30333333333333334\n",
      "     prew =  0.55\n",
      "(100, 15)\n",
      "     prew =  0.5988888888888889\n",
      "(100, 15)\n",
      "     prew =  0.6477777777777778\n",
      "(100, 15)\n",
      "     prew =  0.6966666666666668\n",
      "(100, 15)\n",
      "     prew =  0.7455555555555555\n",
      "(100, 15)\n",
      "     prew =  0.7944444444444445\n",
      "(100, 15)\n",
      "     prew =  0.8433333333333334\n",
      "(100, 15)\n",
      "     prew =  0.8922222222222222\n",
      "(100, 15)\n",
      "     prew =  0.9411111111111111\n",
      "(100, 15)\n",
      "     prew =  0.99\n",
      "(100, 15)\n",
      "* pswitch =  0.35222222222222227\n",
      "     prew =  0.55\n",
      "(100, 15)\n",
      "     prew =  0.5988888888888889\n",
      "(100, 15)\n",
      "     prew =  0.6477777777777778\n",
      "(100, 15)\n",
      "     prew =  0.6966666666666668\n",
      "(100, 15)\n",
      "     prew =  0.7455555555555555\n",
      "(100, 15)\n",
      "     prew =  0.7944444444444445\n",
      "(100, 15)\n",
      "     prew =  0.8433333333333334\n",
      "(100, 15)\n",
      "     prew =  0.8922222222222222\n",
      "(100, 15)\n",
      "     prew =  0.9411111111111111\n",
      "(100, 15)\n",
      "     prew =  0.99\n",
      "(100, 15)\n",
      "* pswitch =  0.40111111111111114\n",
      "     prew =  0.55\n",
      "(100, 15)\n",
      "     prew =  0.5988888888888889\n",
      "(100, 15)\n",
      "     prew =  0.6477777777777778\n",
      "(100, 15)\n",
      "     prew =  0.6966666666666668\n",
      "(100, 15)\n",
      "     prew =  0.7455555555555555\n",
      "(100, 15)\n",
      "     prew =  0.7944444444444445\n",
      "(100, 15)\n",
      "     prew =  0.8433333333333334\n",
      "(100, 15)\n",
      "     prew =  0.8922222222222222\n",
      "(100, 15)\n",
      "     prew =  0.9411111111111111\n",
      "(100, 15)\n",
      "     prew =  0.99\n",
      "(100, 15)\n",
      "* pswitch =  0.45\n",
      "     prew =  0.55\n",
      "(100, 15)\n",
      "     prew =  0.5988888888888889\n",
      "(100, 15)\n",
      "     prew =  0.6477777777777778\n",
      "(100, 15)\n",
      "     prew =  0.6966666666666668\n",
      "(100, 15)\n",
      "     prew =  0.7455555555555555\n",
      "(100, 15)\n",
      "     prew =  0.7944444444444445\n",
      "(100, 15)\n",
      "     prew =  0.8433333333333334\n",
      "(100, 15)\n",
      "     prew =  0.8922222222222222\n",
      "(100, 15)\n",
      "     prew =  0.9411111111111111\n",
      "(100, 15)\n",
      "     prew =  0.99\n",
      "(100, 15)\n"
     ]
    }
   ],
   "source": [
    "np.random.seed(0)\n",
    "simtype = 'inf-based'\n",
    "pswitchlst = np.linspace(0.01, 0.45, 10)\n",
    "prewlst = np.linspace(0.55, 0.99, 10)\n",
    "\n",
    "N_iters = 50\n",
    "num_states = 2\n",
    "obs_dim = 1\n",
    "rlow = 0.1\n",
    "rhigh = 0.9\n",
    "nblocks = 100\n",
    "eps = 0\n",
    "ntrials_per_block = [50, 80]\n",
    "\n",
    "T11lst = np.zeros((len(pswitchlst), len(prewlst)))\n",
    "T22lst = np.zeros((len(pswitchlst), len(prewlst)))\n",
    "E1lst = np.zeros((len(pswitchlst), len(prewlst)))\n",
    "E2lst = np.zeros((len(pswitchlst), len(prewlst)))\n",
    "efflist = np.zeros((len(pswitchlst), len(prewlst)))\n",
    "PRslopelist = np.zeros((len(pswitchlst), len(prewlst)))\n",
    "PLslopelist = np.zeros((len(pswitchlst), len(prewlst)))\n",
    "PRoffsetlist = np.zeros((len(pswitchlst), len(prewlst)))\n",
    "PLoffsetlist = np.zeros((len(pswitchlst), len(prewlst)))\n",
    "LapseL = np.zeros((len(pswitchlst), len(prewlst)))\n",
    "LapseR = np.zeros((len(pswitchlst), len(prewlst)))\n",
    "\n",
    "\n",
    "flag = 0\n",
    "for idsw, psw in enumerate(pswitchlst):\n",
    "    print('* pswitch = ', psw)\n",
    "    if flag:\n",
    "        break\n",
    "    for idrew, prew in enumerate(prewlst):\n",
    "        \n",
    "        print('     prew = ', prew)\n",
    "        world,_ = make_switching_world(rlow, rhigh, nblocks, ntrials_per_block[0], ntrials_per_block[1])\n",
    "        agent = EGreedyInferenceBasedAgent(prew=prew, pswitch=psw, eps=eps)\n",
    "        exp = Experiment(agent, world)\n",
    "        exp.run()  \n",
    "        \n",
    "#         if idsw == 2 and idrew == 8:\n",
    "#             flag = 1\n",
    "#             break\n",
    "\n",
    "        # Fit HMM to choice sequence\n",
    "        data = np.array(agent.choice_history)[:,None] \n",
    "\n",
    "        ## testing the constrained transitions class\n",
    "        hmm = ssm.HMM(num_states, obs_dim, observations=\"bernoulli\")\n",
    "        hmm_lls = hmm.fit(data, method=\"em\", num_iters=N_iters, init_method=\"kmeans\", verbose=0)\n",
    "\n",
    "        # Sigmoidal fit for choice transitions\n",
    "        pR, pL = find_LR_transition_fit(world, agent, window=15)\n",
    "\n",
    "        efflist[idsw][idrew] = agent.find_efficiency()\n",
    "        T11lst[idsw][idrew] = hmm.transitions.transition_matrix[0][0]\n",
    "        T22lst[idsw][idrew] = hmm.transitions.transition_matrix[1][1]\n",
    "        E1lst[idsw][idrew] = logistic(hmm.observations.logit_ps)[0]\n",
    "        E2lst[idsw][idrew] = logistic(hmm.observations.logit_ps)[1]\n",
    "        PRslopelist[idsw][idrew] = pR[0]\n",
    "        PLslopelist[idsw][idrew] = pL[0]\n",
    "        PRoffsetlist[idsw][idrew] = pR[1]\n",
    "        PLoffsetlist[idsw][idrew] = pL[1]\n",
    "        LapseL[idsw][idrew] = pL[2]\n",
    "        LapseR[idsw][idrew] = pR[2]\n",
    "\n",
    "        \n",
    "        \n",
    "    \n",
    "                  "
   ]
  },
  {
   "cell_type": "code",
   "execution_count": 49,
   "metadata": {},
   "outputs": [
    {
     "ename": "TypeError",
     "evalue": "__init__() missing 1 required positional argument: 'pstruct'",
     "output_type": "error",
     "traceback": [
      "\u001b[0;31m---------------------------------------------------------------------------\u001b[0m",
      "\u001b[0;31mTypeError\u001b[0m                                 Traceback (most recent call last)",
      "\u001b[0;32m<ipython-input-49-d40619d0d4de>\u001b[0m in \u001b[0;36m<module>\u001b[0;34m\u001b[0m\n\u001b[0;32m----> 1\u001b[0;31m \u001b[0mworld\u001b[0m \u001b[0;34m=\u001b[0m \u001b[0mForagingWorld\u001b[0m\u001b[0;34m(\u001b[0m\u001b[0mpsw\u001b[0m\u001b[0;34m=\u001b[0m\u001b[0;36m0.1\u001b[0m\u001b[0;34m,\u001b[0m \u001b[0mprew\u001b[0m\u001b[0;34m=\u001b[0m\u001b[0;36m1\u001b[0m\u001b[0;34m,\u001b[0m \u001b[0mntrials\u001b[0m\u001b[0;34m=\u001b[0m\u001b[0;36m2000\u001b[0m\u001b[0;34m)\u001b[0m\u001b[0;34m\u001b[0m\u001b[0;34m\u001b[0m\u001b[0m\n\u001b[0m\u001b[1;32m      2\u001b[0m \u001b[0magent\u001b[0m \u001b[0;34m=\u001b[0m \u001b[0mEGreedyQLearningAgent\u001b[0m\u001b[0;34m(\u001b[0m\u001b[0mgamma\u001b[0m\u001b[0;34m=\u001b[0m\u001b[0;36m0.5\u001b[0m\u001b[0;34m,\u001b[0m \u001b[0meps\u001b[0m\u001b[0;34m=\u001b[0m\u001b[0;36m0.1\u001b[0m\u001b[0;34m)\u001b[0m\u001b[0;34m\u001b[0m\u001b[0;34m\u001b[0m\u001b[0m\n\u001b[1;32m      3\u001b[0m \u001b[0mexp\u001b[0m \u001b[0;34m=\u001b[0m \u001b[0mExperiment\u001b[0m\u001b[0;34m(\u001b[0m\u001b[0magent\u001b[0m\u001b[0;34m,\u001b[0m \u001b[0mworld\u001b[0m\u001b[0;34m)\u001b[0m\u001b[0;34m\u001b[0m\u001b[0;34m\u001b[0m\u001b[0m\n\u001b[1;32m      4\u001b[0m \u001b[0mexp\u001b[0m\u001b[0;34m.\u001b[0m\u001b[0mrun\u001b[0m\u001b[0;34m(\u001b[0m\u001b[0;34m)\u001b[0m\u001b[0;34m\u001b[0m\u001b[0;34m\u001b[0m\u001b[0m\n\u001b[1;32m      5\u001b[0m \u001b[0marr\u001b[0m \u001b[0;34m=\u001b[0m \u001b[0msplit_by_trials\u001b[0m\u001b[0;34m(\u001b[0m\u001b[0magent\u001b[0m\u001b[0;34m.\u001b[0m\u001b[0mchoice_history\u001b[0m\u001b[0;34m,\u001b[0m \u001b[0mworld\u001b[0m\u001b[0;34m.\u001b[0m\u001b[0mntrialblocks\u001b[0m\u001b[0;34m,\u001b[0m \u001b[0;34m'max'\u001b[0m\u001b[0;34m)\u001b[0m\u001b[0;34m\u001b[0m\u001b[0;34m\u001b[0m\u001b[0m\n",
      "\u001b[0;31mTypeError\u001b[0m: __init__() missing 1 required positional argument: 'pstruct'"
     ]
    }
   ],
   "source": [
    "world = ForagingWorld(psw=0.1, prew=1, ntrials=2000)\n",
    "agent = EGreedyQLearningAgent(gamma=0.5, eps=0.1)\n",
    "exp = Experiment(agent, world)\n",
    "exp.run()  \n",
    "arr = split_by_trials(agent.choice_history, world.ntrialblocks, 'max')\n",
    "arr.shape"
   ]
  },
  {
   "cell_type": "code",
   "execution_count": null,
   "metadata": {
    "scrolled": true
   },
   "outputs": [],
   "source": [
    "# Q-learning agent\n",
    "simtype = 'qlearning'\n",
    "np.random.seed(0)\n",
    "gammalst = np.linspace(0.01, 1.4, 30)\n",
    "epslst = np.linspace(0.01, 0.5, 20)\n",
    "\n",
    "N_iters = 50\n",
    "num_states = 2\n",
    "obs_dim = 1\n",
    "rlow = 0.3\n",
    "rhigh = 0.7\n",
    "nblocks = 100\n",
    "ntrials_per_block = [50, 80]\n",
    "\n",
    "T11lst = np.zeros((len(gammalst), len(epslst)))\n",
    "T22lst = np.zeros((len(gammalst), len(epslst)))\n",
    "E1lst = np.zeros((len(gammalst), len(epslst)))\n",
    "E2lst = np.zeros((len(gammalst), len(epslst)))\n",
    "efflist = np.zeros((len(gammalst), len(epslst)))\n",
    "PRslopelist = np.zeros((len(gammalst), len(epslst)))\n",
    "PLslopelist = np.zeros((len(gammalst), len(epslst)))\n",
    "PRoffsetlist = np.zeros((len(gammalst), len(epslst)))\n",
    "PLoffsetlist = np.zeros((len(gammalst), len(epslst)))\n",
    "LapseL = np.zeros((len(gammalst), len(epslst)))\n",
    "LapseR = np.zeros((len(gammalst), len(epslst)))\n",
    "\n",
    "\n",
    "for idgamma, gamma in enumerate(gammalst):\n",
    "    print('* gamma = ', gamma)\n",
    "    for ideps, eps in enumerate(epslst):\n",
    "        print('     eps = ', eps)\n",
    "#         world = make_switching_world(rlow, rhigh, nblocks, ntrials_per_block[0], ntrials_per_block[1])\n",
    "        world = ForagingWorld(psw=0.1, prew=0.9, ntrials=2000)\n",
    "        agent = EGreedyQLearningAgent(gamma=gamma, eps=eps)\n",
    "        exp = Experiment(agent, world)\n",
    "        exp.run()  \n",
    "\n",
    "        # Fit HMM to choice sequence\n",
    "        data = np.array(agent.choice_history)[:,None] \n",
    "\n",
    "        ## testing the constrained transitions class\n",
    "        hmm = ssm.HMM(num_states, obs_dim, observations=\"bernoulli\")\n",
    "        hmm_lls = hmm.fit(data, method=\"em\", num_iters=N_iters, init_method=\"kmeans\", verbose=0)\n",
    "\n",
    "        # Sigmoidal fit for choice transitions\n",
    "        pR, pL = find_LR_transition_fit(world, agent, window=15)\n",
    "\n",
    "        efflist[idgamma][ideps] = agent.find_efficiency()\n",
    "        T11lst[idgamma][ideps] = hmm.transitions.transition_matrix[0][0]\n",
    "        T22lst[idgamma][ideps] = hmm.transitions.transition_matrix[1][1]\n",
    "        E1lst[idgamma][ideps] = logistic(hmm.observations.logit_ps)[0]\n",
    "        E2lst[idgamma][ideps] = logistic(hmm.observations.logit_ps)[1]\n",
    "        PRslopelist[idgamma][ideps] = pR[0]\n",
    "        PLslopelist[idgamma][ideps] = pL[0]\n",
    "        PRoffsetlist[idgamma][ideps] = pR[1]\n",
    "        PLoffsetlist[idgamma][ideps] = pL[1]\n",
    "        LapseL[idgamma][ideps] = pL[2]\n",
    "        LapseR[idgamma][ideps] = pR[2]\n",
    "        \n",
    "        \n",
    "    \n",
    "                  "
   ]
  },
  {
   "cell_type": "code",
   "execution_count": null,
   "metadata": {},
   "outputs": [],
   "source": [
    "## FOR DEBUGGING\n",
    "# Find where the block transitions happen\n",
    "window = 15\n",
    "side_history = np.array(world.rate_history)[:,0]\n",
    "blocktrans = np.where(np.diff(side_history) != 0)[0][:-1]\n",
    "\n",
    "# Get the choices around the transition\n",
    "choicelst = []\n",
    "for i in range(window):\n",
    "    choicelst.append(np.array(agent.choice_history)[blocktrans + i])\n",
    "\n",
    "choicelst = np.array(choicelst)"
   ]
  },
  {
   "cell_type": "code",
   "execution_count": null,
   "metadata": {},
   "outputs": [],
   "source": [
    "first_side=1\n",
    "if first_side == 0:\n",
    "    #print('left')\n",
    "    leftAverage = np.mean(choicelst[:,::2], axis=1)\n",
    "    rightAverage = np.mean(choicelst[:,1::2], axis=1)\n",
    "else:\n",
    "    #print('right')\n",
    "    rightAverage = np.mean(choicelst[:,::2], axis=1)\n",
    "    leftAverage = np.mean(choicelst[:,1::2], axis=1)\n",
    "\n",
    "offsets = np.arange(len(leftAverage))\n",
    "\n",
    "# Fit right transitions\n",
    "funR = lambda x: errorsigmoid(x, offsets, rightAverage)\n",
    "switchGuessR = np.argmin((rightAverage-0.5)**2) #offset that crosses 0.5\n",
    "paramsRight = scipy.optimize.minimize(funR, [1,-switchGuessR])\n",
    "pRight = paramsRight.x\n",
    "\n",
    "funL = lambda x: errorsigmoid(x, offsets, leftAverage)\n",
    "switchGuessL = np.argmin((leftAverage-0.5)**2) #offset that crosses 0.5\n",
    "paramsLeft = scipy.optimize.minimize(funL, [1,-3])\n",
    "pLeft = paramsLeft.x"
   ]
  },
  {
   "cell_type": "code",
   "execution_count": null,
   "metadata": {},
   "outputs": [],
   "source": [
    "x = np.linspace(0,15,100)\n",
    "preds = 1 / (1 + np.exp(-pLeft[0] * (x + pLeft[1])))"
   ]
  },
  {
   "cell_type": "code",
   "execution_count": null,
   "metadata": {},
   "outputs": [],
   "source": [
    "plt.plot(leftAverage, '.')\n",
    "plt.plot(x,preds)"
   ]
  },
  {
   "cell_type": "code",
   "execution_count": null,
   "metadata": {},
   "outputs": [],
   "source": [
    "# Save results for inference-based\n",
    "filename = 'EGreedyInferenceBasedAgent-prob0.3to0.7-071121.mat'\n",
    "if not os.path.exists(filename):\n",
    "    scipy.io.savemat(filename, {'pswitchlst': pswitchlst,\n",
    "                    'prewlst': prewlst, 'N_iters': N_iters, 'num_states': num_states,\n",
    "                    'obs_dim': obs_dim, 'rlow': rlow, 'rhigh': rhigh, 'eps': eps,\n",
    "                    'ntrials_per_block': ntrials_per_block, 'T11lst': T11lst, 'T22lst': T22lst,\n",
    "                    'E1lst': E1lst, 'E2lst': E2lst, 'efflist': efflist, 'PRslopelist': PRslopelist,\n",
    "                    'PRoffsetlist': PRoffsetlist, 'PLslopelist': PLslopelist, 'PLoffsetlist': PLoffsetlist,\n",
    "                    'LapseL': LapseL, 'LapseR': LapseR})\n",
    "else:\n",
    "    print('File exists! Skipping save...')"
   ]
  },
  {
   "cell_type": "code",
   "execution_count": null,
   "metadata": {},
   "outputs": [],
   "source": [
    "# Save results for q-learning\n",
    "filename = 'EGreedyQLearning-prob0.3to0.7-071121.mat'\n",
    "if not os.path.exists(filename):\n",
    "    scipy.io.savemat(filename, {'gammalst': gammalst,\n",
    "                    'epslst': epslst, 'N_iters': N_iters, 'num_states': num_states,\n",
    "                    'obs_dim': obs_dim, 'rlow': rlow, 'rhigh': rhigh, 'eps': eps,\n",
    "                    'ntrials_per_block': ntrials_per_block, 'T11lst': T11lst, 'T22lst': T22lst,\n",
    "                    'E1lst': E1lst, 'E2lst': E2lst, 'efflist': efflist, 'PRslopelist': PRslopelist,\n",
    "                    'PRoffsetlist': PRoffsetlist, 'PLslopelist': PLslopelist, 'PLoffsetlist': PLoffsetlist,\n",
    "                    'LapseL': LapseL, 'LapseR': LapseR})\n",
    "else:\n",
    "    print('File exists! Skipping save...')"
   ]
  },
  {
   "cell_type": "code",
   "execution_count": 58,
   "metadata": {},
   "outputs": [
    {
     "data": {
      "text/plain": [
       "Text(0.5, 1.0, 'Foraging efficiency')"
      ]
     },
     "execution_count": 58,
     "metadata": {},
     "output_type": "execute_result"
    },
    {
     "data": {
      "image/png": "[encoded data removed]",
      "text/plain": [
       "<Figure size 432x432 with 2 Axes>"
      ]
     },
     "metadata": {},
     "output_type": "display_data"
    }
   ],
   "source": [
    "# Figure out some params for plotting depending on the simtype\n",
    "if simtype == 'qlearning':\n",
    "    xlst = epslst\n",
    "    ylst = gammalst\n",
    "    xlabel = 'epsilon'\n",
    "    ylabel = 'gamma'\n",
    "    \n",
    "    \n",
    "elif simtype == 'inf-based':\n",
    "    xlst = prewlst\n",
    "    ylst = pswitchlst\n",
    "    xlabel = r'$P_{reward}$'\n",
    "    ylabel = r'$P_{switch}$'\n",
    "\n",
    "# Plot of foraging efficiency\n",
    "plt.figure(figsize=(6, 6))\n",
    "plt.imshow(efflist, origin='lower', cmap='viridis', aspect='auto', \n",
    "              extent=[min(xlst), max(xlst), min(ylst), max(ylst)])\n",
    "plt.colorbar()\n",
    "\n",
    "fontdict = {'fontsize': 16,\n",
    " 'fontweight': 2}\n",
    "\n",
    "plt.xlabel(xlabel, fontdict)\n",
    "plt.ylabel(ylabel, fontdict)\n",
    "plt.title('Foraging efficiency')\n"
   ]
  },
  {
   "cell_type": "code",
   "execution_count": 59,
   "metadata": {},
   "outputs": [
    {
     "data": {
      "text/plain": [
       "Text(0.5, 1.0, 'Left lapse')"
      ]
     },
     "execution_count": 59,
     "metadata": {},
     "output_type": "execute_result"
    },
    {
     "data": {
      "image/png": "[encoded data removed]",
      "text/plain": [
       "<Figure size 1080x1800 with 12 Axes>"
      ]
     },
     "metadata": {},
     "output_type": "display_data"
    }
   ],
   "source": [
    "# Plot of foraging efficiency\n",
    "plt.figure(figsize=(15, 25))\n",
    "plt.subplot(321)\n",
    "plt.imshow(PRoffsetlist, origin='lower', cmap='viridis', aspect='auto', \n",
    "              extent=[min(xlst), max(xlst), min(ylst), max(ylst)],\n",
    "          vmin=-12, vmax=0)\n",
    "plt.colorbar()\n",
    "\n",
    "fontdict = {'fontsize': 16,\n",
    " 'fontweight': 2}\n",
    "\n",
    "plt.xlabel(xlabel, fontdict)\n",
    "plt.ylabel(ylabel, fontdict)\n",
    "plt.title('Right offset')\n",
    "\n",
    "\n",
    "# Plot of transition probability\n",
    "plt.subplot(322)\n",
    "plt.imshow(PLoffsetlist, aspect='auto', origin='lower', cmap='viridis',\n",
    "           extent=[min(xlst), max(xlst), min(ylst), max(ylst)],\n",
    "           vmin=-12, vmax=0\n",
    "          )\n",
    "plt.colorbar()\n",
    "plt.xlabel(xlabel, fontdict)\n",
    "plt.ylabel(ylabel, fontdict)\n",
    "plt.title('Left offset')\n",
    "\n",
    "plt.subplot(323)\n",
    "plt.imshow(PRslopelist, aspect='auto', origin='lower', cmap='viridis',\n",
    "           extent=[min(xlst), max(xlst), min(ylst), max(ylst)],\n",
    "          vmin=0, vmax=20\n",
    "        )\n",
    "plt.colorbar()\n",
    "plt.xlabel(xlabel, fontdict)\n",
    "plt.ylabel(ylabel, fontdict)\n",
    "plt.title('Right slope')\n",
    "\n",
    "\n",
    "plt.subplot(324)\n",
    "plt.imshow(-PLslopelist, aspect='auto', origin='lower', cmap='viridis',\n",
    "           extent=[min(xlst), max(xlst), min(ylst), max(ylst)],\n",
    "          vmin=0, vmax=20)\n",
    "plt.colorbar()\n",
    "plt.xlabel(xlabel, fontdict)\n",
    "plt.ylabel(ylabel, fontdict)\n",
    "plt.title('Left slope')\n",
    "\n",
    "plt.subplot(325)\n",
    "plt.imshow(LapseR, origin='lower', cmap='viridis', aspect='auto', \n",
    "              extent=[min(xlst), max(xlst), min(ylst), max(ylst)],\n",
    "          vmin=0, vmax=0.5)\n",
    "plt.colorbar()\n",
    "\n",
    "fontdict = {'fontsize': 16,\n",
    " 'fontweight': 2}\n",
    "\n",
    "plt.xlabel(xlabel, fontdict)\n",
    "plt.ylabel(ylabel, fontdict)\n",
    "plt.title('Right lapse')\n",
    "\n",
    "\n",
    "# Plot of transition probability\n",
    "plt.subplot(326)\n",
    "plt.imshow(LapseL, aspect='auto', origin='lower', cmap='viridis',\n",
    "           extent=[min(xlst), max(xlst), min(ylst), max(ylst)],\n",
    "           vmin=0, vmax=0.5\n",
    "          )\n",
    "plt.colorbar()\n",
    "plt.xlabel(xlabel, fontdict)\n",
    "plt.ylabel(ylabel, fontdict)\n",
    "plt.title('Left lapse')\n"
   ]
  },
  {
   "cell_type": "markdown",
   "metadata": {},
   "source": [
    "## Errors vs previous reward correlation\n",
    "Here we look at the criterion in Mainen's paper: correlation between switch latency and previous reward"
   ]
  },
  {
   "cell_type": "code",
   "execution_count": null,
   "metadata": {},
   "outputs": [],
   "source": [
    "def get_zstates(agent):\n",
    "    '''\n",
    "    Fit HMM to the choice sequence of the agent\n",
    "    Returns: the sequence of the most likely z-states\n",
    "    '''\n",
    "    # Fit HMM to choice sequence\n",
    "    data = np.array(agent.choice_history)[:,None] \n",
    "\n",
    "    ## testing the constrained transitions class\n",
    "    hmm = ssm.HMM(num_states, obs_dim, observations=\"bernoulli\")\n",
    "    hmm_lls = hmm.fit(data, method=\"em\", num_iters=N_iters, init_method=\"kmeans\", verbose=0)\n",
    "    \n",
    "    return hmm.most_likely_states(data)\n",
    "\n",
    "\n",
    "\n",
    "    \n",
    "    \n",
    "def get_switch_times(world, agent):\n",
    "    '''\n",
    "    Returns an array of switching times (in trials),\n",
    "    based on the HMM model fits\n",
    "    '''\n",
    "    z_states = get_zstates(agent)\n",
    "    splits = split_by_trials(z_states, ntrials, chop='min')\n",
    "    # Identify where the switch happens\n",
    "    first_side=world.side_history[0][0]\n",
    "    \n",
    "    switchlst = []\n",
    "    for i in range(len(splits)):\n",
    "        arr = splits[i]\n",
    "\n",
    "        # Skip trials that start on the wrong side\n",
    "        if arr[0] == (first_side + i) % 2:\n",
    "            switch = -1\n",
    "            #print('skipping')\n",
    "        else:\n",
    "            # Find the first element that is the opposite state\n",
    "            target = (i + first_side) % 2\n",
    "            if i % 2 == 0:\n",
    "                cands = np.where(arr == target)[0]\n",
    "                if len(cands) == 0:\n",
    "                    switch = ntrials[i]\n",
    "                else:\n",
    "                    switch = cands[0]\n",
    "\n",
    "        switchlst.append(switch)\n",
    "    \n",
    "    return np.array(switchlst)"
   ]
  },
  {
   "cell_type": "code",
   "execution_count": 10,
   "metadata": {},
   "outputs": [
    {
     "data": {
      "text/plain": [
       "array([71, 68, 66, 62, 69, 63, 76, 78, 61, 73, 65, 67, 77, 52, 52, 50, 74,\n",
       "       73, 76, 79, 73, 63, 73, 53, 69, 54, 78, 65, 62, 57, 73, 63, 67, 50,\n",
       "       68, 68, 68, 78, 70, 60, 63, 70, 51, 70, 70, 56, 53, 59, 60, 67, 63,\n",
       "       79, 53, 56, 54, 69, 57, 63, 57, 54, 53, 69, 54, 55, 61, 74, 52, 75,\n",
       "       52, 79, 64, 79, 68, 72, 51, 58, 53, 58, 53, 59, 62, 51, 70, 66, 57,\n",
       "       65, 52, 67, 77, 59, 70, 53, 71, 58, 55, 67, 50, 74, 50, 70])"
      ]
     },
     "execution_count": 10,
     "metadata": {},
     "output_type": "execute_result"
    }
   ],
   "source": [
    "world.ntrials"
   ]
  },
  {
   "cell_type": "code",
   "execution_count": null,
   "metadata": {},
   "outputs": [],
   "source": [
    "# np.random.seed(123)\n",
    "np.random.seed(127)\n",
    "rlow = 0\n",
    "rhigh = 1\n",
    "nblocks = 100\n",
    "# ntrials_per_block = [50, 80]\n",
    "ntrials_per_block = [5, 12]\n",
    "prew = 0.9\n",
    "psw = 0.1\n",
    "eps = 0.1\n",
    "gamma = 0.9\n",
    "world, ntrials = make_switching_world(rlow, rhigh, nblocks, ntrials_per_block[0], ntrials_per_block[1])\n",
    "agent = EGreedyQLearningAgent(gamma=gamma, eps=eps)\n",
    "exp = Experiment(agent, world)\n",
    "exp.run()  \n",
    "choice = agent.choice_history\n",
    "# Find where the block transitions happen\n",
    "window = 20\n",
    "side_history = np.array(world.rate_history)[:,0]\n",
    "blocktrans = np.where(np.diff(side_history) != 0)[0][:-1]\n",
    "# Get the choices around the transition\n",
    "choicelst = split_by_trials(agent.choice_history, ntrials, chop='max')\n",
    "\n",
    "z_states = get_zstates(agent)\n",
    "#splits = split_by_trials(z_states, ntrials, chop=False)\n",
    "lst = get_switch_times(world, agent)"
   ]
  },
  {
   "cell_type": "code",
   "execution_count": null,
   "metadata": {},
   "outputs": [],
   "source": [
    "# See the dependence between number of consec rewards vs number of consec errors\n",
    "choices = agent.choice_history"
   ]
  },
  {
   "cell_type": "code",
   "execution_count": null,
   "metadata": {},
   "outputs": [],
   "source": [
    "plt.imshow(choicelst, aspect='auto')"
   ]
  },
  {
   "cell_type": "code",
   "execution_count": null,
   "metadata": {},
   "outputs": [],
   "source": [
    "plt.imshow(choicelst, aspect='auto')"
   ]
  },
  {
   "cell_type": "code",
   "execution_count": null,
   "metadata": {},
   "outputs": [],
   "source": [
    "choicelst"
   ]
  },
  {
   "cell_type": "code",
   "execution_count": null,
   "metadata": {},
   "outputs": [],
   "source": [
    "# Is there a correlation?\n",
    "nafterswitch = ntrials - lst\n",
    "plt.plot(nafterswitch[:-1], lst[1:], '.')"
   ]
  },
  {
   "cell_type": "code",
   "execution_count": null,
   "metadata": {},
   "outputs": [],
   "source": [
    "plt.plot(lst)"
   ]
  },
  {
   "cell_type": "code",
   "execution_count": null,
   "metadata": {},
   "outputs": [],
   "source": [
    "plt.imshow(splits[:72,:], aspect='auto')"
   ]
  },
  {
   "cell_type": "code",
   "execution_count": null,
   "metadata": {},
   "outputs": [],
   "source": [
    "# Identify where the switch happens\n",
    "first_side=world.side_history[0][0]\n",
    "for i in range(len(splits)):\n",
    "    arr = splits[i]\n",
    "    \n",
    "    # Skip trials that start on the wrong side\n",
    "    if arr[0] == (first_side + i) % 2:\n",
    "        switch = -1\n",
    "        print('skipping')\n",
    "    else:\n",
    "        # Find the first element that is the opposite state\n",
    "        target = (i + first_side) % 2\n",
    "        if i % 2 == 0:\n",
    "            cands = np.where(arr == target)[0]\n",
    "            if len(cands) == 0:\n",
    "                switch = ntrials[i]\n",
    "            else:\n",
    "                switch = cands[0]\n",
    "        \n",
    "    print(switch)\n",
    "        "
   ]
  },
  {
   "cell_type": "code",
   "execution_count": null,
   "metadata": {},
   "outputs": [],
   "source": [
    "cands"
   ]
  },
  {
   "cell_type": "code",
   "execution_count": null,
   "metadata": {},
   "outputs": [],
   "source": [
    "np.where(arr == 1)[0][0]"
   ]
  },
  {
   "cell_type": "code",
   "execution_count": null,
   "metadata": {},
   "outputs": [],
   "source": [
    "plt.plot(agent.choice_history[:100], '.')"
   ]
  },
  {
   "cell_type": "code",
   "execution_count": null,
   "metadata": {},
   "outputs": [],
   "source": [
    "choicelst[0]"
   ]
  },
  {
   "cell_type": "code",
   "execution_count": null,
   "metadata": {},
   "outputs": [],
   "source": [
    "choicelst[1]"
   ]
  },
  {
   "cell_type": "code",
   "execution_count": null,
   "metadata": {},
   "outputs": [],
   "source": [
    "# Find the number of rewards in each block\n",
    "plt.plot(choicelst[80])"
   ]
  },
  {
   "cell_type": "code",
   "execution_count": null,
   "metadata": {},
   "outputs": [],
   "source": [
    "split_by_trials(np.arange(30), [5,6,10,9])"
   ]
  },
  {
   "cell_type": "code",
   "execution_count": null,
   "metadata": {},
   "outputs": [],
   "source": [
    "plt.plot(agent.q0_history[:600])"
   ]
  },
  {
   "cell_type": "code",
   "execution_count": null,
   "metadata": {},
   "outputs": [],
   "source": [
    "# Fit HMM to choice sequence\n",
    "data = np.array(agent.choice_history)[:,None] \n",
    "\n",
    "## testing the constrained transitions class\n",
    "hmm = ssm.HMM(num_states, obs_dim, observations=\"bernoulli\")\n",
    "hmm_lls = hmm.fit(data, method=\"em\", num_iters=N_iters, init_method=\"kmeans\", verbose=0)"
   ]
  },
  {
   "cell_type": "code",
   "execution_count": null,
   "metadata": {},
   "outputs": [],
   "source": [
    "M,N,P = hmm.expected_states(data)"
   ]
  },
  {
   "cell_type": "code",
   "execution_count": null,
   "metadata": {},
   "outputs": [],
   "source": [
    "len(agent.choice_history)"
   ]
  },
  {
   "cell_type": "code",
   "execution_count": null,
   "metadata": {},
   "outputs": [],
   "source": [
    "plt.plot(M[:300,:])\n",
    "plt.plot(hmm_z[:300])"
   ]
  },
  {
   "cell_type": "code",
   "execution_count": null,
   "metadata": {},
   "outputs": [],
   "source": [
    "hmm_z = hmm.most_likely_states(data)\n",
    "\n",
    "#Let's get the emission probs\n",
    "T = hmm.transitions.transition_matrix"
   ]
  },
  {
   "cell_type": "code",
   "execution_count": null,
   "metadata": {},
   "outputs": [],
   "source": [
    "M = hmm.observations.log_likelihoods(data, None, None, None)\n",
    "plt.plot(M[:100,:])"
   ]
  },
  {
   "cell_type": "code",
   "execution_count": null,
   "metadata": {},
   "outputs": [],
   "source": [
    "plt.plot(hmm_z[:600])\n",
    "plt.plot(side_history[:600])"
   ]
  },
  {
   "cell_type": "code",
   "execution_count": null,
   "metadata": {},
   "outputs": [],
   "source": [
    "choicearr = np.array(choicelst)\n",
    "choicearr.shape"
   ]
  },
  {
   "cell_type": "code",
   "execution_count": null,
   "metadata": {},
   "outputs": [],
   "source": [
    "plt.plot(choicearr[:,8])"
   ]
  },
  {
   "cell_type": "code",
   "execution_count": null,
   "metadata": {},
   "outputs": [],
   "source": [
    "# Just for data exploration\n",
    "\n",
    "eff1 = []\n",
    "eff2 = []\n",
    "for i in range(1):\n",
    "    rlow = 0.1\n",
    "    rhigh = 0.9\n",
    "    nblocks = 100\n",
    "    ntrials_per_block = [50, 80]\n",
    "    prew = 0.9\n",
    "    psw = 0.2\n",
    "    eps = 0\n",
    "    world = make_switching_world(rlow, rhigh, nblocks, ntrials_per_block[0], ntrials_per_block[1])\n",
    "    agent = EGreedyInferenceBasedAgent(prew=prew, pswitch=psw, eps=eps)\n",
    "    exp = Experiment(agent, world)\n",
    "    exp.run()  \n",
    "    eff1.append(agent.find_efficiency())\n",
    "    \n",
    "for i in range(1):\n",
    "    rlow = 0.1\n",
    "    rhigh = 0.9\n",
    "    nblocks = 100\n",
    "    ntrials_per_block = [50, 80]\n",
    "    prew = 0.9\n",
    "    psw = 0.05\n",
    "    eps = 0\n",
    "    world = make_switching_world(rlow, rhigh, nblocks, ntrials_per_block[0], ntrials_per_block[1])\n",
    "    agent = EGreedyInferenceBasedAgent(prew=prew, pswitch=psw, eps=eps)\n",
    "    exp = Experiment(agent, world)\n",
    "    exp.run()  \n",
    "    eff2.append(agent.find_efficiency())"
   ]
  },
  {
   "cell_type": "code",
   "execution_count": null,
   "metadata": {},
   "outputs": [],
   "source": [
    "plt.plot(eff1)\n",
    "plt.plot(eff2)"
   ]
  },
  {
   "cell_type": "code",
   "execution_count": null,
   "metadata": {},
   "outputs": [],
   "source": [
    "choice = agent.choice_history\n",
    "# Find where the block transitions happen\n",
    "window = 20\n",
    "side_history = np.array(world.rate_history)[:,0]\n",
    "blocktrans = np.where(np.diff(side_history) != 0)[0][:-1]\n",
    "\n",
    "# Get the choices around the transition\n",
    "choicelst = []\n",
    "for i in range(window):\n",
    "    choicelst.append(np.array(agent.choice_history)[blocktrans + i])\n",
    "\n",
    "choicelst = np.array(choicelst)\n",
    "first_side=world.side_history[0][0]\n",
    "\n",
    "rightAverage = np.mean(choicelst[:,::2], axis=1)\n",
    "leftAverage = np.mean(choicelst[:,1::2], axis=1)"
   ]
  },
  {
   "cell_type": "code",
   "execution_count": null,
   "metadata": {},
   "outputs": [],
   "source": [
    "rightAveragepsw005 = rightAverage.copy()\n",
    "leftAveragepsw005 = leftAverage.copy()"
   ]
  },
  {
   "cell_type": "code",
   "execution_count": null,
   "metadata": {},
   "outputs": [],
   "source": [
    "rightAveragepsw02 = rightAverage.copy()\n",
    "leftAveragepsw02 = leftAverage.copy()"
   ]
  },
  {
   "cell_type": "code",
   "execution_count": null,
   "metadata": {},
   "outputs": [],
   "source": [
    "plt.plot(rightAveragepsw005)\n",
    "plt.plot(leftAveragepsw005)\n",
    "\n",
    "plt.plot(rightAveragepsw02)\n",
    "plt.plot(leftAveragepsw02)\n"
   ]
  },
  {
   "cell_type": "code",
   "execution_count": null,
   "metadata": {},
   "outputs": [],
   "source": [
    "plt.plot(rightAveragepsw02)\n",
    "plt.plot(leftAveragepsw02)"
   ]
  },
  {
   "cell_type": "code",
   "execution_count": null,
   "metadata": {},
   "outputs": [],
   "source": [
    "rlow = 0.1\n",
    "rhigh = 0.9\n",
    "nblocks = 100\n",
    "ntrials_per_block = [30, 40]\n",
    "prew = 0.9\n",
    "psw = 0.2\n",
    "eps = 0\n",
    "world = ForagingWorld(prew=0.9, psw=0.05, ntrials=2000)\n",
    "# world,_ = make_switching_world(rlow, rhigh, nblocks, ntrials_per_block[0], ntrials_per_block[1])\n",
    "agent = EGreedyInferenceBasedAgent(prew=prew, pswitch=psw, eps=eps)\n",
    "exp = Experiment(agent, world)\n",
    "exp.run()  "
   ]
  },
  {
   "cell_type": "code",
   "execution_count": null,
   "metadata": {},
   "outputs": [],
   "source": [
    "plt.plot(world.ntrialblocks)\n",
    "np.mean(world.ntrialblocks)"
   ]
  },
  {
   "cell_type": "code",
   "execution_count": null,
   "metadata": {},
   "outputs": [],
   "source": [
    "arr=  split_by_trials(agent.choice_history, world.ntrialblocks, 'max')"
   ]
  },
  {
   "cell_type": "code",
   "execution_count": null,
   "metadata": {},
   "outputs": [],
   "source": [
    "plt.imshow(arr[:50,:20], aspect='auto')"
   ]
  },
  {
   "cell_type": "code",
   "execution_count": null,
   "metadata": {},
   "outputs": [],
   "source": [
    "plt.hist(world.ntrialblocks)"
   ]
  },
  {
   "cell_type": "code",
   "execution_count": null,
   "metadata": {},
   "outputs": [],
   "source": [
    "sum(world.ntrialblocks)"
   ]
  },
  {
   "cell_type": "code",
   "execution_count": null,
   "metadata": {},
   "outputs": [],
   "source": [
    "choices = agent.choice_history\n",
    "rewards = agent.outcome_history\n",
    "# sides = world.rate_history\n",
    "active = world.side_history"
   ]
  },
  {
   "cell_type": "code",
   "execution_count": null,
   "metadata": {},
   "outputs": [],
   "source": [
    "world.active_sites"
   ]
  },
  {
   "cell_type": "code",
   "execution_count": null,
   "metadata": {},
   "outputs": [],
   "source": [
    "plt.plot(choices[:200], '.')\n",
    "plt.plot(np.array(active[:200]) + 2, '.')"
   ]
  },
  {
   "cell_type": "code",
   "execution_count": null,
   "metadata": {},
   "outputs": [],
   "source": [
    "plt.plot(rewards[:50], '.')"
   ]
  },
  {
   "cell_type": "code",
   "execution_count": null,
   "metadata": {},
   "outputs": [],
   "source": []
  }
 ],
 "metadata": {
  "kernelspec": {
   "display_name": "Default",
   "language": "python",
   "name": "default"
  },
  "language_info": {
   "codemirror_mode": {
    "name": "ipython",
    "version": 3
   },
   "file_extension": ".py",
   "mimetype": "text/x-python",
   "name": "python",
   "nbconvert_exporter": "python",
   "pygments_lexer": "ipython3",
   "version": "3.9.5"
  }
 },
 "nbformat": 4,
 "nbformat_minor": 4
}
