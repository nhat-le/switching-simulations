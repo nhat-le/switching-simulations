{
 "cells": [
  {
   "cell_type": "code",
   "execution_count": 1,
   "metadata": {},
   "outputs": [],
   "source": [
    "import numpy as np\n",
    "import matplotlib.pyplot as plt\n",
    "from sklearn.linear_model import LogisticRegression\n",
    "from sklearn.metrics import classification_report, confusion_matrix\n",
    "import scipy.optimize\n",
    "import scipy.io\n",
    "from src.utils import pathsetup, split_by_trials\n",
    "import os\n",
    "from sklearn.linear_model import LogisticRegression\n",
    "from sklearn.model_selection import train_test_split\n",
    "\n",
    "from src.worldModels import *\n",
    "from src.utils import *\n",
    "from src.run_simulations import *\n",
    "from src.agents import *\n",
    "from tqdm.notebook import tqdm\n",
    "\n",
    "import pickle\n",
    "\n",
    "%matplotlib inline\n",
    "\n",
    "%reload_ext autoreload\n",
    "%autoreload 2\n"
   ]
  },
  {
   "cell_type": "markdown",
   "metadata": {},
   "source": [
    "## Simulation of example q-learning and inf-based agents for logistic regression fits (Fig. 2e-g)"
   ]
  },
  {
   "cell_type": "code",
   "execution_count": 3,
   "metadata": {},
   "outputs": [],
   "source": [
    "paths = pathsetup('matchingsim')"
   ]
  },
  {
   "cell_type": "code",
   "execution_count": 5,
   "metadata": {
    "scrolled": true
   },
   "outputs": [
    {
     "data": {
      "application/vnd.jupyter.widget-view+json": {
       "model_id": "260f5743c6db4d23a93e5f352e897a74",
       "version_major": 2,
       "version_minor": 0
      },
      "text/plain": [
       "  0%|          | 0/6 [00:00<?, ?it/s]"
      ]
     },
     "metadata": {},
     "output_type": "display_data"
    },
    {
     "name": "stdout",
     "output_type": "stream",
     "text": [
      "Saved: /Users/minhnhatle/Dropbox (MIT)/Sur/MatchingSimulations/processed_data/simdata/pitfalls/inf-based_psw_0.45_pr0.99_iter0.mat\n",
      "Saved: /Users/minhnhatle/Dropbox (MIT)/Sur/MatchingSimulations/processed_data/simdata/pitfalls/inf-based_psw_0.2_pr0.7_iter0.mat\n",
      "Saved: /Users/minhnhatle/Dropbox (MIT)/Sur/MatchingSimulations/processed_data/simdata/pitfalls/inf-based_psw_0.01_pr0.55_iter0.mat\n"
     ]
    },
    {
     "data": {
      "application/vnd.jupyter.widget-view+json": {
       "model_id": "500d84b67afb47e0ad2c44d398d1f07c",
       "version_major": 2,
       "version_minor": 0
      },
      "text/plain": [
       "  0%|          | 0/6 [00:00<?, ?it/s]"
      ]
     },
     "metadata": {},
     "output_type": "display_data"
    },
    {
     "name": "stdout",
     "output_type": "stream",
     "text": [
      "Saved: /Users/minhnhatle/Dropbox (MIT)/Sur/MatchingSimulations/processed_data/simdata/pitfalls/inf-based_psw_0.45_pr0.99_iter1.mat\n",
      "Saved: /Users/minhnhatle/Dropbox (MIT)/Sur/MatchingSimulations/processed_data/simdata/pitfalls/inf-based_psw_0.2_pr0.7_iter1.mat\n",
      "Saved: /Users/minhnhatle/Dropbox (MIT)/Sur/MatchingSimulations/processed_data/simdata/pitfalls/inf-based_psw_0.01_pr0.55_iter1.mat\n"
     ]
    },
    {
     "data": {
      "application/vnd.jupyter.widget-view+json": {
       "model_id": "97500cbb43684392b72a70174b4485e4",
       "version_major": 2,
       "version_minor": 0
      },
      "text/plain": [
       "  0%|          | 0/6 [00:00<?, ?it/s]"
      ]
     },
     "metadata": {},
     "output_type": "display_data"
    },
    {
     "name": "stdout",
     "output_type": "stream",
     "text": [
      "Saved: /Users/minhnhatle/Dropbox (MIT)/Sur/MatchingSimulations/processed_data/simdata/pitfalls/inf-based_psw_0.45_pr0.99_iter2.mat\n",
      "Saved: /Users/minhnhatle/Dropbox (MIT)/Sur/MatchingSimulations/processed_data/simdata/pitfalls/inf-based_psw_0.2_pr0.7_iter2.mat\n",
      "Saved: /Users/minhnhatle/Dropbox (MIT)/Sur/MatchingSimulations/processed_data/simdata/pitfalls/inf-based_psw_0.01_pr0.55_iter2.mat\n"
     ]
    },
    {
     "data": {
      "application/vnd.jupyter.widget-view+json": {
       "model_id": "12115943b2894926a71753b078d4eabf",
       "version_major": 2,
       "version_minor": 0
      },
      "text/plain": [
       "  0%|          | 0/6 [00:00<?, ?it/s]"
      ]
     },
     "metadata": {},
     "output_type": "display_data"
    },
    {
     "name": "stdout",
     "output_type": "stream",
     "text": [
      "Saved: /Users/minhnhatle/Dropbox (MIT)/Sur/MatchingSimulations/processed_data/simdata/pitfalls/inf-based_psw_0.45_pr0.99_iter3.mat\n",
      "Saved: /Users/minhnhatle/Dropbox (MIT)/Sur/MatchingSimulations/processed_data/simdata/pitfalls/inf-based_psw_0.2_pr0.7_iter3.mat\n",
      "Saved: /Users/minhnhatle/Dropbox (MIT)/Sur/MatchingSimulations/processed_data/simdata/pitfalls/inf-based_psw_0.01_pr0.55_iter3.mat\n"
     ]
    },
    {
     "data": {
      "application/vnd.jupyter.widget-view+json": {
       "model_id": "c0051eac6a4a481e9315e6fbd7ad75f7",
       "version_major": 2,
       "version_minor": 0
      },
      "text/plain": [
       "  0%|          | 0/6 [00:00<?, ?it/s]"
      ]
     },
     "metadata": {},
     "output_type": "display_data"
    },
    {
     "name": "stdout",
     "output_type": "stream",
     "text": [
      "Saved: /Users/minhnhatle/Dropbox (MIT)/Sur/MatchingSimulations/processed_data/simdata/pitfalls/inf-based_psw_0.45_pr0.99_iter4.mat\n",
      "Saved: /Users/minhnhatle/Dropbox (MIT)/Sur/MatchingSimulations/processed_data/simdata/pitfalls/inf-based_psw_0.2_pr0.7_iter4.mat\n",
      "Saved: /Users/minhnhatle/Dropbox (MIT)/Sur/MatchingSimulations/processed_data/simdata/pitfalls/inf-based_psw_0.01_pr0.55_iter4.mat\n"
     ]
    },
    {
     "data": {
      "application/vnd.jupyter.widget-view+json": {
       "model_id": "8ac1ae79773b42968cb892dc3f88edc0",
       "version_major": 2,
       "version_minor": 0
      },
      "text/plain": [
       "  0%|          | 0/6 [00:00<?, ?it/s]"
      ]
     },
     "metadata": {},
     "output_type": "display_data"
    },
    {
     "name": "stdout",
     "output_type": "stream",
     "text": [
      "Saved: /Users/minhnhatle/Dropbox (MIT)/Sur/MatchingSimulations/processed_data/simdata/pitfalls/inf-based_psw_0.45_pr0.99_iter5.mat\n",
      "Saved: /Users/minhnhatle/Dropbox (MIT)/Sur/MatchingSimulations/processed_data/simdata/pitfalls/inf-based_psw_0.2_pr0.7_iter5.mat\n",
      "Saved: /Users/minhnhatle/Dropbox (MIT)/Sur/MatchingSimulations/processed_data/simdata/pitfalls/inf-based_psw_0.01_pr0.55_iter5.mat\n"
     ]
    },
    {
     "data": {
      "application/vnd.jupyter.widget-view+json": {
       "model_id": "38e05e07f42c49568418baa8a8bcc0bc",
       "version_major": 2,
       "version_minor": 0
      },
      "text/plain": [
       "  0%|          | 0/6 [00:00<?, ?it/s]"
      ]
     },
     "metadata": {},
     "output_type": "display_data"
    },
    {
     "name": "stdout",
     "output_type": "stream",
     "text": [
      "Saved: /Users/minhnhatle/Dropbox (MIT)/Sur/MatchingSimulations/processed_data/simdata/pitfalls/inf-based_psw_0.45_pr0.99_iter6.mat\n",
      "Saved: /Users/minhnhatle/Dropbox (MIT)/Sur/MatchingSimulations/processed_data/simdata/pitfalls/inf-based_psw_0.2_pr0.7_iter6.mat\n",
      "Saved: /Users/minhnhatle/Dropbox (MIT)/Sur/MatchingSimulations/processed_data/simdata/pitfalls/inf-based_psw_0.01_pr0.55_iter6.mat\n"
     ]
    },
    {
     "data": {
      "application/vnd.jupyter.widget-view+json": {
       "model_id": "911d8d985e6340faaf40438d3c05d8d3",
       "version_major": 2,
       "version_minor": 0
      },
      "text/plain": [
       "  0%|          | 0/6 [00:00<?, ?it/s]"
      ]
     },
     "metadata": {},
     "output_type": "display_data"
    },
    {
     "name": "stdout",
     "output_type": "stream",
     "text": [
      "Saved: /Users/minhnhatle/Dropbox (MIT)/Sur/MatchingSimulations/processed_data/simdata/pitfalls/inf-based_psw_0.45_pr0.99_iter7.mat\n",
      "Saved: /Users/minhnhatle/Dropbox (MIT)/Sur/MatchingSimulations/processed_data/simdata/pitfalls/inf-based_psw_0.2_pr0.7_iter7.mat\n",
      "Saved: /Users/minhnhatle/Dropbox (MIT)/Sur/MatchingSimulations/processed_data/simdata/pitfalls/inf-based_psw_0.01_pr0.55_iter7.mat\n"
     ]
    },
    {
     "data": {
      "application/vnd.jupyter.widget-view+json": {
       "model_id": "8fd630254c9645b58a77b4cd04f3f86a",
       "version_major": 2,
       "version_minor": 0
      },
      "text/plain": [
       "  0%|          | 0/6 [00:00<?, ?it/s]"
      ]
     },
     "metadata": {},
     "output_type": "display_data"
    },
    {
     "name": "stdout",
     "output_type": "stream",
     "text": [
      "Saved: /Users/minhnhatle/Dropbox (MIT)/Sur/MatchingSimulations/processed_data/simdata/pitfalls/inf-based_psw_0.45_pr0.99_iter8.mat\n",
      "Saved: /Users/minhnhatle/Dropbox (MIT)/Sur/MatchingSimulations/processed_data/simdata/pitfalls/inf-based_psw_0.2_pr0.7_iter8.mat\n",
      "Saved: /Users/minhnhatle/Dropbox (MIT)/Sur/MatchingSimulations/processed_data/simdata/pitfalls/inf-based_psw_0.01_pr0.55_iter8.mat\n"
     ]
    },
    {
     "data": {
      "application/vnd.jupyter.widget-view+json": {
       "model_id": "35e3db0d8ae6481b8a8d6456c835433f",
       "version_major": 2,
       "version_minor": 0
      },
      "text/plain": [
       "  0%|          | 0/6 [00:00<?, ?it/s]"
      ]
     },
     "metadata": {},
     "output_type": "display_data"
    },
    {
     "name": "stdout",
     "output_type": "stream",
     "text": [
      "Saved: /Users/minhnhatle/Dropbox (MIT)/Sur/MatchingSimulations/processed_data/simdata/pitfalls/inf-based_psw_0.45_pr0.99_iter9.mat\n",
      "Saved: /Users/minhnhatle/Dropbox (MIT)/Sur/MatchingSimulations/processed_data/simdata/pitfalls/inf-based_psw_0.2_pr0.7_iter9.mat\n",
      "Saved: /Users/minhnhatle/Dropbox (MIT)/Sur/MatchingSimulations/processed_data/simdata/pitfalls/inf-based_psw_0.01_pr0.55_iter9.mat\n"
     ]
    }
   ],
   "source": [
    "# Simulating the behavior of agents along the eps-gamma axis\n",
    "epslst = [0.1, 0.1, 0.1, 0.5, 0.2, 0.01]\n",
    "gammalst = [0.1, 0.5, 1.2, 1.2, 1.2, 1.2]\n",
    "\n",
    "pswitchlst = [0.45, 0.2, 0.01, 0.45, 0.2, 0.01]\n",
    "prewlst = [0.99, 0.7, 0.55, 0.99, 0.7, 0.55]\n",
    "simtype = 'inf-based' # change this to `qlearning` or `inf-based` to simulate\n",
    "# the appropriate type of agents\n",
    "Tmax = 6\n",
    "rlow = 0.1\n",
    "rhigh = 0.9\n",
    "\n",
    "choicelst_all = []\n",
    "params_all = []\n",
    "pfits = []\n",
    "coefs_all = []\n",
    "perf_train_all = []\n",
    "perf_test_all = []\n",
    "\n",
    "Niter = 10\n",
    "\n",
    "np.random.seed(123)\n",
    "for iteration in range(Niter):\n",
    "    for i in tqdm(range(len(epslst))):\n",
    "        if simtype == 'qlearning':\n",
    "            params = dict(N_iters=50, num_states=2, obs_dim=1, nblocks=1000,\n",
    "                     eps=0, hmm_fit=False, sigmoid_window=30,\n",
    "                     ntrials_per_block=[15, 25], gammalst=[gammalst[i]], epslst=[epslst[i]],\n",
    "                     rlow=rlow, rhigh=rhigh, type=simtype)\n",
    "        elif simtype == 'inf-based':\n",
    "            params = dict(N_iters=50, num_states=2, obs_dim=1, nblocks=1000,\n",
    "                     eps=0, hmm_fit=False, sigmoid_window=30,\n",
    "                     ntrials_per_block=[15, 25], pswitchlst=[pswitchlst[i]], prewlst=[prewlst[i]],\n",
    "                     rlow=rlow, rhigh=rhigh, type=simtype)\n",
    "\n",
    "#         np.random.seed(123)\n",
    "\n",
    "        # Repeated simulation to find error bars for history regression\n",
    "        agent, world, _, _, _ = run_single_agent(0, 0, params)\n",
    "\n",
    "        if simtype == 'inf-based':\n",
    "            filename = f\"{paths['simdatapath']}/pitfalls/{simtype}_psw_{pswitchlst[i]}_pr{prewlst[i]}_iter{iteration}.mat\"\n",
    "        else:\n",
    "            filename = f\"{paths['simdatapath']}/pitfalls/{simtype}_gamma_{gammalst[i]}_eps{epslst[i]}_iter{iteration}.mat\"\n",
    "\n",
    "        choicearr = split_by_trials(agent.choice_history, world.ntrialblocks, chop='max')\n",
    "        outcomearr = split_by_trials(agent.outcome_history, world.ntrialblocks, chop='max')\n",
    "\n",
    "        # Save the choice, outcomes and target information\n",
    "        if not os.path.exists(filename):\n",
    "            scipy.io.savemat(filename, dict(choices=agent.choice_history, outcomes=agent.outcome_history,\n",
    "                                           rates=world.rate_history, sides=world.side_history,\n",
    "                                           choicearr=choicearr, outcomearr=outcomearr))\n",
    "            print('Saved:', filename)\n",
    "    \n",
    "    "
   ]
  }
 ],
 "metadata": {
  "kernelspec": {
   "display_name": "Default",
   "language": "python",
   "name": "default"
  },
  "language_info": {
   "codemirror_mode": {
    "name": "ipython",
    "version": 3
   },
   "file_extension": ".py",
   "mimetype": "text/x-python",
   "name": "python",
   "nbconvert_exporter": "python",
   "pygments_lexer": "ipython3",
   "version": "3.9.5"
  }
 },
 "nbformat": 4,
 "nbformat_minor": 4
}
