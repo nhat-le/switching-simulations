{
 "cells": [
  {
   "cell_type": "code",
   "execution_count": null,
   "metadata": {},
   "outputs": [],
   "source": [
    "import numpy as np\n",
    "import matplotlib.pyplot as plt\n",
    "import seaborn as sns\n",
    "\n",
    "%matplotlib inline"
   ]
  },
  {
   "cell_type": "code",
   "execution_count": null,
   "metadata": {},
   "outputs": [],
   "source": [
    "psarr = np.linspace(0.01, 0.45, 20)\n",
    "prarr = np.linspace(0.55, 1, 25)"
   ]
  },
  {
   "cell_type": "code",
   "execution_count": null,
   "metadata": {},
   "outputs": [],
   "source": [
    "ps, pr = np.meshgrid(psarr, prarr)"
   ]
  },
  {
   "cell_type": "code",
   "execution_count": null,
   "metadata": {},
   "outputs": [],
   "source": [
    "def root_finder(ps, pr):\n",
    "    a = 2 * pr - 1\n",
    "    b = -(2 * pr - ps - 1)\n",
    "    c = (pr -1) * ps\n",
    "    root1 = (-b + np.sqrt(b**2 - 4 * a * c)) / 2 / a\n",
    "    root2 = (-b - np.sqrt(b**2 - 4 * a * c)) / 2 / a\n",
    "    return root1, root2"
   ]
  },
  {
   "cell_type": "code",
   "execution_count": null,
   "metadata": {},
   "outputs": [],
   "source": [
    "root1, root2 = root_finder(ps, pr)"
   ]
  },
  {
   "cell_type": "code",
   "execution_count": null,
   "metadata": {},
   "outputs": [],
   "source": [
    "plt.imshow(root1.T, origin='lower')\n",
    "plt.colorbar()\n",
    "plt.xlabel('pr')\n",
    "plt.ylabel('ps')"
   ]
  },
  {
   "cell_type": "code",
   "execution_count": null,
   "metadata": {},
   "outputs": [],
   "source": [
    "def update_pt(ps, pr, pt):\n",
    "    num = ps * (1-pr) * (1-pt) + (1-ps) * pr * pt\n",
    "    den = pr * pt + (1-pr) * (1-pt)\n",
    "    return num / den\n",
    "\n",
    "def simulate_pt_sequence(ps, pr, ptinit, ntrials):\n",
    "    '''\n",
    "    Simulate updating of pt\n",
    "    '''\n",
    "    pt = ptinit\n",
    "    ptlst = [pt]\n",
    "    for i in range(ntrials):        \n",
    "        pt = update_pt(ps, pr, pt)\n",
    "        ptlst.append(pt)\n",
    "    return np.array(ptlst)\n",
    "        \n",
    "    \n",
    "    \n",
    "def first_switch_id(ps, pr, ptinit, ntrials):\n",
    "    '''\n",
    "    Determine the index where pt first crosses 0.5\n",
    "    ptinit has to be < 0.5\n",
    "    '''\n",
    "    assert ptinit < 0.5\n",
    "    ptlst = simulate_pt_sequence(ps, pr, ptinit, ntrials)\n",
    "    idx = np.where(ptlst > 0.5)[0]\n",
    "    if len(idx) == 0:\n",
    "        return -1 \n",
    "    else:\n",
    "        return idx[0]\n",
    "    \n",
    "    "
   ]
  },
  {
   "cell_type": "code",
   "execution_count": null,
   "metadata": {},
   "outputs": [],
   "source": [
    "a = np.linspace(0, 1, 100)\n",
    "b= np.where(a > 2)[0]"
   ]
  },
  {
   "cell_type": "code",
   "execution_count": null,
   "metadata": {},
   "outputs": [],
   "source": [
    "len(b)"
   ]
  },
  {
   "cell_type": "code",
   "execution_count": null,
   "metadata": {},
   "outputs": [],
   "source": [
    "colors = sns.palettes.color_palette('Blues', 10)\n",
    "idxlst = []\n",
    "for i,p in enumerate(np.linspace(0.01, 0.45, 10)):\n",
    "    sim1 = simulate_pt_sequence(p, 1-p, 0.1, 5)\n",
    "    idx = first_switch_id(p, 1-p, 0.1, 5)\n",
    "    idxlst.append(idx)\n",
    "#     sim2 = simulate_pt_sequence(0.1, 0.9, 0.1, 20)\n",
    "    print(sim1[1])\n",
    "    plt.plot(sim1, color=colors[i])\n",
    "\n",
    "plt.hlines(0.5, 0, 5, linestyles='--')"
   ]
  },
  {
   "cell_type": "code",
   "execution_count": null,
   "metadata": {},
   "outputs": [],
   "source": [
    "prewlst = np.linspace(0.55, 0.99, 10)\n",
    "pswitchlst = np.linspace(0.01, 0.45, 15)\n",
    "idxarr = np.zeros((len(prewlst), len(pswitchlst)))\n",
    "for idr, prew in enumerate(prewlst):\n",
    "    for ids, psw in enumerate(pswitchlst):\n",
    "        root1, _ = root_finder(psw, prew)\n",
    "        idx = first_switch_id(psw, prew, 1-root1, 10)\n",
    "        idxarr[idr, ids] = idx"
   ]
  },
  {
   "cell_type": "code",
   "execution_count": null,
   "metadata": {},
   "outputs": [],
   "source": [
    "plt.imshow(idxarr, origin='lower', extent=[min(pswitchlst), max(pswitchlst), min(prewlst), max(prewlst)])\n",
    "plt.colorbar()\n",
    "plt.xlabel('psw')\n",
    "plt.ylabel('prew')"
   ]
  },
  {
   "cell_type": "code",
   "execution_count": null,
   "metadata": {},
   "outputs": [],
   "source": [
    "idxarr"
   ]
  },
  {
   "cell_type": "code",
   "execution_count": null,
   "metadata": {},
   "outputs": [],
   "source": []
  }
 ],
 "metadata": {
  "kernelspec": {
   "display_name": "Python 3",
   "language": "python",
   "name": "python3"
  },
  "language_info": {
   "codemirror_mode": {
    "name": "ipython",
    "version": 3
   },
   "file_extension": ".py",
   "mimetype": "text/x-python",
   "name": "python",
   "nbconvert_exporter": "python",
   "pygments_lexer": "ipython3",
   "version": "3.9.5"
  }
 },
 "nbformat": 4,
 "nbformat_minor": 4
}
